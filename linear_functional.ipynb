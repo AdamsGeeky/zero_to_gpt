{
 "cells": [
  {
   "cell_type": "code",
   "execution_count": 40,
   "id": "ab8d51d6-7670-4cfb-87d1-f1c30fa2666e",
   "metadata": {},
   "outputs": [],
   "source": [
    "import pandas as pd\n",
    "from sklearn.preprocessing import StandardScaler\n",
    "\n",
    "data = pd.read_csv(\"clean_weather.csv\", index_col=0)\n",
    "data = data.ffill()"
   ]
  },
  {
   "cell_type": "code",
   "execution_count": 41,
   "id": "f3791a81-d488-4c7c-909b-8105c6b60587",
   "metadata": {},
   "outputs": [],
   "source": [
    "T_CUT = 2000\n",
    "V_CUT = 1000\n",
    "PREDICTORS = [\"tmax\", \"tmin\", \"rain\"]\n",
    "TARGET = \"tmax_tomorrow\"\n",
    "\n",
    "scaler = StandardScaler()\n",
    "predictors = data[PREDICTORS].to_numpy()\n",
    "predictors = scaler.fit_transform(predictors)\n",
    "target = data[[TARGET]].to_numpy()\n",
    "\n",
    "train = predictors[:-T_CUT,:]\n",
    "train_target = target[:-T_CUT,:]\n",
    "\n",
    "valid = predictors[-T_CUT:-V_CUT,:]\n",
    "valid_target = target[-T_CUT:-V_CUT,:]\n",
    "\n",
    "test = predictors[-V_CUT:,:]\n",
    "test_target = target[-V_CUT:,:]"
   ]
  },
  {
   "cell_type": "code",
   "execution_count": 43,
   "id": "fc393270-36ea-4516-9bc7-a7ce51c59d76",
   "metadata": {},
   "outputs": [],
   "source": [
    "def mse(actual, predicted):\n",
    "    return np.mean((actual-predicted)**2)\n",
    "\n",
    "def mse_grad(actual, predicted):\n",
    "    return (predicted - actual)"
   ]
  },
  {
   "cell_type": "markdown",
   "id": "916e74c2-a4d7-4ebb-9e62-8e004e1e07d0",
   "metadata": {},
   "source": [
    "# Shape\n",
    "\n",
    "## Inputs\n",
    "\n",
    "1,3\n",
    "\n",
    "1,10\n",
    "1,10\n",
    "1,1\n",
    "\n",
    "## Weights\n",
    "\n",
    "3,10\n",
    "10,10\n",
    "10,1\n"
   ]
  },
  {
   "cell_type": "code",
   "execution_count": 44,
   "id": "15ecb31c-6435-45a5-bbb3-ebe28c22c85a",
   "metadata": {},
   "outputs": [],
   "source": [
    "import numpy as np"
   ]
  },
  {
   "cell_type": "code",
   "execution_count": 45,
   "id": "b1547940-59a1-40b6-8b7f-1ca15e414ab8",
   "metadata": {},
   "outputs": [],
   "source": [
    "def init_layers(inputs):\n",
    "    layers = []\n",
    "    for i in range(1, len(inputs)):\n",
    "        layers.append([\n",
    "            np.random.rand(inputs[i-1], inputs[i]) / 5 - .1,\n",
    "            np.ones((1,inputs[i]))\n",
    "        ])\n",
    "    return layers"
   ]
  },
  {
   "cell_type": "code",
   "execution_count": 46,
   "id": "f2a780eb-d517-4489-b19b-f6e319c11ded",
   "metadata": {},
   "outputs": [],
   "source": [
    "def forward(batch, layers):\n",
    "    hidden = [batch.copy()]\n",
    "    for i in range(len(layers)):\n",
    "        batch = np.matmul(batch, layers[i][0]) + layers[i][1]\n",
    "        hidden.append(batch.copy())\n",
    "        if i < len(layers) - 1:\n",
    "            batch = np.maximum(batch, 0)\n",
    "        \n",
    "    return layers, batch, hidden"
   ]
  },
  {
   "cell_type": "code",
   "execution_count": 58,
   "id": "9b48ba67-863e-49ab-97f1-85322a28c913",
   "metadata": {},
   "outputs": [],
   "source": [
    "def backward(layers, hidden, grad, lr):\n",
    "    for i in range(len(layers)-1, -1, -1):\n",
    "        if i != len(layers) - 1:\n",
    "            grad = np.multiply(grad, np.heaviside(hidden[i+1], 1))\n",
    "        \n",
    "        grad = grad.T\n",
    "        w_grad = np.matmul(grad, hidden[i]).T\n",
    "        b_grad = grad.T\n",
    "        \n",
    "        layers[i][0] -= (w_grad + layers[i][0] * .01) * lr\n",
    "        layers[i][1] -= b_grad * lr\n",
    "        \n",
    "        grad = np.matmul(layers[i][0], grad).T\n",
    "    return layers"
   ]
  },
  {
   "cell_type": "code",
   "execution_count": null,
   "id": "c76220dc-15c3-4b46-83af-7d644c47d51c",
   "metadata": {},
   "outputs": [
    {
     "name": "stdout",
     "output_type": "stream",
     "text": [
      "Epoch: 0 Train MSE: 4208.062739950562 Valid MSE: 4442.600112935855\n",
      "Epoch: 10 Train MSE: 3356.73810993645 Valid MSE: 3499.0968597104834\n",
      "Epoch: 20 Train MSE: 694.1162293868707 Valid MSE: 663.6533216590747\n"
     ]
    }
   ],
   "source": [
    "layer_conf = [3, 10,10,1]\n",
    "lr = 5e-4\n",
    "epochs=70\n",
    "\n",
    "layers = init_layers(layer_conf)\n",
    "\n",
    "for epoch in range(epochs+1):\n",
    "    epoch_loss = 0\n",
    "\n",
    "    for i, row in enumerate(train):\n",
    "        row = row.copy().reshape((1,train.shape[1]))\n",
    "        layers, pred, hidden = forward(row, layers)\n",
    "\n",
    "        loss = mse_grad(target[i,0], pred[0,0])\n",
    "        epoch_loss += loss ** 2\n",
    "\n",
    "        layers = backward(layers, hidden, np.array(loss).reshape(1,1), lr/train.shape[0])\n",
    "    \n",
    "    \n",
    "    if epoch % 10 == 0:\n",
    "        _, valid_preds, _ = forward(valid, layers)\n",
    "        \n",
    "        print(f\"Epoch: {epoch} Train MSE: {epoch_loss/train.shape[0]} Valid MSE: {mse(valid_preds,valid_target)}\")"
   ]
  },
  {
   "cell_type": "code",
   "execution_count": null,
   "id": "483f40c0-919f-4f43-b4f9-092dc904c84f",
   "metadata": {},
   "outputs": [],
   "source": []
  }
 ],
 "metadata": {
  "kernelspec": {
   "display_name": "Python 3 (ipykernel)",
   "language": "python",
   "name": "python3"
  },
  "language_info": {
   "codemirror_mode": {
    "name": "ipython",
    "version": 3
   },
   "file_extension": ".py",
   "mimetype": "text/x-python",
   "name": "python",
   "nbconvert_exporter": "python",
   "pygments_lexer": "ipython3",
   "version": "3.10.8"
  }
 },
 "nbformat": 4,
 "nbformat_minor": 5
}
