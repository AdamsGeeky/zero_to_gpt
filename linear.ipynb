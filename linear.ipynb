{
 "cells": [
  {
   "cell_type": "code",
   "execution_count": 1,
   "id": "507c0b28-d1a5-44df-be00-0a46e8641076",
   "metadata": {},
   "outputs": [],
   "source": [
    "import pandas as pd\n",
    "\n",
    "data = pd.read_csv(\"clean_weather.csv\", index_col=0)"
   ]
  },
  {
   "cell_type": "code",
   "execution_count": 2,
   "id": "f0a3a03c-e5da-4e18-82e3-ac49670761c5",
   "metadata": {},
   "outputs": [],
   "source": [
    "data = data.ffill()"
   ]
  },
  {
   "cell_type": "code",
   "execution_count": 195,
   "id": "1a22380a-7d93-445b-b5af-efa7c64abf9d",
   "metadata": {},
   "outputs": [],
   "source": [
    "train = data[[\"tmax\", \"tmin\", \"rain\"]].to_numpy()[:-1000,:]\n",
    "target = data[[\"tmax_tomorrow\"]].to_numpy()[:-1000,:]\n",
    "\n",
    "test = data[[\"tmax\", \"tmin\", \"rain\"]].to_numpy()[-1000:,:]\n",
    "test_target = data[[\"tmax_tomorrow\"]].to_numpy()[-1000:,:]"
   ]
  },
  {
   "cell_type": "code",
   "execution_count": 196,
   "id": "8adf5180-b1fb-4475-9115-364d337b7fd3",
   "metadata": {},
   "outputs": [],
   "source": [
    "import numpy as np"
   ]
  },
  {
   "cell_type": "code",
   "execution_count": 197,
   "id": "0a9d5f3f-3e5b-4121-96b9-27d2f6d587aa",
   "metadata": {},
   "outputs": [],
   "source": [
    "def mse_loss(predictions, actuals):\n",
    "    return ((actuals - predictions) ** 2)"
   ]
  },
  {
   "cell_type": "code",
   "execution_count": 198,
   "id": "5055b150-60a2-45e2-ad0f-0b9a217fc020",
   "metadata": {},
   "outputs": [],
   "source": [
    "def finite_diff(func, x):\n",
    "    eps = 1e-7\n",
    "    grad = []\n",
    "    for i in range(len(x)):\n",
    "        row = np.zeros((1,len(x)))\n",
    "        row[0,i] = 1\n",
    "        grad.append((func(x + eps * row) - func(x - eps * row)) / (2 * eps))\n",
    "    grad = np.array(grad).reshape(len(x), 1)\n",
    "    print(grad)\n",
    "    return grad"
   ]
  },
  {
   "cell_type": "code",
   "execution_count": 199,
   "id": "9b35fbfe-9bdd-4456-92d3-bea134a302be",
   "metadata": {},
   "outputs": [],
   "source": [
    "# Hidden\n",
    "\n",
    "#1,3 - input\n",
    "#1,10 - layer1\n",
    "#1,1 - layer2\n",
    "\n",
    "# Weights\n",
    "\n",
    "#3,10\n",
    "#10,1\n",
    "\n",
    "#Bias\n",
    "\n",
    "#1,10\n",
    "#1,1\n",
    "\n",
    "#Gradient\n",
    "# 1,1\n",
    "\n",
    "# Back\n",
    "# Step 1\n",
    "# Gradient dot activated (1,1)\n",
    "    # Gradient times hidden layer 1 (1,1) * (1,10) = (1,10)\n",
    "# Weights times gradient 10,1 times 1,1 T = (1,10)\n",
    "\n",
    "#Step 2\n",
    "# Gradient dot activated 1,10 dot 1,10 1,10\n",
    "    # Gradient times input (1,10) * (1,3) ?\n",
    "# Weights times gradient (3,10) times (10,3) (3,3)"
   ]
  },
  {
   "cell_type": "code",
   "execution_count": 200,
   "id": "149dcc71-6355-47b6-b2d5-9212553797ca",
   "metadata": {},
   "outputs": [],
   "source": [
    "class Layer():\n",
    "    def __init__(self, in_shape, out_shape, relu=True):\n",
    "        self.weight = np.random.rand(in_shape, out_shape)\n",
    "        self.bias = np.ones((1, out_shape))\n",
    "        self.relu = relu\n",
    "        self.hidden = None\n",
    "        self.activated = None\n",
    "        self.input = None\n",
    "    \n",
    "    def forward(self, x):\n",
    "        self.input = x\n",
    "        linear = np.matmul(x, self.weight) + self.bias\n",
    "        self.hidden = linear\n",
    "        if self.relu:\n",
    "            relu = np.maximum(linear, np.zeros(linear.shape))\n",
    "            self.activated = relu\n",
    "            return relu\n",
    "        return linear\n",
    "    \n",
    "    def backward(self, gradient, prev, lr):\n",
    "        hidden = self.hidden\n",
    "        if self.relu:\n",
    "            hidden = np.heaviside(hidden, 1)\n",
    "        \n",
    "        activated_grad = np.multiply(gradient, hidden).T\n",
    "        \n",
    "        w_grad = np.matmul(activated_grad, prev).T\n",
    "        b_grad = activated_grad.T\n",
    "        \n",
    "        self.weight -= w_grad * lr\n",
    "        self.bias -= b_grad * lr\n",
    "        \n",
    "        return np.matmul(self.weight, activated_grad).T"
   ]
  },
  {
   "cell_type": "code",
   "execution_count": 201,
   "id": "e6a2b252-fc42-436d-8247-70a74c117bef",
   "metadata": {},
   "outputs": [],
   "source": [
    "class Network():\n",
    "    def __init__(self, layers):\n",
    "        self.layers = layers\n",
    "    \n",
    "    def forward(self, x):\n",
    "        output = np.zeros((x.shape[0],1))\n",
    "        for i in range(x.shape[0]):\n",
    "            vals = x[i:(i+1),:].copy()\n",
    "            for layer in self.layers:\n",
    "                vals = layer.forward(vals)\n",
    "            output[i,:] = vals\n",
    "        return output\n",
    "    \n",
    "    def backward(self, gradient, lr):\n",
    "        for i in range(gradient.shape[0]):\n",
    "            elem = gradient[i,:].reshape((1,1))\n",
    "            for i in range(len(self.layers)-1, -1, -1):\n",
    "                current = self.layers[i]\n",
    "                if i > 0:\n",
    "                    prev = self.layers[i-1].hidden\n",
    "                else:\n",
    "                    prev = self.layers[i].input\n",
    "\n",
    "                elem = current.backward(elem, prev, lr)"
   ]
  },
  {
   "cell_type": "code",
   "execution_count": 202,
   "id": "517b716b-cae1-4fb9-9951-eac7546a79e2",
   "metadata": {},
   "outputs": [],
   "source": [
    "layers = [\n",
    "    Layer(3, 10, True),\n",
    "    Layer(10, 1, True)\n",
    "]\n",
    "\n",
    "net = Network(layers)"
   ]
  },
  {
   "cell_type": "code",
   "execution_count": 203,
   "id": "25c778eb-0389-43e8-965f-d45c870d56a4",
   "metadata": {},
   "outputs": [
    {
     "name": "stdout",
     "output_type": "stream",
     "text": [
      "Epoch: 0 MSE: 37912.96597436931\n",
      "Epoch: 25 MSE: 4400.003997122072\n",
      "Epoch: 50 MSE: 4400.003997122072\n"
     ]
    },
    {
     "ename": "KeyboardInterrupt",
     "evalue": "",
     "output_type": "error",
     "traceback": [
      "\u001b[0;31m---------------------------------------------------------------------------\u001b[0m",
      "\u001b[0;31mKeyboardInterrupt\u001b[0m                         Traceback (most recent call last)",
      "\u001b[0;32m/var/folders/xz/9z84c__j28g8tg28bmcthjj00000gn/T/ipykernel_45006/2963996608.py\u001b[0m in \u001b[0;36m<module>\u001b[0;34m\u001b[0m\n\u001b[1;32m     10\u001b[0m \u001b[0;34m\u001b[0m\u001b[0m\n\u001b[1;32m     11\u001b[0m     \u001b[0;31m# Calc gradients\u001b[0m\u001b[0;34m\u001b[0m\u001b[0;34m\u001b[0m\u001b[0m\n\u001b[0;32m---> 12\u001b[0;31m     \u001b[0mnet\u001b[0m\u001b[0;34m.\u001b[0m\u001b[0mbackward\u001b[0m\u001b[0;34m(\u001b[0m\u001b[0mouter_grad\u001b[0m\u001b[0;34m,\u001b[0m \u001b[0mlr\u001b[0m\u001b[0;34m)\u001b[0m\u001b[0;34m\u001b[0m\u001b[0;34m\u001b[0m\u001b[0m\n\u001b[0m",
      "\u001b[0;32m/var/folders/xz/9z84c__j28g8tg28bmcthjj00000gn/T/ipykernel_45006/3273588706.py\u001b[0m in \u001b[0;36mbackward\u001b[0;34m(self, gradient, lr)\u001b[0m\n\u001b[1;32m     22\u001b[0m                     \u001b[0mprev\u001b[0m \u001b[0;34m=\u001b[0m \u001b[0mself\u001b[0m\u001b[0;34m.\u001b[0m\u001b[0mlayers\u001b[0m\u001b[0;34m[\u001b[0m\u001b[0mi\u001b[0m\u001b[0;34m]\u001b[0m\u001b[0;34m.\u001b[0m\u001b[0minput\u001b[0m\u001b[0;34m\u001b[0m\u001b[0;34m\u001b[0m\u001b[0m\n\u001b[1;32m     23\u001b[0m \u001b[0;34m\u001b[0m\u001b[0m\n\u001b[0;32m---> 24\u001b[0;31m                 \u001b[0melem\u001b[0m \u001b[0;34m=\u001b[0m \u001b[0mcurrent\u001b[0m\u001b[0;34m.\u001b[0m\u001b[0mbackward\u001b[0m\u001b[0;34m(\u001b[0m\u001b[0melem\u001b[0m\u001b[0;34m,\u001b[0m \u001b[0mprev\u001b[0m\u001b[0;34m,\u001b[0m \u001b[0mlr\u001b[0m\u001b[0;34m)\u001b[0m\u001b[0;34m\u001b[0m\u001b[0;34m\u001b[0m\u001b[0m\n\u001b[0m",
      "\u001b[0;32m/var/folders/xz/9z84c__j28g8tg28bmcthjj00000gn/T/ipykernel_45006/3058799884.py\u001b[0m in \u001b[0;36mbackward\u001b[0;34m(self, gradient, prev, lr)\u001b[0m\n\u001b[1;32m     21\u001b[0m         \u001b[0mhidden\u001b[0m \u001b[0;34m=\u001b[0m \u001b[0mself\u001b[0m\u001b[0;34m.\u001b[0m\u001b[0mhidden\u001b[0m\u001b[0;34m\u001b[0m\u001b[0;34m\u001b[0m\u001b[0m\n\u001b[1;32m     22\u001b[0m         \u001b[0;32mif\u001b[0m \u001b[0mself\u001b[0m\u001b[0;34m.\u001b[0m\u001b[0mrelu\u001b[0m\u001b[0;34m:\u001b[0m\u001b[0;34m\u001b[0m\u001b[0;34m\u001b[0m\u001b[0m\n\u001b[0;32m---> 23\u001b[0;31m             \u001b[0mhidden\u001b[0m \u001b[0;34m=\u001b[0m \u001b[0mnp\u001b[0m\u001b[0;34m.\u001b[0m\u001b[0mheaviside\u001b[0m\u001b[0;34m(\u001b[0m\u001b[0mhidden\u001b[0m\u001b[0;34m,\u001b[0m \u001b[0;36m1\u001b[0m\u001b[0;34m)\u001b[0m\u001b[0;34m\u001b[0m\u001b[0;34m\u001b[0m\u001b[0m\n\u001b[0m\u001b[1;32m     24\u001b[0m \u001b[0;34m\u001b[0m\u001b[0m\n\u001b[1;32m     25\u001b[0m         \u001b[0mactivated_grad\u001b[0m \u001b[0;34m=\u001b[0m \u001b[0mnp\u001b[0m\u001b[0;34m.\u001b[0m\u001b[0mmultiply\u001b[0m\u001b[0;34m(\u001b[0m\u001b[0mgradient\u001b[0m\u001b[0;34m,\u001b[0m \u001b[0mhidden\u001b[0m\u001b[0;34m)\u001b[0m\u001b[0;34m.\u001b[0m\u001b[0mT\u001b[0m\u001b[0;34m\u001b[0m\u001b[0;34m\u001b[0m\u001b[0m\n",
      "\u001b[0;31mKeyboardInterrupt\u001b[0m: "
     ]
    }
   ],
   "source": [
    "epochs = 200\n",
    "lr = 1e-7\n",
    "\n",
    "for epoch in range(epochs):\n",
    "    predictions = net.forward(train)\n",
    "    \n",
    "    if epoch % 10 == 0:\n",
    "        print(f\"Epoch: {epoch} MSE: {np.mean(mse_loss(predictions, target))}\")\n",
    "    outer_grad = predictions - target\n",
    "    \n",
    "    # Calc gradients\n",
    "    net.backward(outer_grad, lr)"
   ]
  },
  {
   "cell_type": "code",
   "execution_count": 191,
   "id": "57cd25d5-44e1-4b30-bd57-66de2fdfed56",
   "metadata": {},
   "outputs": [],
   "source": [
    "test_preds = net.forward(test)"
   ]
  },
  {
   "cell_type": "code",
   "execution_count": 192,
   "id": "28b52429-aadd-40d4-8bb5-ba9dc85df2fe",
   "metadata": {},
   "outputs": [
    {
     "data": {
      "text/plain": [
       "28.655030463939905"
      ]
     },
     "execution_count": 192,
     "metadata": {},
     "output_type": "execute_result"
    }
   ],
   "source": [
    "np.mean(mse_loss(test_preds, test_target))"
   ]
  },
  {
   "cell_type": "code",
   "execution_count": 194,
   "id": "28d0c469-b330-4573-bbb6-f1b5baa9e323",
   "metadata": {},
   "outputs": [
    {
     "data": {
      "text/plain": [
       "array([[77., 54.,  0.],\n",
       "       [73., 46.,  0.],\n",
       "       [77., 47.,  0.],\n",
       "       ...,\n",
       "       [66., 41.,  0.],\n",
       "       [70., 39.,  0.],\n",
       "       [62., 41.,  0.]])"
      ]
     },
     "execution_count": 194,
     "metadata": {},
     "output_type": "execute_result"
    }
   ],
   "source": [
    "test"
   ]
  },
  {
   "cell_type": "code",
   "execution_count": null,
   "id": "ec23f215-d791-46e0-8c14-489d5a759cc8",
   "metadata": {},
   "outputs": [],
   "source": []
  }
 ],
 "metadata": {
  "kernelspec": {
   "display_name": "Python 3 (ipykernel)",
   "language": "python",
   "name": "python3"
  },
  "language_info": {
   "codemirror_mode": {
    "name": "ipython",
    "version": 3
   },
   "file_extension": ".py",
   "mimetype": "text/x-python",
   "name": "python",
   "nbconvert_exporter": "python",
   "pygments_lexer": "ipython3",
   "version": "3.9.15"
  }
 },
 "nbformat": 4,
 "nbformat_minor": 5
}
