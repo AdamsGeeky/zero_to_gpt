{
 "cells": [
  {
   "cell_type": "code",
   "execution_count": 68,
   "metadata": {
    "collapsed": true
   },
   "outputs": [],
   "source": [
    "import pandas as pd\n",
    "import numpy as np\n",
    "from sklearn.preprocessing import StandardScaler\n",
    "import torch\n",
    "\n",
    "data = pd.read_csv(\"../../data/clean_weather.csv\")\n",
    "data = data.ffill()"
   ]
  },
  {
   "cell_type": "code",
   "execution_count": 69,
   "outputs": [],
   "source": [
    "PREDICTORS = [\"tmax\", \"tmin\", \"rain\"]\n",
    "TARGET = \"tmax_tomorrow\"\n",
    "\n",
    "scaler = StandardScaler()\n",
    "data[PREDICTORS] = scaler.fit_transform(data[PREDICTORS])\n",
    "\n",
    "split_data = np.split(data, [int(.7*len(data)), int(.85*len(data))])\n",
    "(train_x, train_y), (valid_x, valid_y), (test_x, test_y) = [[torch.from_numpy(d[PREDICTORS].to_numpy()), torch.from_numpy(d[[TARGET]].to_numpy())] for d in split_data]"
   ],
   "metadata": {
    "collapsed": false
   }
  },
  {
   "cell_type": "code",
   "execution_count": 90,
   "outputs": [],
   "source": [
    "import torch\n",
    "\n",
    "device = torch.device(\"cpu\")\n",
    "\n",
    "from torch.utils.data import Dataset\n",
    "\n",
    "class WeatherDataset(Dataset):\n",
    "    def __init__(self, x, y):\n",
    "        self.dataset = [x,y]\n",
    "        self.sequence_length = 10\n",
    "\n",
    "    def __len__(self):\n",
    "        return len(self.dataset[0]) - self.sequence_length\n",
    "\n",
    "    def __getitem__(self, idx):\n",
    "        x, y = self.dataset[0][idx:(idx+self.sequence_length)], self.dataset[1][idx:(idx+self.sequence_length)]\n",
    "        return x.float(), y.float()"
   ],
   "metadata": {
    "collapsed": false
   }
  },
  {
   "cell_type": "code",
   "execution_count": 91,
   "outputs": [],
   "source": [
    "from torch.utils.data import DataLoader\n",
    "from torch import nn\n",
    "\n",
    "BATCH_SIZE = 32\n",
    "\n",
    "train_dataset = WeatherDataset(train_x, train_y)\n",
    "valid_dataset = WeatherDataset(valid_x, valid_y)\n",
    "test_dataset = WeatherDataset(test_x, test_y)\n",
    "\n",
    "train = DataLoader(train_dataset, batch_size=BATCH_SIZE, shuffle=True)\n",
    "valid = DataLoader(valid_dataset, batch_size=BATCH_SIZE, shuffle=True)\n",
    "test = DataLoader(test_dataset, batch_size=BATCH_SIZE, shuffle=True)"
   ],
   "metadata": {
    "collapsed": false
   }
  },
  {
   "cell_type": "code",
   "execution_count": 92,
   "outputs": [],
   "source": [
    "class NeuralNetwork(nn.Module):\n",
    "    def __init__(self):\n",
    "        super(NeuralNetwork, self).__init__()\n",
    "        self.rnn = nn.RNN(3, 2, 1, batch_first=True)\n",
    "        self.dense = nn.Linear(2, 1)\n",
    "\n",
    "    def forward(self, x):\n",
    "        x, hidden = self.rnn(x)\n",
    "        x = self.dense(x)\n",
    "        return x"
   ],
   "metadata": {
    "collapsed": false
   }
  },
  {
   "cell_type": "code",
   "execution_count": 96,
   "outputs": [
    {
     "name": "stdout",
     "output_type": "stream",
     "text": [
      "Epoch 0 valid loss: 952.1530151367188\n",
      "Epoch 1 valid loss: 241.89063565693203\n",
      "Epoch 2 valid loss: 105.26522294301836\n",
      "Epoch 3 valid loss: 75.41163604978532\n",
      "Epoch 4 valid loss: 67.81001784309508\n",
      "Epoch 5 valid loss: 64.77374085925874\n",
      "Epoch 6 valid loss: 54.002420152936665\n",
      "Epoch 7 valid loss: 42.40914641486274\n",
      "Epoch 8 valid loss: 36.743278109838094\n",
      "Epoch 9 valid loss: 33.16698031955295\n",
      "Epoch 10 valid loss: 30.823495289636035\n",
      "Epoch 11 valid loss: 29.459445499238512\n",
      "Epoch 12 valid loss: 28.26100718785846\n",
      "Epoch 13 valid loss: 27.691665588863312\n",
      "Epoch 14 valid loss: 26.710173016502743\n",
      "Epoch 15 valid loss: 25.87721261524019\n",
      "Epoch 16 valid loss: 25.443804332188197\n",
      "Epoch 17 valid loss: 25.25991321745373\n",
      "Epoch 18 valid loss: 25.333948377578977\n",
      "Epoch 19 valid loss: 26.052796197316002\n",
      "Epoch 20 valid loss: 24.084434236798966\n",
      "Epoch 21 valid loss: 23.533674300663055\n",
      "Epoch 22 valid loss: 23.552133893209792\n",
      "Epoch 23 valid loss: 23.295174250527033\n",
      "Epoch 24 valid loss: 23.67743697999016\n",
      "Epoch 25 valid loss: 23.245215673295277\n",
      "Epoch 26 valid loss: 22.80112608652266\n",
      "Epoch 27 valid loss: 23.210874315292116\n",
      "Epoch 28 valid loss: 23.08616147722517\n",
      "Epoch 29 valid loss: 22.824373820471386\n",
      "Epoch 30 valid loss: 22.43733434828501\n",
      "Epoch 31 valid loss: 22.68427482483879\n",
      "Epoch 32 valid loss: 22.771673596094526\n",
      "Epoch 33 valid loss: 23.138490586053756\n",
      "Epoch 34 valid loss: 22.390362769838365\n",
      "Epoch 35 valid loss: 22.331106791420588\n",
      "Epoch 36 valid loss: 23.490506187317862\n",
      "Epoch 37 valid loss: 22.04530031718905\n",
      "Epoch 38 valid loss: 22.055627156817724\n",
      "Epoch 39 valid loss: 22.397660785251194\n",
      "Epoch 40 valid loss: 21.96411810980903\n",
      "Epoch 41 valid loss: 23.030365535191127\n",
      "Epoch 42 valid loss: 21.68294155786908\n",
      "Epoch 43 valid loss: 22.839741146753706\n",
      "Epoch 44 valid loss: 21.93219236343626\n",
      "Epoch 45 valid loss: 21.572620694599454\n",
      "Epoch 46 valid loss: 21.74521061730763\n",
      "Epoch 47 valid loss: 22.710452216012136\n",
      "Epoch 48 valid loss: 21.94853277055044\n",
      "Epoch 49 valid loss: 21.86205638401092\n"
     ]
    }
   ],
   "source": [
    "from statistics import mean\n",
    "\n",
    "model = NeuralNetwork().to(device)\n",
    "loss_fn = nn.MSELoss()\n",
    "optimizer = torch.optim.SGD(model.parameters(), lr=5e-4)\n",
    "\n",
    "EPOCHS = 50\n",
    "for epoch in range(EPOCHS):\n",
    "    for batch, (sequence, target) in enumerate(train):\n",
    "        optimizer.zero_grad()\n",
    "\n",
    "        sequence = sequence.to(device)\n",
    "        pred = model(sequence)\n",
    "\n",
    "        loss = loss_fn(pred, target)\n",
    "        loss.backward()\n",
    "        optimizer.step()\n",
    "\n",
    "    losses = []\n",
    "    with torch.no_grad():\n",
    "        for batch, (sequence, target) in enumerate(valid):\n",
    "            sequence = sequence.to(device)\n",
    "            pred = model(sequence)\n",
    "            loss = loss_fn(pred, target)\n",
    "            losses.append(loss.item())\n",
    "\n",
    "    print(f\"Epoch {epoch} valid loss: {mean(losses)}\")"
   ],
   "metadata": {
    "collapsed": false
   }
  },
  {
   "cell_type": "code",
   "execution_count": 63,
   "outputs": [
    {
     "data": {
      "text/plain": "tensor([[[64.2513],\n         [64.5311],\n         [64.5296],\n         [64.5305],\n         [64.5315],\n         [64.5336],\n         [64.5341]],\n\n        [[64.3253],\n         [64.5336],\n         [64.5314],\n         [64.5344],\n         [64.5364],\n         [64.5339],\n         [64.5276]],\n\n        [[63.9540],\n         [64.5034],\n         [64.5137],\n         [64.5210],\n         [64.5210],\n         [64.5220],\n         [64.5151]]])"
     },
     "execution_count": 63,
     "metadata": {},
     "output_type": "execute_result"
    }
   ],
   "source": [
    "pred"
   ],
   "metadata": {
    "collapsed": false
   }
  },
  {
   "cell_type": "code",
   "execution_count": null,
   "outputs": [],
   "source": [],
   "metadata": {
    "collapsed": false
   }
  }
 ],
 "metadata": {
  "kernelspec": {
   "display_name": "Python 3",
   "language": "python",
   "name": "python3"
  },
  "language_info": {
   "codemirror_mode": {
    "name": "ipython",
    "version": 2
   },
   "file_extension": ".py",
   "mimetype": "text/x-python",
   "name": "python",
   "nbconvert_exporter": "python",
   "pygments_lexer": "ipython2",
   "version": "2.7.6"
  }
 },
 "nbformat": 4,
 "nbformat_minor": 0
}
