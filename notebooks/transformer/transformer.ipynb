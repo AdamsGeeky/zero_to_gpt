{
 "cells": [
  {
   "cell_type": "code",
   "execution_count": null,
   "metadata": {
    "collapsed": true
   },
   "outputs": [],
   "source": [
    "# Encoder/decoder transformer, like in the paper\n",
    "\n",
    "# Single Encoder block\n",
    "\n",
    "# Embed input into a length 512 vector\n",
    "# Add positional encoding to the input\n",
    "# Alternating sin and cosine functions across the embedding dimension (512)\n",
    "# i = position in the embedding dimension\n",
    "#PE(pos,2i) = sin(pos/100002i/dmodel )\n",
    "#PE(pos,2i+1) = cos(pos/100002i/dmodel\n",
    "# Sum positional encoding and input\n",
    "# apply dropout with chance .1\n",
    "\n",
    "# Self-attention\n",
    "# Each token in the input sequence is a query\n",
    "# Every other token is a key\n",
    "# Project query and key into a new dimensional space with a linear transform (this is multi-head attention)\n",
    "# We do the following 16 times for multi-head attention\n",
    "# Dot the projects query with the projected key matrix\n",
    "# QK\n",
    "# Attention(Q, K, V ) = softmax( QKT / √dk)V\n",
    "# √dk is the square root of the value dimension\n",
    "# Keys and values are the same in this particular case\n",
    "# Basically, compute an attention score (scalar) between each query and each key, then scale the value by that number\n",
    "# So less relevant other tokens are minimized\n",
    "# Concat the results of the attention equation\n",
    "# Run through another linear layer to reproject\n",
    "# Each attention head outputs 1/16th of the input embedding len\n",
    "\n",
    "# After doing multi-head attention (16)\n",
    "# Apply dropout with chance .1\n",
    "# Add the input to the layer (original embedded sequences) and the output of attention\n",
    "# Run layer normalization (unclear which layer norm to use)\n",
    "\n",
    "# Run a feed forward network\n",
    "# Add input to the layer to the output of the ff network\n",
    "# Normalize again\n",
    "\n",
    "# Single decoder block\n",
    "\n",
    "# Shift outputs right, to start with start token\n",
    "# Do positional encoding\n",
    "# Do dropout with chance .1\n",
    "# Mask outputs, so queries can only see keys that came before the query\n",
    "# Run multi-head attention\n",
    "# Add and norm\n",
    "\n",
    "# Run multi-head attention again, but this time v,k is from encoder stack, and q is from decoder stack\n",
    "# Apply dropout with chance .1\n",
    "# When doing add and norm, add in the decoder stack input\n",
    "\n",
    "# Feed forward\n",
    "\n",
    "# At top of stack, do another linear layer and softmax\n",
    "\n",
    "# Might want to move layer norm inside the residual block - https://arxiv.org/pdf/2002.04745.pdf\n",
    "# Layer normalization - https://arxiv.org/pdf/1607.06450.pdf"
   ]
  },
  {
   "cell_type": "code",
   "execution_count": null,
   "outputs": [],
   "source": [
    "import numpy as np\n",
    "import torch\n",
    "from torch import nn\n",
    "import functorch\n",
    "import sys\n",
    "import os\n",
    "import math\n",
    "sys.path.append(os.path.abspath(\"../../data\"))\n",
    "\n",
    "DEVICE = torch.device(\"cuda\" if torch.cuda.is_available() else \"cpu\")\n",
    "BATCH_SIZE = 1\n",
    "SP_VOCAB_SIZE = 1000\n",
    "TRAIN_SIZE = 500"
   ],
   "metadata": {
    "collapsed": false
   }
  },
  {
   "cell_type": "code",
   "execution_count": 79,
   "outputs": [
    {
     "name": "stderr",
     "output_type": "stream",
     "text": [
      "Found cached dataset opus100 (/Users/vik/.cache/huggingface/datasets/opus100/en-es/0.0.0/256f3196b69901fb0c79810ef468e2c4ed84fbd563719920b1ff1fdc750f7704)\n",
      "100%|██████████| 3/3 [00:00<00:00, 21.79it/s]\n",
      "sentencepiece_trainer.cc(177) LOG(INFO) Running command: --input=tokens.txt --model_prefix=opus100 --vocab_size=1000 --model_type=unigram\n",
      "sentencepiece_trainer.cc(77) LOG(INFO) Starts training with : \n",
      "trainer_spec {\n",
      "  input: tokens.txt\n",
      "  input_format: \n",
      "  model_prefix: opus100\n",
      "  model_type: UNIGRAM\n",
      "  vocab_size: 1000\n",
      "  self_test_sample_size: 0\n",
      "  character_coverage: 0.9995\n",
      "  input_sentence_size: 0\n",
      "  shuffle_input_sentence: 1\n",
      "  seed_sentencepiece_size: 1000000\n",
      "  shrinking_factor: 0.75\n",
      "  max_sentence_length: 4192\n",
      "  num_threads: 16\n",
      "  num_sub_iterations: 2\n",
      "  max_sentencepiece_length: 16\n",
      "  split_by_unicode_script: 1\n",
      "  split_by_number: 1\n",
      "  split_by_whitespace: 1\n",
      "  split_digits: 0\n",
      "  treat_whitespace_as_suffix: 0\n",
      "  required_chars: \n",
      "  byte_fallback: 0\n",
      "  vocabulary_output_piece_score: 1\n",
      "  train_extremely_large_corpus: 0\n",
      "  hard_vocab_limit: 1\n",
      "  use_all_vocab: 0\n",
      "  unk_id: 0\n",
      "  bos_id: 1\n",
      "  eos_id: 2\n",
      "  pad_id: -1\n",
      "  unk_piece: <unk>\n",
      "  bos_piece: <s>\n",
      "  eos_piece: </s>\n",
      "  pad_piece: <pad>\n",
      "  unk_surface:  ⁇ \n",
      "}\n",
      "normalizer_spec {\n",
      "  name: nmt_nfkc\n",
      "  add_dummy_prefix: 1\n",
      "  remove_extra_whitespaces: 1\n",
      "  escape_whitespaces: 1\n",
      "  normalization_rule_tsv: \n",
      "}\n",
      "denormalizer_spec {}\n",
      "trainer_interface.cc(319) LOG(INFO) SentenceIterator is not specified. Using MultiFileSentenceIterator.\n",
      "trainer_interface.cc(174) LOG(INFO) Loading corpus: tokens.txt\n",
      "trainer_interface.cc(375) LOG(INFO) Loaded all 999 sentences\n",
      "trainer_interface.cc(390) LOG(INFO) Adding meta_piece: <unk>\n",
      "trainer_interface.cc(390) LOG(INFO) Adding meta_piece: <s>\n",
      "trainer_interface.cc(390) LOG(INFO) Adding meta_piece: </s>\n",
      "trainer_interface.cc(395) LOG(INFO) Normalizing sentences...\n",
      "trainer_interface.cc(456) LOG(INFO) all chars count=26740\n",
      "trainer_interface.cc(467) LOG(INFO) Done: 99.9514% characters are covered.\n",
      "trainer_interface.cc(477) LOG(INFO) Alphabet size=88\n",
      "trainer_interface.cc(478) LOG(INFO) Final character coverage=0.999514\n",
      "trainer_interface.cc(510) LOG(INFO) Done! preprocessed 999 sentences.\n",
      "unigram_model_trainer.cc(138) LOG(INFO) Making suffix array...\n",
      "unigram_model_trainer.cc(142) LOG(INFO) Extracting frequent sub strings...\n",
      "unigram_model_trainer.cc(193) LOG(INFO) Initialized 4474 seed sentencepieces\n",
      "trainer_interface.cc(516) LOG(INFO) Tokenizing input sentences with whitespace: 999\n",
      "trainer_interface.cc(526) LOG(INFO) Done! 2367\n",
      "unigram_model_trainer.cc(488) LOG(INFO) Using 2367 sentences for EM training\n",
      "unigram_model_trainer.cc(504) LOG(INFO) EM sub_iter=0 size=1998 obj=13.7907 num_tokens=5711 num_tokens/piece=2.85836\n",
      "unigram_model_trainer.cc(504) LOG(INFO) EM sub_iter=1 size=1807 obj=12.3026 num_tokens=5751 num_tokens/piece=3.18262\n",
      "unigram_model_trainer.cc(504) LOG(INFO) EM sub_iter=0 size=1355 obj=12.5481 num_tokens=6149 num_tokens/piece=4.53801\n",
      "unigram_model_trainer.cc(504) LOG(INFO) EM sub_iter=1 size=1354 obj=12.3812 num_tokens=6153 num_tokens/piece=4.54431\n",
      "unigram_model_trainer.cc(504) LOG(INFO) EM sub_iter=0 size=1100 obj=12.9543 num_tokens=6625 num_tokens/piece=6.02273\n",
      "unigram_model_trainer.cc(504) LOG(INFO) EM sub_iter=1 size=1100 obj=12.8165 num_tokens=6640 num_tokens/piece=6.03636\n",
      "trainer_interface.cc(604) LOG(INFO) Saving model: opus100.model\n",
      "trainer_interface.cc(615) LOG(INFO) Saving vocabs: opus100.vocab\n"
     ]
    }
   ],
   "source": [
    "from text_data import Opus100DatasetWrapper\n",
    "\n",
    "class Wrapper(Opus100DatasetWrapper):\n",
    "    split_lengths = [TRAIN_SIZE, math.floor(TRAIN_SIZE * .1), 100]\n",
    "    x_length = 40\n",
    "    target_length = 40\n",
    "\n",
    "wrapper = Wrapper(SP_VOCAB_SIZE, DEVICE)\n",
    "datasets = wrapper.generate_datasets(BATCH_SIZE)\n",
    "train = datasets[\"train\"]\n",
    "valid = datasets[\"validation\"]"
   ],
   "metadata": {
    "collapsed": false
   }
  },
  {
   "cell_type": "code",
   "execution_count": 80,
   "outputs": [],
   "source": [
    "class MultiHeadAttention(nn.Module):\n",
    "    def __init__(self, input_units, attention_heads, mask=False):\n",
    "        super(MultiHeadAttention, self).__init__()\n",
    "        self.input_units = input_units\n",
    "        self.attention_heads = attention_heads\n",
    "        self.head_units = int(input_units/attention_heads)\n",
    "        self.mask = mask\n",
    "        if self.head_units * self.attention_heads != self.input_units:\n",
    "            raise Exception(\"Invalid input units and heads combo\")\n",
    "\n",
    "        k = math.sqrt(1/self.head_units)\n",
    "        self.query_weights = nn.Parameter(torch.rand(self.attention_heads, input_units, self.head_units) * 2 * k - k)\n",
    "        self.key_weights = nn.Parameter(torch.rand(self.attention_heads, input_units, self.head_units) * 2 * k - k)\n",
    "        self.value_weights = nn.Parameter(torch.rand(self.attention_heads, input_units, self.head_units) * 2 * k - k)\n",
    "\n",
    "    def forward(self, queries, context):\n",
    "        exp_queries = queries.repeat(self.attention_heads, 1, 1)\n",
    "        exp_context = context.repeat(self.attention_heads, 1, 1)\n",
    "        queries = torch.bmm(exp_queries, self.query_weights)\n",
    "        keys = torch.bmm(exp_context, self.key_weights)\n",
    "        values = torch.bmm(exp_context, self.value_weights)\n",
    "\n",
    "        # Sequence-wise softmax, so attention between one sequence and other sequences sums to 1\n",
    "        attention = torch.bmm(queries, keys.swapaxes(1,2)) / np.sqrt(self.head_units)\n",
    "        if self.mask:\n",
    "            # Prevent decoder queries from looking at tokens that come after\n",
    "            # Do this by setting attention to negative infinity, so it is softmaxed to zero in the next step\n",
    "            mask = torch.zeros((attention.shape[-2], attention.shape[-1]))\n",
    "            mask_indices = np.triu_indices(attention.shape[-2], k=1, m=attention.shape[-1])\n",
    "            mask[mask_indices] = -torch.inf\n",
    "            attention += mask\n",
    "\n",
    "        attention = torch.softmax(attention, dim=2)\n",
    "        weighted_values = torch.bmm(attention, values)\n",
    "        weighted_values = weighted_values.swapaxes(0,1).reshape(queries.shape[1], -1)\n",
    "        return weighted_values"
   ],
   "metadata": {
    "collapsed": false
   }
  },
  {
   "cell_type": "code",
   "execution_count": 81,
   "outputs": [],
   "source": [
    "class EncoderBlock(nn.Module):\n",
    "    def __init__(self, input_units, attention_heads, hidden_units=2048):\n",
    "        super(EncoderBlock, self).__init__()\n",
    "        self.input_units = input_units\n",
    "        self.attention_heads = attention_heads\n",
    "        self.hidden_units = hidden_units\n",
    "\n",
    "        self.mha = MultiHeadAttention(self.input_units, self.attention_heads)\n",
    "        self.dropout = nn.Dropout(.1)\n",
    "        self.linear1 = nn.Linear(self.input_units, hidden_units)\n",
    "        self.linear2 = nn.Linear(hidden_units, self.input_units)\n",
    "        self.relu = nn.ReLU()\n",
    "        self.lns = nn.ModuleList(nn.LayerNorm(self.input_units) for _ in range(2))\n",
    "\n",
    "    def forward(self, x):\n",
    "        weighted_values = self.dropout(self.mha(x, x))\n",
    "        attn_output = self.lns[0](x + weighted_values)\n",
    "\n",
    "        reprojected = self.dropout(self.linear2(self.relu(self.linear1(attn_output))))\n",
    "        block_output = self.lns[1](attn_output + reprojected)\n",
    "\n",
    "        return block_output"
   ],
   "metadata": {
    "collapsed": false
   }
  },
  {
   "cell_type": "code",
   "execution_count": 87,
   "outputs": [],
   "source": [
    "class DecoderBlock(nn.Module):\n",
    "    def __init__(self, input_units, attention_heads, hidden_units=2048):\n",
    "        super(DecoderBlock, self).__init__()\n",
    "        self.input_units = input_units\n",
    "        self.attention_heads = attention_heads\n",
    "        self.hidden_units = hidden_units\n",
    "\n",
    "        self.in_attn = MultiHeadAttention(self.input_units, self.attention_heads, mask=True)\n",
    "        self.context_attn = MultiHeadAttention(self.input_units, self.attention_heads)\n",
    "        self.dropout = nn.Dropout(.1)\n",
    "        self.linear1 = nn.Linear(self.input_units, hidden_units)\n",
    "        self.linear2 = nn.Linear(hidden_units, self.input_units)\n",
    "        self.relu = nn.ReLU()\n",
    "        self.lns = nn.ModuleList(nn.LayerNorm(self.input_units) for _ in range(3))\n",
    "\n",
    "    def forward(self, queries, context):\n",
    "        weighted_values = self.dropout(self.in_attn(queries, queries))\n",
    "        attn_output = self.lns[0](queries + weighted_values)\n",
    "\n",
    "        decoder_values = self.dropout(self.context_attn(attn_output, context))\n",
    "        decoder_output = self.lns[1](attn_output + decoder_values)\n",
    "\n",
    "        reprojected = self.dropout(self.linear2(self.relu(self.linear1(decoder_output))))\n",
    "        block_output = self.lns[2](decoder_output + reprojected)\n",
    "        return block_output"
   ],
   "metadata": {
    "collapsed": false
   }
  },
  {
   "cell_type": "code",
   "execution_count": 88,
   "outputs": [],
   "source": [
    "class Transformer(nn.Module):\n",
    "    def __init__(self, input_units, hidden_units, attention_heads, blocks=2):\n",
    "        super(Transformer, self).__init__()\n",
    "        self.input_units = input_units\n",
    "        self.hidden_units = hidden_units\n",
    "        self.attention_heads = attention_heads\n",
    "        self.blocks = blocks\n",
    "\n",
    "        k = math.sqrt(1/self.hidden_units)\n",
    "        self.embedding = nn.Embedding(self.input_units, self.hidden_units)\n",
    "        self.dropout = nn.Dropout(.1)\n",
    "        self.encoders = nn.ModuleList(EncoderBlock(hidden_units, attention_heads) for _ in range(self.blocks))\n",
    "        self.decoders = nn.ModuleList(DecoderBlock(hidden_units, attention_heads) for _ in range(self.blocks))\n",
    "        self.output_embedding = nn.Parameter(torch.rand(hidden_units, self.input_units) * 2 * k - k)\n",
    "\n",
    "    def forward(self, x, y):\n",
    "        embedded = self.embedding(x)\n",
    "        pos_encoding = torch.from_numpy(self.encoding(embedded.shape[0], self.hidden_units))\n",
    "        network_in = self.dropout(embedded + pos_encoding)\n",
    "        enc_outputs = network_in.unsqueeze(0)\n",
    "\n",
    "        for i in range(self.blocks):\n",
    "            block_output = self.encoders[i](enc_outputs[i])\n",
    "            enc_outputs = torch.cat((enc_outputs, block_output.unsqueeze(0)), dim=0)\n",
    "\n",
    "\n",
    "        dec_outputs = self.embedding(y).unsqueeze(0)\n",
    "        context = enc_outputs[-1]\n",
    "        for i in range(self.blocks):\n",
    "            block_output = self.decoders[i](dec_outputs[i], context)\n",
    "            dec_outputs = torch.cat((dec_outputs, block_output.unsqueeze(0)), dim=0)\n",
    "\n",
    "        token_vectors = dec_outputs[-1] @ self.output_embedding\n",
    "        return token_vectors\n",
    "\n",
    "    def encoding(self, seq_len, embed_len):\n",
    "        #PE(pos,2i) = sin(pos/10000 ^ 2i/dmodel )\n",
    "        #PE(pos,2i+1) = cos(pos/10000 ^ 2i/dmodel\n",
    "        # Pos 1 will embed to a vector, pos 2 will embed to a vector\n",
    "        # Adjacent vector positions will form a sin wave\n",
    "        # plt.plot(np.arange(0,100), np.sin(np.arange(0,100) / np.power(10000.0, (20.0/512))))\n",
    "        encodings = np.zeros((seq_len, embed_len), dtype=np.float32)\n",
    "        for i in range(seq_len):\n",
    "            evens = np.arange(0, embed_len, 2)\n",
    "            odds = np.arange(1, embed_len, 2)\n",
    "            all = np.power(np.full(embed_len, 10000), np.arange(0, embed_len) / embed_len)\n",
    "\n",
    "            sin_embed = np.sin(i/all)\n",
    "            cos_embed = np.cos(i/all)\n",
    "\n",
    "            sin_embed[odds] = 0\n",
    "            cos_embed[evens] = 0\n",
    "            encodings[i,:] = np.sum((sin_embed, cos_embed), axis=0)\n",
    "        return encodings"
   ],
   "metadata": {
    "collapsed": false
   }
  },
  {
   "cell_type": "code",
   "execution_count": 89,
   "outputs": [],
   "source": [
    "def generate(sequence, pred, target, wrapper):\n",
    "    prompts = wrapper.decode_batch(sequence.cpu())\n",
    "    texts = wrapper.decode_batch(torch.argmax(pred, dim=2).cpu())\n",
    "    correct_texts = wrapper.decode_batch(target.cpu())\n",
    "\n",
    "    displays = []\n",
    "    for p, t, ct in zip(prompts, texts, correct_texts):\n",
    "        displays.append(f\"{p} | {ct} | {t}\")\n",
    "    return displays"
   ],
   "metadata": {
    "collapsed": false
   }
  },
  {
   "cell_type": "code",
   "execution_count": 90,
   "outputs": [],
   "source": [
    "from tqdm.auto import tqdm\n",
    "\n",
    "model = Transformer(wrapper.vocab_size, 512, 8).to(DEVICE)\n",
    "loss_fn = nn.CrossEntropyLoss(ignore_index=wrapper.pad_token)\n",
    "optimizer = torch.optim.AdamW(model.parameters(), lr=1e-4)"
   ],
   "metadata": {
    "collapsed": false
   }
  },
  {
   "cell_type": "code",
   "execution_count": 91,
   "outputs": [
    {
     "name": "stderr",
     "output_type": "stream",
     "text": [
      "433it [00:20, 21.39it/s]\n"
     ]
    },
    {
     "name": "stdout",
     "output_type": "stream",
     "text": [
      "Epoch 0 train loss: 4.6930948333431886\n",
      "¿Qué estás haciendo aquí? | What are you doing here? | -??????\n"
     ]
    },
    {
     "name": "stderr",
     "output_type": "stream",
     "text": [
      "48it [00:16,  2.90it/s]\n"
     ]
    },
    {
     "name": "stdout",
     "output_type": "stream",
     "text": [
      "Valid loss: 5.4253014624118805\n",
      "Del restaurante. | The restaurant. | No.\n"
     ]
    },
    {
     "name": "stderr",
     "output_type": "stream",
     "text": [
      "433it [00:20, 21.53it/s]\n",
      "433it [00:20, 21.58it/s]\n"
     ]
    },
    {
     "name": "stdout",
     "output_type": "stream",
     "text": [
      "Epoch 2 train loss: 3.2437758820161533\n",
      "Saqueadores. | Looters. | I...\n"
     ]
    },
    {
     "name": "stderr",
     "output_type": "stream",
     "text": [
      "48it [00:16,  3.00it/s]\n"
     ]
    },
    {
     "name": "stdout",
     "output_type": "stream",
     "text": [
      "Valid loss: 5.747515359583001\n",
      "Prácticamente nada. | Almost nothing. | I's.\n"
     ]
    },
    {
     "name": "stderr",
     "output_type": "stream",
     "text": [
      "212it [00:09, 21.81it/s]\n"
     ]
    },
    {
     "ename": "KeyboardInterrupt",
     "evalue": "",
     "output_type": "error",
     "traceback": [
      "\u001B[0;31m---------------------------------------------------------------------------\u001B[0m",
      "\u001B[0;31mKeyboardInterrupt\u001B[0m                         Traceback (most recent call last)",
      "Cell \u001B[0;32mIn[91], line 16\u001B[0m\n\u001B[1;32m     13\u001B[0m \u001B[38;5;66;03m# If you use a batch, need to reshape pred to be batch * sequence, embedding_len to be compatible\u001B[39;00m\n\u001B[1;32m     14\u001B[0m \u001B[38;5;66;03m# Similar reshape with target to be batch * sequence vector of class indices\u001B[39;00m\n\u001B[1;32m     15\u001B[0m loss \u001B[38;5;241m=\u001B[39m loss_fn(pred\u001B[38;5;241m.\u001B[39mreshape(\u001B[38;5;241m-\u001B[39m\u001B[38;5;241m1\u001B[39m, pred\u001B[38;5;241m.\u001B[39mshape[\u001B[38;5;241m-\u001B[39m\u001B[38;5;241m1\u001B[39m]), target\u001B[38;5;241m.\u001B[39mview(\u001B[38;5;241m-\u001B[39m\u001B[38;5;241m1\u001B[39m))\n\u001B[0;32m---> 16\u001B[0m \u001B[43mloss\u001B[49m\u001B[38;5;241;43m.\u001B[39;49m\u001B[43mbackward\u001B[49m\u001B[43m(\u001B[49m\u001B[43m)\u001B[49m\n\u001B[1;32m     17\u001B[0m optimizer\u001B[38;5;241m.\u001B[39mstep()\n\u001B[1;32m     18\u001B[0m train_loss \u001B[38;5;241m+\u001B[39m\u001B[38;5;241m=\u001B[39m loss\u001B[38;5;241m.\u001B[39mitem()\n",
      "File \u001B[0;32m~/.virtualenvs/nnets/lib/python3.10/site-packages/torch/_tensor.py:488\u001B[0m, in \u001B[0;36mTensor.backward\u001B[0;34m(self, gradient, retain_graph, create_graph, inputs)\u001B[0m\n\u001B[1;32m    478\u001B[0m \u001B[38;5;28;01mif\u001B[39;00m has_torch_function_unary(\u001B[38;5;28mself\u001B[39m):\n\u001B[1;32m    479\u001B[0m     \u001B[38;5;28;01mreturn\u001B[39;00m handle_torch_function(\n\u001B[1;32m    480\u001B[0m         Tensor\u001B[38;5;241m.\u001B[39mbackward,\n\u001B[1;32m    481\u001B[0m         (\u001B[38;5;28mself\u001B[39m,),\n\u001B[0;32m   (...)\u001B[0m\n\u001B[1;32m    486\u001B[0m         inputs\u001B[38;5;241m=\u001B[39minputs,\n\u001B[1;32m    487\u001B[0m     )\n\u001B[0;32m--> 488\u001B[0m \u001B[43mtorch\u001B[49m\u001B[38;5;241;43m.\u001B[39;49m\u001B[43mautograd\u001B[49m\u001B[38;5;241;43m.\u001B[39;49m\u001B[43mbackward\u001B[49m\u001B[43m(\u001B[49m\n\u001B[1;32m    489\u001B[0m \u001B[43m    \u001B[49m\u001B[38;5;28;43mself\u001B[39;49m\u001B[43m,\u001B[49m\u001B[43m \u001B[49m\u001B[43mgradient\u001B[49m\u001B[43m,\u001B[49m\u001B[43m \u001B[49m\u001B[43mretain_graph\u001B[49m\u001B[43m,\u001B[49m\u001B[43m \u001B[49m\u001B[43mcreate_graph\u001B[49m\u001B[43m,\u001B[49m\u001B[43m \u001B[49m\u001B[43minputs\u001B[49m\u001B[38;5;241;43m=\u001B[39;49m\u001B[43minputs\u001B[49m\n\u001B[1;32m    490\u001B[0m \u001B[43m\u001B[49m\u001B[43m)\u001B[49m\n",
      "File \u001B[0;32m~/.virtualenvs/nnets/lib/python3.10/site-packages/torch/autograd/__init__.py:197\u001B[0m, in \u001B[0;36mbackward\u001B[0;34m(tensors, grad_tensors, retain_graph, create_graph, grad_variables, inputs)\u001B[0m\n\u001B[1;32m    192\u001B[0m     retain_graph \u001B[38;5;241m=\u001B[39m create_graph\n\u001B[1;32m    194\u001B[0m \u001B[38;5;66;03m# The reason we repeat same the comment below is that\u001B[39;00m\n\u001B[1;32m    195\u001B[0m \u001B[38;5;66;03m# some Python versions print out the first line of a multi-line function\u001B[39;00m\n\u001B[1;32m    196\u001B[0m \u001B[38;5;66;03m# calls in the traceback and some print out the last line\u001B[39;00m\n\u001B[0;32m--> 197\u001B[0m \u001B[43mVariable\u001B[49m\u001B[38;5;241;43m.\u001B[39;49m\u001B[43m_execution_engine\u001B[49m\u001B[38;5;241;43m.\u001B[39;49m\u001B[43mrun_backward\u001B[49m\u001B[43m(\u001B[49m\u001B[43m  \u001B[49m\u001B[38;5;66;43;03m# Calls into the C++ engine to run the backward pass\u001B[39;49;00m\n\u001B[1;32m    198\u001B[0m \u001B[43m    \u001B[49m\u001B[43mtensors\u001B[49m\u001B[43m,\u001B[49m\u001B[43m \u001B[49m\u001B[43mgrad_tensors_\u001B[49m\u001B[43m,\u001B[49m\u001B[43m \u001B[49m\u001B[43mretain_graph\u001B[49m\u001B[43m,\u001B[49m\u001B[43m \u001B[49m\u001B[43mcreate_graph\u001B[49m\u001B[43m,\u001B[49m\u001B[43m \u001B[49m\u001B[43minputs\u001B[49m\u001B[43m,\u001B[49m\n\u001B[1;32m    199\u001B[0m \u001B[43m    \u001B[49m\u001B[43mallow_unreachable\u001B[49m\u001B[38;5;241;43m=\u001B[39;49m\u001B[38;5;28;43;01mTrue\u001B[39;49;00m\u001B[43m,\u001B[49m\u001B[43m \u001B[49m\u001B[43maccumulate_grad\u001B[49m\u001B[38;5;241;43m=\u001B[39;49m\u001B[38;5;28;43;01mTrue\u001B[39;49;00m\u001B[43m)\u001B[49m\n",
      "\u001B[0;31mKeyboardInterrupt\u001B[0m: "
     ]
    }
   ],
   "source": [
    "EPOCHS = 100\n",
    "DISPLAY_BATCHES = 2\n",
    "OUT_SEQUENCE_LEN = wrapper.y_length\n",
    "\n",
    "for epoch in range(EPOCHS):\n",
    "    # Run over the training examples\n",
    "    train_loss = 0\n",
    "    match_pct = 0\n",
    "    for batch, (sequence, target, prev_target) in tqdm(enumerate(train)):\n",
    "        optimizer.zero_grad()\n",
    "        pred = model(sequence, prev_target)\n",
    "\n",
    "        # If you use a batch, need to reshape pred to be batch * sequence, embedding_len to be compatible\n",
    "        # Similar reshape with target to be batch * sequence vector of class indices\n",
    "        loss = loss_fn(pred.reshape(-1, pred.shape[-1]), target.view(-1))\n",
    "        loss.backward()\n",
    "        optimizer.step()\n",
    "        train_loss += loss.item()\n",
    "\n",
    "    with torch.no_grad():\n",
    "        if epoch % 2 == 0:\n",
    "            print(f\"Epoch {epoch} train loss: {train_loss / len(train)}\")\n",
    "            sents = generate(sequence, pred, target, wrapper)\n",
    "            for sent in sents:\n",
    "                print(sent)\n",
    "\n",
    "            # Compute validation loss.  Unless you have a lot of training data, the validation loss won't decrease.\n",
    "            valid_loss = 0\n",
    "            for batch, (sequence, target, prev_target) in tqdm(enumerate(valid)):\n",
    "                # Inference token by tokens\n",
    "                outputs = prev_target[:,0].unsqueeze(0)\n",
    "                pred = None\n",
    "                for i in range(OUT_SEQUENCE_LEN):\n",
    "                    pred = model(sequence, outputs)\n",
    "                    last_output = torch.argmax(pred, dim=2)\n",
    "                    outputs = torch.cat((outputs, last_output[:,-1:]), dim=1)\n",
    "                loss = loss_fn(pred.reshape(-1, pred.shape[-1]), target.view(-1))\n",
    "                valid_loss += loss.item()\n",
    "            print(f\"Valid loss: {valid_loss / len(valid)}\")\n",
    "            sents = generate(sequence, pred, target, wrapper)\n",
    "            for sent in sents:\n",
    "                print(sent)"
   ],
   "metadata": {
    "collapsed": false
   }
  },
  {
   "cell_type": "code",
   "execution_count": null,
   "outputs": [],
   "source": [],
   "metadata": {
    "collapsed": false
   }
  }
 ],
 "metadata": {
  "kernelspec": {
   "display_name": "Python 3",
   "language": "python",
   "name": "python3"
  },
  "language_info": {
   "codemirror_mode": {
    "name": "ipython",
    "version": 2
   },
   "file_extension": ".py",
   "mimetype": "text/x-python",
   "name": "python",
   "nbconvert_exporter": "python",
   "pygments_lexer": "ipython2",
   "version": "2.7.6"
  }
 },
 "nbformat": 4,
 "nbformat_minor": 0
}
