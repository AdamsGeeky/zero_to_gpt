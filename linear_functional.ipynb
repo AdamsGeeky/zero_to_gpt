{
 "cells": [
  {
   "cell_type": "code",
   "execution_count": 1,
   "id": "ab8d51d6-7670-4cfb-87d1-f1c30fa2666e",
   "metadata": {},
   "outputs": [],
   "source": [
    "import pandas as pd\n",
    "import numpy as np\n",
    "from sklearn.preprocessing import StandardScaler\n",
    "\n",
    "data = pd.read_csv(\"clean_weather.csv\", index_col=0)\n",
    "data = data.ffill()"
   ]
  },
  {
   "cell_type": "code",
   "execution_count": 2,
   "id": "f3791a81-d488-4c7c-909b-8105c6b60587",
   "metadata": {},
   "outputs": [],
   "source": [
    "PREDICTORS = [\"tmax\", \"tmin\", \"rain\"]\n",
    "TARGET = \"tmax_tomorrow\"\n",
    "\n",
    "scaler = StandardScaler()\n",
    "data[PREDICTORS] = scaler.fit_transform(data[PREDICTORS])\n",
    "\n",
    "split_data = np.split(data, [int(.7*len(data)), int(.85*len(data))])\n",
    "(train_x, train_y), (valid_x, valid_y), (test_x, test_y) = [[d[PREDICTORS].to_numpy(), d[[TARGET]].to_numpy()] for d in split_data]"
   ]
  },
  {
   "cell_type": "code",
   "execution_count": 3,
   "id": "fc393270-36ea-4516-9bc7-a7ce51c59d76",
   "metadata": {},
   "outputs": [],
   "source": [
    "def mse(actual, predicted):\n",
    "    return np.mean((actual-predicted)**2)\n",
    "\n",
    "def mse_grad(actual, predicted):\n",
    "    return (predicted - actual)"
   ]
  },
  {
   "cell_type": "markdown",
   "id": "916e74c2-a4d7-4ebb-9e62-8e004e1e07d0",
   "metadata": {},
   "source": [
    "# Shape\n",
    "\n",
    "## Inputs\n",
    "\n",
    "1,3\n",
    "\n",
    "1,10\n",
    "1,10\n",
    "1,1\n",
    "\n",
    "## Weights\n",
    "\n",
    "3,10\n",
    "10,10\n",
    "10,1\n"
   ]
  },
  {
   "cell_type": "code",
   "execution_count": 4,
   "id": "b1547940-59a1-40b6-8b7f-1ca15e414ab8",
   "metadata": {},
   "outputs": [],
   "source": [
    "def init_layers(inputs):\n",
    "    layers = []\n",
    "    for i in range(1, len(inputs)):\n",
    "        layers.append([\n",
    "            np.random.rand(inputs[i-1], inputs[i]) / 5 - .1,\n",
    "            np.ones((1,inputs[i]))\n",
    "        ])\n",
    "    return layers"
   ]
  },
  {
   "cell_type": "code",
   "execution_count": 5,
   "id": "f2a780eb-d517-4489-b19b-f6e319c11ded",
   "metadata": {},
   "outputs": [],
   "source": [
    "def forward(batch, layers):\n",
    "    hidden = [batch.copy()]\n",
    "    for i in range(len(layers)):\n",
    "        batch = np.matmul(batch, layers[i][0]) + layers[i][1]\n",
    "        hidden.append(batch.copy())\n",
    "        if i < len(layers) - 1:\n",
    "            batch = np.maximum(batch, 0)\n",
    "        \n",
    "    return layers, batch, hidden"
   ]
  },
  {
   "cell_type": "code",
   "execution_count": 6,
   "id": "9b48ba67-863e-49ab-97f1-85322a28c913",
   "metadata": {},
   "outputs": [],
   "source": [
    "def backward(layers, hidden, grad, lr):\n",
    "    for i in range(len(layers)-1, -1, -1):\n",
    "        if i != len(layers) - 1:\n",
    "            grad = np.multiply(grad, np.heaviside(hidden[i+1], 1))\n",
    "        \n",
    "        grad = grad.T\n",
    "        w_grad = np.matmul(grad, hidden[i]).T\n",
    "        b_grad = grad.T\n",
    "        \n",
    "        layers[i][0] -= (w_grad + layers[i][0] * .01) * lr\n",
    "        layers[i][1] -= b_grad * lr\n",
    "        \n",
    "        grad = np.matmul(layers[i][0], grad).T\n",
    "    return layers"
   ]
  },
  {
   "cell_type": "code",
   "execution_count": 7,
   "id": "c76220dc-15c3-4b46-83af-7d644c47d51c",
   "metadata": {},
   "outputs": [
    {
     "name": "stdout",
     "output_type": "stream",
     "text": [
      "Epoch: 0 Train MSE: 4165.963038631907 Valid MSE: 4397.895101297194\n",
      "Epoch: 10 Train MSE: 3316.984073975768 Valid MSE: 3456.46281889481\n",
      "Epoch: 20 Train MSE: 700.4861748365349 Valid MSE: 669.5895849267408\n",
      "Epoch: 30 Train MSE: 31.99195938937586 Valid MSE: 32.05093658222849\n",
      "Epoch: 40 Train MSE: 24.590538881856975 Valid MSE: 23.19375265557206\n",
      "Epoch: 50 Train MSE: 23.371466740021315 Valid MSE: 22.25158140472315\n",
      "Epoch: 60 Train MSE: 22.8752792973375 Valid MSE: 21.851917797369588\n",
      "Epoch: 70 Train MSE: 22.603357662118192 Valid MSE: 21.596051634087654\n"
     ]
    }
   ],
   "source": [
    "layer_conf = [3,10,10,1]\n",
    "lr = 5e-4\n",
    "epochs=70\n",
    "\n",
    "layers = init_layers(layer_conf)\n",
    "\n",
    "for epoch in range(epochs+1):\n",
    "    epoch_loss = 0\n",
    "\n",
    "    for i, row in enumerate(train_x):\n",
    "        row = row.copy().reshape((1,train_x.shape[1]))\n",
    "        layers, pred, hidden = forward(row, layers)\n",
    "\n",
    "        loss = mse_grad(train_y[i,0], pred[0,0])\n",
    "        epoch_loss += loss ** 2\n",
    "\n",
    "        layers = backward(layers, hidden, np.array(loss).reshape(1,1), lr/train_x.shape[0])\n",
    "    \n",
    "    \n",
    "    if epoch % 10 == 0:\n",
    "        _, valid_preds, _ = forward(valid_x, layers)\n",
    "        \n",
    "        print(f\"Epoch: {epoch} Train MSE: {epoch_loss/train_x.shape[0]} Valid MSE: {mse(valid_preds,valid_y)}\")"
   ]
  },
  {
   "cell_type": "code",
   "execution_count": 8,
   "id": "483f40c0-919f-4f43-b4f9-092dc904c84f",
   "metadata": {},
   "outputs": [
    {
     "data": {
      "text/plain": "23.52496690609325"
     },
     "execution_count": 8,
     "metadata": {},
     "output_type": "execute_result"
    }
   ],
   "source": [
    "_, test_preds, _ = forward(test_x, layers)\n",
    "mse(test_preds,test_y)"
   ]
  },
  {
   "cell_type": "code",
   "execution_count": null,
   "id": "947f193c-92d8-4c2b-a8a9-37e6cbc53aae",
   "metadata": {},
   "outputs": [],
   "source": []
  }
 ],
 "metadata": {
  "kernelspec": {
   "display_name": "Python 3 (ipykernel)",
   "language": "python",
   "name": "python3"
  },
  "language_info": {
   "codemirror_mode": {
    "name": "ipython",
    "version": 3
   },
   "file_extension": ".py",
   "mimetype": "text/x-python",
   "name": "python",
   "nbconvert_exporter": "python",
   "pygments_lexer": "ipython3",
   "version": "3.11.0"
  }
 },
 "nbformat": 4,
 "nbformat_minor": 5
}
