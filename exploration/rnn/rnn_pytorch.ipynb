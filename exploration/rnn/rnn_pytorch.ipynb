{
 "cells": [
  {
   "cell_type": "code",
   "execution_count": 45,
   "metadata": {
    "collapsed": true
   },
   "outputs": [],
   "source": [
    "import pandas as pd\n",
    "import numpy as np\n",
    "from sklearn.preprocessing import StandardScaler\n",
    "import torch\n",
    "\n",
    "data = pd.read_csv(\"../../data/clean_weather.csv\")\n",
    "data = data.ffill()"
   ]
  },
  {
   "cell_type": "code",
   "execution_count": 46,
   "outputs": [],
   "source": [
    "PREDICTORS = [\"tmax\", \"tmin\", \"rain\"]\n",
    "TARGET = \"tmax_tomorrow\"\n",
    "\n",
    "scaler = StandardScaler()\n",
    "data[PREDICTORS] = scaler.fit_transform(data[PREDICTORS])\n",
    "\n",
    "split_data = np.split(data, [int(.7*len(data)), int(.85*len(data))])\n",
    "(train_x, train_y), (valid_x, valid_y), (test_x, test_y) = [[torch.from_numpy(d[PREDICTORS].to_numpy()), torch.from_numpy(d[[TARGET]].to_numpy())] for d in split_data]"
   ],
   "metadata": {
    "collapsed": false
   }
  },
  {
   "cell_type": "code",
   "execution_count": 47,
   "outputs": [],
   "source": [
    "import torch\n",
    "\n",
    "device = torch.device(\"cpu\")\n",
    "\n",
    "from torch.utils.data import Dataset\n",
    "\n",
    "class WeatherDataset(Dataset):\n",
    "    def __init__(self, x, y):\n",
    "        self.dataset = [x,y]\n",
    "        self.sequence_length = 7\n",
    "\n",
    "    def __len__(self):\n",
    "        return len(self.dataset[0]) - self.sequence_length\n",
    "\n",
    "    def __getitem__(self, idx):\n",
    "        x, y = self.dataset[0][idx:(idx+self.sequence_length)], self.dataset[1][idx:(idx+self.sequence_length)]\n",
    "        return x.float(), y.float()"
   ],
   "metadata": {
    "collapsed": false
   }
  },
  {
   "cell_type": "code",
   "execution_count": 53,
   "outputs": [],
   "source": [
    "from torch.utils.data import DataLoader\n",
    "from torch import nn\n",
    "\n",
    "BATCH_SIZE = 32\n",
    "\n",
    "train_dataset = WeatherDataset(train_x, train_y)\n",
    "valid_dataset = WeatherDataset(valid_x, valid_y)\n",
    "test_dataset = WeatherDataset(test_x, test_y)\n",
    "\n",
    "train = DataLoader(train_dataset, batch_size=BATCH_SIZE, shuffle=True)\n",
    "valid = DataLoader(valid_dataset, batch_size=BATCH_SIZE, shuffle=True)\n",
    "test = DataLoader(test_dataset, batch_size=BATCH_SIZE, shuffle=True)"
   ],
   "metadata": {
    "collapsed": false
   }
  },
  {
   "cell_type": "code",
   "execution_count": 54,
   "outputs": [],
   "source": [
    "class NeuralNetwork(nn.Module):\n",
    "    def __init__(self):\n",
    "        super(NeuralNetwork, self).__init__()\n",
    "        self.rnn = nn.RNN(3, 2, 1, batch_first=True)\n",
    "        self.dense = nn.Linear(2, 1)\n",
    "\n",
    "    def forward(self, x):\n",
    "        x, hidden = self.rnn(x)\n",
    "        x = self.dense(x)\n",
    "        return x"
   ],
   "metadata": {
    "collapsed": false
   }
  },
  {
   "cell_type": "code",
   "execution_count": 59,
   "outputs": [
    {
     "name": "stdout",
     "output_type": "stream",
     "text": [
      "Epoch 0 train loss: 3591.80517578125\n",
      "Valid loss: 3818.302734375\n",
      "Epoch 1 train loss: 3234.24755859375\n",
      "Valid loss: 3257.409912109375\n",
      "Epoch 2 train loss: 2653.9814453125\n",
      "Valid loss: 3299.129150390625\n",
      "Epoch 3 train loss: 2094.543701171875\n",
      "Valid loss: 2240.60107421875\n",
      "Epoch 4 train loss: 1461.6103515625\n",
      "Valid loss: 1982.0947265625\n",
      "Epoch 5 train loss: 1719.60791015625\n",
      "Valid loss: 1502.0980224609375\n",
      "Epoch 6 train loss: 1230.162841796875\n",
      "Valid loss: 1624.6646728515625\n",
      "Epoch 7 train loss: 1304.4542236328125\n",
      "Valid loss: 1281.7115478515625\n",
      "Epoch 8 train loss: 901.5313720703125\n",
      "Valid loss: 1145.889892578125\n",
      "Epoch 9 train loss: 886.4434814453125\n",
      "Valid loss: 641.3526611328125\n",
      "Epoch 10 train loss: 566.681396484375\n",
      "Valid loss: 737.8563232421875\n",
      "Epoch 11 train loss: 529.9597778320312\n",
      "Valid loss: 565.46630859375\n",
      "Epoch 12 train loss: 468.3219299316406\n",
      "Valid loss: 356.1773376464844\n",
      "Epoch 13 train loss: 378.99072265625\n",
      "Valid loss: 271.2882995605469\n",
      "Epoch 14 train loss: 270.22039794921875\n",
      "Valid loss: 219.75115966796875\n",
      "Epoch 15 train loss: 596.7406616210938\n",
      "Valid loss: 404.32965087890625\n",
      "Epoch 16 train loss: 194.8123016357422\n",
      "Valid loss: 500.0475158691406\n",
      "Epoch 17 train loss: 232.5558319091797\n",
      "Valid loss: 181.5045928955078\n",
      "Epoch 18 train loss: 249.62596130371094\n",
      "Valid loss: 209.11328125\n",
      "Epoch 19 train loss: 170.1651611328125\n",
      "Valid loss: 173.04306030273438\n",
      "Epoch 20 train loss: 229.0029754638672\n",
      "Valid loss: 176.60928344726562\n",
      "Epoch 21 train loss: 188.29624938964844\n",
      "Valid loss: 221.28683471679688\n",
      "Epoch 22 train loss: 190.7091522216797\n",
      "Valid loss: 120.45357513427734\n",
      "Epoch 23 train loss: 98.66619873046875\n",
      "Valid loss: 22.611146926879883\n",
      "Epoch 24 train loss: 230.3790740966797\n",
      "Valid loss: 155.62966918945312\n",
      "Epoch 25 train loss: 89.22575378417969\n",
      "Valid loss: 90.52685546875\n",
      "Epoch 26 train loss: 141.49697875976562\n",
      "Valid loss: 72.45828247070312\n",
      "Epoch 27 train loss: 159.5132598876953\n",
      "Valid loss: 73.08135223388672\n",
      "Epoch 28 train loss: 114.1364517211914\n",
      "Valid loss: 72.94229125976562\n",
      "Epoch 29 train loss: 52.96612548828125\n",
      "Valid loss: 60.75017547607422\n",
      "Epoch 30 train loss: 58.08911895751953\n",
      "Valid loss: 124.95183563232422\n",
      "Epoch 31 train loss: 38.05037307739258\n",
      "Valid loss: 49.62869644165039\n",
      "Epoch 32 train loss: 61.0305290222168\n",
      "Valid loss: 61.17377471923828\n",
      "Epoch 33 train loss: 119.24742889404297\n",
      "Valid loss: 153.250732421875\n",
      "Epoch 34 train loss: 153.02992248535156\n",
      "Valid loss: 106.08833312988281\n",
      "Epoch 35 train loss: 89.68782043457031\n",
      "Valid loss: 98.77326202392578\n",
      "Epoch 36 train loss: 99.36215209960938\n",
      "Valid loss: 209.80992126464844\n",
      "Epoch 37 train loss: 62.13829803466797\n",
      "Valid loss: 166.31321716308594\n",
      "Epoch 38 train loss: 102.49314880371094\n",
      "Valid loss: 62.70454406738281\n",
      "Epoch 39 train loss: 74.02154541015625\n",
      "Valid loss: 57.559112548828125\n",
      "Epoch 40 train loss: 76.6972427368164\n",
      "Valid loss: 89.49955749511719\n",
      "Epoch 41 train loss: 96.58020782470703\n",
      "Valid loss: 41.700050354003906\n",
      "Epoch 42 train loss: 35.935691833496094\n",
      "Valid loss: 122.53508758544922\n",
      "Epoch 43 train loss: 85.21185302734375\n",
      "Valid loss: 138.93231201171875\n",
      "Epoch 44 train loss: 85.37028503417969\n",
      "Valid loss: 247.3192596435547\n",
      "Epoch 45 train loss: 32.911685943603516\n",
      "Valid loss: 34.503971099853516\n",
      "Epoch 46 train loss: 139.83778381347656\n",
      "Valid loss: 66.46533966064453\n",
      "Epoch 47 train loss: 52.813880920410156\n",
      "Valid loss: 21.04038429260254\n",
      "Epoch 48 train loss: 57.156883239746094\n",
      "Valid loss: 109.0764389038086\n",
      "Epoch 49 train loss: 40.68293380737305\n",
      "Valid loss: 36.13013458251953\n"
     ]
    }
   ],
   "source": [
    "model = NeuralNetwork().to(device)\n",
    "loss_fn = nn.MSELoss()\n",
    "optimizer = torch.optim.SGD(model.parameters(), lr=5e-5)\n",
    "\n",
    "EPOCHS = 50\n",
    "for epoch in range(EPOCHS):\n",
    "    for batch, (sequence, target) in enumerate(train):\n",
    "        optimizer.zero_grad()\n",
    "\n",
    "        sequence = sequence.to(device)\n",
    "        pred = model(sequence)\n",
    "\n",
    "        loss = loss_fn(pred, target)\n",
    "        loss.backward()\n",
    "        optimizer.step()\n",
    "\n",
    "    loss = loss.item()\n",
    "    print(f\"Epoch {epoch} train loss: {loss}\")\n",
    "\n",
    "    with torch.no_grad():\n",
    "        for batch, (sequence, target) in enumerate(valid):\n",
    "            sequence = sequence.to(device)\n",
    "            pred = model(sequence)\n",
    "            loss = loss_fn(pred, target)\n",
    "\n",
    "    print(f\"Valid loss: {loss}\")"
   ],
   "metadata": {
    "collapsed": false
   }
  },
  {
   "cell_type": "code",
   "execution_count": 63,
   "outputs": [
    {
     "data": {
      "text/plain": "tensor([[[64.2513],\n         [64.5311],\n         [64.5296],\n         [64.5305],\n         [64.5315],\n         [64.5336],\n         [64.5341]],\n\n        [[64.3253],\n         [64.5336],\n         [64.5314],\n         [64.5344],\n         [64.5364],\n         [64.5339],\n         [64.5276]],\n\n        [[63.9540],\n         [64.5034],\n         [64.5137],\n         [64.5210],\n         [64.5210],\n         [64.5220],\n         [64.5151]]])"
     },
     "execution_count": 63,
     "metadata": {},
     "output_type": "execute_result"
    }
   ],
   "source": [
    "pred"
   ],
   "metadata": {
    "collapsed": false
   }
  },
  {
   "cell_type": "code",
   "execution_count": null,
   "outputs": [],
   "source": [],
   "metadata": {
    "collapsed": false
   }
  }
 ],
 "metadata": {
  "kernelspec": {
   "display_name": "Python 3",
   "language": "python",
   "name": "python3"
  },
  "language_info": {
   "codemirror_mode": {
    "name": "ipython",
    "version": 2
   },
   "file_extension": ".py",
   "mimetype": "text/x-python",
   "name": "python",
   "nbconvert_exporter": "python",
   "pygments_lexer": "ipython2",
   "version": "2.7.6"
  }
 },
 "nbformat": 4,
 "nbformat_minor": 0
}
