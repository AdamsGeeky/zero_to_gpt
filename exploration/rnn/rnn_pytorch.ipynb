{
 "cells": [
  {
   "cell_type": "code",
   "execution_count": 128,
   "metadata": {
    "collapsed": true
   },
   "outputs": [],
   "source": [
    "import pandas as pd\n",
    "import numpy as np\n",
    "from sklearn.preprocessing import StandardScaler\n",
    "import torch\n",
    "\n",
    "data = pd.read_csv(\"../../data/clean_weather.csv\")\n",
    "data = data.ffill()"
   ]
  },
  {
   "cell_type": "code",
   "execution_count": 129,
   "outputs": [],
   "source": [
    "PREDICTORS = [\"tmax\", \"tmin\", \"rain\"]\n",
    "TARGET = \"tmax_tomorrow\"\n",
    "\n",
    "scaler = StandardScaler()\n",
    "data[PREDICTORS] = scaler.fit_transform(data[PREDICTORS])\n",
    "\n",
    "np.random.seed(0)\n",
    "split_data = np.split(data, [int(.7*len(data)), int(.85*len(data))])\n",
    "(train_x, train_y), (valid_x, valid_y), (test_x, test_y) = [[torch.from_numpy(d[PREDICTORS].to_numpy()), torch.from_numpy(d[[TARGET]].to_numpy())] for d in split_data]"
   ],
   "metadata": {
    "collapsed": false
   }
  },
  {
   "cell_type": "code",
   "execution_count": 134,
   "outputs": [],
   "source": [
    "import torch\n",
    "\n",
    "device = torch.device(\"cpu\")\n",
    "\n",
    "from torch.utils.data import Dataset\n",
    "\n",
    "class WeatherDataset(Dataset):\n",
    "    def __init__(self, x, y):\n",
    "        self.dataset = [x,y]\n",
    "        self.sequence_length = 7\n",
    "\n",
    "    def __len__(self):\n",
    "        return len(self.dataset[0]) - self.sequence_length\n",
    "\n",
    "    def __getitem__(self, idx):\n",
    "        x, y = self.dataset[0][idx:(idx+self.sequence_length)], self.dataset[1][idx:(idx+self.sequence_length)]\n",
    "        return x.float(), y.float()"
   ],
   "metadata": {
    "collapsed": false
   }
  },
  {
   "cell_type": "code",
   "execution_count": 135,
   "outputs": [],
   "source": [
    "from torch.utils.data import DataLoader\n",
    "from torch import nn\n",
    "\n",
    "BATCH_SIZE = 1\n",
    "\n",
    "train_dataset = WeatherDataset(train_x, train_y)\n",
    "valid_dataset = WeatherDataset(valid_x, valid_y)\n",
    "test_dataset = WeatherDataset(test_x, test_y)\n",
    "\n",
    "train = DataLoader(train_dataset, batch_size=BATCH_SIZE, shuffle=False)\n",
    "valid = DataLoader(valid_dataset, batch_size=BATCH_SIZE, shuffle=False)\n",
    "test = DataLoader(test_dataset, batch_size=BATCH_SIZE, shuffle=False)"
   ],
   "metadata": {
    "collapsed": false
   }
  },
  {
   "cell_type": "code",
   "execution_count": 136,
   "outputs": [],
   "source": [
    "class NeuralNetwork(nn.Module):\n",
    "    def __init__(self):\n",
    "        super(NeuralNetwork, self).__init__()\n",
    "        self.rnn = nn.RNN(3, 4, 1, batch_first=True)\n",
    "        self.dense = nn.Linear(4, 1)\n",
    "\n",
    "    def forward(self, x):\n",
    "        x, hidden = self.rnn(x)\n",
    "        x = self.dense(x)\n",
    "        return x"
   ],
   "metadata": {
    "collapsed": false
   }
  },
  {
   "cell_type": "code",
   "execution_count": 138,
   "outputs": [
    {
     "name": "stdout",
     "output_type": "stream",
     "text": [
      "Epoch 0 valid loss: 63.35616726834565\n",
      "Epoch 1 valid loss: 30.89414867692327\n",
      "Epoch 2 valid loss: 27.443207366092185\n",
      "Epoch 3 valid loss: 26.720991076367394\n",
      "Epoch 4 valid loss: 26.598924968223752\n",
      "Epoch 5 valid loss: 26.66597429140775\n",
      "Epoch 6 valid loss: 26.813935584629924\n",
      "Epoch 7 valid loss: 27.033441203664353\n",
      "Epoch 8 valid loss: 27.21880263252504\n",
      "Epoch 9 valid loss: 27.363106326693174\n",
      "Epoch 10 valid loss: 27.495163866881985\n",
      "Epoch 11 valid loss: 27.61247335476944\n",
      "Epoch 12 valid loss: 27.714108669031607\n",
      "Epoch 13 valid loss: 27.801664669422774\n",
      "Epoch 14 valid loss: 27.87712899377406\n",
      "Epoch 15 valid loss: 27.942824626630223\n",
      "Epoch 16 valid loss: 28.00033164071588\n",
      "Epoch 17 valid loss: 28.051229641896892\n",
      "Epoch 18 valid loss: 28.09666900932346\n",
      "Epoch 19 valid loss: 28.13764070472604\n",
      "Epoch 20 valid loss: 28.175005164578625\n",
      "Epoch 21 valid loss: 28.209454651041867\n",
      "Epoch 22 valid loss: 28.241226136477763\n",
      "Epoch 23 valid loss: 28.270834976461277\n",
      "Epoch 24 valid loss: 28.298524421237968\n",
      "Epoch 25 valid loss: 28.324536703729937\n",
      "Epoch 26 valid loss: 28.349060971586937\n",
      "Epoch 27 valid loss: 28.37208631453153\n",
      "Epoch 28 valid loss: 28.393750492271188\n",
      "Epoch 29 valid loss: 28.4142620743\n",
      "Epoch 30 valid loss: 28.433335681077335\n",
      "Epoch 31 valid loss: 28.451297882702637\n",
      "Epoch 32 valid loss: 28.467912384813054\n",
      "Epoch 33 valid loss: 28.483312195808125\n",
      "Epoch 34 valid loss: 28.497248028752352\n",
      "Epoch 35 valid loss: 28.51006151603672\n",
      "Epoch 36 valid loss: 28.521183875482116\n",
      "Epoch 37 valid loss: 28.53070367398151\n",
      "Epoch 38 valid loss: 28.538813759691354\n",
      "Epoch 39 valid loss: 28.54528009023567\n",
      "Epoch 40 valid loss: 28.549919789707737\n",
      "Epoch 41 valid loss: 28.553050788101906\n",
      "Epoch 42 valid loss: 28.55468825392938\n",
      "Epoch 43 valid loss: 28.554679055979136\n",
      "Epoch 44 valid loss: 28.553321221903328\n",
      "Epoch 45 valid loss: 28.550349082316192\n",
      "Epoch 46 valid loss: 28.546267557463\n",
      "Epoch 47 valid loss: 28.541031148245928\n",
      "Epoch 48 valid loss: 28.534722204253246\n",
      "Epoch 49 valid loss: 28.527479396001013\n"
     ]
    }
   ],
   "source": [
    "from statistics import mean\n",
    "\n",
    "model = NeuralNetwork().to(device)\n",
    "loss_fn = nn.MSELoss()\n",
    "optimizer = torch.optim.SGD(model.parameters(), lr=5e-5)\n",
    "\n",
    "EPOCHS = 50\n",
    "for epoch in range(EPOCHS):\n",
    "    for batch, (sequence, target) in enumerate(train):\n",
    "        optimizer.zero_grad()\n",
    "\n",
    "        sequence = sequence.to(device)\n",
    "        pred = model(sequence)\n",
    "\n",
    "        loss = loss_fn(pred, target)\n",
    "        loss.backward()\n",
    "        optimizer.step()\n",
    "\n",
    "    losses = []\n",
    "    with torch.no_grad():\n",
    "        for batch, (sequence, target) in enumerate(valid):\n",
    "            sequence = sequence.to(device)\n",
    "            pred = model(sequence)\n",
    "            loss = loss_fn(pred, target)\n",
    "            losses.append(loss.item())\n",
    "\n",
    "    print(f\"Epoch {epoch} valid loss: {mean(losses)}\")"
   ],
   "metadata": {
    "collapsed": false
   }
  },
  {
   "cell_type": "code",
   "execution_count": null,
   "outputs": [],
   "source": [],
   "metadata": {
    "collapsed": false
   }
  }
 ],
 "metadata": {
  "kernelspec": {
   "display_name": "Python 3",
   "language": "python",
   "name": "python3"
  },
  "language_info": {
   "codemirror_mode": {
    "name": "ipython",
    "version": 2
   },
   "file_extension": ".py",
   "mimetype": "text/x-python",
   "name": "python",
   "nbconvert_exporter": "python",
   "pygments_lexer": "ipython2",
   "version": "2.7.6"
  }
 },
 "nbformat": 4,
 "nbformat_minor": 0
}
