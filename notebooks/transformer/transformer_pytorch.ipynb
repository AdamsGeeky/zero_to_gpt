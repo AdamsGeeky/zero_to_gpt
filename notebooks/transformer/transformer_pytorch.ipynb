{
 "cells": [
  {
   "cell_type": "code",
   "execution_count": 2,
   "metadata": {
    "collapsed": true
   },
   "outputs": [
    {
     "name": "stderr",
     "output_type": "stream",
     "text": [
      "/Users/vik/.virtualenvs/nnets/lib/python3.10/site-packages/tqdm/auto.py:22: TqdmWarning: IProgress not found. Please update jupyter and ipywidgets. See https://ipywidgets.readthedocs.io/en/stable/user_install.html\n",
      "  from .autonotebook import tqdm as notebook_tqdm\n"
     ]
    }
   ],
   "source": [
    "import numpy as np\n",
    "import torch\n",
    "from torch import nn\n",
    "import torch.nn.functional as F\n",
    "import sys\n",
    "import os\n",
    "import math\n",
    "sys.path.append(os.path.abspath(\"../../data\"))\n",
    "\n",
    "DEVICE = torch.device(\"cuda\" if torch.cuda.is_available() else \"cpu\")\n",
    "BATCH_SIZE = 32\n",
    "SP_VOCAB_SIZE = 5000\n",
    "TRAIN_SIZE = 5000"
   ]
  },
  {
   "cell_type": "code",
   "execution_count": 3,
   "outputs": [
    {
     "name": "stderr",
     "output_type": "stream",
     "text": [
      "Found cached dataset opus100 (/Users/vik/.cache/huggingface/datasets/opus100/en-es/0.0.0/256f3196b69901fb0c79810ef468e2c4ed84fbd563719920b1ff1fdc750f7704)\n",
      "100%|██████████| 3/3 [00:00<00:00, 223.38it/s]\n",
      "sentencepiece_trainer.cc(177) LOG(INFO) Running command: --input=tokens.txt --model_prefix=opus100 --vocab_size=5000 --model_type=unigram\n",
      "sentencepiece_trainer.cc(77) LOG(INFO) Starts training with : \n",
      "trainer_spec {\n",
      "  input: tokens.txt\n",
      "  input_format: \n",
      "  model_prefix: opus100\n",
      "  model_type: UNIGRAM\n",
      "  vocab_size: 5000\n",
      "  self_test_sample_size: 0\n",
      "  character_coverage: 0.9995\n",
      "  input_sentence_size: 0\n",
      "  shuffle_input_sentence: 1\n",
      "  seed_sentencepiece_size: 1000000\n",
      "  shrinking_factor: 0.75\n",
      "  max_sentence_length: 4192\n",
      "  num_threads: 16\n",
      "  num_sub_iterations: 2\n",
      "  max_sentencepiece_length: 16\n",
      "  split_by_unicode_script: 1\n",
      "  split_by_number: 1\n",
      "  split_by_whitespace: 1\n",
      "  split_digits: 0\n",
      "  treat_whitespace_as_suffix: 0\n",
      "  required_chars: \n",
      "  byte_fallback: 0\n",
      "  vocabulary_output_piece_score: 1\n",
      "  train_extremely_large_corpus: 0\n",
      "  hard_vocab_limit: 1\n",
      "  use_all_vocab: 0\n",
      "  unk_id: 0\n",
      "  bos_id: 1\n",
      "  eos_id: 2\n",
      "  pad_id: -1\n",
      "  unk_piece: <unk>\n",
      "  bos_piece: <s>\n",
      "  eos_piece: </s>\n",
      "  pad_piece: <pad>\n",
      "  unk_surface:  ⁇ \n",
      "}\n",
      "normalizer_spec {\n",
      "  name: nmt_nfkc\n",
      "  add_dummy_prefix: 1\n",
      "  remove_extra_whitespaces: 1\n",
      "  escape_whitespaces: 1\n",
      "  normalization_rule_tsv: \n",
      "}\n",
      "denormalizer_spec {}\n",
      "trainer_interface.cc(319) LOG(INFO) SentenceIterator is not specified. Using MultiFileSentenceIterator.\n",
      "trainer_interface.cc(174) LOG(INFO) Loading corpus: tokens.txt\n",
      "trainer_interface.cc(375) LOG(INFO) Loaded all 9999 sentences\n",
      "trainer_interface.cc(390) LOG(INFO) Adding meta_piece: <unk>\n",
      "trainer_interface.cc(390) LOG(INFO) Adding meta_piece: <s>\n",
      "trainer_interface.cc(390) LOG(INFO) Adding meta_piece: </s>\n",
      "trainer_interface.cc(395) LOG(INFO) Normalizing sentences...\n",
      "trainer_interface.cc(456) LOG(INFO) all chars count=531332\n",
      "trainer_interface.cc(467) LOG(INFO) Done: 99.9513% characters are covered.\n",
      "trainer_interface.cc(477) LOG(INFO) Alphabet size=100\n",
      "trainer_interface.cc(478) LOG(INFO) Final character coverage=0.999513\n",
      "trainer_interface.cc(510) LOG(INFO) Done! preprocessed 9999 sentences.\n",
      "unigram_model_trainer.cc(138) LOG(INFO) Making suffix array...\n",
      "unigram_model_trainer.cc(142) LOG(INFO) Extracting frequent sub strings...\n",
      "unigram_model_trainer.cc(193) LOG(INFO) Initialized 46136 seed sentencepieces\n",
      "trainer_interface.cc(516) LOG(INFO) Tokenizing input sentences with whitespace: 9999\n",
      "trainer_interface.cc(526) LOG(INFO) Done! 25155\n",
      "unigram_model_trainer.cc(488) LOG(INFO) Using 25155 sentences for EM training\n",
      "unigram_model_trainer.cc(504) LOG(INFO) EM sub_iter=0 size=16156 obj=12.9249 num_tokens=52196 num_tokens/piece=3.23075\n",
      "unigram_model_trainer.cc(504) LOG(INFO) EM sub_iter=1 size=14349 obj=10.894 num_tokens=52633 num_tokens/piece=3.66806\n",
      "unigram_model_trainer.cc(504) LOG(INFO) EM sub_iter=0 size=10759 obj=10.9789 num_tokens=56071 num_tokens/piece=5.21154\n",
      "unigram_model_trainer.cc(504) LOG(INFO) EM sub_iter=1 size=10752 obj=10.9021 num_tokens=56145 num_tokens/piece=5.22182\n",
      "unigram_model_trainer.cc(504) LOG(INFO) EM sub_iter=0 size=8063 obj=11.2522 num_tokens=61513 num_tokens/piece=7.62905\n",
      "unigram_model_trainer.cc(504) LOG(INFO) EM sub_iter=1 size=8063 obj=11.1555 num_tokens=61558 num_tokens/piece=7.63463\n",
      "unigram_model_trainer.cc(504) LOG(INFO) EM sub_iter=0 size=6047 obj=11.5819 num_tokens=67657 num_tokens/piece=11.1885\n",
      "unigram_model_trainer.cc(504) LOG(INFO) EM sub_iter=1 size=6047 obj=11.4839 num_tokens=67654 num_tokens/piece=11.188\n",
      "unigram_model_trainer.cc(504) LOG(INFO) EM sub_iter=0 size=5500 obj=11.618 num_tokens=69591 num_tokens/piece=12.6529\n",
      "unigram_model_trainer.cc(504) LOG(INFO) EM sub_iter=1 size=5500 obj=11.5897 num_tokens=69593 num_tokens/piece=12.6533\n",
      "trainer_interface.cc(604) LOG(INFO) Saving model: opus100.model\n",
      "trainer_interface.cc(615) LOG(INFO) Saving vocabs: opus100.vocab\n"
     ]
    }
   ],
   "source": [
    "from text_data import Opus100DatasetWrapper\n",
    "\n",
    "class Wrapper(Opus100DatasetWrapper):\n",
    "    split_lengths = [TRAIN_SIZE, math.floor(TRAIN_SIZE * .1), 100]\n",
    "    x_length = 40\n",
    "    target_length = 40\n",
    "\n",
    "wrapper = Wrapper(SP_VOCAB_SIZE)\n",
    "datasets = wrapper.generate_datasets(BATCH_SIZE)\n",
    "train = datasets[\"train\"]\n",
    "valid = datasets[\"validation\"]"
   ],
   "metadata": {
    "collapsed": false
   }
  },
  {
   "cell_type": "code",
   "execution_count": 4,
   "outputs": [],
   "source": [
    "def generate(sequence, pred, target, wrapper):\n",
    "    prompts = wrapper.decode_batch(sequence.cpu())\n",
    "    texts = wrapper.decode_batch(torch.argmax(pred, dim=2).cpu())\n",
    "    correct_texts = wrapper.decode_batch(target.cpu())\n",
    "\n",
    "    displays = []\n",
    "    for p, t, ct in zip(prompts, texts, correct_texts):\n",
    "        displays.append(f\"{p} | {ct} | {t}\")\n",
    "    return displays"
   ],
   "metadata": {
    "collapsed": false
   }
  },
  {
   "cell_type": "code",
   "execution_count": 18,
   "outputs": [],
   "source": [
    "class TransformerNetwork(nn.Module):\n",
    "    def __init__(self, input_units, hidden_units, attention_heads, blocks=1):\n",
    "        super(TransformerNetwork, self).__init__()\n",
    "        self.transformer = nn.Transformer(hidden_units, attention_heads, blocks, blocks, batch_first=True)\n",
    "        self.embedding = nn.Embedding(input_units, hidden_units)\n",
    "        k = math.sqrt(1/hidden_units)\n",
    "        self.output_embedding = nn.Parameter(torch.rand(hidden_units, input_units) * 2 * k - k)\n",
    "\n",
    "    def forward(self, x, y):\n",
    "        embed_x = self.embedding(x)\n",
    "        embed_y = self.embedding(y)\n",
    "        output = self.transformer(embed_x, embed_y)\n",
    "        token_vectors = torch.einsum(\"bse, eo->bso\", output, self.output_embedding)\n",
    "        return token_vectors"
   ],
   "metadata": {
    "collapsed": false
   }
  },
  {
   "cell_type": "code",
   "execution_count": 23,
   "outputs": [],
   "source": [
    "from tqdm.auto import tqdm\n",
    "\n",
    "# TODO: Profile and improve perf - https://pytorch.org/tutorials/recipes/recipes/profiler_recipe.html\n",
    "model = TransformerNetwork(wrapper.vocab_size, 512, 8, blocks=1).to(DEVICE)\n",
    "loss_fn = nn.CrossEntropyLoss(ignore_index=wrapper.pad_token)\n",
    "optimizer = torch.optim.AdamW(model.parameters(), lr=1e-3)"
   ],
   "metadata": {
    "collapsed": false
   }
  },
  {
   "cell_type": "code",
   "execution_count": 24,
   "outputs": [
    {
     "name": "stderr",
     "output_type": "stream",
     "text": [
      "127it [00:34,  3.65it/s]\n"
     ]
    },
    {
     "name": "stdout",
     "output_type": "stream",
     "text": [
      "Epoch 0 train loss: 0.1652786926491054\n",
      "¡Es el que me robó! | That's the kid that robbed me. | That's........\n",
      "¡Al suelo! | Get on the ground! | Get! their.\n"
     ]
    },
    {
     "name": "stderr",
     "output_type": "stream",
     "text": [
      "127it [00:34,  3.73it/s]\n"
     ]
    },
    {
     "name": "stdout",
     "output_type": "stream",
     "text": [
      "Epoch 1 train loss: 0.1297462262858556\n",
      "¡No me dejéis! | Don't leave me! | Don't me!!\n",
      "Está bien, y entiendo que pude haber sobre reaccionado un poco. | OK, and I get that I may have overreacted a little. | I, I I haveting and was, been., the good I\n"
     ]
    },
    {
     "name": "stderr",
     "output_type": "stream",
     "text": [
      "127it [00:34,  3.69it/s]\n"
     ]
    },
    {
     "name": "stdout",
     "output_type": "stream",
     "text": [
      "Epoch 2 train loss: 0.10145957081571338\n",
      "-Pronto. | - Soon. | - So,.\n",
      "Mira. | Look. | Look.\n"
     ]
    },
    {
     "name": "stderr",
     "output_type": "stream",
     "text": [
      "127it [00:34,  3.72it/s]\n"
     ]
    },
    {
     "name": "stdout",
     "output_type": "stream",
     "text": [
      "Epoch 3 train loss: 0.07753103757350463\n",
      "¿Por qué me enganchaste con esa gorda pelada? - ¿Quién? ¿Rita? | Rita? | Rita?\n",
      "Dos horas. | Two hours. | Twow.\n"
     ]
    },
    {
     "name": "stderr",
     "output_type": "stream",
     "text": [
      "127it [00:35,  3.57it/s]\n"
     ]
    },
    {
     "name": "stdout",
     "output_type": "stream",
     "text": [
      "Epoch 4 train loss: 0.056759595225645804\n",
      "Mamá. | Mama. | Mama.\n",
      "Mi mamá saboreó la sopa y le puso un poco más de sal. | My mother tasted the soup and added a little more salt. | My mother and and and moredted aed the little re equitatt\n"
     ]
    },
    {
     "name": "stderr",
     "output_type": "stream",
     "text": [
      "127it [00:33,  3.75it/s]\n"
     ]
    },
    {
     "name": "stdout",
     "output_type": "stream",
     "text": [
      "Epoch 5 train loss: 0.04096683215965906\n",
      "¿En qué ciudad estás? | Where are you? What city are you in, anyway? | Where are you are\n",
      "¿Esperas estar equivocado por el bien de la paciente? | You hope you're wrong for the sake of the patient. | You' you're wrong. the ' the of the . Youre??????????????.?????????\n"
     ]
    },
    {
     "name": "stderr",
     "output_type": "stream",
     "text": [
      "127it [00:33,  3.74it/s]\n"
     ]
    },
    {
     "name": "stdout",
     "output_type": "stream",
     "text": [
      "Epoch 6 train loss: 0.029910723964764376\n",
      "Jess, vamos. | Jess, come on. | Jess. come on act\n",
      "Sin tener sus bazas ni su inteligencia, me estoy enriqueciendo. | Without your advantages and intelligence, I'm making a fortune. | With the a advantage a for I Phom'tece for and'll aing,gen a in\n"
     ]
    },
    {
     "name": "stderr",
     "output_type": "stream",
     "text": [
      "127it [00:34,  3.72it/s]\n"
     ]
    },
    {
     "name": "stdout",
     "output_type": "stream",
     "text": [
      "Epoch 7 train loss: 0.02334786721277894\n",
      "La puerta se cerró y nos pilló el cabello. - Lo sé. | - The patio door is shut and our hair is caught in it. | - The patio door is shutz turn hair is ourught in it.\n",
      "¡No! | Don't! Don't! | Don't!\n"
     ]
    },
    {
     "name": "stderr",
     "output_type": "stream",
     "text": [
      "127it [00:34,  3.73it/s]\n"
     ]
    },
    {
     "name": "stdout",
     "output_type": "stream",
     "text": [
      "Epoch 8 train loss: 0.018951499519327026\n",
      "Bien hecho, Jimmy. | Attaboy, Jimmy. Go get them. | Atyboy, Jimmy.\n",
      "En el Reino Unido existe un problema, aunque no es exclusivo del Reino Unido. | There is a problem in the UK, but not confined to the UK. | There is a problem a the UK, but not confined to the UK,\n"
     ]
    },
    {
     "name": "stderr",
     "output_type": "stream",
     "text": [
      "127it [00:33,  3.75it/s]\n"
     ]
    },
    {
     "name": "stdout",
     "output_type": "stream",
     "text": [
      "Epoch 9 train loss: 0.017354872935693565\n",
      "- ¿Jefe? | Boss? | Bosss\n",
      "Artículo 1 | Article 1 | Article 1\n"
     ]
    },
    {
     "name": "stderr",
     "output_type": "stream",
     "text": [
      "127it [00:31,  4.02it/s]\n"
     ]
    },
    {
     "name": "stdout",
     "output_type": "stream",
     "text": [
      "Epoch 10 train loss: 0.015869172663963215\n",
      "Para el 18 de septiembre del 2009, Osment escribió las canciones que aparecerían en este EP en su página oficial de Twitter. | On September 18, 2009, Osment listed the songs that would appear on this EP on her official Twitter page. | On September 18, on, Os on listed the songsment would appear on her EP on her official Twitter page.\n",
      "¡No! | Oh, no! | Oh, no,\n"
     ]
    },
    {
     "name": "stderr",
     "output_type": "stream",
     "text": [
      "127it [00:24,  5.13it/s]\n"
     ]
    },
    {
     "name": "stdout",
     "output_type": "stream",
     "text": [
      "Epoch 11 train loss: 0.014838323627752581\n",
      "Hice arreglos para que salgas de la ciudad mientras lo soluciono. | I've made arrangements for you to leave town while I sort this out. | I've made arrangements for this to leave town while I' to out this\n",
      "¡Retrocedan! | Get back. | Get back.\n"
     ]
    },
    {
     "name": "stderr",
     "output_type": "stream",
     "text": [
      "127it [00:25,  5.02it/s]\n"
     ]
    },
    {
     "name": "stdout",
     "output_type": "stream",
     "text": [
      "Epoch 12 train loss: 0.01384093714731298\n",
      "Gorrón. | Bummer. | Bummerum\n",
      "Dios me mantuvo con vida para traerla al mundo. | I guess God kept me alive to bring her into the world. | I guess God kept me alive to bring her into the world.\n"
     ]
    },
    {
     "name": "stderr",
     "output_type": "stream",
     "text": [
      "127it [00:24,  5.14it/s]\n"
     ]
    },
    {
     "name": "stdout",
     "output_type": "stream",
     "text": [
      "Epoch 13 train loss: 0.013502953431063046\n",
      "No en mi pueblo, pedazo de mierda. | Not in my town, you piece of shit. | Not in my town, you piece of shitty\n",
      "Con el cuchillo horizontal, pa' que entre en las costillas. | With the knife horizontal so it can go through the ribs. | With the knife horizontal so it can go through the kbs.\n"
     ]
    },
    {
     "name": "stderr",
     "output_type": "stream",
     "text": [
      "127it [00:24,  5.10it/s]\n"
     ]
    },
    {
     "name": "stdout",
     "output_type": "stream",
     "text": [
      "Epoch 14 train loss: 0.013337208665760719\n",
      "¿Creen que aquí es el hogar de la madre Teresa? | Are you all thinking this is a joke place! | Are you all thinking this is a joke place!\n",
      "Si. | Yeah. Oh. | Yeah.\n"
     ]
    },
    {
     "name": "stderr",
     "output_type": "stream",
     "text": [
      "127it [00:24,  5.16it/s]\n"
     ]
    },
    {
     "name": "stdout",
     "output_type": "stream",
     "text": [
      "Epoch 15 train loss: 0.013074415372904595\n",
      "Tengo malas noticias. | I have some bad news. | I have some bad news.\n",
      "No, no. | No. | No.\n"
     ]
    },
    {
     "name": "stderr",
     "output_type": "stream",
     "text": [
      "127it [00:24,  5.21it/s]\n"
     ]
    },
    {
     "name": "stdout",
     "output_type": "stream",
     "text": [
      "Epoch 16 train loss: 0.012720200720822483\n",
      "Bien. | Okay. | Okay.\n",
      "- ¿Cómo exactamente? | - What... what... what is it, exactly. | - What...? is? is it, exactly.\n"
     ]
    },
    {
     "name": "stderr",
     "output_type": "stream",
     "text": [
      "127it [00:24,  5.11it/s]\n"
     ]
    },
    {
     "name": "stdout",
     "output_type": "stream",
     "text": [
      "Epoch 17 train loss: 0.012178201206380457\n",
      "¿ Hay alguien aquí? | Anybody here? | Anybody here?\n",
      "Sé que ee interesa por nosostros, y sé que es por nuestro bien. | I know you have our interests at heart and are acting for the best. | I know and have our interesting at heart and are.ing at the best.\n"
     ]
    },
    {
     "name": "stderr",
     "output_type": "stream",
     "text": [
      "127it [00:24,  5.16it/s]\n"
     ]
    },
    {
     "name": "stdout",
     "output_type": "stream",
     "text": [
      "Epoch 18 train loss: 0.01170050277646015\n",
      "Trabajamos juntos, pero soy el jefe. | We're coworkers, but I'm the boss. | We'm cowork., maybe I'm the bos..\n",
      "Es tan hermoso. | It's so beautiful. | It's so beautiful.\n"
     ]
    },
    {
     "name": "stderr",
     "output_type": "stream",
     "text": [
      "127it [00:24,  5.20it/s]\n"
     ]
    },
    {
     "name": "stdout",
     "output_type": "stream",
     "text": [
      "Epoch 19 train loss: 0.011939404616645706\n",
      "Es como si fuéramos a una orgía. | It's as though we're going to an orgy. | It's going though he's going to an orgy.\n",
      "Nunca. | Never. | Never.\n"
     ]
    },
    {
     "name": "stderr",
     "output_type": "stream",
     "text": [
      "127it [00:24,  5.14it/s]\n"
     ]
    },
    {
     "name": "stdout",
     "output_type": "stream",
     "text": [
      "Epoch 20 train loss: 0.011706070875470329\n",
      "- Entendido, entendido. | - Roger, roger. | - Roger. roger.\n",
      "- No, por allí. | - No, it's not. It's this way. | - It, it's not.\n"
     ]
    },
    {
     "name": "stderr",
     "output_type": "stream",
     "text": [
      "127it [00:24,  5.17it/s]\n"
     ]
    },
    {
     "name": "stdout",
     "output_type": "stream",
     "text": [
      "Epoch 21 train loss: 0.011743125850408096\n",
      "- Oh, ok. | - Oh, OK! | - Oh, OK!\n",
      "Lo estás buscando. | I'm searching. | I'm searching.\n"
     ]
    },
    {
     "name": "stderr",
     "output_type": "stream",
     "text": [
      "127it [00:24,  5.09it/s]\n"
     ]
    },
    {
     "name": "stdout",
     "output_type": "stream",
     "text": [
      "Epoch 22 train loss: 0.011558236429599796\n",
      "Alteza. | Your Highness. | Your.Highness.\n",
      "- Bueno. | Okay. | Okay.\n"
     ]
    },
    {
     "name": "stderr",
     "output_type": "stream",
     "text": [
      "127it [00:24,  5.16it/s]\n"
     ]
    },
    {
     "name": "stdout",
     "output_type": "stream",
     "text": [
      "Epoch 23 train loss: 0.01096947121206583\n",
      "¿Aprendiendo buenos modales Centauri? | Learning Centauri table manners? | Learning Centauri table manners?\n",
      "Nada. | Nothing. | Nothing.\n"
     ]
    },
    {
     "name": "stderr",
     "output_type": "stream",
     "text": [
      "127it [00:24,  5.14it/s]\n"
     ]
    },
    {
     "name": "stdout",
     "output_type": "stream",
     "text": [
      "Epoch 24 train loss: 0.01089909524972162\n",
      "-así que lárgate. | So get on out of here, man. | So get on out. here, man.\n",
      "Yo no me voy a meter. | I'm not getting involved. | I'm not getting involve Parliament.\n"
     ]
    },
    {
     "name": "stderr",
     "output_type": "stream",
     "text": [
      "127it [00:25,  5.05it/s]\n"
     ]
    },
    {
     "name": "stdout",
     "output_type": "stream",
     "text": [
      "Epoch 25 train loss: 0.010771152856723061\n",
      "Le están esperando | They're waiting for you! | They're waiting for you!\n",
      "- Ya lo veo claro. Ud. está muerta. | It's a cinch. | It's a clinch.\n"
     ]
    },
    {
     "name": "stderr",
     "output_type": "stream",
     "text": [
      "127it [00:24,  5.14it/s]\n"
     ]
    },
    {
     "name": "stdout",
     "output_type": "stream",
     "text": [
      "Epoch 26 train loss: 0.010457986987775236\n",
      "- Es un mentiroso. | He's a liar. | He's a liar.\n",
      "Quizá Neville volvió a olvidar la contraseña. | Probably Neville forgot the password again. | Probably Nevilletgot the password again.\n"
     ]
    },
    {
     "name": "stderr",
     "output_type": "stream",
     "text": [
      "127it [00:24,  5.13it/s]\n"
     ]
    },
    {
     "name": "stdout",
     "output_type": "stream",
     "text": [
      "Epoch 27 train loss: 0.010272104496605636\n",
      "Él la ayuda a prepararse para la audición. | He's helping her get ready for the audition. | He's helping her get ready for her audition.\n",
      "el trabajo y empezara a trabajar. | ...and you want somebody to get out. | ...and you want somebody to get out.\n"
     ]
    },
    {
     "name": "stderr",
     "output_type": "stream",
     "text": [
      "127it [00:24,  5.12it/s]\n"
     ]
    },
    {
     "name": "stdout",
     "output_type": "stream",
     "text": [
      "Epoch 28 train loss: 0.010379988619485709\n",
      ".. Para el proyecto del centro comercial. - Sí. Pues le ofreceremos el dinero a Karan | Do you remember we were going offer Priya for project work? | Do you remember we were going offer Priya for project work?\n",
      "Mentirosos. ! | Liars. | Liars.\n"
     ]
    },
    {
     "name": "stderr",
     "output_type": "stream",
     "text": [
      "127it [00:24,  5.11it/s]\n"
     ]
    },
    {
     "name": "stdout",
     "output_type": "stream",
     "text": [
      "Epoch 29 train loss: 0.010025953573328772\n",
      "¿Me crees estúpido? | You think I'm stupid? | You' I thinkm stupid?\n",
      "Tu decisión de probar que Dios no está muerto me tocó profundamente. | Your decision to prove God is not dead has affected me greatly. | Your decision to prove God is not dead has affected me greatly.\n"
     ]
    },
    {
     "name": "stderr",
     "output_type": "stream",
     "text": [
      "127it [00:24,  5.09it/s]\n"
     ]
    },
    {
     "name": "stdout",
     "output_type": "stream",
     "text": [
      "Epoch 30 train loss: 0.009954601199930812\n",
      "Entonces está ahí. | Then that's where he is. | Then that's where he is.\n",
      "Ese tío nos mintió. | I mean, the dude lied to us. | I mean, the dude lied to us.\n"
     ]
    },
    {
     "name": "stderr",
     "output_type": "stream",
     "text": [
      "127it [00:24,  5.18it/s]\n"
     ]
    },
    {
     "name": "stdout",
     "output_type": "stream",
     "text": [
      "Epoch 31 train loss: 0.009635702787539151\n",
      "Te escucho. | Let's hear it. | Let's. it.\n",
      "- Gracias. | Thank you. | Thank you.\n"
     ]
    },
    {
     "name": "stderr",
     "output_type": "stream",
     "text": [
      "127it [00:24,  5.18it/s]\n"
     ]
    },
    {
     "name": "stdout",
     "output_type": "stream",
     "text": [
      "Epoch 32 train loss: 0.009734737098319676\n",
      "Yoo-hoo! | Yoo-hoo! | Yoo-hoo!\n",
      "Pero todavía había erupciones volcánicas con frecuencia. | Still, there were frequent volcanic eruptions. | Still, I were frequent volcanic eruptions.\n"
     ]
    },
    {
     "name": "stderr",
     "output_type": "stream",
     "text": [
      "127it [00:24,  5.09it/s]\n"
     ]
    },
    {
     "name": "stdout",
     "output_type": "stream",
     "text": [
      "Epoch 33 train loss: 0.009213635870292195\n",
      "http://www.madeira.ji.cz/ | http://www.vodniraj.cz/bazen.asp | htpp://www.asdniraj.aszenbazen.asp://t................\n",
      "Tenemos menos de 30 minutos hasta que este caño se llene de agua otra vez. | We got less than 30 minutes until this pipe is flooded with water again. | We got less than 30 minutes.til this pipe is flooded with water again.\n"
     ]
    },
    {
     "name": "stderr",
     "output_type": "stream",
     "text": [
      "127it [00:24,  5.17it/s]\n"
     ]
    },
    {
     "name": "stdout",
     "output_type": "stream",
     "text": [
      "Epoch 34 train loss: 0.009180074216665949\n",
      "¿Qué me dices de todo el dinero que ganan sus monjes? | What about all the money you priests make? | What about the the money you priests make?\n",
      "— que utilicen las bandas HF y MF II. | I. Transmitters: exb) Other: — Using the HF and MF bands II. | II\n"
     ]
    },
    {
     "name": "stderr",
     "output_type": "stream",
     "text": [
      "127it [00:24,  5.13it/s]\n"
     ]
    },
    {
     "name": "stdout",
     "output_type": "stream",
     "text": [
      "Epoch 35 train loss: 0.009124174864420036\n",
      "No tengo ni idea de porque estás aquí. | I have no idea why you're here. | I have no idea why you're here.\n",
      "Porque después del 11 de Septiembre todos sabemos que se instaló un sistema de seguridad de $36 millones en esta isla. | 'Cause after 9/11 we all know that a $36 million security system was installed on this island. | 'Cause after 9/1 we we all know that a '36 million security system was installed on this island.\n"
     ]
    },
    {
     "name": "stderr",
     "output_type": "stream",
     "text": [
      "127it [00:24,  5.19it/s]\n"
     ]
    },
    {
     "name": "stdout",
     "output_type": "stream",
     "text": [
      "Epoch 36 train loss: 0.008993659780808086\n",
      "El Tribunal desestimó la petición. | The Court dismissed the claim. | The Court dismisss the claim.\n",
      "La tenemos, hombre. | - We have the stuff, mon. | - We have the stuff, mon.\n"
     ]
    },
    {
     "name": "stderr",
     "output_type": "stream",
     "text": [
      "127it [00:24,  5.19it/s]\n"
     ]
    },
    {
     "name": "stdout",
     "output_type": "stream",
     "text": [
      "Epoch 37 train loss: 0.008907003980863281\n",
      "¿Cómo se siente eso? | How's that feel? | How's that feel?\n",
      "Argentina produce primer chaleco antibalas para el personal femenino de las fuerzas de seguridad | Argentina Produces First Bullet-Proof Vests for Women in the Security Forces | Argentina Produces First Bullet-Proof Vests for Women in the Security Forces for for for for for for for for for for for for for for for Re\n"
     ]
    },
    {
     "name": "stderr",
     "output_type": "stream",
     "text": [
      "127it [00:24,  5.18it/s]\n"
     ]
    },
    {
     "name": "stdout",
     "output_type": "stream",
     "text": [
      "Epoch 38 train loss: 0.00890395449709118\n",
      "¿Carter está muerto? | Carter's dead? | Carterns dead?\n",
      "Nos permiten sólo una cosa fuera de este mundo... | Allow us just one thing out of this world | Allow us just one thing out of this world\n"
     ]
    },
    {
     "name": "stderr",
     "output_type": "stream",
     "text": [
      "127it [00:24,  5.23it/s]\n"
     ]
    },
    {
     "name": "stdout",
     "output_type": "stream",
     "text": [
      "Epoch 39 train loss: 0.008944766313629591\n",
      "Señor, si llamamos desde nuestro Stargate o alguien de otro planeta intenta hacerlo... | Sir, if we dial out of our gate or somebody off world tries dialling in... | Sir, if we dia out of our gate or somebody off world tries inallling in...\n",
      "- ¿En un momento así? | - At a time like this? | - At a time like this?\n"
     ]
    },
    {
     "name": "stderr",
     "output_type": "stream",
     "text": [
      "127it [00:24,  5.21it/s]\n"
     ]
    },
    {
     "name": "stdout",
     "output_type": "stream",
     "text": [
      "Epoch 40 train loss: 0.00854730938275264\n",
      "Sí, señora. | Yes'm. | Yes'm.\n",
      "- Si, has lo tuyo. | Yeah, do your thing. | Yeah, do your thing.\n"
     ]
    },
    {
     "name": "stderr",
     "output_type": "stream",
     "text": [
      "127it [00:24,  5.14it/s]\n"
     ]
    },
    {
     "name": "stdout",
     "output_type": "stream",
     "text": [
      "Epoch 41 train loss: 0.008327914689718855\n",
      "¿Sony PlayStation? | Sony PlayStation? | Sony PlayStation?\n",
      "¿Qué? | What? | What?\n"
     ]
    },
    {
     "name": "stderr",
     "output_type": "stream",
     "text": [
      "127it [00:24,  5.25it/s]\n"
     ]
    },
    {
     "name": "stdout",
     "output_type": "stream",
     "text": [
      "Epoch 42 train loss: 0.00852194825905984\n",
      "Ya es suficiente. | They've had enough. | They've had enough.\n",
      "¿ME EST ⁇ S DICIENDO QUE SOLO ME QUEDAN UN PAR DE CIENTOS DE A ⁇ OS? | Are you telling me I only have a couple of hundred years left? | Are you haveing me I only have a couple of hundred years left?\n"
     ]
    },
    {
     "name": "stderr",
     "output_type": "stream",
     "text": [
      "127it [00:24,  5.19it/s]\n"
     ]
    },
    {
     "name": "stdout",
     "output_type": "stream",
     "text": [
      "Epoch 43 train loss: 0.008404201365948662\n",
      "Las diosas no susurran. | Goddesses don't speak in whispers. | Goddes.s don't speak in whis.s.\n",
      "¿Mothra se va a morir? | Is Mothra going to die? | Is Mothra going to die?\n"
     ]
    },
    {
     "name": "stderr",
     "output_type": "stream",
     "text": [
      "127it [00:24,  5.25it/s]\n"
     ]
    },
    {
     "name": "stdout",
     "output_type": "stream",
     "text": [
      "Epoch 44 train loss: 0.00841683900079096\n",
      "Está bien | Alright. | Alright.\n",
      "Manos a la obra. | Now, let's get back to work. | Now, let's get back to get.\n"
     ]
    },
    {
     "name": "stderr",
     "output_type": "stream",
     "text": [
      "127it [00:24,  5.25it/s]\n"
     ]
    },
    {
     "name": "stdout",
     "output_type": "stream",
     "text": [
      "Epoch 45 train loss: 0.008282004905072606\n",
      "Debo levantarme y prepararme. | Oh, I gotta get up and get ready. | Oh, I gotta get up and get ready.\n",
      "¡Cuidado! | Watch out! | Watch out!\n"
     ]
    },
    {
     "name": "stderr",
     "output_type": "stream",
     "text": [
      "127it [00:24,  5.19it/s]\n"
     ]
    },
    {
     "name": "stdout",
     "output_type": "stream",
     "text": [
      "Epoch 46 train loss: 0.00827223728007571\n",
      "Pero no sabía que lo que lo haría feliz sería la divinidad. | But I didn't know that what would make him happy would be to be a deity. | But I didn't know that - would be him hat would be a be a deity.\n",
      "Hasta hoy, los asiáticos me llaman Sun Luc Dong que quiere decir, ¡hombre negro que pretende ser 12! | To this day, the people of Asia call me Sun Luc Dong which means big black man pretending to be 12! | To this day, the people of Asia call me Sun Luc Dong which means big black man pretending to be 12!\n"
     ]
    },
    {
     "name": "stderr",
     "output_type": "stream",
     "text": [
      "127it [00:24,  5.22it/s]\n"
     ]
    },
    {
     "name": "stdout",
     "output_type": "stream",
     "text": [
      "Epoch 47 train loss: 0.00826808329722954\n",
      "-Genial. | - Great. | - Great.\n",
      "- Hola. | - Hello. | - Hello.\n"
     ]
    },
    {
     "name": "stderr",
     "output_type": "stream",
     "text": [
      "127it [00:24,  5.19it/s]\n"
     ]
    },
    {
     "name": "stdout",
     "output_type": "stream",
     "text": [
      "Epoch 48 train loss: 0.008470452821439527\n",
      "36:21 ¡Seguid a quienes no os piden salario y siguen la buena dirección! | 36:21 Follow those who do not ask you for any wage and who have received guidance. | 36:21 Follow those who have not ask you for: wage and who do received guidance.\n",
      "Durante los quince primeros años, la erosión es lenta. | During the first fifteen years, the erosion is slow, reflective of the discouragement from a parliament without powers. | Iing the first fifteen years, reflect firsteros. is slow, reflective of the firsturagement from a parliament without powersion\n"
     ]
    },
    {
     "name": "stderr",
     "output_type": "stream",
     "text": [
      "127it [00:24,  5.18it/s]\n"
     ]
    },
    {
     "name": "stdout",
     "output_type": "stream",
     "text": [
      "Epoch 49 train loss: 0.008042247771600805\n",
      "¿La causa de muerte? | The cause of death? | The cause of death?\n",
      "Debe tomar un autobús. | You gotta take a bus. | You gotta take a bus.\n"
     ]
    },
    {
     "name": "stderr",
     "output_type": "stream",
     "text": [
      "127it [00:24,  5.23it/s]\n"
     ]
    },
    {
     "name": "stdout",
     "output_type": "stream",
     "text": [
      "Epoch 50 train loss: 0.007945956984960189\n",
      "Bingo. | Bingo. | Bingo.\n",
      "Te conozco, Hector. | I know you, Hector. | I know you, Hector,\n"
     ]
    },
    {
     "name": "stderr",
     "output_type": "stream",
     "text": [
      "127it [00:24,  5.16it/s]\n"
     ]
    },
    {
     "name": "stdout",
     "output_type": "stream",
     "text": [
      "Epoch 51 train loss: 0.007874452208322802\n",
      "¿Qué es esto? | What's this? | What's this?\n",
      "- ¿Servirá para limpiarme el culo? | - Who can be removed from your ass with it. | - Who can be removed from your ass with it.\n"
     ]
    },
    {
     "name": "stderr",
     "output_type": "stream",
     "text": [
      "127it [00:24,  5.24it/s]\n"
     ]
    },
    {
     "name": "stdout",
     "output_type": "stream",
     "text": [
      "Epoch 52 train loss: 0.007954816249617207\n",
      "Debes prepararla. | It must be drawn up. | It must be drawn up.\n",
      "¿Saliendo con una niña? | Dating a junior? | Dating a junior?\n"
     ]
    },
    {
     "name": "stderr",
     "output_type": "stream",
     "text": [
      "127it [00:24,  5.21it/s]\n"
     ]
    },
    {
     "name": "stdout",
     "output_type": "stream",
     "text": [
      "Epoch 53 train loss: 0.008108293870463967\n",
      "Oh, es una buena pregunta, pero no pregunten. | Oh, it's a good question, but don't ask. | Oh, but's a good question, but don's ask.\n",
      "-Hola | - Hey, there. | - Hey, there.\n"
     ]
    },
    {
     "name": "stderr",
     "output_type": "stream",
     "text": [
      "127it [00:24,  5.19it/s]\n"
     ]
    },
    {
     "name": "stdout",
     "output_type": "stream",
     "text": [
      "Epoch 54 train loss: 0.007876103104084847\n",
      "¿De dónde has sacado eso? | Where did you find that? | Where did you find did?\n",
      "- Tienen un don para el trabajo. | - Yes. I find they have a special gift for the work. | - Yes.\n"
     ]
    },
    {
     "name": "stderr",
     "output_type": "stream",
     "text": [
      "127it [00:24,  5.23it/s]\n"
     ]
    },
    {
     "name": "stdout",
     "output_type": "stream",
     "text": [
      "Epoch 55 train loss: 0.008062481095530385\n",
      "Mira el lado positivo. | Look on the bright side of things, man. | Look on the bright side on things people man.\n",
      "- Eso fue muy rápido. | That was pretty fast. | That was pretty fast.\n"
     ]
    },
    {
     "name": "stderr",
     "output_type": "stream",
     "text": [
      "127it [00:24,  5.19it/s]\n"
     ]
    },
    {
     "name": "stdout",
     "output_type": "stream",
     "text": [
      "Epoch 56 train loss: 0.0078400818513721\n",
      "- Hola. | - Hey. | - Hey.\n",
      "Esa fue una pregunta extraña. | I think that was a strange question. | I think that was a strange question.\n"
     ]
    },
    {
     "name": "stderr",
     "output_type": "stream",
     "text": [
      "127it [00:24,  5.22it/s]\n"
     ]
    },
    {
     "name": "stdout",
     "output_type": "stream",
     "text": [
      "Epoch 57 train loss: 0.007821849400661593\n",
      "El informe hace con razón una distinción entre análisis de riesgos, por una parte, y gestión de riesgos, por otra. | The report is right to draw a distinction between risk analysis on the one hand and risk management on the other. | The report is also to draw a distinction between risk management on the other hand and risk management on the other.\n",
      "Espero que no. | I hope not. | I hope not.\n"
     ]
    },
    {
     "name": "stderr",
     "output_type": "stream",
     "text": [
      "127it [00:24,  5.21it/s]\n"
     ]
    },
    {
     "name": "stdout",
     "output_type": "stream",
     "text": [
      "Epoch 58 train loss: 0.007823692345038408\n",
      "Tenemos un Rolex. | We got a Rolex. | We got a Rolex.\n",
      "Lea esto. | - Read this. | - Read this.\n"
     ]
    },
    {
     "name": "stderr",
     "output_type": "stream",
     "text": [
      "127it [00:24,  5.13it/s]\n"
     ]
    },
    {
     "name": "stdout",
     "output_type": "stream",
     "text": [
      "Epoch 59 train loss: 0.0073557187891088605\n",
      "Se procede a una votación registrada del proyecto de decisión A/C.3/63/L.79. | A recorded vote was taken on draft decision A/C.3/63/L.79. | A/ed vote was takening draft decision A/6.3/C3/C.39.\n",
      "¿Asustada? | Afraid? No. | Afraid? No.\n"
     ]
    },
    {
     "name": "stderr",
     "output_type": "stream",
     "text": [
      "127it [00:24,  5.25it/s]\n"
     ]
    },
    {
     "name": "stdout",
     "output_type": "stream",
     "text": [
      "Epoch 60 train loss: 0.00766743512596847\n",
      "Asunto 139/78, Coccioli contra Bundesanstalt Arbeit, sentencia de 20 de marzo de 1979 | Case 99/89 Yanez ⁇ Campoy  ⁇  Bundesanstalt beit Judgment of 13 November 1990 | Case 99 Ya89 Yanez ⁇ 46ampoy  ⁇ Canstalt beit Judgments 13 November 1990\n",
      "Conviene evitar todos los posibles efectos negativos en la diversidad cultural en Europa. | Any potential negative effects on cultural diversity in Europe must be avoided. | Any potential negative effects on cultural diversity in Europe must be avoided.\n"
     ]
    },
    {
     "name": "stderr",
     "output_type": "stream",
     "text": [
      "127it [00:24,  5.28it/s]\n"
     ]
    },
    {
     "name": "stdout",
     "output_type": "stream",
     "text": [
      "Epoch 61 train loss: 0.007394162223007031\n",
      "He dicho whisky de centeno. | Ahem. I said rye. | Ahem.\n",
      "Amy, deja de revolver las papas. | Amy, will you quit hogging the potatoes? | Amy, will you quit hogingg the potatoes?\n"
     ]
    },
    {
     "name": "stderr",
     "output_type": "stream",
     "text": [
      "127it [00:24,  5.21it/s]\n"
     ]
    },
    {
     "name": "stdout",
     "output_type": "stream",
     "text": [
      "Epoch 62 train loss: 0.0075739677518782186\n",
      "Éramos tres. | There were three of us. | There of three of us.\n",
      "No, no es posible. | No, it's not possible. | No, it's not possible.\n"
     ]
    },
    {
     "name": "stderr",
     "output_type": "stream",
     "text": [
      "127it [00:23,  5.30it/s]\n"
     ]
    },
    {
     "name": "stdout",
     "output_type": "stream",
     "text": [
      "Epoch 63 train loss: 0.007392248127785489\n",
      "¿Estás listo para hablar de esto con calma, como adultos? | Are you ready to discuss this calmly, like adults? | Are you ready to discuss this calmly, like adults?\n",
      "Gracias. | Thank you. | Thank you.\n"
     ]
    },
    {
     "name": "stderr",
     "output_type": "stream",
     "text": [
      "127it [00:23,  5.30it/s]\n"
     ]
    },
    {
     "name": "stdout",
     "output_type": "stream",
     "text": [
      "Epoch 64 train loss: 0.007381714282806698\n",
      "Es un cerdo. | It's gross. | It's gross.\n",
      "Mikkel, ¡espera! | Mikkel, wait! | Mikelk, wait!\n"
     ]
    },
    {
     "name": "stderr",
     "output_type": "stream",
     "text": [
      "127it [00:24,  5.25it/s]\n"
     ]
    },
    {
     "name": "stdout",
     "output_type": "stream",
     "text": [
      "Epoch 65 train loss: 0.00728821927703565\n",
      "¿Lista? | Fast. | Fast.\n",
      "- Quiero ver, déjame ver. | I want to see! - Here you go. | I want to see! - Here you go.\n"
     ]
    },
    {
     "name": "stderr",
     "output_type": "stream",
     "text": [
      "127it [00:23,  5.32it/s]\n"
     ]
    },
    {
     "name": "stdout",
     "output_type": "stream",
     "text": [
      "Epoch 66 train loss: 0.007594765176791258\n",
      "Así que yo soy Erin. | So I'm Erin. | So I'm Erin.\n",
      "¿Hay algún banco en este pueblo? | is there a bank in this town? | is there a bank in this town?\n"
     ]
    },
    {
     "name": "stderr",
     "output_type": "stream",
     "text": [
      "127it [00:24,  5.22it/s]\n"
     ]
    },
    {
     "name": "stdout",
     "output_type": "stream",
     "text": [
      "Epoch 67 train loss: 0.007554246184203451\n",
      "No está mal. | Not a bad combination. | Not a bad combination.\n",
      "- Springer. | Springer. | Springer.\n"
     ]
    },
    {
     "name": "stderr",
     "output_type": "stream",
     "text": [
      "127it [00:24,  5.29it/s]\n"
     ]
    },
    {
     "name": "stdout",
     "output_type": "stream",
     "text": [
      "Epoch 68 train loss: 0.007263966454706323\n",
      "Será un honor para mí actuar de marido tuyo, Claire. | It would be my honor to play your husband, Claire. | It would be my honor to play your husband, Claire.\n",
      "- ¿Está todo bien? | - Everything all right? | - Everything all right?\n"
     ]
    },
    {
     "name": "stderr",
     "output_type": "stream",
     "text": [
      "127it [00:23,  5.34it/s]\n"
     ]
    },
    {
     "name": "stdout",
     "output_type": "stream",
     "text": [
      "Epoch 69 train loss: 0.007205990869111902\n",
      "-Antes de hablarle -dije- déjeme reflexionar un momento | \"Do let me speak,\" I said; \"let me have one moment to draw breath and reflect.\" | \"leo let me have,\" I said \" \"Dt me have one moment to draw breath and reflect.\"\n",
      "- Es verdad. | Otoko (man) ippiki\"! It does... | Otoko (man) ippiki\"! It does...\n"
     ]
    },
    {
     "name": "stderr",
     "output_type": "stream",
     "text": [
      "127it [00:24,  5.19it/s]\n"
     ]
    },
    {
     "name": "stdout",
     "output_type": "stream",
     "text": [
      "Epoch 70 train loss: 0.007040632206682614\n",
      "Mejor. | Better. | Better.\n",
      "Estabas dañado, débil, maleable. | You were flawed, weak, malleable. | You were flawed, weak, malleable.\n"
     ]
    },
    {
     "name": "stderr",
     "output_type": "stream",
     "text": [
      "127it [00:23,  5.34it/s]\n"
     ]
    },
    {
     "name": "stdout",
     "output_type": "stream",
     "text": [
      "Epoch 71 train loss: 0.00726891832800186\n",
      "¿Qué prefieres? ¿Vino? | What will you choose? | What will you choosethe\n",
      "Sólo hay un motivo por el que el espectáculo deba continuar: dinero. | Around here, there's just one reason the show must go on. The gross. | Around here, there's just one reason the show must go on.\n"
     ]
    },
    {
     "name": "stderr",
     "output_type": "stream",
     "text": [
      "127it [00:24,  5.25it/s]\n"
     ]
    },
    {
     "name": "stdout",
     "output_type": "stream",
     "text": [
      "Epoch 72 train loss: 0.007027260082825197\n",
      "Buena suerte, mi señor. | Godspeed, my lord. | Godspeed, my lord.\n",
      "Toda una vida en la cárcel. | A lifetime in jail. | A life. in jail.\n"
     ]
    },
    {
     "name": "stderr",
     "output_type": "stream",
     "text": [
      "127it [00:24,  5.23it/s]\n"
     ]
    },
    {
     "name": "stdout",
     "output_type": "stream",
     "text": [
      "Epoch 73 train loss: 0.006919282338193317\n",
      "Estaba esperando al barco que iba a traerla al Palacio de las Lágrimas. | She was waiting for the boat that was to bring her to the Palace of Tears | She was don for the Pa that wass the her to the Palace of Tears\n",
      "93760. Gem ⁇ t 1 (1) 1 | 93760.  ⁇ á ⁇ í ⁇ íí ⁇ ó 1(1), 2(1), 3(1) 3 | 93760.  ⁇ í ⁇ í ⁇ íí ⁇ í 1(1), 2(1), 2(1),(1) 2.66.6666666666\n"
     ]
    },
    {
     "name": "stderr",
     "output_type": "stream",
     "text": [
      "127it [00:23,  5.33it/s]\n"
     ]
    },
    {
     "name": "stdout",
     "output_type": "stream",
     "text": [
      "Epoch 74 train loss: 0.007055384733926828\n",
      "Está matando \"gente mala\" que obtuvo una 2a oportunidad en la vida. | He's killing bad people who got a 2nd chance in life. | He's killing bad people who got a 2nd chance in life.\n",
      "COMISIÓN DE LAS COMUNIDADES EUROPEAS Dirección General de Información, Comunicación y Cultura | COMMISSION OF THE EUROPEAN COMMUNITIES Directorate-General Information, Communication and Culture | COMMISIST OF THE EUROPEAN COMMINIONIS Directorate-General Information, Communication and Culture\n"
     ]
    },
    {
     "name": "stderr",
     "output_type": "stream",
     "text": [
      "127it [00:24,  5.27it/s]\n"
     ]
    },
    {
     "name": "stdout",
     "output_type": "stream",
     "text": [
      "Epoch 75 train loss: 0.007065997062998963\n",
      "Le encantará a la Comisión de Valores. | Oh the SEC's gonna love this, right? | Oh the SECbos gonna love this, right?\n",
      "- Ya lo veo claro. Ud. está muerta. | It's a cinch. | It's a cinch.\n"
     ]
    },
    {
     "name": "stderr",
     "output_type": "stream",
     "text": [
      "127it [00:24,  5.26it/s]\n"
     ]
    },
    {
     "name": "stdout",
     "output_type": "stream",
     "text": [
      "Epoch 76 train loss: 0.00709789235687514\n",
      "El medicamento se administra mediante inyección en cuatro ciclos de tratamiento. | The medication is administered through injection in four treatment cycles. | The medication is administered through in four in four treatment cycles.\n",
      "- Eso, siendo modestos. - ¡Somos superiores! | - We're pretty superior persons. | - We're pretty superior persons.\n"
     ]
    },
    {
     "name": "stderr",
     "output_type": "stream",
     "text": [
      "127it [00:23,  5.35it/s]\n"
     ]
    },
    {
     "name": "stdout",
     "output_type": "stream",
     "text": [
      "Epoch 77 train loss: 0.006898251638975082\n",
      "Está bien. | OK. | OK.\n",
      "¡Brillante! | Brilliant! | Brilliant!\n"
     ]
    },
    {
     "name": "stderr",
     "output_type": "stream",
     "text": [
      "127it [00:24,  5.22it/s]\n"
     ]
    },
    {
     "name": "stdout",
     "output_type": "stream",
     "text": [
      "Epoch 78 train loss: 0.0069337619952564164\n",
      "Las regiones deben poder confiar en que la Unión Europea garantizará su participación sistemática en todas las etapas del proceso de toma de decisiones comunitario. | The regions must be able to count on the European Union to involve them systematically in all stages of the European decision-making process. | The regions of be able. involve on the European Union to involve them systematically in all stages of the European Union-making process.\n",
      "Clown es un hombre bueno y no merece morir desobedecieron mis ordenes y seran castigados reconsidere | But Mr. Kwan is a good man. | But Mr. Kwan is a good man. K manw...........................\n"
     ]
    },
    {
     "name": "stderr",
     "output_type": "stream",
     "text": [
      "127it [00:23,  5.32it/s]\n"
     ]
    },
    {
     "name": "stdout",
     "output_type": "stream",
     "text": [
      "Epoch 79 train loss: 0.006932717300658151\n",
      "Eso puede ser una manera de decirlo. | That might be one way to say it. | That might be one way to say it.\n",
      "Todos necesitan un pasatiempo. | Everybody needs a hobby. | Everybody needs a hobby.\n"
     ]
    },
    {
     "name": "stderr",
     "output_type": "stream",
     "text": [
      "127it [00:24,  5.27it/s]\n"
     ]
    },
    {
     "name": "stdout",
     "output_type": "stream",
     "text": [
      "Epoch 80 train loss: 0.006893417077491016\n",
      "Oh, querida. | Oh, dear. | Oh, dear.\n",
      "Quizá se fugaron. | Maybe they eloped. | Maybe they eloped.\n"
     ]
    },
    {
     "name": "stderr",
     "output_type": "stream",
     "text": [
      "127it [00:24,  5.20it/s]\n"
     ]
    },
    {
     "name": "stdout",
     "output_type": "stream",
     "text": [
      "Epoch 81 train loss: 0.006848469267481953\n",
      "principal actividad económica de la empresa durante el año civil anterior, | main economic activity of the enterprise, in the previous calendar year, | main economic activity of the enterprise, in the previous calendar year,\n",
      "- ¿Sr. Turner? | - Uh, Mr. Turner? | - Uh, Mr. Turner?\n"
     ]
    },
    {
     "name": "stderr",
     "output_type": "stream",
     "text": [
      "127it [00:23,  5.33it/s]\n"
     ]
    },
    {
     "name": "stdout",
     "output_type": "stream",
     "text": [
      "Epoch 82 train loss: 0.006650209780709129\n",
      "No quieres que sea un conocido ni alguien mejor que tú. | You don't want someone you know and you don't want someone better than you. | You don't want someone you don and you know't want someone you than you know\n",
      "Sire. | Sire. | Sire.\n"
     ]
    },
    {
     "name": "stderr",
     "output_type": "stream",
     "text": [
      "127it [00:24,  5.28it/s]\n"
     ]
    },
    {
     "name": "stdout",
     "output_type": "stream",
     "text": [
      "Epoch 83 train loss: 0.006651545673110119\n",
      "¡Qué daño! | I'm injured! | I'm injured!\n",
      "Derivados de la anilina y sus sales | Aniline derivatives and their salts | Aniline derivatss and their saltive\n"
     ]
    },
    {
     "name": "stderr",
     "output_type": "stream",
     "text": [
      "127it [00:24,  5.28it/s]\n"
     ]
    },
    {
     "name": "stdout",
     "output_type": "stream",
     "text": [
      "Epoch 84 train loss: 0.006438219663137057\n",
      "¡Tranquila! | Easy! | Easy!\n",
      "Lo siento, pero no es un delito conocer a Tomás Riffaut. | -No. | -No.\n"
     ]
    },
    {
     "name": "stderr",
     "output_type": "stream",
     "text": [
      "127it [00:22,  5.72it/s]\n"
     ]
    },
    {
     "name": "stdout",
     "output_type": "stream",
     "text": [
      "Epoch 85 train loss: 0.006631139055349108\n",
      "Una buena sopa de pescado te hará bien. | Some nice fish soup will pick you up. | Some nice fish soup will pick you up.\n",
      "! | ! | !\n"
     ]
    },
    {
     "name": "stderr",
     "output_type": "stream",
     "text": [
      "127it [00:21,  5.90it/s]\n"
     ]
    },
    {
     "name": "stdout",
     "output_type": "stream",
     "text": [
      "Epoch 86 train loss: 0.006650331776633154\n",
      "Mi padre. | - My father. | - My father.\n",
      "Paren lo que hacen. | Stop what you're doing. | Stop what you're doing.\n"
     ]
    },
    {
     "name": "stderr",
     "output_type": "stream",
     "text": [
      "127it [00:21,  5.98it/s]\n"
     ]
    },
    {
     "name": "stdout",
     "output_type": "stream",
     "text": [
      "Epoch 87 train loss: 0.006820254625503238\n",
      "Debe ser especial. | Must be a very special girl. | Must be a very special girl.\n",
      "Señor Presidente, me gustaría dar las gracias a la ponente por su trabajo. | Mr President, I would like to thank the rapporteur for her work. | Mr President, I would like to thank the rapporteur for her work.\n"
     ]
    },
    {
     "name": "stderr",
     "output_type": "stream",
     "text": [
      "127it [00:21,  5.97it/s]\n"
     ]
    },
    {
     "name": "stdout",
     "output_type": "stream",
     "text": [
      "Epoch 88 train loss: 0.0065963678520290165\n",
      "Es inteligente. | She's smart. | She'smsmart.\n",
      "No. | No. | No.\n"
     ]
    },
    {
     "name": "stderr",
     "output_type": "stream",
     "text": [
      "127it [00:21,  5.89it/s]\n"
     ]
    },
    {
     "name": "stdout",
     "output_type": "stream",
     "text": [
      "Epoch 89 train loss: 0.006513391073250513\n",
      "Dios me mantuvo con vida para traerla al mundo. | I guess God kept me alive to bring her into the world. | I guess God kept me alive to bring her into the world.\n",
      "Antes de empezar con el oeste, explicaste que estabas enamorada del el profesor de gymnasia Noruego. | Before you started west you explained that you were in love with the Norwegian gym teacher. | Beforew started west you starteded that you started in love with the Norwegian gym teacher.\n"
     ]
    },
    {
     "name": "stderr",
     "output_type": "stream",
     "text": [
      "127it [00:21,  5.98it/s]\n"
     ]
    },
    {
     "name": "stdout",
     "output_type": "stream",
     "text": [
      "Epoch 90 train loss: 0.006633489381697938\n",
      "¿Asustada? | Afraid? No. | Afraid? No.\n",
      "Éste es un hospital de mierda. | This is a shitty hospital. | This is a shitty hospital.\n"
     ]
    },
    {
     "name": "stderr",
     "output_type": "stream",
     "text": [
      "127it [00:21,  5.95it/s]\n"
     ]
    },
    {
     "name": "stdout",
     "output_type": "stream",
     "text": [
      "Epoch 91 train loss: 0.006493214338167211\n",
      "El biocentrismo de Robert Lanza es un giro radical a la extrañeza innegable de la mecánica cuántica. | Robert Lanza's biocentrism is a radical spin on the undeniable strangeness of quantum mechanics. | Robert Lanza's.iocentrism is a radical spin on a undeniable stranger of quantum mechanics.\n",
      "Vincent, ¿estás bien? | Vincent, you all right? | Vincent, you all right?\n"
     ]
    },
    {
     "name": "stderr",
     "output_type": "stream",
     "text": [
      "127it [00:21,  5.91it/s]\n"
     ]
    },
    {
     "name": "stdout",
     "output_type": "stream",
     "text": [
      "Epoch 92 train loss: 0.006508038129921504\n",
      "Mi mujer está durmiendo. | My wife' s in it. | My wife' s in it.\n",
      "¿Está diciendo que los mismos números llevan a conclusiones diferentes? | You're saying that the same numbers are leading to different conclusions? | You're saying to the same numbers are leading to different conclusions?\n"
     ]
    },
    {
     "name": "stderr",
     "output_type": "stream",
     "text": [
      "127it [00:21,  5.98it/s]\n"
     ]
    },
    {
     "name": "stdout",
     "output_type": "stream",
     "text": [
      "Epoch 93 train loss: 0.006444405163014967\n",
      "Un niño con mucha ambición, la menor de las cuales es el trono. | A child with much ambition. Not least to sit on your throne. | Not child with much withtion.\n",
      "- Dr. Solomon... - No, debo decir algo antes. | this, this! | this, this,\n"
     ]
    },
    {
     "name": "stderr",
     "output_type": "stream",
     "text": [
      "127it [00:21,  5.96it/s]\n"
     ]
    },
    {
     "name": "stdout",
     "output_type": "stream",
     "text": [
      "Epoch 94 train loss: 0.0065203844257960405\n",
      "¡Las llaves estaban puestas! | The keys were in the ignition! | Thetions were in the ignition!\n",
      "Ahora no. | Not now. | Not now.\n"
     ]
    },
    {
     "name": "stderr",
     "output_type": "stream",
     "text": [
      "127it [00:21,  5.90it/s]\n"
     ]
    },
    {
     "name": "stdout",
     "output_type": "stream",
     "text": [
      "Epoch 95 train loss: 0.006450472179594941\n",
      "Bien. | Good. | Good.\n",
      "FORMA FARMACÉUTICA Y CONTENIDO DEL ENVASE | PHARMACEUTICAL FORM AND CONTENTS | PHARMACEUTICAL FORM ON CONTENTS\n"
     ]
    },
    {
     "name": "stderr",
     "output_type": "stream",
     "text": [
      "127it [00:21,  5.98it/s]\n"
     ]
    },
    {
     "name": "stdout",
     "output_type": "stream",
     "text": [
      "Epoch 96 train loss: 0.006290659200268116\n",
      "Hola. | Hello. | Hello.\n",
      "Preámbulo | Preamble | Preamble\n"
     ]
    },
    {
     "name": "stderr",
     "output_type": "stream",
     "text": [
      "127it [00:21,  5.97it/s]\n"
     ]
    },
    {
     "name": "stdout",
     "output_type": "stream",
     "text": [
      "Epoch 97 train loss: 0.006187685028334537\n",
      "Sr. Presidente, la historia recordará su nombre por siempre. | Mr. President, history shall forever remember your name. | Mr. President, history shall forever remember your name. President.. name.........................\n",
      "¿Quién? | - Who is it? | - Who is it?\n"
     ]
    },
    {
     "name": "stderr",
     "output_type": "stream",
     "text": [
      "127it [00:21,  5.92it/s]\n"
     ]
    },
    {
     "name": "stdout",
     "output_type": "stream",
     "text": [
      "Epoch 98 train loss: 0.006058442616270576\n",
      "Recibí tu mensaje y estoy listo para la acción. | I got your message, man, and I'm ready to roll. | I' your message, and, and I'm ready to roll.\n",
      "¡Arqueros! | Archers! | Archers!\n"
     ]
    },
    {
     "name": "stderr",
     "output_type": "stream",
     "text": [
      "127it [00:21,  5.96it/s]"
     ]
    },
    {
     "name": "stdout",
     "output_type": "stream",
     "text": [
      "Epoch 99 train loss: 0.00619194845624972\n",
      "Puede tomar las pastillas con o sin comida. | You can take this medicine with or without food. | You can take this medicine without with or food.\n",
      "¿Lo llevas puesto? | You wear it? | You wear it?\n"
     ]
    },
    {
     "name": "stderr",
     "output_type": "stream",
     "text": [
      "\n"
     ]
    }
   ],
   "source": [
    "EPOCHS = 100\n",
    "DISPLAY_BATCHES = 2\n",
    "OUT_SEQUENCE_LEN = wrapper.y_length\n",
    "PRINT_VALID = True\n",
    "\n",
    "for epoch in range(EPOCHS):\n",
    "    # Run over the training examples\n",
    "    train_loss = 0\n",
    "    match_pct = 0\n",
    "    for batch, (sequence, target, prev_target) in tqdm(enumerate(train)):\n",
    "        optimizer.zero_grad(set_to_none=True)\n",
    "        pred = model(sequence.to(DEVICE), prev_target.to(DEVICE))\n",
    "\n",
    "        # If you use a batch, need to reshape pred to be batch * sequence, embedding_len to be compatible\n",
    "        # Similar reshape with target to be batch * sequence vector of class indices\n",
    "        loss = loss_fn(pred.reshape(-1, pred.shape[-1]), target.view(-1).to(DEVICE))\n",
    "        loss.backward()\n",
    "        optimizer.step()\n",
    "        train_loss += loss.item()\n",
    "\n",
    "    with torch.no_grad():\n",
    "        print(f\"Epoch {epoch} train loss: {train_loss / len(train) / BATCH_SIZE}\")\n",
    "        sents = generate(sequence, pred, target, wrapper)\n",
    "        for sent in sents[:DISPLAY_BATCHES]:\n",
    "            print(sent)"
   ],
   "metadata": {
    "collapsed": false
   }
  },
  {
   "cell_type": "code",
   "execution_count": null,
   "outputs": [],
   "source": [],
   "metadata": {
    "collapsed": false
   }
  }
 ],
 "metadata": {
  "kernelspec": {
   "display_name": "Python 3",
   "language": "python",
   "name": "python3"
  },
  "language_info": {
   "codemirror_mode": {
    "name": "ipython",
    "version": 2
   },
   "file_extension": ".py",
   "mimetype": "text/x-python",
   "name": "python",
   "nbconvert_exporter": "python",
   "pygments_lexer": "ipython2",
   "version": "2.7.6"
  }
 },
 "nbformat": 4,
 "nbformat_minor": 0
}
