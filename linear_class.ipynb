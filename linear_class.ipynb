{
 "cells": [
  {
   "cell_type": "code",
   "execution_count": 1,
   "id": "507c0b28-d1a5-44df-be00-0a46e8641076",
   "metadata": {},
   "outputs": [],
   "source": [
    "import pandas as pd\n",
    "\n",
    "data = pd.read_csv(\"clean_weather.csv\", index_col=0)"
   ]
  },
  {
   "cell_type": "code",
   "execution_count": 2,
   "id": "f0a3a03c-e5da-4e18-82e3-ac49670761c5",
   "metadata": {},
   "outputs": [],
   "source": [
    "data = data.ffill()"
   ]
  },
  {
   "cell_type": "code",
   "execution_count": 195,
   "id": "1a22380a-7d93-445b-b5af-efa7c64abf9d",
   "metadata": {},
   "outputs": [],
   "source": [
    "train = data[[\"tmax\", \"tmin\", \"rain\"]].to_numpy()[:-1000,:]\n",
    "target = data[[\"tmax_tomorrow\"]].to_numpy()[:-1000,:]\n",
    "\n",
    "test = data[[\"tmax\", \"tmin\", \"rain\"]].to_numpy()[-1000:,:]\n",
    "test_target = data[[\"tmax_tomorrow\"]].to_numpy()[-1000:,:]"
   ]
  },
  {
   "cell_type": "code",
   "execution_count": 198,
   "id": "5055b150-60a2-45e2-ad0f-0b9a217fc020",
   "metadata": {},
   "outputs": [],
   "source": [
    "def finite_diff(func, x):\n",
    "    eps = 1e-7\n",
    "    grad = []\n",
    "    for i in range(len(x)):\n",
    "        row = np.zeros((1,len(x)))\n",
    "        row[0,i] = 1\n",
    "        grad.append((func(x + eps * row) - func(x - eps * row)) / (2 * eps))\n",
    "    grad = np.array(grad).reshape(len(x), 1)\n",
    "    print(grad)\n",
    "    return grad"
   ]
  },
  {
   "cell_type": "code",
   "execution_count": 199,
   "id": "9b35fbfe-9bdd-4456-92d3-bea134a302be",
   "metadata": {},
   "outputs": [],
   "source": [
    "# Hidden\n",
    "\n",
    "#1,3 - input\n",
    "#1,10 - layer1\n",
    "#1,1 - layer2\n",
    "\n",
    "# Weights\n",
    "\n",
    "#3,10\n",
    "#10,1\n",
    "\n",
    "#Bias\n",
    "\n",
    "#1,10\n",
    "#1,1\n",
    "\n",
    "#Gradient\n",
    "# 1,1\n",
    "\n",
    "# Back\n",
    "# Step 1\n",
    "# Gradient dot activated (1,1)\n",
    "    # Gradient times hidden layer 1 (1,1) * (1,10) = (1,10)\n",
    "# Weights times gradient 10,1 times 1,1 T = (1,10)\n",
    "\n",
    "#Step 2\n",
    "# Gradient dot activated 1,10 dot 1,10 1,10\n",
    "    # Gradient times input (1,10) * (1,3) ?\n",
    "# Weights times gradient (3,10) times (10,3) (3,3)"
   ]
  },
  {
   "cell_type": "code",
   "execution_count": 196,
   "id": "8adf5180-b1fb-4475-9115-364d337b7fd3",
   "metadata": {},
   "outputs": [],
   "source": [
    "import numpy as np"
   ]
  },
  {
   "cell_type": "code",
   "execution_count": 197,
   "id": "0a9d5f3f-3e5b-4121-96b9-27d2f6d587aa",
   "metadata": {},
   "outputs": [],
   "source": [
    "def mse_loss(predictions, actuals):\n",
    "    return ((actuals - predictions) ** 2)"
   ]
  },
  {
   "cell_type": "code",
   "execution_count": 267,
   "id": "149dcc71-6355-47b6-b2d5-9212553797ca",
   "metadata": {},
   "outputs": [],
   "source": [
    "class Layer():\n",
    "    def __init__(self, in_shape, out_shape, relu=True):\n",
    "        self.weight = np.random.rand(in_shape, out_shape)\n",
    "        self.bias = np.ones((1, out_shape))\n",
    "        self.relu = relu\n",
    "        self.hidden = None\n",
    "        self.input = None\n",
    "    \n",
    "    def forward(self, x):\n",
    "        self.input = x\n",
    "        linear = np.matmul(x, self.weight) + self.bias\n",
    "        self.hidden = linear\n",
    "        if self.relu:\n",
    "            relu = np.maximum(linear, np.zeros(linear.shape))\n",
    "            return relu\n",
    "        return linear\n",
    "    \n",
    "    def backward(self, gradient, prev, lr):\n",
    "        if self.relu:\n",
    "            hidden = np.heaviside(self.hidden, 1)\n",
    "            grad = np.multiply(gradient, hidden).T\n",
    "        else:\n",
    "            grad = gradient\n",
    "        \n",
    "        w_grad = np.matmul(grad, prev).T\n",
    "        b_grad = grad.T\n",
    "        \n",
    "        self.weight -= w_grad * lr\n",
    "        self.bias -= b_grad * lr\n",
    "        \n",
    "        return np.matmul(self.weight, grad).T"
   ]
  },
  {
   "cell_type": "code",
   "execution_count": 268,
   "id": "e6a2b252-fc42-436d-8247-70a74c117bef",
   "metadata": {},
   "outputs": [],
   "source": [
    "class Network():\n",
    "    def __init__(self, layers):\n",
    "        self.layers = layers\n",
    "    \n",
    "    def forward(self, x):\n",
    "        output = np.zeros((x.shape[0],1))\n",
    "        for i in range(x.shape[0]):\n",
    "            vals = x[i:(i+1),:].copy()\n",
    "            for layer in self.layers:\n",
    "                vals = layer.forward(vals)\n",
    "            output[i:(i+1),:] = vals\n",
    "        return output\n",
    "    \n",
    "    def backward(self, gradient, lr):\n",
    "        for i in range(gradient.shape[0]):\n",
    "            elem = gradient[i:(i+1),:]\n",
    "            for i in range(len(self.layers)-1, -1, -1):\n",
    "                current = self.layers[i]\n",
    "                if i > 0:\n",
    "                    prev = self.layers[i-1].hidden\n",
    "                else:\n",
    "                    prev = self.layers[i].input\n",
    "\n",
    "                elem = current.backward(elem, prev, lr/gradient.shape[0])"
   ]
  },
  {
   "cell_type": "code",
   "execution_count": 269,
   "id": "517b716b-cae1-4fb9-9951-eac7546a79e2",
   "metadata": {},
   "outputs": [],
   "source": [
    "layers = [\n",
    "    Layer(3, 10, True),\n",
    "    Layer(10, 1, False)\n",
    "]\n",
    "\n",
    "net = Network(layers)"
   ]
  },
  {
   "cell_type": "code",
   "execution_count": 270,
   "id": "25c778eb-0389-43e8-965f-d45c870d56a4",
   "metadata": {},
   "outputs": [
    {
     "name": "stdout",
     "output_type": "stream",
     "text": [
      "Epoch: 0 MSE: 39711.78277639015\n",
      "Epoch: 10 MSE: 10424.4095763492\n",
      "Epoch: 20 MSE: 3024.4657387733973\n",
      "Epoch: 30 MSE: 922.9919479622802\n",
      "Epoch: 40 MSE: 299.2291942155198\n",
      "Epoch: 50 MSE: 110.41707307830721\n",
      "Epoch: 60 MSE: 52.64752152826111\n",
      "Epoch: 70 MSE: 34.826859819173066\n",
      "Epoch: 80 MSE: 29.278622893318786\n",
      "Epoch: 90 MSE: 27.52787282767429\n",
      "Epoch: 100 MSE: 26.963427825043848\n",
      "Epoch: 110 MSE: 26.77511504018547\n",
      "Epoch: 120 MSE: 26.708968881607255\n",
      "Epoch: 130 MSE: 26.684044920499705\n",
      "Epoch: 140 MSE: 26.67383553440184\n",
      "Epoch: 150 MSE: 26.669284160923006\n",
      "Epoch: 160 MSE: 26.667101664305857\n",
      "Epoch: 170 MSE: 26.665996500963075\n",
      "Epoch: 180 MSE: 26.665416070119388\n",
      "Epoch: 190 MSE: 26.665104234949727\n"
     ]
    }
   ],
   "source": [
    "epochs = 150\n",
    "lr = 1e-6\n",
    "\n",
    "for epoch in range(epochs):\n",
    "    predictions = net.forward(train)\n",
    "    \n",
    "    if epoch % 10 == 0:\n",
    "        print(f\"Epoch: {epoch} MSE: {np.mean(mse_loss(predictions, target))}\")\n",
    "    outer_grad = predictions - target\n",
    "    \n",
    "    # Calc gradients\n",
    "    net.backward(outer_grad, lr)"
   ]
  },
  {
   "cell_type": "code",
   "execution_count": 271,
   "id": "57cd25d5-44e1-4b30-bd57-66de2fdfed56",
   "metadata": {},
   "outputs": [],
   "source": [
    "test_preds = net.forward(test)"
   ]
  },
  {
   "cell_type": "code",
   "execution_count": 272,
   "id": "28b52429-aadd-40d4-8bb5-ba9dc85df2fe",
   "metadata": {},
   "outputs": [
    {
     "data": {
      "text/plain": [
       "30.00568557009493"
      ]
     },
     "execution_count": 272,
     "metadata": {},
     "output_type": "execute_result"
    }
   ],
   "source": [
    "np.mean(mse_loss(test_preds, test_target))"
   ]
  },
  {
   "cell_type": "code",
   "execution_count": null,
   "id": "8e5e75f0-5c8b-425e-9a4b-31fd2a151860",
   "metadata": {},
   "outputs": [],
   "source": []
  }
 ],
 "metadata": {
  "kernelspec": {
   "display_name": "Python 3 (ipykernel)",
   "language": "python",
   "name": "python3"
  },
  "language_info": {
   "codemirror_mode": {
    "name": "ipython",
    "version": 3
   },
   "file_extension": ".py",
   "mimetype": "text/x-python",
   "name": "python",
   "nbconvert_exporter": "python",
   "pygments_lexer": "ipython3",
   "version": "3.9.15"
  },
  "toc-autonumbering": false,
  "toc-showcode": false,
  "toc-showmarkdowntxt": false
 },
 "nbformat": 4,
 "nbformat_minor": 5
}
