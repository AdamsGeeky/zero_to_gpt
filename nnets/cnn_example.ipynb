{
 "cells": [
  {
   "cell_type": "code",
   "execution_count": 2,
   "metadata": {
    "collapsed": true
   },
   "outputs": [],
   "source": [
    "from network import Network\n",
    "from conv import Conv\n",
    "from dense import Dense\n",
    "from activation import Relu\n",
    "from metrics import log_loss, log_loss_grad, softmax\n",
    "import math\n",
    "import numpy as np\n",
    "import random"
   ]
  },
  {
   "cell_type": "code",
   "execution_count": 4,
   "outputs": [],
   "source": [
    "random.seed(0)\n",
    "FILE = \"fashion-mnist_train.csv\"\n",
    "with open(f\"../data/{FILE}\") as f:\n",
    "    examples = f.read().strip().split(\"\\n\")[1:]\n",
    "\n",
    "train, valid, test = [], [], []\n",
    "valid_cutoff = .8\n",
    "test_cutoff = .9\n",
    "\n",
    "for example in examples:\n",
    "    label, pixels = example.split(\",\", 1)\n",
    "    label = int(label)\n",
    "    if label > 4:\n",
    "        continue\n",
    "    pixels = [int(p) for p in pixels.split(\",\")]\n",
    "    data = np.asarray(pixels, dtype=\"int32\")\n",
    "    data = data.reshape((1,28,28))\n",
    "    # Scale values from -1 to 1\n",
    "    data = ((data / 255) - .5) / .5\n",
    "    target = np.zeros((1, 5))\n",
    "    target[0,label] = 1\n",
    "    row = (data, target, )\n",
    "\n",
    "    split = random.random()\n",
    "    if split > test_cutoff:\n",
    "        test.append(row)\n",
    "    elif split > valid_cutoff:\n",
    "        valid.append(row)\n",
    "    else:\n",
    "        train.append(row)"
   ],
   "metadata": {
    "collapsed": false
   }
  },
  {
   "cell_type": "code",
   "execution_count": 5,
   "outputs": [],
   "source": [
    "class TestNet(Network):\n",
    "    def __init__(self):\n",
    "        self.conv1 = Conv(input_channels=1, output_channels=3, kernel_x=3, kernel_y=3)\n",
    "        self.conv2 = Conv(input_channels=3, output_channels=1, kernel_x=3, kernel_y=3)\n",
    "        self.dense = Dense(input_size=24 ** 2, output_size=5, activation=False)\n",
    "        self.last_input = None\n",
    "\n",
    "        super().__init__()\n",
    "\n",
    "    def forward(self, x):\n",
    "        self.last_input = x.copy()\n",
    "        x = self.conv1.forward(x)\n",
    "        x = self.conv2.forward(x)\n",
    "        x = x.reshape(1, math.prod(x.shape))\n",
    "        x = self.dense.forward(x)\n",
    "        return x\n",
    "\n",
    "    def backward(self, grad, lr):\n",
    "        prev_hidden = self.conv2.hidden.copy().reshape(1, math.prod(self.conv2.hidden.shape))\n",
    "        grad = self.dense.backward(grad, lr, prev_hidden)\n",
    "        grad = self.conv2.backward(grad, lr, self.conv1.hidden)\n",
    "        grad = self.conv1.backward(grad, lr, self.last_input)"
   ],
   "metadata": {
    "collapsed": false
   }
  },
  {
   "cell_type": "code",
   "execution_count": 6,
   "outputs": [
    {
     "name": "stdout",
     "output_type": "stream",
     "text": [
      "Epoch 0 loss: 0.9677727749432533\n",
      "Epoch 0 valid accuracy: 0.7618570474281897\n",
      "Epoch 1 loss: 0.6457135907788792\n",
      "Epoch 1 valid accuracy: 0.7872411489645958\n",
      "Epoch 2 loss: 0.5775221177845649\n",
      "Epoch 2 valid accuracy: 0.8059452237808952\n",
      "Epoch 3 loss: 0.5424171846642093\n",
      "Epoch 3 valid accuracy: 0.8152972611890448\n",
      "Epoch 4 loss: 0.5203083683843547\n",
      "Epoch 4 valid accuracy: 0.822311289245157\n",
      "Epoch 5 loss: 0.5048624050760291\n",
      "Epoch 5 valid accuracy: 0.8293253173012692\n",
      "Epoch 6 loss: 0.4932803514556203\n",
      "Epoch 6 valid accuracy: 0.8326653306613226\n",
      "Epoch 7 loss: 0.4841426057364258\n",
      "Epoch 7 valid accuracy: 0.8346693386773547\n",
      "Epoch 8 loss: 0.47666413975128563\n",
      "Epoch 8 valid accuracy: 0.8406813627254509\n",
      "Epoch 9 loss: 0.47038013739759077\n",
      "Epoch 9 valid accuracy: 0.8450233800935204\n",
      "Epoch 10 loss: 0.4649971406934237\n",
      "Epoch 10 valid accuracy: 0.845691382765531\n",
      "Epoch 11 loss: 0.4603175908419025\n",
      "Epoch 11 valid accuracy: 0.8470273881095525\n",
      "Epoch 12 loss: 0.456202102397566\n",
      "Epoch 12 valid accuracy: 0.8483633934535738\n",
      "Epoch 13 loss: 0.45254760277095996\n",
      "Epoch 13 valid accuracy: 0.8500334001336005\n",
      "Epoch 14 loss: 0.44927591960383234\n",
      "Epoch 14 valid accuracy: 0.8530394121576487\n",
      "Epoch 15 loss: 0.44632713579609345\n",
      "Epoch 15 valid accuracy: 0.8530394121576487\n",
      "Epoch 16 loss: 0.443653328198645\n",
      "Epoch 16 valid accuracy: 0.8530394121576487\n",
      "Epoch 17 loss: 0.44121522782900524\n",
      "Epoch 17 valid accuracy: 0.85437541750167\n",
      "Epoch 18 loss: 0.4389799536888516\n",
      "Epoch 18 valid accuracy: 0.8560454241816967\n",
      "Epoch 19 loss: 0.43692044226998816\n",
      "Epoch 19 valid accuracy: 0.8577154308617234\n"
     ]
    }
   ],
   "source": [
    "net = TestNet()\n",
    "lr = 5e-4\n",
    "epochs = 20\n",
    "\n",
    "for epoch in range(epochs):\n",
    "    epoch_loss = 0\n",
    "    for i, img in enumerate(train):\n",
    "        image, target = img\n",
    "        batch = net.forward(image)\n",
    "\n",
    "        grad = log_loss_grad(softmax(batch), target)\n",
    "        epoch_loss += log_loss(softmax(batch), target)\n",
    "        net.backward(grad, lr)\n",
    "\n",
    "    print(f\"Epoch {epoch} loss: {epoch_loss / len(train)}\")\n",
    "    match = np.zeros(len(valid))\n",
    "    for i, img in enumerate(valid):\n",
    "        image, target = img\n",
    "        valid_pred = net.forward(image)\n",
    "        match[i] = np.argmax(valid_pred) == np.argmax(target)\n",
    "\n",
    "    print(f\"Epoch {epoch} valid accuracy: {match.sum() / match.shape[0]}\")"
   ],
   "metadata": {
    "collapsed": false
   }
  },
  {
   "cell_type": "code",
   "execution_count": null,
   "outputs": [],
   "source": [],
   "metadata": {
    "collapsed": false
   }
  }
 ],
 "metadata": {
  "kernelspec": {
   "display_name": "Python 3",
   "language": "python",
   "name": "python3"
  },
  "language_info": {
   "codemirror_mode": {
    "name": "ipython",
    "version": 2
   },
   "file_extension": ".py",
   "mimetype": "text/x-python",
   "name": "python",
   "nbconvert_exporter": "python",
   "pygments_lexer": "ipython2",
   "version": "2.7.6"
  }
 },
 "nbformat": 4,
 "nbformat_minor": 0
}
