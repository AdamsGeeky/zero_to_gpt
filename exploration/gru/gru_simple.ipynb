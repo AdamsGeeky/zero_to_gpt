{
 "cells": [
  {
   "cell_type": "code",
   "execution_count": null,
   "outputs": [],
   "source": [
    "#!pip install torch torchtext sentencepiece datasets\n",
    "# Try opus books dataset for translation - https://huggingface.co/datasets/opus_books"
   ],
   "metadata": {
    "collapsed": false
   }
  },
  {
   "cell_type": "code",
   "execution_count": 30,
   "outputs": [],
   "source": [
    "import numpy as np\n",
    "import torch\n",
    "from torch import nn\n",
    "import functorch\n",
    "import sys\n",
    "import os\n",
    "import math\n",
    "sys.path.append(os.path.abspath(\"../../data\"))\n",
    "\n",
    "DEVICE = torch.device(\"cuda\" if torch.cuda.is_available() else \"cpu\")\n",
    "BATCH_SIZE = 1\n",
    "SP_VOCAB_SIZE = 1000\n",
    "CHUNK_LENGTH = 10\n",
    "Y_CHUNK_LENGTH = 5\n",
    "TRAIN_SIZE = 500"
   ],
   "metadata": {
    "collapsed": false
   }
  },
  {
   "cell_type": "code",
   "execution_count": 31,
   "outputs": [
    {
     "name": "stderr",
     "output_type": "stream",
     "text": [
      "Found cached dataset cnn_dailymail (/Users/vik/.cache/huggingface/datasets/cnn_dailymail/3.0.0/3.0.0/1b3c71476f6d152c31c1730e83ccb08bcf23e348233f4fcc11e182248e6bf7de)\n",
      "100%|██████████| 3/3 [00:00<00:00, 149.58it/s]\n",
      "sentencepiece_trainer.cc(177) LOG(INFO) Running command: --input=tokens.txt --model_prefix=cnn_dailymail --vocab_size=1000 --model_type=unigram\n",
      "sentencepiece_trainer.cc(77) LOG(INFO) Starts training with : \n",
      "trainer_spec {\n",
      "  input: tokens.txt\n",
      "  input_format: \n",
      "  model_prefix: cnn_dailymail\n",
      "  model_type: UNIGRAM\n",
      "  vocab_size: 1000\n",
      "  self_test_sample_size: 0\n",
      "  character_coverage: 0.9995\n",
      "  input_sentence_size: 0\n",
      "  shuffle_input_sentence: 1\n",
      "  seed_sentencepiece_size: 1000000\n",
      "  shrinking_factor: 0.75\n",
      "  max_sentence_length: 4192\n",
      "  num_threads: 16\n",
      "  num_sub_iterations: 2\n",
      "  max_sentencepiece_length: 16\n",
      "  split_by_unicode_script: 1\n",
      "  split_by_number: 1\n",
      "  split_by_whitespace: 1\n",
      "  split_digits: 0\n",
      "  treat_whitespace_as_suffix: 0\n",
      "  required_chars: \n",
      "  byte_fallback: 0\n",
      "  vocabulary_output_piece_score: 1\n",
      "  train_extremely_large_corpus: 0\n",
      "  hard_vocab_limit: 1\n",
      "  use_all_vocab: 0\n",
      "  unk_id: 0\n",
      "  bos_id: 1\n",
      "  eos_id: 2\n",
      "  pad_id: -1\n",
      "  unk_piece: <unk>\n",
      "  bos_piece: <s>\n",
      "  eos_piece: </s>\n",
      "  pad_piece: <pad>\n",
      "  unk_surface:  ⁇ \n",
      "}\n",
      "normalizer_spec {\n",
      "  name: nmt_nfkc\n",
      "  add_dummy_prefix: 1\n",
      "  remove_extra_whitespaces: 1\n",
      "  escape_whitespaces: 1\n",
      "  normalization_rule_tsv: \n",
      "}\n",
      "denormalizer_spec {}\n",
      "trainer_interface.cc(319) LOG(INFO) SentenceIterator is not specified. Using MultiFileSentenceIterator.\n",
      "trainer_interface.cc(174) LOG(INFO) Loading corpus: tokens.txt\n",
      "trainer_interface.cc(375) LOG(INFO) Loaded all 1895 sentences\n",
      "trainer_interface.cc(390) LOG(INFO) Adding meta_piece: <unk>\n",
      "trainer_interface.cc(390) LOG(INFO) Adding meta_piece: <s>\n",
      "trainer_interface.cc(390) LOG(INFO) Adding meta_piece: </s>\n",
      "trainer_interface.cc(395) LOG(INFO) Normalizing sentences...\n",
      "trainer_interface.cc(456) LOG(INFO) all chars count=62754\n",
      "trainer_interface.cc(467) LOG(INFO) Done: 99.9586% characters are covered.\n",
      "trainer_interface.cc(477) LOG(INFO) Alphabet size=69\n",
      "trainer_interface.cc(478) LOG(INFO) Final character coverage=0.999586\n",
      "trainer_interface.cc(510) LOG(INFO) Done! preprocessed 1895 sentences.\n",
      "unigram_model_trainer.cc(138) LOG(INFO) Making suffix array...\n",
      "unigram_model_trainer.cc(142) LOG(INFO) Extracting frequent sub strings...\n",
      "unigram_model_trainer.cc(193) LOG(INFO) Initialized 8252 seed sentencepieces\n",
      "trainer_interface.cc(516) LOG(INFO) Tokenizing input sentences with whitespace: 1895\n",
      "trainer_interface.cc(526) LOG(INFO) Done! 4490\n",
      "unigram_model_trainer.cc(488) LOG(INFO) Using 4490 sentences for EM training\n",
      "unigram_model_trainer.cc(504) LOG(INFO) EM sub_iter=0 size=3734 obj=13.8139 num_tokens=9978 num_tokens/piece=2.6722\n",
      "unigram_model_trainer.cc(504) LOG(INFO) EM sub_iter=1 size=3304 obj=12.3828 num_tokens=10087 num_tokens/piece=3.05297\n",
      "unigram_model_trainer.cc(504) LOG(INFO) EM sub_iter=0 size=2475 obj=12.5058 num_tokens=10780 num_tokens/piece=4.35556\n",
      "unigram_model_trainer.cc(504) LOG(INFO) EM sub_iter=1 size=2470 obj=12.3542 num_tokens=10796 num_tokens/piece=4.37085\n",
      "unigram_model_trainer.cc(504) LOG(INFO) EM sub_iter=0 size=1852 obj=12.8131 num_tokens=11897 num_tokens/piece=6.42387\n",
      "unigram_model_trainer.cc(504) LOG(INFO) EM sub_iter=1 size=1852 obj=12.6419 num_tokens=11901 num_tokens/piece=6.42603\n",
      "unigram_model_trainer.cc(504) LOG(INFO) EM sub_iter=0 size=1389 obj=13.2645 num_tokens=13273 num_tokens/piece=9.5558\n",
      "unigram_model_trainer.cc(504) LOG(INFO) EM sub_iter=1 size=1389 obj=13.0719 num_tokens=13295 num_tokens/piece=9.57163\n",
      "unigram_model_trainer.cc(504) LOG(INFO) EM sub_iter=0 size=1100 obj=13.5883 num_tokens=14416 num_tokens/piece=13.1055\n",
      "unigram_model_trainer.cc(504) LOG(INFO) EM sub_iter=1 size=1100 obj=13.4421 num_tokens=14416 num_tokens/piece=13.1055\n",
      "trainer_interface.cc(604) LOG(INFO) Saving model: cnn_dailymail.model\n",
      "trainer_interface.cc(615) LOG(INFO) Saving vocabs: cnn_dailymail.vocab\n"
     ]
    }
   ],
   "source": [
    "from text_data import CNNDatasetWrapper\n",
    "\n",
    "class Wrapper(CNNDatasetWrapper):\n",
    "    split_lengths = [TRAIN_SIZE, math.floor(TRAIN_SIZE * .1), 100]\n",
    "    x_length = CHUNK_LENGTH\n",
    "    target_length = Y_CHUNK_LENGTH\n",
    "\n",
    "wrapper = Wrapper(SP_VOCAB_SIZE, DEVICE)\n",
    "\n",
    "datasets = wrapper.generate_datasets(BATCH_SIZE)\n",
    "train = datasets[\"train\"]"
   ],
   "metadata": {
    "collapsed": false
   }
  },
  {
   "cell_type": "code",
   "execution_count": 32,
   "outputs": [],
   "source": [
    "class GRUCell(nn.Module):\n",
    "    def __init__(self, input_units, hidden_units, output_units):\n",
    "        super(GRUCell, self).__init__()\n",
    "        self.input_units = input_units\n",
    "        self.hidden_units = hidden_units\n",
    "        self.output_units = output_units\n",
    "\n",
    "        k = math.sqrt(1/hidden_units)\n",
    "        self.input_weights = nn.Parameter(torch.rand(3, input_units, hidden_units) * 2 * k - k)\n",
    "        self.input_biases = nn.Parameter(torch.rand(3, 1, hidden_units) * 2 * k - k)\n",
    "\n",
    "        self.hidden_weights = nn.Parameter(torch.rand(3, hidden_units, hidden_units) * 2 * k - k)\n",
    "        self.hidden_biases = nn.Parameter(torch.rand(3, 1, hidden_units) * 2 * k - k)\n",
    "\n",
    "        self.output_weight = nn.Parameter(torch.rand(hidden_units, output_units) * 2 * k - k)\n",
    "        self.output_bias = nn.Parameter(torch.rand(1, output_units) * 2 * k - k)\n",
    "\n",
    "    def forward(self, x, prev_hidden):\n",
    "        # Compute the regular RNN forward pass\n",
    "        # Compute update and reset gates for GRU\n",
    "        reset_gate = torch.sigmoid(x @ self.input_weights[0,] + self.input_biases[0,] + prev_hidden @ self.hidden_weights[0,] + self.hidden_biases[0,])\n",
    "        update_gate = torch.sigmoid(x @ self.input_weights[1,] + self.input_biases[1,] + prev_hidden @ self.hidden_weights[1,] + self.hidden_biases[1,])\n",
    "        new_gate = torch.tanh(x @ self.input_weights[2,] + self.input_biases[2,] + torch.mul(reset_gate, prev_hidden @ self.hidden_weights[2,] + self.hidden_biases[2,]))\n",
    "\n",
    "        hidden_x = torch.mul((1 - update_gate), new_gate) + torch.mul(update_gate, new_gate)\n",
    "\n",
    "        # Compute output based on hidden state\n",
    "        output_y = hidden_x @ self.output_weight + self.output_bias\n",
    "        return output_y, hidden_x"
   ],
   "metadata": {
    "collapsed": false
   }
  },
  {
   "cell_type": "code",
   "execution_count": 46,
   "outputs": [],
   "source": [
    "class EncoderDecoder(nn.Module):\n",
    "    def __init__(self, in_sequence_len, out_sequence_len, embedding_len, hidden_units=512, layers=2):\n",
    "        super(EncoderDecoder, self).__init__()\n",
    "        self.in_sequence_len = in_sequence_len\n",
    "        self.out_sequence_len = out_sequence_len\n",
    "        self.hidden_units = hidden_units\n",
    "        self.embedding_len = embedding_len\n",
    "        self.layers = layers\n",
    "\n",
    "        self.embedding = nn.Embedding(embedding_len, hidden_units)\n",
    "        self.encoders = nn.ModuleList([GRUCell(input_units=hidden_units, hidden_units=hidden_units, output_units=hidden_units) for _ in range(layers)])\n",
    "        self.decoders = nn.ModuleList([GRUCell(input_units=hidden_units * 2, hidden_units=hidden_units, output_units=hidden_units) for _ in range(layers)])\n",
    "\n",
    "        self.linear = nn.Linear(in_features=hidden_units, out_features=embedding_len)\n",
    "\n",
    "    def attention(self, context, prev_hidden, batch_size):\n",
    "        # Swap axes so the first dimension of context_attn is batch\n",
    "        context_attn = torch.bmm(context.swapaxes(0,1), self.context_attention_weight.unsqueeze(0).expand(batch_size,-1,-1))\n",
    "        # Swap back since prev_hidden is by batch.  This makes the first dim of cross sequence\n",
    "        cross = torch.tanh(context_attn.swapaxes(0,1) + prev_hidden @ self.hidden_attention_weight)\n",
    "        # This will be of dimension batch, sequence_length, 1\n",
    "        attention = torch.bmm(cross.swapaxes(0,1), self.attention_weight.T.unsqueeze(0).expand(batch_size, -1, -1))\n",
    "        # Drop the last singleton dimension\n",
    "        attention = attention.squeeze(2)\n",
    "        # Softmax the predictions across each batch\n",
    "        probs = torch.softmax(attention, 1)\n",
    "        diagonalized_probs = self.batched_diag(probs)\n",
    "        positional_contexts = torch.sum(torch.bmm(diagonalized_probs, context.swapaxes(0,1)), dim=1).reshape(batch_size, self.input_units)\n",
    "        return positional_contexts\n",
    "\n",
    "    def forward(self, x, y):\n",
    "        batch_size = x.shape[0]\n",
    "        # Move batch to the second dimension, so sequence comes first\n",
    "        y = y.swapaxes(0,1)\n",
    "        # Embed the input sequence to reduce dimensionality\n",
    "        embedded = self.embedding(x).swapaxes(0,1)\n",
    "\n",
    "        # Encode the input sequence\n",
    "        # Both tensors will have sequence then batch\n",
    "        enc_hiddens = torch.zeros((1, self.layers, batch_size, self.hidden_units), device=DEVICE)\n",
    "        enc_outputs = torch.zeros((1, self.layers, batch_size, self.hidden_units), device=DEVICE)\n",
    "        for j in range(self.in_sequence_len):\n",
    "            seq_enc_hiddens = torch.zeros((1, batch_size, self.hidden_units), device=DEVICE)\n",
    "            seq_enc_outputs = embedded[j,:,:].unsqueeze(0).to(DEVICE)\n",
    "            for i in range(self.layers):\n",
    "                output, hidden = self.encoders[i](seq_enc_outputs[i,], enc_hiddens[j,i])\n",
    "                # Add first sequence axis\n",
    "                hidden = hidden.unsqueeze(0)\n",
    "                output = output.unsqueeze(0)\n",
    "                seq_enc_outputs = torch.cat((seq_enc_outputs, output), dim=0)\n",
    "                seq_enc_hiddens = torch.cat((seq_enc_hiddens, hidden), dim=0)\n",
    "\n",
    "            enc_hiddens = torch.cat((enc_hiddens, seq_enc_hiddens[1:].unsqueeze(0)), dim=0)\n",
    "            enc_outputs = torch.cat((enc_outputs, seq_enc_outputs[1:].unsqueeze(0)), dim=0)\n",
    "\n",
    "        # Decode to the output sequence\n",
    "        # Pass in context\n",
    "        context = enc_hiddens[1:,-1,:,:]\n",
    "        # Both tensors will have the first dimension be the sequence\n",
    "        dec_hiddens = torch.zeros(1, self.layers, batch_size, self.hidden_units, device=DEVICE)\n",
    "        dec_outputs = torch.zeros((1, self.layers, batch_size, self.hidden_units), device=DEVICE)\n",
    "        for j in range(self.out_sequence_len):\n",
    "            # Use either the actual previous y (from the input), or the generated y if the input sequence is shorter than the generation steps.\n",
    "            prev_y = y[j,:,:] if y.shape[0] > j else torch.softmax(dec_outputs[j,-1,:,:], dim=1)\n",
    "            # Run embedding over previous y state\n",
    "            prev_y = prev_y.argmax(dim=1).int()\n",
    "            prev_y = self.embedding(prev_y)\n",
    "\n",
    "            seq_dec_hiddens = prev_y.unsqueeze(0).to(DEVICE)\n",
    "            seq_dec_outputs = torch.zeros((1, batch_size, self.hidden_units), device=DEVICE)\n",
    "            for i in range(self.layers):\n",
    "                output, hidden = self.decoders[i](torch.cat((seq_dec_hiddens[i,], context[-1]), dim=1), dec_hiddens[j,i,],)\n",
    "                # Add first sequence axis\n",
    "                hidden = hidden.unsqueeze(0)\n",
    "                output = output.unsqueeze(0)\n",
    "                seq_dec_outputs = torch.cat((seq_dec_outputs, output), dim=0)\n",
    "                seq_dec_hiddens = torch.cat((seq_dec_hiddens, hidden), dim=0)\n",
    "\n",
    "            dec_hiddens = torch.cat((dec_hiddens, seq_dec_hiddens[1:].unsqueeze(0)), dim=0)\n",
    "            dec_outputs = torch.cat((dec_outputs, seq_dec_outputs[1:].unsqueeze(0)), dim=0)\n",
    "\n",
    "        # Move batch back to axis 0\n",
    "        out_hiddens = dec_hiddens[1:,-1,:,:].swapaxes(0,1)\n",
    "        out_output = self.linear(dec_hiddens[1:,-1,:,:].swapaxes(0,1))\n",
    "        return out_output, out_hiddens\n",
    "\n",
    "def generate(sequence, target, wrapper):\n",
    "    pred, _ = model(sequence, target[:,0,:].unsqueeze(1))\n",
    "    prompts = wrapper.decode_batch(sequence.cpu())\n",
    "    texts = wrapper.decode_batch(torch.argmax(pred, dim=2).cpu())\n",
    "    correct_texts = wrapper.decode_batch(torch.argmax(target, dim=2).cpu())\n",
    "\n",
    "    displays = []\n",
    "    for p, t, ct in zip(prompts, texts, correct_texts):\n",
    "        displays.append(f\"{p} | {ct} | {t}\")\n",
    "    return displays"
   ],
   "metadata": {
    "collapsed": false
   }
  },
  {
   "cell_type": "code",
   "execution_count": 47,
   "outputs": [],
   "source": [
    "from tqdm.auto import tqdm\n",
    "model = EncoderDecoder(wrapper.x_length, wrapper.target_length, hidden_units=512, layers=1, embedding_len=wrapper.vocab_size).to(DEVICE)\n",
    "loss_fn = nn.CrossEntropyLoss()\n",
    "optimizer = torch.optim.AdamW(model.parameters(), lr=1e-4)"
   ],
   "metadata": {
    "collapsed": false
   }
  },
  {
   "cell_type": "code",
   "execution_count": null,
   "outputs": [
    {
     "name": "stderr",
     "output_type": "stream",
     "text": [
      "16it [00:01,  9.66it/s]\n"
     ]
    },
    {
     "name": "stdout",
     "output_type": "stream",
     "text": [
      "Sen. Barack Obama has elec | trifi | Micholike Iraqi be\n",
      "NEW: Searcher says | plane | Micholiniversif driver\n",
      "Football pays tri | bute on the | onself northtable Leader\n",
      "Sheikha Lubna wa | s first female min | , beatniversGerma vote\n",
      "Rozita Swinton, 3 | 3, was | race drajor Myanmar has\n",
      "Democratic senators will hold short | \"pro | Barcoli Che Jeff gr\n",
      "Genarlow Wilson: | Accep | ,essi create second Friday\n",
      "Sheriff: Possible | tornado caus | Barc U Twoldade\n",
      "Epoch 0 train loss: 0.13085885159671307 match_pct: 0.0011718750465661287\n"
     ]
    },
    {
     "name": "stderr",
     "output_type": "stream",
     "text": [
      "16it [00:01,  9.58it/s]\n",
      "16it [00:01,  9.54it/s]\n",
      "16it [00:01,  9.61it/s]\n",
      "16it [00:01,  9.61it/s]\n",
      "16it [00:01,  9.51it/s]\n",
      "16it [00:01,  9.59it/s]\n",
      "16it [00:01,  9.57it/s]\n",
      "16it [00:01,  9.57it/s]\n",
      "16it [00:01,  9.38it/s]\n",
      "16it [00:01,  9.41it/s]\n"
     ]
    },
    {
     "name": "stdout",
     "output_type": "stream",
     "text": [
      "Several famous songs w | ritten b | race be proceduretwee 10\n",
      "NEW: Tennessee man describes di | ving to the | race Uoldic fire\n",
      "NEW: White truck seen | on Santiago | race plotist0 law\n",
      "At age 6, Elaine | Sonnen | race art Diana take of\n",
      "\"Grey's Anatomy | \" actress | race plotduc expe flight\n",
      "President Bush says Tony Snow | \"will b | lo beam Colombia fou\n",
      "Tip leads police to John Lewi | s at homeless | race be effectroup Turkey\n",
      "Prince Harry describes Princess Diana as | \"the be | race U bo Che\n",
      "Epoch 10 train loss: 0.09902453888207674 match_pct: 0.04179687425494194\n"
     ]
    },
    {
     "name": "stderr",
     "output_type": "stream",
     "text": [
      "16it [00:01,  9.45it/s]\n",
      "16it [00:01,  9.43it/s]\n",
      "16it [00:01,  9.49it/s]\n",
      "16it [00:01,  9.34it/s]\n",
      "16it [00:01,  9.40it/s]\n",
      "16it [00:01,  9.41it/s]\n",
      "16it [00:01,  9.32it/s]\n",
      "16it [00:01,  9.21it/s]\n",
      "16it [00:01,  9.52it/s]\n",
      "16it [00:01,  9.47it/s]\n"
     ]
    },
    {
     "name": "stdout",
     "output_type": "stream",
     "text": [
      "Boy on meeting Spider- | Man: \" | race plot husbandrelat squa\n",
      "Coca-Cola was in | vented in | race plotet Colombiaaid\n",
      "India elects first | female president, official | race plot involve weakenus\n",
      "Authorities uncover a radical Islamic | terror plot against | race plot areby Che\n",
      "At age 6, Elaine | Sonnen | raceers Diana count says\n",
      "Texas voters go to the polls | March 4 . | raceersis nail leaders\n",
      "Saudi Arabia is the UK's  | largest tr | Maners$3 of\n",
      "U.N. says celebrity drug use | enco | race plotetss\n",
      "Epoch 20 train loss: 0.07162598636932671 match_pct: 0.13906249403953552\n"
     ]
    },
    {
     "name": "stderr",
     "output_type": "stream",
     "text": [
      "16it [00:01,  9.42it/s]\n",
      "16it [00:01,  9.39it/s]\n",
      "16it [00:01,  9.26it/s]\n",
      "16it [00:01,  9.29it/s]\n",
      "16it [00:01,  9.17it/s]\n",
      "16it [00:01,  9.34it/s]\n",
      "16it [00:01,  9.36it/s]\n",
      "16it [00:01,  9.22it/s]\n",
      "16it [00:01,  9.20it/s]\n",
      "16it [00:01,  9.34it/s]\n"
     ]
    },
    {
     "name": "stdout",
     "output_type": "stream",
     "text": [
      "The company owns three major cas | ino com | race plot8 Barcld\n",
      "Dalai Lama: \"I have | no desir | raceersetss\n",
      "Judge: Heather Mills \"a  | less than impress | Maners; counts\n",
      "Debate will be last time | top Democrats | raceers; counts\n",
      "NEW: Delta cancel | ations only | race plot chief count Michigan\n",
      "NEW: President Bush says he and | first lady | racelinendan count Ha\n",
      "NEW: Feinstein | , Schumer | race plot 1 count say\n",
      "Four wheels of A380 super | jumbo | race plot mor count ro\n",
      "Epoch 30 train loss: 0.047635375056415796 match_pct: 0.23867185413837433\n"
     ]
    },
    {
     "name": "stderr",
     "output_type": "stream",
     "text": [
      "16it [00:01,  9.19it/s]\n",
      "16it [00:01,  9.33it/s]\n",
      "16it [00:01,  9.32it/s]\n",
      "16it [00:02,  7.91it/s]\n",
      "16it [00:02,  7.86it/s]\n",
      "16it [00:02,  7.89it/s]\n",
      "16it [00:02,  7.89it/s]\n",
      "16it [00:02,  7.95it/s]\n",
      "16it [00:02,  7.90it/s]\n",
      "16it [00:02,  7.96it/s]\n"
     ]
    },
    {
     "name": "stdout",
     "output_type": "stream",
     "text": [
      "Smoking ban in France extended to | bars, | race bombsial Iraq\n",
      "Vick's September 13 drug | test shows | raceerstrongss\n",
      "NEW: FBI: Kevin | Brown accused of | race plot 1 count say\n",
      "Thousands of teens attend Christian  | rallies  | Maners effect count of\n",
      "Polish diplomats | brought po | raceers; counted\n",
      "Nasser al Ansari | is CEO | raceersEss\n",
      "NEW: Tennessee man describes di | ving to the | race Leet Colombia floor\n",
      "Samsung Group chairman | , Lee K | race Le husbandii\n",
      "Epoch 40 train loss: 0.03247778268996626 match_pct: 0.30078125\n"
     ]
    },
    {
     "name": "stderr",
     "output_type": "stream",
     "text": [
      "16it [00:02,  7.99it/s]\n",
      "16it [00:02,  7.82it/s]\n",
      "16it [00:02,  7.90it/s]\n",
      "12it [00:01,  7.81it/s]"
     ]
    }
   ],
   "source": [
    "EPOCHS = 1000\n",
    "DISPLAY_BATCHES = 8\n",
    "\n",
    "for epoch in range(EPOCHS):\n",
    "    # Run over the training examples\n",
    "    train_loss = 0\n",
    "    match_pct = 0\n",
    "    for batch, (sequence, target, prev_target) in tqdm(enumerate(train)):\n",
    "        optimizer.zero_grad()\n",
    "        forced_target = prev_target\n",
    "        # Alternate use of teacher forcing vs feeding back own inputs\n",
    "        if np.random.randint(2) == 0:\n",
    "            forced_target = prev_target[:,0,:].unsqueeze(1)\n",
    "        pred, hidden = model(sequence, forced_target)\n",
    "        loss = loss_fn(pred, target)\n",
    "        loss.backward()\n",
    "        optimizer.step()\n",
    "        train_loss += loss.item()\n",
    "        match_pct += torch.sum(torch.argmax(target, 2) == torch.argmax(pred, 2)) / (Y_CHUNK_LENGTH * BATCH_SIZE)\n",
    "\n",
    "    with torch.no_grad():\n",
    "        if epoch % 10 == 0:\n",
    "            # Show text generated from training prompt as an example\n",
    "            # Don't feed in all of the train y sequences, just the first token\n",
    "            # The other y tokens will be predicted by the model and fed back in\n",
    "            sents = generate(sequence[:DISPLAY_BATCHES], prev_target[:DISPLAY_BATCHES], wrapper)\n",
    "            for sent in sents:\n",
    "                print(sent)\n",
    "            \"\"\"\n",
    "            # Compute validation loss.  Unless you have a lot of training data, the validation loss won't decrease.\n",
    "            valid_loss = 0\n",
    "            for batch, (sequence, target, prev_target) in enumerate(valid):\n",
    "                # Only feed in the first token of the actual target\n",
    "                pred, hidden = model(sequence, prev_target[:,0,:].unsqueeze(1))\n",
    "                loss = loss_fn(pred, target)\n",
    "                valid_loss += loss.item()\n",
    "            print(f\"Epoch {epoch} train loss: {train_loss} valid loss: {valid_loss}\")\n",
    "            \"\"\"\n",
    "            print(f\"Epoch {epoch} train loss: {train_loss} match_pct: {match_pct / len(train)}\")"
   ],
   "metadata": {
    "collapsed": false,
    "pycharm": {
     "is_executing": true
    }
   }
  },
  {
   "cell_type": "code",
   "execution_count": null,
   "outputs": [],
   "source": [],
   "metadata": {
    "collapsed": false
   }
  }
 ],
 "metadata": {
  "kernelspec": {
   "display_name": "Python 3",
   "language": "python",
   "name": "python3"
  },
  "language_info": {
   "codemirror_mode": {
    "name": "ipython",
    "version": 2
   },
   "file_extension": ".py",
   "mimetype": "text/x-python",
   "name": "python",
   "nbconvert_exporter": "python",
   "pygments_lexer": "ipython2",
   "version": "2.7.6"
  }
 },
 "nbformat": 4,
 "nbformat_minor": 0
}
