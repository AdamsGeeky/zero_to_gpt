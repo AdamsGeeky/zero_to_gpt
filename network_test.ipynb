{
 "cells": [
  {
   "cell_type": "code",
   "execution_count": 1,
   "metadata": {
    "collapsed": true
   },
   "outputs": [],
   "source": [
    "from network import Network\n",
    "from conv import Conv\n",
    "from dense import Dense\n",
    "from activation import Relu\n",
    "from metrics import log_loss, log_loss_grad, softmax\n",
    "import math\n",
    "import numpy as np\n",
    "import random"
   ]
  },
  {
   "cell_type": "code",
   "execution_count": 2,
   "outputs": [],
   "source": [
    "random.seed(0)\n",
    "FILE = \"fashion-mnist_train.csv\"\n",
    "with open(f\"cnn/images/{FILE}\") as f:\n",
    "    examples = f.read().strip().split(\"\\n\")[1:]\n",
    "\n",
    "train, valid, test = [], [], []\n",
    "valid_cutoff = .8\n",
    "test_cutoff = .9\n",
    "\n",
    "for example in examples:\n",
    "    label, pixels = example.split(\",\", 1)\n",
    "    label = int(label)\n",
    "    if label > 4:\n",
    "        continue\n",
    "    pixels = [int(p) for p in pixels.split(\",\")]\n",
    "    data = np.asarray(pixels, dtype=\"int32\")\n",
    "    data = data.reshape((1,28,28))\n",
    "    # Scale values from -1 to 1\n",
    "    data = ((data / 255) - .5) / .5\n",
    "    target = np.zeros((1, 5))\n",
    "    target[0,label] = 1\n",
    "    row = (data, target, )\n",
    "\n",
    "    split = random.random()\n",
    "    if split > test_cutoff:\n",
    "        test.append(row)\n",
    "    elif split > valid_cutoff:\n",
    "        valid.append(row)\n",
    "    else:\n",
    "        train.append(row)"
   ],
   "metadata": {
    "collapsed": false
   }
  },
  {
   "cell_type": "code",
   "execution_count": 3,
   "outputs": [],
   "source": [
    "class TestNet(Network):\n",
    "    def __init__(self):\n",
    "        self.conv1 = Conv(input_channels=1, output_channels=1, kernel_x=3, kernel_y=3)\n",
    "        self.conv2 = Conv(input_channels=3, output_channels=1, kernel_x=3, kernel_y=3)\n",
    "        self.dense = Dense(input_size=26 ** 2, output_size=5)\n",
    "        self.relu = Relu()\n",
    "        self.last_input = None\n",
    "\n",
    "        super().__init__()\n",
    "\n",
    "    def forward(self, x):\n",
    "        self.last_input = x.copy()\n",
    "        x = self.conv1.forward(x)\n",
    "        x = self.relu.forward(x)\n",
    "        #x = self.conv2.forward(x)\n",
    "        x = x.reshape(1, math.prod(x.shape))\n",
    "        x = self.dense.forward(x)\n",
    "        return x\n",
    "\n",
    "    def backward(self, grad, lr):\n",
    "        prev_hidden = self.conv1.hidden.copy().reshape(1, math.prod(self.conv1.hidden.shape))\n",
    "        grad = self.dense.backward(grad, lr, prev_hidden)\n",
    "        grad = grad.reshape(self.conv1.hidden.shape)\n",
    "        grad = self.relu.backward(grad, lr)\n",
    "        #grad = self.conv2.backward(grad, lr)\n",
    "        grad = self.conv1.backward(grad, lr, self.last_input)"
   ],
   "metadata": {
    "collapsed": false
   }
  },
  {
   "cell_type": "code",
   "execution_count": 5,
   "outputs": [
    {
     "name": "stdout",
     "output_type": "stream",
     "text": [
      "Epoch 0 loss: 0.6002991842880065\n",
      "Epoch 0 valid accuracy: 0.8156312625250501\n",
      "Epoch 1 loss: 0.5126062929364192\n",
      "Epoch 1 valid accuracy: 0.8326653306613226\n",
      "Epoch 2 loss: 0.4987298621915705\n",
      "Epoch 2 valid accuracy: 0.8383433533734135\n",
      "Epoch 3 loss: 0.49129139505268804\n",
      "Epoch 3 valid accuracy: 0.844689378757515\n",
      "Epoch 4 loss: 0.48577001326740304\n",
      "Epoch 4 valid accuracy: 0.8490313961255845\n",
      "Epoch 5 loss: 0.4808721834301965\n",
      "Epoch 5 valid accuracy: 0.8510354041416166\n",
      "Epoch 6 loss: 0.47617989685355\n",
      "Epoch 6 valid accuracy: 0.85437541750167\n",
      "Epoch 7 loss: 0.4715504889534388\n",
      "Epoch 7 valid accuracy: 0.8563794255177021\n",
      "Epoch 8 loss: 0.4669031977313645\n",
      "Epoch 8 valid accuracy: 0.8570474281897128\n",
      "Epoch 9 loss: 0.46221382787541765\n",
      "Epoch 9 valid accuracy: 0.8577154308617234\n",
      "Epoch 10 loss: 0.4574739006979759\n",
      "Epoch 10 valid accuracy: 0.857381429525718\n",
      "Epoch 11 loss: 0.45268621320560287\n",
      "Epoch 11 valid accuracy: 0.8580494321977288\n",
      "Epoch 12 loss: 0.4478865637696985\n",
      "Epoch 12 valid accuracy: 0.8600534402137608\n",
      "Epoch 13 loss: 0.44306264997666456\n",
      "Epoch 13 valid accuracy: 0.8607214428857716\n",
      "Epoch 14 loss: 0.43820377233002117\n",
      "Epoch 14 valid accuracy: 0.8623914495657983\n",
      "Epoch 15 loss: 0.4333211290901783\n",
      "Epoch 15 valid accuracy: 0.8637274549098196\n",
      "Epoch 16 loss: 0.4284517564060401\n",
      "Epoch 16 valid accuracy: 0.8663994655978624\n",
      "Epoch 17 loss: 0.42361368344691747\n",
      "Epoch 17 valid accuracy: 0.8690714762859052\n",
      "Epoch 18 loss: 0.4188090394333928\n",
      "Epoch 18 valid accuracy: 0.8704074816299265\n",
      "Epoch 19 loss: 0.41405367351709976\n",
      "Epoch 19 valid accuracy: 0.8714094856379425\n"
     ]
    }
   ],
   "source": [
    "net = TestNet()\n",
    "lr = 5e-4\n",
    "epochs = 20\n",
    "\n",
    "for epoch in range(epochs):\n",
    "    epoch_loss = 0\n",
    "    for i, img in enumerate(train):\n",
    "        image, target = img\n",
    "        batch = net.forward(image)\n",
    "\n",
    "        grad = log_loss_grad(softmax(batch), target)\n",
    "        epoch_loss += log_loss(softmax(batch), target)\n",
    "        net.backward(grad, lr)\n",
    "\n",
    "    print(f\"Epoch {epoch} loss: {epoch_loss / len(train)}\")\n",
    "    match = np.zeros(len(valid))\n",
    "    for i, img in enumerate(valid):\n",
    "        image, target = img\n",
    "        valid_pred = net.forward(image)\n",
    "        match[i] = np.argmax(valid_pred) == np.argmax(target)\n",
    "\n",
    "    print(f\"Epoch {epoch} valid accuracy: {match.sum() / match.shape[0]}\")"
   ],
   "metadata": {
    "collapsed": false
   }
  },
  {
   "cell_type": "code",
   "execution_count": null,
   "outputs": [],
   "source": [],
   "metadata": {
    "collapsed": false
   }
  }
 ],
 "metadata": {
  "kernelspec": {
   "display_name": "Python 3",
   "language": "python",
   "name": "python3"
  },
  "language_info": {
   "codemirror_mode": {
    "name": "ipython",
    "version": 2
   },
   "file_extension": ".py",
   "mimetype": "text/x-python",
   "name": "python",
   "nbconvert_exporter": "python",
   "pygments_lexer": "ipython2",
   "version": "2.7.6"
  }
 },
 "nbformat": 4,
 "nbformat_minor": 0
}
