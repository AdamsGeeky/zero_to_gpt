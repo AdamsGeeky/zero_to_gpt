{
 "cells": [
  {
   "cell_type": "code",
   "execution_count": 19,
   "metadata": {
    "collapsed": true
   },
   "outputs": [
    {
     "name": "stderr",
     "output_type": "stream",
     "text": [
      "Found cached dataset cnn_dailymail (/Users/vik/.cache/huggingface/datasets/cnn_dailymail/3.0.0/3.0.0/1b3c71476f6d152c31c1730e83ccb08bcf23e348233f4fcc11e182248e6bf7de)\n",
      "100%|██████████| 3/3 [00:00<00:00, 168.79it/s]\n"
     ]
    }
   ],
   "source": [
    "#!pip install torch torchtext datasets sentencepiece numpy\n",
    "from datasets import load_dataset\n",
    "\n",
    "TRAIN_LENGTH = 1000\n",
    "VALID_LENGTH = 250\n",
    "SP_VOCAB_SIZE = 1000\n",
    "STOP_TOKEN = SP_VOCAB_SIZE + 1\n",
    "START_TOKEN = SP_VOCAB_SIZE + 2\n",
    "VOCAB_SIZE = SP_VOCAB_SIZE + 3\n",
    "\n",
    "CHUNK_LENGTH = 12\n",
    "\n",
    "# Load from Huggingface datasets module\n",
    "data = load_dataset(\"cnn_dailymail\", \"3.0.0\")\n",
    "train = data[\"train\"][\"highlights\"][:TRAIN_LENGTH]\n",
    "valid = data[\"validation\"][\"highlights\"][:VALID_LENGTH]"
   ]
  },
  {
   "cell_type": "code",
   "execution_count": 73,
   "outputs": [
    {
     "name": "stderr",
     "output_type": "stream",
     "text": [
      "sentencepiece_trainer.cc(177) LOG(INFO) Running command: --input=tokens.txt --model_prefix=cnn --vocab_size=1000 --model_type=unigram\n",
      "sentencepiece_trainer.cc(77) LOG(INFO) Starts training with : \n",
      "trainer_spec {\n",
      "  input: tokens.txt\n",
      "  input_format: \n",
      "  model_prefix: cnn\n",
      "  model_type: UNIGRAM\n",
      "  vocab_size: 1000\n",
      "  self_test_sample_size: 0\n",
      "  character_coverage: 0.9995\n",
      "  input_sentence_size: 0\n",
      "  shuffle_input_sentence: 1\n",
      "  seed_sentencepiece_size: 1000000\n",
      "  shrinking_factor: 0.75\n",
      "  max_sentence_length: 4192\n",
      "  num_threads: 16\n",
      "  num_sub_iterations: 2\n",
      "  max_sentencepiece_length: 16\n",
      "  split_by_unicode_script: 1\n",
      "  split_by_number: 1\n",
      "  split_by_whitespace: 1\n",
      "  split_digits: 0\n",
      "  treat_whitespace_as_suffix: 0\n",
      "  required_chars: \n",
      "  byte_fallback: 0\n",
      "  vocabulary_output_piece_score: 1\n",
      "  train_extremely_large_corpus: 0\n",
      "  hard_vocab_limit: 1\n",
      "  use_all_vocab: 0\n",
      "  unk_id: 0\n",
      "  bos_id: 1\n",
      "  eos_id: 2\n",
      "  pad_id: -1\n",
      "  unk_piece: <unk>\n",
      "  bos_piece: <s>\n",
      "  eos_piece: </s>\n",
      "  pad_piece: <pad>\n",
      "  unk_surface:  ⁇ \n",
      "}\n",
      "normalizer_spec {\n",
      "  name: nmt_nfkc\n",
      "  add_dummy_prefix: 1\n",
      "  remove_extra_whitespaces: 1\n",
      "  escape_whitespaces: 1\n",
      "  normalization_rule_tsv: \n",
      "}\n",
      "denormalizer_spec {}\n",
      "trainer_interface.cc(319) LOG(INFO) SentenceIterator is not specified. Using MultiFileSentenceIterator.\n",
      "trainer_interface.cc(174) LOG(INFO) Loading corpus: tokens.txt\n",
      "trainer_interface.cc(375) LOG(INFO) Loaded all 4250 sentences\n",
      "trainer_interface.cc(390) LOG(INFO) Adding meta_piece: <unk>\n",
      "trainer_interface.cc(390) LOG(INFO) Adding meta_piece: <s>\n",
      "trainer_interface.cc(390) LOG(INFO) Adding meta_piece: </s>\n",
      "trainer_interface.cc(395) LOG(INFO) Normalizing sentences...\n",
      "trainer_interface.cc(456) LOG(INFO) all chars count=302678\n",
      "trainer_interface.cc(467) LOG(INFO) Done: 99.9633% characters are covered.\n",
      "trainer_interface.cc(477) LOG(INFO) Alphabet size=69\n",
      "trainer_interface.cc(478) LOG(INFO) Final character coverage=0.999633\n",
      "trainer_interface.cc(510) LOG(INFO) Done! preprocessed 4250 sentences.\n",
      "unigram_model_trainer.cc(138) LOG(INFO) Making suffix array...\n",
      "unigram_model_trainer.cc(142) LOG(INFO) Extracting frequent sub strings...\n",
      "unigram_model_trainer.cc(193) LOG(INFO) Initialized 22083 seed sentencepieces\n",
      "trainer_interface.cc(516) LOG(INFO) Tokenizing input sentences with whitespace: 4250\n",
      "trainer_interface.cc(526) LOG(INFO) Done! 12620\n",
      "unigram_model_trainer.cc(488) LOG(INFO) Using 12620 sentences for EM training\n",
      "unigram_model_trainer.cc(504) LOG(INFO) EM sub_iter=0 size=9062 obj=12.4133 num_tokens=26270 num_tokens/piece=2.89892\n",
      "unigram_model_trainer.cc(504) LOG(INFO) EM sub_iter=1 size=7860 obj=10.648 num_tokens=26545 num_tokens/piece=3.37723\n",
      "unigram_model_trainer.cc(504) LOG(INFO) EM sub_iter=0 size=5891 obj=10.6833 num_tokens=28279 num_tokens/piece=4.80037\n",
      "unigram_model_trainer.cc(504) LOG(INFO) EM sub_iter=1 size=5888 obj=10.6084 num_tokens=28306 num_tokens/piece=4.8074\n",
      "unigram_model_trainer.cc(504) LOG(INFO) EM sub_iter=0 size=4416 obj=10.9049 num_tokens=31138 num_tokens/piece=7.05118\n",
      "unigram_model_trainer.cc(504) LOG(INFO) EM sub_iter=1 size=4415 obj=10.81 num_tokens=31146 num_tokens/piece=7.05459\n",
      "unigram_model_trainer.cc(504) LOG(INFO) EM sub_iter=0 size=3311 obj=11.2223 num_tokens=34469 num_tokens/piece=10.4105\n",
      "unigram_model_trainer.cc(504) LOG(INFO) EM sub_iter=1 size=3311 obj=11.1141 num_tokens=34466 num_tokens/piece=10.4095\n",
      "unigram_model_trainer.cc(504) LOG(INFO) EM sub_iter=0 size=2483 obj=11.6174 num_tokens=37984 num_tokens/piece=15.2976\n",
      "unigram_model_trainer.cc(504) LOG(INFO) EM sub_iter=1 size=2483 obj=11.5044 num_tokens=37982 num_tokens/piece=15.2968\n",
      "unigram_model_trainer.cc(504) LOG(INFO) EM sub_iter=0 size=1862 obj=12.0701 num_tokens=41434 num_tokens/piece=22.2524\n",
      "unigram_model_trainer.cc(504) LOG(INFO) EM sub_iter=1 size=1862 obj=11.9559 num_tokens=41443 num_tokens/piece=22.2573\n",
      "unigram_model_trainer.cc(504) LOG(INFO) EM sub_iter=0 size=1396 obj=12.5697 num_tokens=44726 num_tokens/piece=32.0387\n",
      "unigram_model_trainer.cc(504) LOG(INFO) EM sub_iter=1 size=1396 obj=12.4542 num_tokens=44718 num_tokens/piece=32.033\n",
      "unigram_model_trainer.cc(504) LOG(INFO) EM sub_iter=0 size=1100 obj=12.9788 num_tokens=47311 num_tokens/piece=43.01\n",
      "unigram_model_trainer.cc(504) LOG(INFO) EM sub_iter=1 size=1100 obj=12.878 num_tokens=47299 num_tokens/piece=42.9991\n",
      "trainer_interface.cc(604) LOG(INFO) Saving model: cnn.model\n",
      "trainer_interface.cc(615) LOG(INFO) Saving vocabs: cnn.vocab\n"
     ]
    }
   ],
   "source": [
    "from torchtext.data.functional import generate_sp_model\n",
    "with open(\"tokens.txt\", \"w+\") as f:\n",
    "    f.write(\"\\n\".join(train) + \"\\n\".join(valid))\n",
    "\n",
    "generate_sp_model(\"tokens.txt\", vocab_size=SP_VOCAB_SIZE, model_prefix=\"cnn\")"
   ],
   "metadata": {
    "collapsed": false
   }
  },
  {
   "cell_type": "code",
   "execution_count": 20,
   "outputs": [],
   "source": [
    "import sentencepiece as spm\n",
    "import numpy as np\n",
    "from torchtext.data.functional import load_sp_model, sentencepiece_numericalizer\n",
    "import torch\n",
    "\n",
    "DEVICE = torch.device(\"cuda\" if torch.cuda.is_available() else \"cpu\")\n",
    "\n",
    "sp_base = spm.SentencePieceProcessor(model_file=\"cnn.model\")\n",
    "sp_model = load_sp_model(\"cnn.model\")\n",
    "encoding_generator = sentencepiece_numericalizer(sp_model)\n",
    "\n",
    "def chunk_text(texts):\n",
    "    return [(t[:CHUNK_LENGTH], t[CHUNK_LENGTH:(2 * CHUNK_LENGTH)]) for t in texts if (CHUNK_LENGTH * 2) < len(t)]\n",
    "\n",
    "def decode_ids(ids):\n",
    "    if isinstance(ids, torch.Tensor):\n",
    "        ids = [int(i) for i in list(ids.numpy()) if int(i) not in [START_TOKEN, STOP_TOKEN]]\n",
    "    return sp_base.decode(ids)\n",
    "\n",
    "def decode_batch(id_tensor):\n",
    "    decoded = []\n",
    "    for i in range(id_tensor.shape[0]):\n",
    "        decoded.append(decode_ids(id_tensor[i,:]))\n",
    "    return decoded\n",
    "\n",
    "def encode(tokens):\n",
    "    mat = np.zeros((len(tokens), VOCAB_SIZE))\n",
    "    for i in range(len(tokens)):\n",
    "        mat[i,tokens[i]] = 1\n",
    "    return mat\n",
    "\n",
    "train_ids = list(encoding_generator(train))\n",
    "valid_ids = list(encoding_generator(valid))\n",
    "train_ids = chunk_text(train_ids)\n",
    "valid_ids = chunk_text(valid_ids)"
   ],
   "metadata": {
    "collapsed": false
   }
  },
  {
   "cell_type": "code",
   "execution_count": 21,
   "outputs": [],
   "source": [
    "from torch.utils.data import Dataset\n",
    "from torch.utils.data import DataLoader\n",
    "from torch import nn\n",
    "import math\n",
    "import functorch\n",
    "\n",
    "class CNNDataset(Dataset):\n",
    "    def __init__(self, data):\n",
    "        self.dataset = data\n",
    "\n",
    "    def __len__(self):\n",
    "        return len(self.dataset)\n",
    "\n",
    "    def __getitem__(self, idx):\n",
    "        x = torch.tensor(self.dataset[idx][0]).int()\n",
    "        y_list = [START_TOKEN] + self.dataset[idx][1] + [STOP_TOKEN]\n",
    "        y = torch.tensor(encode(y_list)).float()\n",
    "        return x.to(DEVICE), y.to(DEVICE)"
   ],
   "metadata": {
    "collapsed": false
   }
  },
  {
   "cell_type": "code",
   "execution_count": 22,
   "outputs": [],
   "source": [
    "BATCH_SIZE = 16\n",
    "\n",
    "train_dataset = CNNDataset(train_ids)\n",
    "valid_dataset = CNNDataset(valid_ids)\n",
    "\n",
    "train = DataLoader(train_dataset, batch_size=BATCH_SIZE, shuffle=False)\n",
    "valid = DataLoader(valid_dataset, batch_size=BATCH_SIZE, shuffle=False)"
   ],
   "metadata": {
    "collapsed": false
   }
  },
  {
   "cell_type": "code",
   "execution_count": 23,
   "outputs": [],
   "source": [
    "class Encoder(nn.Module):\n",
    "    def __init__(self, input_units, hidden_units, output_units):\n",
    "        super(Encoder, self).__init__()\n",
    "        self.input_units = input_units\n",
    "        self.hidden_units = hidden_units\n",
    "\n",
    "        k = 1/math.sqrt(hidden_units)\n",
    "        self.input_weight = nn.Parameter(torch.rand(input_units, hidden_units) * 2 * k - k)\n",
    "\n",
    "        self.hidden_weight = nn.Parameter(torch.rand(hidden_units, hidden_units) * 2 * k - k)\n",
    "        self.hidden_bias = nn.Parameter(torch.rand(1, hidden_units) * 2 * k - k)\n",
    "\n",
    "        self.output_weight = nn.Parameter(torch.rand(hidden_units, output_units) * 2 * k - k)\n",
    "        self.output_bias = nn.Parameter(torch.rand(1, output_units) * 2 * k - k)\n",
    "\n",
    "    def forward(self, x, prev_hidden):\n",
    "        # Compute the regular RNN forward pass\n",
    "        # Input times weights\n",
    "        input_x = x @ self.input_weight\n",
    "        # Sum input with previous hidden state, and add nonlinearity\n",
    "        # Tanh prevents gradients exploding\n",
    "        hidden_x = torch.tanh(input_x + prev_hidden @ self.hidden_weight + self.hidden_bias)\n",
    "        # Compute output vector\n",
    "        output_y = hidden_x @ self.output_weight + self.output_bias\n",
    "        return hidden_x, output_y"
   ],
   "metadata": {
    "collapsed": false
   }
  },
  {
   "cell_type": "code",
   "execution_count": 74,
   "outputs": [],
   "source": [
    "class Decoder(nn.Module):\n",
    "    def __init__(self, input_units, hidden_units, output_units=VOCAB_SIZE):\n",
    "        super(Decoder, self).__init__()\n",
    "        self.input_units = input_units\n",
    "        self.hidden_units = hidden_units\n",
    "        self.output_units = output_units\n",
    "\n",
    "        k = 1/math.sqrt(hidden_units)\n",
    "        self.hidden_attention_weight = nn.Parameter(torch.rand(hidden_units, hidden_units) * 2 * k - k)\n",
    "        self.context_attention_weight = nn.Parameter(torch.rand(input_units, hidden_units) * 2 * k - k)\n",
    "        self.attention_weight = nn.Parameter(torch.rand(1, hidden_units) * 2 * k - k)\n",
    "\n",
    "        self.context_hidden_weight = nn.Parameter(torch.rand(input_units + output_units, hidden_units) * 2 * k - k)\n",
    "        self.hidden_weight = nn.Parameter(torch.rand(hidden_units, hidden_units) * 2 * k - k)\n",
    "        self.hidden_bias = nn.Parameter(torch.rand(1, hidden_units) * 2 * k - k)\n",
    "\n",
    "        self.output_weight = nn.Parameter(torch.rand(hidden_units, output_units) * 2 * k - k)\n",
    "        self.output_bias = nn.Parameter(torch.rand(1, output_units) * 2 * k - k)\n",
    "\n",
    "        self.batched_diag = functorch.vmap(torch.diag)\n",
    "\n",
    "    def forward(self, prev_y, prev_hidden, context):\n",
    "        # Compute attention between the encoder hidden states and the previous decoder hidden state\n",
    "        # Loop over batches\n",
    "        # Swap batch and sequence\n",
    "        batch_size = context.shape[1]\n",
    "        sequence_len = context.shape[0]\n",
    "\n",
    "        # Swap axes so the first dimension of context_attn is batch\n",
    "        context_attn = torch.bmm(context.swapaxes(0,1), self.context_attention_weight.unsqueeze(0).expand(batch_size,-1,-1))\n",
    "        # Swap back since prev_hidden is by batch.  This makes the first dim of cross sequence\n",
    "        cross = torch.tanh(context_attn.swapaxes(0,1) + prev_hidden @ self.hidden_attention_weight)\n",
    "        # This will be of dimension batch, sequence_length, 1\n",
    "        attention = torch.bmm(cross.swapaxes(0,1), self.attention_weight.T.unsqueeze(0).expand(batch_size, -1, -1))\n",
    "        # Drop the last singleton dimension\n",
    "        attention = attention.squeeze(2)\n",
    "        # Softmax the predictions\n",
    "        probs = torch.softmax(attention, 0)\n",
    "        diagonalized_probs = self.batched_diag(probs)\n",
    "        positional_contexts = torch.sum(torch.bmm(diagonalized_probs, context.swapaxes(0,1)), dim=1).reshape(batch_size, self.input_units)\n",
    "\n",
    "        # Compute a regular rnn.  Cat the context vector and the previous y state.\n",
    "        input_x = torch.cat([positional_contexts, prev_y], dim=1) @ self.context_hidden_weight\n",
    "        hidden_x = torch.tanh(input_x + prev_hidden @ self.hidden_weight + self.hidden_bias)\n",
    "\n",
    "        output_y = hidden_x @ self.output_weight + self.output_bias\n",
    "        return hidden_x, output_y"
   ],
   "metadata": {
    "collapsed": false
   }
  },
  {
   "cell_type": "code",
   "execution_count": 75,
   "outputs": [],
   "source": [
    "class Network(nn.Module):\n",
    "    def __init__(self, in_sequence_len, out_sequence_len, hidden_units=512, embedding_len=VOCAB_SIZE):\n",
    "        super(Network, self).__init__()\n",
    "        self.in_sequence_len = in_sequence_len\n",
    "        self.out_sequence_len = out_sequence_len\n",
    "        self.hidden_units = hidden_units\n",
    "        self.embedding_len = embedding_len\n",
    "\n",
    "        self.enc_embedding = nn.Embedding(embedding_len, hidden_units)\n",
    "        self.encoder = Encoder(input_units=hidden_units, hidden_units=hidden_units, output_units=embedding_len)\n",
    "\n",
    "        self.dec_embedding= nn.Embedding(embedding_len, hidden_units)\n",
    "        self.decoder = Decoder(input_units=hidden_units, hidden_units=hidden_units, output_units=embedding_len)\n",
    "\n",
    "    def forward(self, x, y):\n",
    "        batch_size = x.shape[0]\n",
    "        # Move batch to the second dimension, so sequence comes first\n",
    "        y = y.swapaxes(0,1)\n",
    "        # Embed the input sequence to reduce dimensionality\n",
    "        embedded = self.enc_embedding(x).swapaxes(0,1)\n",
    "\n",
    "        # Encode the input sequence\n",
    "        # Both tensors will have sequence then batch\n",
    "        enc_hiddens = torch.zeros((1, batch_size, self.hidden_units), device=DEVICE)\n",
    "        enc_outputs = torch.zeros((1, batch_size, self.embedding_len), device=DEVICE)\n",
    "        for j in range(self.in_sequence_len):\n",
    "            hidden, output = self.encoder(embedded[j,:,:], enc_hiddens[j,:,:])\n",
    "            # Add first sequence axis\n",
    "            hidden = hidden.unsqueeze(0)\n",
    "            output = output.unsqueeze(0)\n",
    "            enc_hiddens = torch.cat((enc_hiddens, hidden), dim=0)\n",
    "            enc_outputs = torch.cat((enc_outputs, output), dim=0)\n",
    "\n",
    "        # Decode to the output sequence\n",
    "        # Pass in context\n",
    "        context = enc_hiddens[1:,:,:]\n",
    "        # Both tensors will have the first dimension be the sequence\n",
    "        dec_hiddens = torch.zeros(1, batch_size, self.hidden_units, device=DEVICE)\n",
    "        dec_outputs = torch.zeros((1, batch_size, self.embedding_len), device=DEVICE)\n",
    "        for j in range(self.out_sequence_len):\n",
    "            # Use either the actual previous y (from the input), or the generated y if the input sequence is shorter than the generation steps.\n",
    "            prev_y = y[j,:,:] if y.shape[0] > j else torch.softmax(dec_outputs[j,:,:], dim=1)\n",
    "            hidden, output = self.decoder(prev_y, dec_hiddens[j,:,:], context)\n",
    "            # Add first sequence axis\n",
    "            hidden = hidden.unsqueeze(0)\n",
    "            output= output.unsqueeze(0)\n",
    "            dec_hiddens = torch.cat((dec_hiddens, hidden), dim=0)\n",
    "            dec_outputs = torch.cat((dec_outputs, output), dim=0)\n",
    "\n",
    "        # Move batch back to axis 0\n",
    "        out_hiddens = dec_hiddens[1:].swapaxes(0,1)\n",
    "        out_output = dec_outputs[1:].swapaxes(0,1)\n",
    "        return out_hiddens, out_output\n",
    "\n",
    "def generate(sequence, target):\n",
    "    _, pred = model(sequence, target[:,0,:].unsqueeze(1))\n",
    "    prompts = decode_batch(sequence.cpu())\n",
    "    texts = decode_batch(torch.argmax(pred, dim=2).cpu())\n",
    "    correct_texts = decode_batch(torch.argmax(target, dim=2).cpu())\n",
    "\n",
    "    displays = []\n",
    "    for p, t, ct in zip(prompts, texts, correct_texts):\n",
    "        displays.append(f\"{p} | {ct} | {t}\")\n",
    "    return displays"
   ],
   "metadata": {
    "collapsed": false
   }
  },
  {
   "cell_type": "code",
   "execution_count": 84,
   "outputs": [],
   "source": [
    "from tqdm.auto import tqdm\n",
    "\n",
    "model = Network(CHUNK_LENGTH, CHUNK_LENGTH + 2, hidden_units=512).to(DEVICE)\n",
    "loss_fn = nn.CrossEntropyLoss()\n",
    "optimizer = torch.optim.SGD(model.parameters(), lr=1e-3)"
   ],
   "metadata": {
    "collapsed": false
   }
  },
  {
   "cell_type": "code",
   "execution_count": 85,
   "outputs": [
    {
     "name": "stderr",
     "output_type": "stream",
     "text": [
      "63it [00:07,  8.78it/s]\n"
     ]
    },
    {
     "name": "stdout",
     "output_type": "stream",
     "text": [
      "NEW: Georgian president criticizes Gorb | achev for \"vindicating lies and de | NN\n",
      "19 schoolgirls and two adult | s die in primary school dorm | this\n",
      "U.S. intelligence points to | Pakistan agents involved in attack on Indian | housand\n",
      "Mother of murdered schoolboy Damil | ola Taylor dies of suspected heart attack | N but\n",
      "NEW: Pope Benedict  |  ⁇ VI arrives in Washington for six | arrestNN\n",
      "Eight Florida teens to be tried as ad | ults in videotaped beating case . | N\n",
      "Judge on Heather Mills: Level | of premarital wealth \"ex | ber\n",
      "President Harding's illegiti | mate daughter was conceived on couch | Videoment\n",
      "Epoch 0 train loss: 34.58626528930664 valid loss: 32.74604717698921\n"
     ]
    },
    {
     "name": "stderr",
     "output_type": "stream",
     "text": [
      "63it [00:07,  8.72it/s]\n",
      "63it [00:07,  8.86it/s]\n",
      "63it [00:07,  8.96it/s]\n",
      "63it [00:07,  8.27it/s]\n",
      "63it [00:08,  7.44it/s]\n",
      "63it [00:08,  7.30it/s]\n",
      "63it [00:08,  7.43it/s]\n",
      "63it [00:08,  7.38it/s]\n",
      "63it [00:06,  9.24it/s]\n",
      "63it [00:07,  8.90it/s]\n"
     ]
    },
    {
     "name": "stdout",
     "output_type": "stream",
     "text": [
      "NEW: Georgian president criticizes Gorb | achev for \"vindicating lies and de | ee wee..\n",
      "19 schoolgirls and two adult | s die in primary school dorm | sss,veve..\n",
      "U.S. intelligence points to | Pakistan agents involved in attack on Indian | pelandpe...\n",
      "Mother of murdered schoolboy Damil | ola Taylor dies of suspected heart attack | ee w,ve..\n",
      "NEW: Pope Benedict  |  ⁇ VI arrives in Washington for six | eeeeeee..\n",
      "Eight Florida teens to be tried as ad | ults in videotaped beating case . | sss,...\n",
      "Judge on Heather Mills: Level | of premarital wealth \"ex | ses,ve..\n",
      "President Harding's illegiti | mate daughter was conceived on couch | eeeeee..\n",
      "Epoch 10 train loss: 29.416936416625976 valid loss: 31.758330073222577\n"
     ]
    },
    {
     "name": "stderr",
     "output_type": "stream",
     "text": [
      "63it [00:07,  8.82it/s]\n",
      "63it [00:07,  8.90it/s]\n",
      "63it [00:07,  8.97it/s]\n",
      "63it [00:07,  8.91it/s]\n",
      "63it [00:08,  7.85it/s]\n",
      "63it [00:07,  7.93it/s]\n",
      "63it [00:07,  8.05it/s]\n",
      "63it [00:07,  8.04it/s]\n",
      "63it [00:06,  9.08it/s]\n",
      "63it [00:06,  9.38it/s]\n"
     ]
    },
    {
     "name": "stdout",
     "output_type": "stream",
     "text": [
      "NEW: Georgian president criticizes Gorb | achev for \"vindicating lies and de | edededed wheed.eded.\n",
      "19 schoolgirls and two adult | s die in primary school dorm | pededpededed...\n",
      "U.S. intelligence points to | Pakistan agents involved in attack on Indian | pededpedededed.ed.\n",
      "Mother of murdered schoolboy Damil | ola Taylor dies of suspected heart attack | p,,,,, . . . .\n",
      "NEW: Pope Benedict  |  ⁇ VI arrives in Washington for six | pppppeded,eded..p\n",
      "Eight Florida teens to be tried as ad | ults in videotaped beating case . | peded, whe whe whe...\n",
      "Judge on Heather Mills: Level | of premarital wealth \"ex | \n",
      "President Harding's illegiti | mate daughter was conceived on couch | pededpededed...\n",
      "Epoch 20 train loss: 26.57988133239746 valid loss: 32.04496881569246\n"
     ]
    },
    {
     "name": "stderr",
     "output_type": "stream",
     "text": [
      "63it [00:06,  9.38it/s]\n",
      "63it [00:06,  9.36it/s]\n",
      "63it [00:06,  9.70it/s]\n",
      "63it [00:06, 10.42it/s]\n",
      "63it [00:06, 10.35it/s]\n",
      "63it [00:06, 10.31it/s]\n",
      "63it [00:06,  9.44it/s]\n",
      "63it [00:06,  9.41it/s]\n",
      "63it [00:06,  9.05it/s]\n",
      "63it [00:06,  9.19it/s]\n"
     ]
    },
    {
     "name": "stdout",
     "output_type": "stream",
     "text": [
      "NEW: Georgian president criticizes Gorb | achev for \"vindicating lies and de | edededededededed .ed\n",
      "19 schoolgirls and two adult | s die in primary school dorm | pededpededededp .\n",
      "U.S. intelligence points to | Pakistan agents involved in attack on Indian | pedededededpededp\n",
      "Mother of murdered schoolboy Damil | ola Taylor dies of suspected heart attack | ped,p ., ., .\n",
      "NEW: Pope Benedict  |  ⁇ VI arrives in Washington for six | ppppppppp .p .\n",
      "Eight Florida teens to be tried as ad | ults in videotaped beating case . | pededpededpedp\n",
      "Judge on Heather Mills: Level | of premarital wealth \"ex | ppppped whe . . .\n",
      "President Harding's illegiti | mate daughter was conceived on couch | ppppppp familyp . .\n",
      "Epoch 30 train loss: 24.3319150390625 valid loss: 33.61793659011044\n"
     ]
    },
    {
     "name": "stderr",
     "output_type": "stream",
     "text": [
      "63it [00:06,  9.23it/s]\n",
      "63it [00:07,  8.91it/s]\n",
      "63it [00:06,  9.18it/s]\n",
      "63it [00:06,  9.28it/s]\n",
      "63it [00:06,  9.85it/s]\n",
      "63it [00:06,  9.25it/s]\n",
      "63it [00:06,  9.22it/s]\n",
      "63it [00:06,  9.03it/s]\n",
      "63it [00:06,  9.08it/s]\n",
      "63it [00:06,  9.66it/s]\n"
     ]
    },
    {
     "name": "stdout",
     "output_type": "stream",
     "text": [
      "NEW: Georgian president criticizes Gorb | achev for \"vindicating lies and de | eded canedaeded .ededed\n",
      "19 schoolgirls and two adult | s die in primary school dorm | oo Re cancoo . .ed\n",
      "U.S. intelligence points to | Pakistan agents involved in attack on Indian | aeddededaedadingers\n",
      "Mother of murdered schoolboy Damil | ola Taylor dies of suspected heart attack | eded can can whe.......\n",
      "NEW: Pope Benedict  |  ⁇ VI arrives in Washington for six | pesppesp . grp ..p .\n",
      "Eight Florida teens to be tried as ad | ults in videotaped beating case . | ooingooc .d .oo .\n",
      "Judge on Heather Mills: Level | of premarital wealth \"ex | pppespedingN gr.p.\n",
      "President Harding's illegiti | mate daughter was conceived on couch | pesuringurp .eda .enta .\n",
      "Epoch 40 train loss: 19.962732162475586 valid loss: 35.22943299075207\n"
     ]
    },
    {
     "name": "stderr",
     "output_type": "stream",
     "text": [
      "63it [00:06,  9.30it/s]\n",
      "63it [00:07,  8.16it/s]\n",
      "63it [00:07,  7.99it/s]\n",
      "63it [00:07,  7.97it/s]\n",
      "63it [00:07,  7.97it/s]\n",
      "63it [00:07,  8.42it/s]\n",
      "63it [00:06,  9.90it/s]\n",
      "63it [00:06,  9.43it/s]\n",
      "63it [00:07,  8.57it/s]\n",
      "63it [00:08,  7.85it/s]\n"
     ]
    },
    {
     "name": "stdout",
     "output_type": "stream",
     "text": [
      "NEW: Georgian president criticizes Gorb | achev for \"vindicating lies and de | toers canedednededed to . Cop\n",
      "19 schoolgirls and two adult | s die in primary school dorm | edoo in in can whe just grwayo\n",
      "U.S. intelligence points to | Pakistan agents involved in attack on Indian | ppy canedpededed in . noted\n",
      "Mother of murdered schoolboy Damil | ola Taylor dies of suspected heart attack | dersz childrenc a gr ...o\n",
      "NEW: Pope Benedict  |  ⁇ VI arrives in Washington for six | eresperererererpdz canrow\n",
      "Eight Florida teens to be tried as ad | ults in videotaped beating case . | ooocceocd . Anop\n",
      "Judge on Heather Mills: Level | of premarital wealth \"ex | of pre sppop s a..pp\n",
      "President Harding's illegiti | mate daughter was conceived on couch | partesurppererpc . .ing\n",
      "Epoch 50 train loss: 15.244463073730468 valid loss: 37.87263090447728\n"
     ]
    },
    {
     "name": "stderr",
     "output_type": "stream",
     "text": [
      "63it [00:07,  7.97it/s]\n",
      "63it [00:08,  7.85it/s]\n",
      "63it [00:07,  7.95it/s]\n",
      "63it [00:08,  7.87it/s]\n",
      "63it [00:08,  7.87it/s]\n",
      "63it [00:07,  7.94it/s]\n",
      "63it [00:08,  7.77it/s]\n",
      "63it [00:08,  7.78it/s]\n",
      "63it [00:07,  7.88it/s]\n",
      "63it [00:07,  8.01it/s]\n"
     ]
    },
    {
     "name": "stdout",
     "output_type": "stream",
     "text": [
      "NEW: Georgian president criticizes Gorb | achev for \"vindicating lies and de | to helpaedednededn . O Coed\n",
      "19 schoolgirls and two adult | s die in primary school dorm | inoo in aalo in Vido\n",
      "U.S. intelligence points to | Pakistan agents involved in attack on Indian | ururisoentp edp deathst Ann\n",
      "Mother of murdered schoolboy Damil | ola Taylor dies of suspected heart attack | dozingverow gr gr.art,\n",
      "NEW: Pope Benedict  |  ⁇ VI arrives in Washington for six | esesererererereresdzrow gr\n",
      "Eight Florida teens to be tried as ad | ults in videotaped beating case . | oooo to  nuoooingri\n",
      "Judge on Heather Mills: Level | of premarital wealth \"ex | s spppoo s gr.p sp\n",
      "President Harding's illegiti | mate daughter was conceived on couch | eresuresperingdst .enting\n",
      "Epoch 60 train loss: 8.873399559020996 valid loss: 41.41421729398061\n"
     ]
    },
    {
     "name": "stderr",
     "output_type": "stream",
     "text": [
      "63it [00:07,  8.00it/s]\n",
      "63it [00:08,  7.84it/s]\n",
      "63it [00:08,  7.86it/s]\n",
      "63it [00:07,  7.89it/s]\n",
      "63it [00:07,  7.91it/s]\n",
      "63it [00:08,  7.87it/s]\n",
      "63it [00:08,  7.83it/s]\n",
      "63it [00:08,  7.85it/s]\n",
      "63it [00:08,  7.81it/s]\n",
      "63it [00:07,  7.93it/s]\n"
     ]
    },
    {
     "name": "stdout",
     "output_type": "stream",
     "text": [
      "NEW: Georgian president criticizes Gorb | achev for \"vindicating lies and de | s help s fednedinged to Oared\n",
      "19 schoolgirls and two adult | s die in primary school dorm | o exoesationoo . Bu\n",
      "U.S. intelligence points to | Pakistan agents involved in attack on Indian | urppoentpped ind An en\n",
      "Mother of murdered schoolboy Damil | ola Taylor dies of suspected heart attack | kerstasesport gr deathcaro\n",
      "NEW: Pope Benedict  |  ⁇ VI arrives in Washington for six | eseserererrier eesko is\n",
      "Eight Florida teens to be tried as ad | ults in videotaped beating case . | oooyc rooc Anoit\n",
      "Judge on Heather Mills: Level | of premarital wealth \"ex | of pre sar fo in s gr.churp\n",
      "President Harding's illegiti | mate daughter was conceived on couch | mmesurp ferodingersento\n",
      "Epoch 70 train loss: 5.143940509796143 valid loss: 45.580013903269325\n"
     ]
    },
    {
     "name": "stderr",
     "output_type": "stream",
     "text": [
      "63it [00:08,  7.83it/s]\n",
      "63it [00:07,  7.93it/s]\n",
      "63it [00:08,  7.70it/s]\n",
      "63it [00:08,  7.76it/s]\n",
      "63it [00:08,  7.86it/s]\n",
      "63it [00:08,  7.85it/s]\n",
      "63it [00:08,  7.83it/s]\n",
      "63it [00:08,  7.84it/s]\n",
      "63it [00:08,  7.87it/s]\n",
      "63it [00:08,  7.84it/s]\n"
     ]
    },
    {
     "name": "stdout",
     "output_type": "stream",
     "text": [
      "NEW: Georgian president criticizes Gorb | achev for \"vindicating lies and de | to help toreentnreented . O deed\n",
      "19 schoolgirls and two adult | s die in primary school dorm | in exe inenried s gr Uvi\n",
      "U.S. intelligence points to | Pakistan agents involved in attack on Indian | urp aoentpped inc An isri\n",
      "Mother of murdered schoolboy Damil | ola Taylor dies of suspected heart attack | ingerszriesther gr Pcartn\n",
      "NEW: Pope Benedict  |  ⁇ VI arrives in Washington for six | esespesarrierseskode\n",
      "Eight Florida teens to be tried as ad | ults in videotaped beating case . | ooo says falrooo eingit\n",
      "Judge on Heather Mills: Level | of premarital wealth \"ex | s ofurp the fo in the grur eurp\n",
      "President Harding's illegiti | mate daughter was conceived on couch | ererpurpperit is s An Pch\n",
      "Epoch 80 train loss: 2.96505379486084 valid loss: 48.87355010863767\n"
     ]
    },
    {
     "name": "stderr",
     "output_type": "stream",
     "text": [
      "63it [00:07,  7.99it/s]\n",
      "63it [00:07,  7.95it/s]\n",
      "63it [00:07,  7.93it/s]\n",
      "63it [00:07,  7.91it/s]\n",
      "63it [00:07,  8.00it/s]\n",
      "63it [00:07,  7.95it/s]\n",
      "63it [00:07,  7.93it/s]\n",
      "63it [00:08,  7.83it/s]\n",
      "63it [00:07,  7.95it/s]\n",
      "63it [00:08,  7.78it/s]\n"
     ]
    },
    {
     "name": "stdout",
     "output_type": "stream",
     "text": [
      "NEW: Georgian president criticizes Gorb | achev for \"vindicating lies and de | in helpre \"entnreinged . e deed\n",
      "19 schoolgirls and two adult | s die in primary school dorm | s exe inceried to f fo\n",
      "U.S. intelligence points to | Pakistan agents involved in attack on Indian | urppoentpped inc An Cori\n",
      "Mother of murdered schoolboy Damil | ola Taylor dies of suspected heart attack | dersceriesther gred.art attack\n",
      "NEW: Pope Benedict  |  ⁇ VI arrives in Washington for six | esesunesarriveses Sode\n",
      "Eight Florida teens to be tried as ad | ults in videotaped beating case . | ooo says f Nrooooingit\n",
      "Judge on Heather Mills: Level | of premarital wealth \"ex | s ofurver the foes s furch s s\n",
      "President Harding's illegiti | mate daughter was conceived on couch | ermpurpperer is s Anentes\n",
      "Epoch 90 train loss: 2.1165502214431764 valid loss: 51.45109061735222\n"
     ]
    },
    {
     "name": "stderr",
     "output_type": "stream",
     "text": [
      "63it [00:07,  7.99it/s]\n",
      "63it [00:07,  7.92it/s]\n",
      "63it [00:07,  7.94it/s]\n",
      "63it [00:07,  7.91it/s]\n",
      "63it [00:07,  8.02it/s]\n",
      "63it [00:07,  7.98it/s]\n",
      "63it [00:07,  7.88it/s]\n",
      "63it [00:08,  7.80it/s]\n",
      "63it [00:08,  7.77it/s]\n",
      "63it [00:08,  7.75it/s]\n"
     ]
    },
    {
     "name": "stdout",
     "output_type": "stream",
     "text": [
      "NEW: Georgian president criticizes Gorb | achev for \"vindicating lies and de | in help s fentnreinged . e deed\n",
      "19 schoolgirls and two adult | s die in primary school dorm | the ex B inenrooway gr Uo\n",
      "U.S. intelligence points to | Pakistan agents involved in attack on Indian | urppoentpped inc and Cori\n",
      "Mother of murdered schoolboy Damil | ola Taylor dies of suspected heart attack | loersceriesther gred heart attack\n",
      "NEW: Pope Benedict  |  ⁇ VI arrives in Washington for six | esesuneringriveeresko is\n",
      "Eight Florida teens to be tried as ad | ults in videotaped beating case . | ooo says f Nrooo Aningit\n",
      "Judge on Heather Mills: Level | of premarital wealth \"ex | s ofurverarceo ises f \"churp\n",
      "President Harding's illegiti | mate daughter was conceived on couch | erer aturppererp s acentch\n",
      "Epoch 100 train loss: 1.6886816005706786 valid loss: 53.38121982559143\n"
     ]
    },
    {
     "name": "stderr",
     "output_type": "stream",
     "text": [
      "63it [00:08,  7.82it/s]\n",
      "63it [00:08,  7.87it/s]\n",
      "63it [00:08,  7.79it/s]\n",
      "63it [00:08,  7.84it/s]\n",
      "63it [00:08,  7.82it/s]\n",
      "63it [00:08,  7.87it/s]\n",
      "63it [00:08,  7.87it/s]\n",
      "63it [00:08,  7.71it/s]\n",
      "63it [00:07,  7.91it/s]\n",
      "63it [00:07,  7.92it/s]\n"
     ]
    },
    {
     "name": "stdout",
     "output_type": "stream",
     "text": [
      "NEW: Georgian president criticizes Gorb | achev for \"vindicating lies and de | in help s \"entnreinged . O deed\n",
      "19 schoolgirls and two adult | s die in primary school dorm | s ex B inenried to V Uo\n",
      "U.S. intelligence points to | Pakistan agents involved in attack on Indian | urppoent as fed inc and isri\n",
      "Mother of murdered schoolboy Damil | ola Taylor dies of suspected heart attack | loersceriesther gred heart attack\n",
      "NEW: Pope Benedict  |  ⁇ VI arrives in Washington for six | esesuner6riveses So is\n",
      "Eight Florida teens to be tried as ad | ults in videotaped beating case . | oooo with frooo Aningit .\n",
      "Judge on Heather Mills: Level | of premarital wealth \"ex | s ofurverar fion wheal f \"churp\n",
      "President Harding's illegiti | mate daughter was conceived on couch | erm aturpperer is s acentch\n",
      "Epoch 110 train loss: 1.4658449563980103 valid loss: 54.36588762275665\n"
     ]
    },
    {
     "name": "stderr",
     "output_type": "stream",
     "text": [
      "63it [00:08,  7.87it/s]\n",
      "63it [00:07,  7.97it/s]\n",
      "63it [00:08,  7.80it/s]\n",
      "63it [00:08,  7.78it/s]\n",
      "63it [00:08,  7.62it/s]\n",
      "63it [00:08,  7.87it/s]\n",
      "63it [00:08,  7.80it/s]\n",
      "63it [00:08,  7.66it/s]\n",
      "63it [00:08,  7.78it/s]\n",
      "63it [00:08,  7.70it/s]\n"
     ]
    },
    {
     "name": "stdout",
     "output_type": "stream",
     "text": [
      "NEW: Georgian president criticizes Gorb | achev for \"vindicating lies and de | in help s \"entnreing l . e deS\n",
      "19 schoolgirls and two adult | s die in primary school dorm | t exeveingroedway f Uo with\n",
      "U.S. intelligence points to | Pakistan agents involved in attack on Indian | urppollpped in death An eour\n",
      "Mother of murdered schoolboy Damil | ola Taylor dies of suspected heart attack | loersceasesther gred hearo is\n",
      "NEW: Pope Benedict  |  ⁇ VI arrives in Washington for six | esesunic6rivesas Saryes\n",
      "Eight Florida teens to be tried as ad | ults in videotaped beating case . | ooo says f Nrooo eingit\n",
      "Judge on Heather Mills: Level | of premarital wealth \"ex | ofurverarceo is s furch s s\n",
      "President Harding's illegiti | mate daughter was conceived on couch | erm aturpperit is s acentch\n",
      "Epoch 120 train loss: 1.3176726083755492 valid loss: 55.580287335866906\n"
     ]
    },
    {
     "name": "stderr",
     "output_type": "stream",
     "text": [
      "63it [00:08,  7.76it/s]\n",
      "63it [00:08,  7.68it/s]\n",
      "63it [00:08,  7.69it/s]\n",
      "63it [00:08,  7.69it/s]\n",
      "63it [00:08,  7.79it/s]\n",
      "63it [00:08,  7.75it/s]\n",
      "63it [00:08,  7.70it/s]\n",
      "63it [00:08,  7.75it/s]\n",
      "63it [00:08,  7.75it/s]\n",
      "63it [00:08,  7.68it/s]\n"
     ]
    },
    {
     "name": "stdout",
     "output_type": "stream",
     "text": [
      "NEW: Georgian president criticizes Gorb | achev for \"vindicating lies and de | in help s \"entnreing l . O deed\n",
      "19 schoolgirls and two adult | s die in primary school dorm | s ex B inenroedway V Uo\n",
      "U.S. intelligence points to | Pakistan agents involved in attack on Indian | ururestoentpped inc An eriur\n",
      "Mother of murdered schoolboy Damil | ola Taylor dies of suspected heart attack | loersceasesther gred heartn\n",
      "NEW: Pope Benedict  |  ⁇ VI arrives in Washington for six | esesunerarriveses Sary is\n",
      "Eight Florida teens to be tried as ad | ults in videotaped beating case . | ooo says in Nrooo Aningit\n",
      "Judge on Heather Mills: Level | of premarital wealth \"ex | of preverarceion ises f \"churp\n",
      "President Harding's illegiti | mate daughter was conceived on couch | erer aturpperer is s acentch\n",
      "Epoch 130 train loss: 1.1843591194152832 valid loss: 56.243048120215235\n"
     ]
    },
    {
     "name": "stderr",
     "output_type": "stream",
     "text": [
      "63it [00:08,  7.81it/s]\n",
      "63it [00:08,  7.68it/s]\n",
      "63it [00:08,  7.77it/s]\n",
      "63it [00:08,  7.76it/s]\n",
      "63it [00:08,  7.53it/s]\n",
      "63it [00:08,  7.65it/s]\n",
      "63it [00:08,  7.76it/s]\n",
      "63it [00:08,  7.64it/s]\n",
      "63it [00:08,  7.68it/s]\n",
      "63it [00:08,  7.81it/s]\n"
     ]
    },
    {
     "name": "stdout",
     "output_type": "stream",
     "text": [
      "NEW: Georgian president criticizes Gorb | achev for \"vindicating lies and de | in help s \"entnlling l . e deed\n",
      "19 schoolgirls and two adult | s die in primary school dorm | s ex B inenried to V Uo\n",
      "U.S. intelligence points to | Pakistan agents involved in attack on Indian | urpestoentpped inc and Coriur\n",
      "Mother of murdered schoolboy Damil | ola Taylor dies of suspected heart attack | loersceasesther gred heart attack\n",
      "NEW: Pope Benedict  |  ⁇ VI arrives in Washington for six | eresesuner6riveses So is\n",
      "Eight Florida teens to be tried as ad | ults in videotaped beating case . | ooo says in Nrooo Aningit\n",
      "Judge on Heather Mills: Level | of premarital wealth \"ex | s ofurverarceion whe s f \"churp\n",
      "President Harding's illegiti | mate daughter was conceived on couch | erer aturpperer is s acentch\n",
      "Epoch 140 train loss: 1.098311830997467 valid loss: 57.11173686444999\n"
     ]
    },
    {
     "name": "stderr",
     "output_type": "stream",
     "text": [
      "63it [00:08,  7.69it/s]\n",
      "63it [00:08,  7.72it/s]\n",
      "63it [00:08,  7.58it/s]\n",
      "63it [00:08,  7.73it/s]\n",
      "63it [00:08,  7.72it/s]\n",
      "63it [00:08,  7.67it/s]\n",
      "63it [00:08,  7.60it/s]\n",
      "63it [00:08,  7.55it/s]\n",
      "63it [00:08,  7.67it/s]\n",
      "63it [00:08,  7.66it/s]\n"
     ]
    },
    {
     "name": "stdout",
     "output_type": "stream",
     "text": [
      "NEW: Georgian president criticizes Gorb | achev for \"vindicating lies and de | in help for \"entnreing l . O deed\n",
      "19 schoolgirls and two adult | s die in primary school dorm | s ex e inenroed to gr Uo\n",
      "U.S. intelligence points to | Pakistan agents involved in attack on Indian | ururestoent asthered inc and elaur\n",
      "Mother of murdered schoolboy Damil | ola Taylor dies of suspected heart attack | loersceasesther gred heart attack\n",
      "NEW: Pope Benedict  |  ⁇ VI arrives in Washington for six | eresesun e6riveses So is\n",
      "Eight Florida teens to be tried as ad | ults in videotaped beating case . | ooo says in Nrooo Aningit\n",
      "Judge on Heather Mills: Level | of premarital wealth \"ex | s of preverarceal whe s f \"churp\n",
      "President Harding's illegiti | mate daughter was conceived on couch | erer aturpperer is s acentch\n",
      "Epoch 150 train loss: 1.057001778125763 valid loss: 57.98493154747898\n"
     ]
    },
    {
     "name": "stderr",
     "output_type": "stream",
     "text": [
      "63it [00:08,  7.60it/s]\n",
      "63it [00:08,  7.59it/s]\n",
      "63it [00:08,  7.64it/s]\n",
      "63it [00:08,  7.63it/s]\n",
      "63it [00:08,  7.58it/s]\n",
      "63it [00:08,  7.59it/s]\n",
      "63it [00:08,  7.67it/s]\n",
      "63it [00:08,  7.66it/s]\n",
      "63it [00:08,  7.57it/s]\n",
      "63it [00:08,  7.48it/s]\n"
     ]
    },
    {
     "name": "stdout",
     "output_type": "stream",
     "text": [
      "NEW: Georgian president criticizes Gorb | achev for \"vindicating lies and de | in help s \"entnreing l . O deed\n",
      "19 schoolgirls and two adult | s die in primary school dorm | s ex B inenroiaway V Uo\n",
      "U.S. intelligence points to | Pakistan agents involved in attack on Indian | ururestoentpped inc An eriur\n",
      "Mother of murdered schoolboy Damil | ola Taylor dies of suspected heart attack | loersceasestherwayed heartn\n",
      "NEW: Pope Benedict  |  ⁇ VI arrives in Washington for six | eresesun e6riveses So is\n",
      "Eight Florida teens to be tried as ad | ults in videotaped beating case . | ooo says f Nrooo Aningtion\n",
      "Judge on Heather Mills: Level | of premarital wealth \"ex | of preverarceion ises f \"churp\n",
      "President Harding's illegiti | mate daughter was conceived on couch | erer aturpperer is s acentch\n",
      "Epoch 160 train loss: 0.9917174744606018 valid loss: 58.53053338843656\n"
     ]
    },
    {
     "name": "stderr",
     "output_type": "stream",
     "text": [
      "63it [00:08,  7.70it/s]\n",
      "63it [00:08,  7.74it/s]\n",
      "63it [00:08,  7.58it/s]\n",
      "63it [00:08,  7.44it/s]\n",
      "63it [00:08,  7.57it/s]\n",
      "63it [00:08,  7.55it/s]\n",
      "63it [00:08,  7.66it/s]\n",
      "63it [00:08,  7.56it/s]\n",
      "63it [00:08,  7.60it/s]\n",
      "63it [00:08,  7.53it/s]\n"
     ]
    },
    {
     "name": "stdout",
     "output_type": "stream",
     "text": [
      "NEW: Georgian president criticizes Gorb | achev for \"vindicating lies and de | in help s \"entnreing l . O deed\n",
      "19 schoolgirls and two adult | s die in primary school dorm | s ex B inenriiaway V Uo\n",
      "U.S. intelligence points to | Pakistan agents involved in attack on Indian | ururestoentpped inc and eriur\n",
      "Mother of murdered schoolboy Damil | ola Taylor dies of suspected heart attack | loersceriesther gred heart attack\n",
      "NEW: Pope Benedict  |  ⁇ VI arrives in Washington for six | eresesun earriveses So is\n",
      "Eight Florida teens to be tried as ad | ults in videotaped beating case . | ooo says in Nrooo Aningit\n",
      "Judge on Heather Mills: Level | of premarital wealth \"ex | s of preverarceion wheal f \"chur\n",
      "President Harding's illegiti | mate daughter was conceived on couch | erm aturpperer is s acentch\n",
      "Epoch 170 train loss: 0.9798152136802674 valid loss: 59.15548387397245\n"
     ]
    },
    {
     "name": "stderr",
     "output_type": "stream",
     "text": [
      "63it [00:08,  7.57it/s]\n",
      "63it [00:08,  7.44it/s]\n",
      "63it [00:08,  7.65it/s]\n",
      "63it [00:08,  7.54it/s]\n",
      "63it [00:08,  7.65it/s]\n",
      "63it [00:08,  7.39it/s]\n",
      "63it [00:08,  7.66it/s]\n",
      "63it [00:08,  7.61it/s]\n",
      "63it [00:08,  7.64it/s]\n",
      "63it [00:08,  7.51it/s]\n"
     ]
    },
    {
     "name": "stdout",
     "output_type": "stream",
     "text": [
      "NEW: Georgian president criticizes Gorb | achev for \"vindicating lies and de | in help s \"entnreing l . O deed\n",
      "19 schoolgirls and two adult | s die in primary school dorm | s ex B inenried to V Uo\n",
      "U.S. intelligence points to | Pakistan agents involved in attack on Indian | ururestoentpped inc An eriur\n",
      "Mother of murdered schoolboy Damil | ola Taylor dies of suspected heart attack | loersceasesther gred heart attack\n",
      "NEW: Pope Benedict  |  ⁇ VI arrives in Washington for six | eresesun e6riveses So is\n",
      "Eight Florida teens to be tried as ad | ults in videotaped beating case . | ooo says in Nrooo Aningit\n",
      "Judge on Heather Mills: Level | of premarital wealth \"ex | s ofurverarceo whees f \"churp\n",
      "President Harding's illegiti | mate daughter was conceived on couch | ererateurpperer is s acentch\n",
      "Epoch 180 train loss: 0.9615702309608459 valid loss: 59.60296263177711\n"
     ]
    },
    {
     "name": "stderr",
     "output_type": "stream",
     "text": [
      "63it [00:08,  7.60it/s]\n",
      "63it [00:08,  7.79it/s]\n",
      "63it [00:08,  7.56it/s]\n",
      "63it [00:08,  7.43it/s]\n",
      "63it [00:08,  7.62it/s]\n",
      "63it [00:08,  7.56it/s]\n",
      "63it [00:08,  7.55it/s]\n",
      "63it [00:08,  7.37it/s]\n",
      "63it [00:08,  7.45it/s]\n",
      "63it [00:08,  7.66it/s]\n"
     ]
    },
    {
     "name": "stdout",
     "output_type": "stream",
     "text": [
      "NEW: Georgian president criticizes Gorb | achev for \"vindicating lies and de | in help for \"vinreing l . O deed\n",
      "19 schoolgirls and two adult | s die in primary school dorm | s ex B inenroia to V Uo\n",
      "U.S. intelligence points to | Pakistan agents involved in attack on Indian | ururestoentpthered inc and elaur\n",
      "Mother of murdered schoolboy Damil | ola Taylor dies of suspected heart attack | loersceasesther gred heart attack\n",
      "NEW: Pope Benedict  |  ⁇ VI arrives in Washington for six | eresesun e6riveses So is\n",
      "Eight Florida teens to be tried as ad | ults in videotaped beating case . | ooo says in Nrooo Aningit\n",
      "Judge on Heather Mills: Level | of premarital wealth \"ex | s ofurverarceion whe s f \"chc s\n",
      "President Harding's illegiti | mate daughter was conceived on couch | erm aturpperer is s acentch\n",
      "Epoch 190 train loss: 0.9192349045276642 valid loss: 60.03469444182982\n"
     ]
    },
    {
     "name": "stderr",
     "output_type": "stream",
     "text": [
      "63it [00:08,  7.57it/s]\n",
      "63it [00:08,  7.35it/s]\n",
      "63it [00:08,  7.50it/s]\n",
      "63it [00:08,  7.63it/s]\n",
      "63it [00:08,  7.59it/s]\n",
      "63it [00:08,  7.32it/s]\n",
      "63it [00:08,  7.69it/s]\n",
      "63it [00:08,  7.79it/s]\n",
      "63it [00:08,  7.64it/s]\n",
      "63it [00:08,  7.75it/s]\n"
     ]
    },
    {
     "name": "stdout",
     "output_type": "stream",
     "text": [
      "NEW: Georgian president criticizes Gorb | achev for \"vindicating lies and de | in help for \"entnlling l . O deed\n",
      "19 schoolgirls and two adult | s die in primary school dorm | s ex B inenriia to V Uo\n",
      "U.S. intelligence points to | Pakistan agents involved in attack on Indian | ururestoentpthered inc An eriur\n",
      "Mother of murdered schoolboy Damil | ola Taylor dies of suspected heart attack | loersceasesther gred heart attack\n",
      "NEW: Pope Benedict  |  ⁇ VI arrives in Washington for six | eresesun e6riveses So is\n",
      "Eight Florida teens to be tried as ad | ults in videotaped beating case . | ooo says in Nrooo Aningtion\n",
      "Judge on Heather Mills: Level | of premarital wealth \"ex | s of preverarceion whe s f \"chur\n",
      "President Harding's illegiti | mate daughter was conceived on couch | ererateurpperer is s acentch\n",
      "Epoch 200 train loss: 0.8910066533088684 valid loss: 60.48515252415913\n"
     ]
    },
    {
     "name": "stderr",
     "output_type": "stream",
     "text": [
      "63it [00:07,  8.09it/s]\n",
      "63it [00:07,  8.07it/s]\n",
      "63it [00:07,  8.18it/s]\n",
      "63it [00:07,  8.17it/s]\n",
      "63it [00:07,  8.09it/s]\n",
      "63it [00:07,  8.12it/s]\n",
      "63it [00:07,  8.01it/s]\n",
      "63it [00:07,  7.93it/s]\n",
      "63it [00:07,  8.00it/s]\n",
      "63it [00:07,  8.16it/s]\n"
     ]
    },
    {
     "name": "stdout",
     "output_type": "stream",
     "text": [
      "NEW: Georgian president criticizes Gorb | achev for \"vindicating lies and de | in help s \"vinlling l . O deed\n",
      "19 schoolgirls and two adult | s die in primary school dorm | s ex B inenroedway V Uo8\n",
      "U.S. intelligence points to | Pakistan agents involved in attack on Indian | ururestoentpped inc and islaur\n",
      "Mother of murdered schoolboy Damil | ola Taylor dies of suspected heart attack | loersceasesther gred heartn\n",
      "NEW: Pope Benedict  |  ⁇ VI arrives in Washington for six | eresesunic6riveses Sary is\n",
      "Eight Florida teens to be tried as ad | ults in videotaped beating case . | ooo says f Nrooo Aningit\n",
      "Judge on Heather Mills: Level | of premarital wealth \"ex | s of preverarceion isal f \"ityc\n",
      "President Harding's illegiti | mate daughter was conceived on couch | ererateurpperer is s acentch\n",
      "Epoch 210 train loss: 0.8829146981239319 valid loss: 60.90936487649818\n"
     ]
    },
    {
     "name": "stderr",
     "output_type": "stream",
     "text": [
      "63it [00:07,  8.12it/s]\n",
      "63it [00:07,  8.13it/s]\n",
      "63it [00:07,  8.00it/s]\n",
      "63it [00:07,  8.09it/s]\n",
      "63it [00:07,  8.18it/s]\n",
      "63it [00:07,  8.19it/s]\n",
      "63it [00:07,  8.10it/s]\n",
      "63it [00:07,  8.19it/s]\n",
      "63it [00:07,  8.03it/s]\n",
      "63it [00:07,  8.07it/s]\n"
     ]
    },
    {
     "name": "stdout",
     "output_type": "stream",
     "text": [
      "NEW: Georgian president criticizes Gorb | achev for \"vindicating lies and de | in help s \"vinlling l . O deed\n",
      "19 schoolgirls and two adult | s die in primary school dorm | s ex B inenried to V Uo8\n",
      "U.S. intelligence points to | Pakistan agents involved in attack on Indian | ururestoentpthered inc and eriur\n",
      "Mother of murdered schoolboy Damil | ola Taylor dies of suspected heart attack | loersceasesther gred heart attack\n",
      "NEW: Pope Benedict  |  ⁇ VI arrives in Washington for six | eresesunic6riveses Soure\n",
      "Eight Florida teens to be tried as ad | ults in videotaped beating case . | ooo says f Nrooo Aningit\n",
      "Judge on Heather Mills: Level | of premarital wealth \"ex | s of preverarceion whe s f \"chcp\n",
      "President Harding's illegiti | mate daughter was conceived on couch | ermateurpperer is s acentch\n",
      "Epoch 220 train loss: 0.873050532579422 valid loss: 61.31759986724241\n"
     ]
    },
    {
     "name": "stderr",
     "output_type": "stream",
     "text": [
      "63it [00:07,  8.09it/s]\n",
      "63it [00:07,  7.94it/s]\n",
      "63it [00:07,  8.12it/s]\n",
      "63it [00:07,  8.20it/s]\n",
      "63it [00:07,  8.25it/s]\n",
      "63it [00:07,  8.08it/s]\n",
      "63it [00:07,  8.09it/s]\n",
      "63it [00:07,  8.08it/s]\n",
      "63it [00:07,  8.09it/s]\n",
      "63it [00:07,  8.09it/s]\n"
     ]
    },
    {
     "name": "stdout",
     "output_type": "stream",
     "text": [
      "NEW: Georgian president criticizes Gorb | achev for \"vindicating lies and de | in help s \"vinlling l . O deed\n",
      "19 schoolgirls and two adult | s die in primary school dorm | s ex B inenried to V Uo\n",
      "U.S. intelligence points to | Pakistan agents involved in attack on Indian | ururestoent asthered inc and elaur\n",
      "Mother of murdered schoolboy Damil | ola Taylor dies of suspected heart attack | loersceasesther gred heart attack\n",
      "NEW: Pope Benedict  |  ⁇ VI arrives in Washington for six | eresesunic6riveses So is\n",
      "Eight Florida teens to be tried as ad | ults in videotaped beating case . | ooo says in Nrooo Aningtion\n",
      "Judge on Heather Mills: Level | of premarital wealth \"ex | s of preverarceion whe s f \"chur\n",
      "President Harding's illegiti | mate daughter was conceived on couch | ererateurpperer is s acentch\n",
      "Epoch 230 train loss: 0.8603261661529541 valid loss: 61.634903873305724\n"
     ]
    },
    {
     "name": "stderr",
     "output_type": "stream",
     "text": [
      "63it [00:07,  8.05it/s]\n",
      "63it [00:07,  8.10it/s]\n",
      "63it [00:07,  8.08it/s]\n",
      "63it [00:07,  8.07it/s]\n",
      "63it [00:07,  8.14it/s]\n",
      "63it [00:07,  8.16it/s]\n",
      "63it [00:07,  8.07it/s]\n",
      "63it [00:07,  8.04it/s]\n",
      "63it [00:07,  8.17it/s]\n",
      "63it [00:07,  8.04it/s]\n"
     ]
    },
    {
     "name": "stdout",
     "output_type": "stream",
     "text": [
      "NEW: Georgian president criticizes Gorb | achev for \"vindicating lies and de | in help s \"entnlling l . O deed\n",
      "19 schoolgirls and two adult | s die in primary school dorm | s ex e inenried to V Uo\n",
      "U.S. intelligence points to | Pakistan agents involved in attack on Indian | ururestoentpthered inc and elaur\n",
      "Mother of murdered schoolboy Damil | ola Taylor dies of suspected heart attack | loersceasesther gred heartn\n",
      "NEW: Pope Benedict  |  ⁇ VI arrives in Washington for six | eresesunerarriveses So is\n",
      "Eight Florida teens to be tried as ad | ults in videotaped beating case . | ooo says in Nrooo Aningtion\n",
      "Judge on Heather Mills: Level | of premarital wealth \"ex | s of preverarceion wheal f \"ityur\n",
      "President Harding's illegiti | mate daughter was conceived on couch | ererateurpperer is s acentch\n",
      "Epoch 240 train loss: 0.8421959369182587 valid loss: 61.97807232347358\n"
     ]
    },
    {
     "name": "stderr",
     "output_type": "stream",
     "text": [
      "63it [00:07,  8.10it/s]\n",
      "63it [00:07,  7.98it/s]\n",
      "63it [00:07,  8.10it/s]\n",
      "63it [00:07,  8.06it/s]\n",
      "63it [00:07,  8.11it/s]\n",
      "63it [00:07,  7.98it/s]\n",
      "63it [00:07,  8.01it/s]\n",
      "63it [00:07,  8.10it/s]\n",
      "63it [00:07,  8.07it/s]\n",
      "63it [00:07,  8.04it/s]\n"
     ]
    },
    {
     "name": "stdout",
     "output_type": "stream",
     "text": [
      "NEW: Georgian president criticizes Gorb | achev for \"vindicating lies and de | in help s \"vinlling l . O deed\n",
      "19 schoolgirls and two adult | s die in primary school dorm | s ex B inenriedway V Uo8\n",
      "U.S. intelligence points to | Pakistan agents involved in attack on Indian | urpestoentpthered inc and eriur\n",
      "Mother of murdered schoolboy Damil | ola Taylor dies of suspected heart attack | loersceasesther gred heartn\n",
      "NEW: Pope Benedict  |  ⁇ VI arrives in Washington for six | eresesuner6riveses So is\n",
      "Eight Florida teens to be tried as ad | ults in videotaped beating case . | ooo says in Nrooo Aningtion\n",
      "Judge on Heather Mills: Level | of premarital wealth \"ex | s of preverarceion wheal f \"ityur\n",
      "President Harding's illegiti | mate daughter was conceived on couch | ermateurpperer is s acentch\n",
      "Epoch 250 train loss: 0.8355519819259644 valid loss: 62.42872821853822\n"
     ]
    },
    {
     "name": "stderr",
     "output_type": "stream",
     "text": [
      "63it [00:07,  8.02it/s]\n",
      "63it [00:07,  8.03it/s]\n",
      "63it [00:07,  8.09it/s]\n",
      "63it [00:07,  8.13it/s]\n",
      "63it [00:07,  8.02it/s]\n",
      "63it [00:07,  8.02it/s]\n",
      "63it [00:07,  7.97it/s]\n",
      "63it [00:07,  7.94it/s]\n",
      "63it [00:07,  8.11it/s]\n",
      "63it [00:07,  8.07it/s]\n"
     ]
    },
    {
     "name": "stdout",
     "output_type": "stream",
     "text": [
      "NEW: Georgian president criticizes Gorb | achev for \"vindicating lies and de | in help s \"entnlling l . O deed\n",
      "19 schoolgirls and two adult | s die in primary school dorm | s ex B inenriiaway V Uo8\n",
      "U.S. intelligence points to | Pakistan agents involved in attack on Indian | ururestoentpped inc and elaur\n",
      "Mother of murdered schoolboy Damil | ola Taylor dies of suspected heart attack | loersceasesther gred heart attack\n",
      "NEW: Pope Benedict  |  ⁇ VI arrives in Washington for six | eresesun e6rivesas So is\n",
      "Eight Florida teens to be tried as ad | ults in videotaped beating case . | ooo says in Nrooo Aningit\n",
      "Judge on Heather Mills: Level | of premarital wealth \"ex | s of preverarceion isal f \"ityur\n",
      "President Harding's illegiti | mate daughter was conceived on couch | ermateurpperer is s acentch\n",
      "Epoch 260 train loss: 0.8317235794067382 valid loss: 62.66238856794365\n"
     ]
    },
    {
     "name": "stderr",
     "output_type": "stream",
     "text": [
      "63it [00:07,  7.92it/s]\n",
      "63it [00:07,  7.89it/s]\n",
      "63it [00:07,  7.99it/s]\n",
      "63it [00:07,  8.05it/s]\n",
      "63it [00:07,  8.07it/s]\n",
      "63it [00:07,  7.99it/s]\n",
      "63it [00:07,  8.01it/s]\n",
      "63it [00:07,  8.23it/s]\n",
      "63it [00:07,  8.01it/s]\n",
      "63it [00:07,  7.93it/s]\n"
     ]
    },
    {
     "name": "stdout",
     "output_type": "stream",
     "text": [
      "NEW: Georgian president criticizes Gorb | achev for \"vindicating lies and de | in help s \"vinlling l . O deed\n",
      "19 schoolgirls and two adult | s die in primary school dorm | s ex B inenriiaway V Uo8\n",
      "U.S. intelligence points to | Pakistan agents involved in attack on Indian | ururestoentpthered inc and eriur\n",
      "Mother of murdered schoolboy Damil | ola Taylor dies of suspected heart attack | loersceasesther gred heart attack\n",
      "NEW: Pope Benedict  |  ⁇ VI arrives in Washington for six | erentesun e6rivesas So is\n",
      "Eight Florida teens to be tried as ad | ults in videotaped beating case . | ooo says in Nrooo Aningit .\n",
      "Judge on Heather Mills: Level | of premarital wealth \"ex | s of preverarceion wheal f \"chc\n",
      "President Harding's illegiti | mate daughter was conceived on couch | ermateurpperer is s acentch\n",
      "Epoch 270 train loss: 0.822209020614624 valid loss: 63.03659976821348\n"
     ]
    },
    {
     "name": "stderr",
     "output_type": "stream",
     "text": [
      "63it [00:07,  8.02it/s]\n",
      "63it [00:07,  8.03it/s]\n",
      "63it [00:07,  7.91it/s]\n",
      "63it [00:08,  7.78it/s]\n",
      "63it [00:07,  7.95it/s]\n",
      "63it [00:07,  8.09it/s]\n",
      "63it [00:07,  8.03it/s]\n",
      "63it [00:07,  7.95it/s]\n",
      "63it [00:07,  7.92it/s]\n",
      "63it [00:07,  8.01it/s]\n"
     ]
    },
    {
     "name": "stdout",
     "output_type": "stream",
     "text": [
      "NEW: Georgian president criticizes Gorb | achev for \"vindicating lies and de | in help s \"vinlling l . O deed\n",
      "19 schoolgirls and two adult | s die in primary school dorm | s ex B inenriedway V Uo8\n",
      "U.S. intelligence points to | Pakistan agents involved in attack on Indian | ururestoentpthered inc and elaur\n",
      "Mother of murdered schoolboy Damil | ola Taylor dies of suspected heart attack | loersceasesther gred heart attack\n",
      "NEW: Pope Benedict  |  ⁇ VI arrives in Washington for six | eresesuner6rivesas So is\n",
      "Eight Florida teens to be tried as ad | ults in videotaped beating case . | ooo says in Nrooo Aningit .\n",
      "Judge on Heather Mills: Level | of premarital wealth \"ex | s of preverarceion ises f \"churp\n",
      "President Harding's illegiti | mate daughter was conceived on couch | ererateurpperer is s acentch\n",
      "Epoch 280 train loss: 0.813678739786148 valid loss: 63.321159148312\n"
     ]
    },
    {
     "name": "stderr",
     "output_type": "stream",
     "text": [
      "63it [00:07,  8.02it/s]\n",
      "63it [00:07,  7.98it/s]\n",
      "63it [00:07,  7.95it/s]\n",
      "63it [00:07,  8.05it/s]\n",
      "63it [00:07,  7.91it/s]\n",
      "63it [00:07,  7.95it/s]\n",
      "63it [00:07,  7.94it/s]\n",
      "63it [00:08,  7.85it/s]\n",
      "63it [00:07,  7.88it/s]\n",
      "63it [00:08,  7.86it/s]\n"
     ]
    },
    {
     "name": "stdout",
     "output_type": "stream",
     "text": [
      "NEW: Georgian president criticizes Gorb | achev for \"vindicating lies and de | in help s \"vinlling l . O deed\n",
      "19 schoolgirls and two adult | s die in primary school dorm | s ex B inenriiaway V Uo8\n",
      "U.S. intelligence points to | Pakistan agents involved in attack on Indian | ururestoentpthered inc and eriur\n",
      "Mother of murdered schoolboy Damil | ola Taylor dies of suspected heart attack | loersceasesther gred heart attack\n",
      "NEW: Pope Benedict  |  ⁇ VI arrives in Washington for six | erentesuner6rivesas So is\n",
      "Eight Florida teens to be tried as ad | ults in videotaped beating case . | ooo says in Nrooo Aningtion .\n",
      "Judge on Heather Mills: Level | of premarital wealth \"ex | s of preverarceion wheal f \"ityur\n",
      "President Harding's illegiti | mate daughter was conceived on couch | ererateurpperer is s acentch\n",
      "Epoch 290 train loss: 0.8086596479415894 valid loss: 63.5954121662431\n"
     ]
    },
    {
     "name": "stderr",
     "output_type": "stream",
     "text": [
      "63it [00:07,  7.97it/s]\n",
      "63it [00:07,  8.00it/s]\n",
      "63it [00:07,  7.96it/s]\n",
      "63it [00:07,  7.92it/s]\n",
      "63it [00:10,  6.22it/s]\n",
      "63it [00:13,  4.71it/s]\n",
      "63it [00:08,  7.16it/s]\n",
      "63it [00:09,  6.70it/s]\n",
      "63it [00:09,  6.94it/s]\n",
      "63it [00:08,  7.37it/s]\n"
     ]
    },
    {
     "name": "stdout",
     "output_type": "stream",
     "text": [
      "NEW: Georgian president criticizes Gorb | achev for \"vindicating lies and de | ch help s \"vinlling l . O deed\n",
      "19 schoolgirls and two adult | s die in primary school dorm | s ex B inenroedway V Uo\n",
      "U.S. intelligence points to | Pakistan agents involved in attack on Indian | urpestollpthered inc and eriur\n",
      "Mother of murdered schoolboy Damil | ola Taylor dies of suspected heart attack | loersceriesther gred heart attack\n",
      "NEW: Pope Benedict  |  ⁇ VI arrives in Washington for six | ereresuner6rivesas So is\n",
      "Eight Florida teens to be tried as ad | ults in videotaped beating case . | ooo says f Nrooo Aningtion\n",
      "Judge on Heather Mills: Level | of premarital wealth \"ex | s of preverarceion inal f \"ityc\n",
      "President Harding's illegiti | mate daughter was conceived on couch | ererateurpperer is s acentch\n",
      "Epoch 300 train loss: 0.8345303823947906 valid loss: 63.81086933181947\n"
     ]
    },
    {
     "name": "stderr",
     "output_type": "stream",
     "text": [
      "63it [00:09,  6.72it/s]\n",
      "63it [00:08,  7.26it/s]\n",
      "63it [00:08,  7.34it/s]\n",
      "63it [00:09,  6.90it/s]\n",
      "63it [00:08,  7.35it/s]\n",
      "63it [00:08,  7.11it/s]\n",
      "63it [00:09,  6.51it/s]\n",
      "63it [00:08,  7.21it/s]\n",
      "63it [00:08,  7.31it/s]\n",
      "63it [00:09,  6.94it/s]\n"
     ]
    },
    {
     "name": "stdout",
     "output_type": "stream",
     "text": [
      "NEW: Georgian president criticizes Gorb | achev for \"vindicating lies and de | ch help s \"vinlling l . O deed\n",
      "19 schoolgirls and two adult | s die in primary school dorm | s ex B inenriiaway V Uo\n",
      "U.S. intelligence points to | Pakistan agents involved in attack on Indian | ururestoentpped inc and elaur\n",
      "Mother of murdered schoolboy Damil | ola Taylor dies of suspected heart attack | loersceasesther gred heartn\n",
      "NEW: Pope Benedict  |  ⁇ VI arrives in Washington for six | eresesuner6rivesas Sary is\n",
      "Eight Florida teens to be tried as ad | ults in videotaped beating case . | ooo says in Nrooo Aningtion\n",
      "Judge on Heather Mills: Level | of premarital wealth \"ex | s of preverarceal isal f \"ityur\n",
      "President Harding's illegiti | mate daughter was conceived on couch | ererateurpperer is s acentch\n",
      "Epoch 310 train loss: 0.8051762626171112 valid loss: 64.00712125847139\n"
     ]
    },
    {
     "name": "stderr",
     "output_type": "stream",
     "text": [
      "63it [00:08,  7.32it/s]\n",
      "63it [00:08,  7.30it/s]\n",
      "63it [00:09,  6.67it/s]\n",
      "63it [00:08,  7.21it/s]\n",
      "63it [00:08,  7.24it/s]\n",
      "63it [00:09,  6.77it/s]\n",
      "63it [00:08,  7.20it/s]\n",
      "63it [00:08,  7.17it/s]\n",
      "63it [00:09,  6.98it/s]\n",
      "63it [00:08,  7.14it/s]\n"
     ]
    },
    {
     "name": "stdout",
     "output_type": "stream",
     "text": [
      "NEW: Georgian president criticizes Gorb | achev for \"vindicating lies and de | ch help for \"vinlling l . O deed\n",
      "19 schoolgirls and two adult | s die in primary school dorm | s ex B inenriedway V Uo\n",
      "U.S. intelligence points to | Pakistan agents involved in attack on Indian | ururestoentpthered inc and elaur\n",
      "Mother of murdered schoolboy Damil | ola Taylor dies of suspected heart attack | loersceasesther gred heart attack\n",
      "NEW: Pope Benedict  |  ⁇ VI arrives in Washington for six | eresesun e6riveses So is\n",
      "Eight Florida teens to be tried as ad | ults in videotaped beating case . | ooo says in Nrooo Aningtion\n",
      "Judge on Heather Mills: Level | of premarital wealth \"ex | s of preverarceion wheal f \"ityur\n",
      "President Harding's illegiti | mate daughter was conceived on couch | ererateurpperer is s acentch\n",
      "Epoch 320 train loss: 0.7908492231369019 valid loss: 64.29847564084463\n"
     ]
    },
    {
     "name": "stderr",
     "output_type": "stream",
     "text": [
      "63it [00:08,  7.15it/s]\n",
      "63it [00:09,  6.80it/s]\n",
      "63it [00:09,  7.00it/s]\n",
      "63it [00:08,  7.06it/s]\n",
      "63it [00:08,  7.38it/s]\n",
      "63it [00:08,  7.02it/s]\n",
      "63it [00:09,  6.82it/s]\n",
      "63it [00:10,  6.04it/s]\n",
      "63it [00:09,  6.60it/s]\n",
      "63it [00:09,  6.71it/s]\n"
     ]
    },
    {
     "name": "stdout",
     "output_type": "stream",
     "text": [
      "NEW: Georgian president criticizes Gorb | achev for \"vindicating lies and de | ch help for \"vinlling l . O deed\n",
      "19 schoolgirls and two adult | s die in primary school dorm | s ex e inenroed to gr Uo\n",
      "U.S. intelligence points to | Pakistan agents involved in attack on Indian | ururestoent asthered inc and elaur\n",
      "Mother of murdered schoolboy Damil | ola Taylor dies of suspected heart attack | loersceasesther gred heart attack\n",
      "NEW: Pope Benedict  |  ⁇ VI arrives in Washington for six | erentesun e6riveses So is\n",
      "Eight Florida teens to be tried as ad | ults in videotaped beating case . | ooo says in Nrooo Aningit\n",
      "Judge on Heather Mills: Level | of premarital wealth \"ex | s of preverarceion isal f \"ityc\n",
      "President Harding's illegiti | mate daughter was conceived on couch | ererateurpperer is s acentch\n",
      "Epoch 330 train loss: 0.7884233500957489 valid loss: 64.49605943304468\n"
     ]
    },
    {
     "name": "stderr",
     "output_type": "stream",
     "text": [
      "63it [00:08,  7.09it/s]\n",
      "45it [00:06,  6.84it/s]\n"
     ]
    },
    {
     "ename": "KeyboardInterrupt",
     "evalue": "",
     "output_type": "error",
     "traceback": [
      "\u001B[0;31m---------------------------------------------------------------------------\u001B[0m",
      "\u001B[0;31mKeyboardInterrupt\u001B[0m                         Traceback (most recent call last)",
      "Cell \u001B[0;32mIn[85], line 15\u001B[0m\n\u001B[1;32m     13\u001B[0m hidden, pred \u001B[38;5;241m=\u001B[39m model(sequence, forced_target)\n\u001B[1;32m     14\u001B[0m loss \u001B[38;5;241m=\u001B[39m loss_fn(pred, target)\n\u001B[0;32m---> 15\u001B[0m \u001B[43mloss\u001B[49m\u001B[38;5;241;43m.\u001B[39;49m\u001B[43mbackward\u001B[49m\u001B[43m(\u001B[49m\u001B[43m)\u001B[49m\n\u001B[1;32m     16\u001B[0m optimizer\u001B[38;5;241m.\u001B[39mstep()\n\u001B[1;32m     17\u001B[0m train_loss \u001B[38;5;241m+\u001B[39m\u001B[38;5;241m=\u001B[39m loss\u001B[38;5;241m.\u001B[39mitem()\n",
      "File \u001B[0;32m~/.virtualenvs/nnets/lib/python3.10/site-packages/torch/_tensor.py:488\u001B[0m, in \u001B[0;36mTensor.backward\u001B[0;34m(self, gradient, retain_graph, create_graph, inputs)\u001B[0m\n\u001B[1;32m    478\u001B[0m \u001B[38;5;28;01mif\u001B[39;00m has_torch_function_unary(\u001B[38;5;28mself\u001B[39m):\n\u001B[1;32m    479\u001B[0m     \u001B[38;5;28;01mreturn\u001B[39;00m handle_torch_function(\n\u001B[1;32m    480\u001B[0m         Tensor\u001B[38;5;241m.\u001B[39mbackward,\n\u001B[1;32m    481\u001B[0m         (\u001B[38;5;28mself\u001B[39m,),\n\u001B[0;32m   (...)\u001B[0m\n\u001B[1;32m    486\u001B[0m         inputs\u001B[38;5;241m=\u001B[39minputs,\n\u001B[1;32m    487\u001B[0m     )\n\u001B[0;32m--> 488\u001B[0m \u001B[43mtorch\u001B[49m\u001B[38;5;241;43m.\u001B[39;49m\u001B[43mautograd\u001B[49m\u001B[38;5;241;43m.\u001B[39;49m\u001B[43mbackward\u001B[49m\u001B[43m(\u001B[49m\n\u001B[1;32m    489\u001B[0m \u001B[43m    \u001B[49m\u001B[38;5;28;43mself\u001B[39;49m\u001B[43m,\u001B[49m\u001B[43m \u001B[49m\u001B[43mgradient\u001B[49m\u001B[43m,\u001B[49m\u001B[43m \u001B[49m\u001B[43mretain_graph\u001B[49m\u001B[43m,\u001B[49m\u001B[43m \u001B[49m\u001B[43mcreate_graph\u001B[49m\u001B[43m,\u001B[49m\u001B[43m \u001B[49m\u001B[43minputs\u001B[49m\u001B[38;5;241;43m=\u001B[39;49m\u001B[43minputs\u001B[49m\n\u001B[1;32m    490\u001B[0m \u001B[43m\u001B[49m\u001B[43m)\u001B[49m\n",
      "File \u001B[0;32m~/.virtualenvs/nnets/lib/python3.10/site-packages/torch/autograd/__init__.py:197\u001B[0m, in \u001B[0;36mbackward\u001B[0;34m(tensors, grad_tensors, retain_graph, create_graph, grad_variables, inputs)\u001B[0m\n\u001B[1;32m    192\u001B[0m     retain_graph \u001B[38;5;241m=\u001B[39m create_graph\n\u001B[1;32m    194\u001B[0m \u001B[38;5;66;03m# The reason we repeat same the comment below is that\u001B[39;00m\n\u001B[1;32m    195\u001B[0m \u001B[38;5;66;03m# some Python versions print out the first line of a multi-line function\u001B[39;00m\n\u001B[1;32m    196\u001B[0m \u001B[38;5;66;03m# calls in the traceback and some print out the last line\u001B[39;00m\n\u001B[0;32m--> 197\u001B[0m \u001B[43mVariable\u001B[49m\u001B[38;5;241;43m.\u001B[39;49m\u001B[43m_execution_engine\u001B[49m\u001B[38;5;241;43m.\u001B[39;49m\u001B[43mrun_backward\u001B[49m\u001B[43m(\u001B[49m\u001B[43m  \u001B[49m\u001B[38;5;66;43;03m# Calls into the C++ engine to run the backward pass\u001B[39;49;00m\n\u001B[1;32m    198\u001B[0m \u001B[43m    \u001B[49m\u001B[43mtensors\u001B[49m\u001B[43m,\u001B[49m\u001B[43m \u001B[49m\u001B[43mgrad_tensors_\u001B[49m\u001B[43m,\u001B[49m\u001B[43m \u001B[49m\u001B[43mretain_graph\u001B[49m\u001B[43m,\u001B[49m\u001B[43m \u001B[49m\u001B[43mcreate_graph\u001B[49m\u001B[43m,\u001B[49m\u001B[43m \u001B[49m\u001B[43minputs\u001B[49m\u001B[43m,\u001B[49m\n\u001B[1;32m    199\u001B[0m \u001B[43m    \u001B[49m\u001B[43mallow_unreachable\u001B[49m\u001B[38;5;241;43m=\u001B[39;49m\u001B[38;5;28;43;01mTrue\u001B[39;49;00m\u001B[43m,\u001B[49m\u001B[43m \u001B[49m\u001B[43maccumulate_grad\u001B[49m\u001B[38;5;241;43m=\u001B[39;49m\u001B[38;5;28;43;01mTrue\u001B[39;49;00m\u001B[43m)\u001B[49m\n",
      "\u001B[0;31mKeyboardInterrupt\u001B[0m: "
     ]
    }
   ],
   "source": [
    "EPOCHS = 2000\n",
    "DISPLAY_BATCHES = 8\n",
    "\n",
    "for epoch in range(EPOCHS):\n",
    "    # Run over the training examples\n",
    "    train_loss = 0\n",
    "    for batch, (sequence, target) in tqdm(enumerate(train)):\n",
    "        optimizer.zero_grad()\n",
    "        forced_target = target\n",
    "        # Alternate use of teacher forcing vs feeding back own inputs\n",
    "        if np.random.randint(2) == 0:\n",
    "            forced_target = target[:,0,:].unsqueeze(1)\n",
    "        hidden, pred = model(sequence, forced_target)\n",
    "        loss = loss_fn(pred, target)\n",
    "        loss.backward()\n",
    "        optimizer.step()\n",
    "        train_loss += loss.item()\n",
    "\n",
    "    if epoch % 10 == 0:\n",
    "        # Show text generated from training prompt as an example\n",
    "        # Don't feed in all of the train y sequences, just the first token\n",
    "        # The other y tokens will be predicted by the model and fed back in\n",
    "        sents = generate(sequence[:DISPLAY_BATCHES], target[:DISPLAY_BATCHES])\n",
    "        for sent in sents:\n",
    "            print(sent)\n",
    "\n",
    "        # Compute validation loss.  Unless you have a lot of training data, the validation loss won't decrease.\n",
    "        valid_loss = 0\n",
    "        with torch.no_grad():\n",
    "            for batch, (sequence, target) in enumerate(valid):\n",
    "                # Only feed in the first token of the actual target\n",
    "                hidden, pred = model(sequence, target[:,0,:].unsqueeze(1))\n",
    "                loss = loss_fn(pred, target)\n",
    "                valid_loss += loss.item()\n",
    "        print(f\"Epoch {epoch} train loss: {train_loss / len(train_dataset)} valid loss: {valid_loss / len(valid_dataset)}\")"
   ],
   "metadata": {
    "collapsed": false
   }
  },
  {
   "cell_type": "code",
   "execution_count": null,
   "outputs": [],
   "source": [],
   "metadata": {
    "collapsed": false
   }
  }
 ],
 "metadata": {
  "kernelspec": {
   "display_name": "Python 3",
   "language": "python",
   "name": "python3"
  },
  "language_info": {
   "codemirror_mode": {
    "name": "ipython",
    "version": 2
   },
   "file_extension": ".py",
   "mimetype": "text/x-python",
   "name": "python",
   "nbconvert_exporter": "python",
   "pygments_lexer": "ipython2",
   "version": "2.7.6"
  }
 },
 "nbformat": 4,
 "nbformat_minor": 0
}
