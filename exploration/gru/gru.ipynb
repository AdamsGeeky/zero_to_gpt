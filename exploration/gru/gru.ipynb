{
 "cells": [
  {
   "cell_type": "code",
   "execution_count": 92,
   "outputs": [],
   "source": [
    "#!pip install torch torchtext sentencepiece datasets\n",
    "# Try opus books dataset for translation - https://huggingface.co/datasets/opus_books"
   ],
   "metadata": {
    "collapsed": false
   }
  },
  {
   "cell_type": "code",
   "execution_count": 1,
   "outputs": [
    {
     "name": "stderr",
     "output_type": "stream",
     "text": [
      "/Users/vik/.virtualenvs/nnets/lib/python3.10/site-packages/tqdm/auto.py:22: TqdmWarning: IProgress not found. Please update jupyter and ipywidgets. See https://ipywidgets.readthedocs.io/en/stable/user_install.html\n",
      "  from .autonotebook import tqdm as notebook_tqdm\n"
     ]
    }
   ],
   "source": [
    "import numpy as np\n",
    "import torch\n",
    "from torch import nn\n",
    "import functorch\n",
    "import sys\n",
    "import os\n",
    "import math\n",
    "sys.path.append(os.path.abspath(\"../../data\"))\n",
    "\n",
    "DEVICE = torch.device(\"cuda\" if torch.cuda.is_available() else \"cpu\")\n",
    "BATCH_SIZE = 32\n",
    "SP_VOCAB_SIZE = 1000\n",
    "VOCAB_SIZE = SP_VOCAB_SIZE + 2\n",
    "CHUNK_LENGTH = 15\n",
    "Y_CHUNK_LENGTH = 15"
   ],
   "metadata": {
    "collapsed": false
   }
  },
  {
   "cell_type": "code",
   "execution_count": 2,
   "outputs": [
    {
     "name": "stderr",
     "output_type": "stream",
     "text": [
      "Found cached dataset cnn_dailymail (/Users/vik/.cache/huggingface/datasets/cnn_dailymail/3.0.0/3.0.0/1b3c71476f6d152c31c1730e83ccb08bcf23e348233f4fcc11e182248e6bf7de)\n",
      "100%|██████████| 3/3 [00:00<00:00, 153.97it/s]\n",
      "sentencepiece_trainer.cc(177) LOG(INFO) Running command: --input=tokens.txt --model_prefix=cnn --vocab_size=1000 --model_type=unigram\n",
      "sentencepiece_trainer.cc(77) LOG(INFO) Starts training with : \n",
      "trainer_spec {\n",
      "  input: tokens.txt\n",
      "  input_format: \n",
      "  model_prefix: cnn\n",
      "  model_type: UNIGRAM\n",
      "  vocab_size: 1000\n",
      "  self_test_sample_size: 0\n",
      "  character_coverage: 0.9995\n",
      "  input_sentence_size: 0\n",
      "  shuffle_input_sentence: 1\n",
      "  seed_sentencepiece_size: 1000000\n",
      "  shrinking_factor: 0.75\n",
      "  max_sentence_length: 4192\n",
      "  num_threads: 16\n",
      "  num_sub_iterations: 2\n",
      "  max_sentencepiece_length: 16\n",
      "  split_by_unicode_script: 1\n",
      "  split_by_number: 1\n",
      "  split_by_whitespace: 1\n",
      "  split_digits: 0\n",
      "  treat_whitespace_as_suffix: 0\n",
      "  required_chars: \n",
      "  byte_fallback: 0\n",
      "  vocabulary_output_piece_score: 1\n",
      "  train_extremely_large_corpus: 0\n",
      "  hard_vocab_limit: 1\n",
      "  use_all_vocab: 0\n",
      "  unk_id: 0\n",
      "  bos_id: 1\n",
      "  eos_id: 2\n",
      "  pad_id: -1\n",
      "  unk_piece: <unk>\n",
      "  bos_piece: <s>\n",
      "  eos_piece: </s>\n",
      "  pad_piece: <pad>\n",
      "  unk_surface:  ⁇ \n",
      "}\n",
      "normalizer_spec {\n",
      "  name: nmt_nfkc\n",
      "  add_dummy_prefix: 1\n",
      "  remove_extra_whitespaces: 1\n",
      "  escape_whitespaces: 1\n",
      "  normalization_rule_tsv: \n",
      "}\n",
      "denormalizer_spec {}\n",
      "trainer_interface.cc(319) LOG(INFO) SentenceIterator is not specified. Using MultiFileSentenceIterator.\n",
      "trainer_interface.cc(174) LOG(INFO) Loading corpus: tokens.txt\n",
      "trainer_interface.cc(375) LOG(INFO) Loaded all 4891 sentences\n",
      "trainer_interface.cc(390) LOG(INFO) Adding meta_piece: <unk>\n",
      "trainer_interface.cc(390) LOG(INFO) Adding meta_piece: <s>\n",
      "trainer_interface.cc(390) LOG(INFO) Adding meta_piece: </s>\n",
      "trainer_interface.cc(395) LOG(INFO) Normalizing sentences...\n",
      "trainer_interface.cc(456) LOG(INFO) all chars count=353186\n",
      "trainer_interface.cc(467) LOG(INFO) Done: 99.9578% characters are covered.\n",
      "trainer_interface.cc(477) LOG(INFO) Alphabet size=69\n",
      "trainer_interface.cc(478) LOG(INFO) Final character coverage=0.999578\n",
      "trainer_interface.cc(510) LOG(INFO) Done! preprocessed 4891 sentences.\n",
      "unigram_model_trainer.cc(138) LOG(INFO) Making suffix array...\n",
      "unigram_model_trainer.cc(142) LOG(INFO) Extracting frequent sub strings...\n",
      "unigram_model_trainer.cc(193) LOG(INFO) Initialized 24313 seed sentencepieces\n",
      "trainer_interface.cc(516) LOG(INFO) Tokenizing input sentences with whitespace: 4891\n",
      "trainer_interface.cc(526) LOG(INFO) Done! 13988\n",
      "unigram_model_trainer.cc(488) LOG(INFO) Using 13988 sentences for EM training\n",
      "unigram_model_trainer.cc(504) LOG(INFO) EM sub_iter=0 size=9933 obj=12.269 num_tokens=29046 num_tokens/piece=2.92419\n",
      "unigram_model_trainer.cc(504) LOG(INFO) EM sub_iter=1 size=8588 obj=10.4791 num_tokens=29306 num_tokens/piece=3.41244\n",
      "unigram_model_trainer.cc(504) LOG(INFO) EM sub_iter=0 size=6438 obj=10.5173 num_tokens=31293 num_tokens/piece=4.86067\n",
      "unigram_model_trainer.cc(504) LOG(INFO) EM sub_iter=1 size=6429 obj=10.4476 num_tokens=31320 num_tokens/piece=4.87168\n",
      "unigram_model_trainer.cc(504) LOG(INFO) EM sub_iter=0 size=4821 obj=10.7422 num_tokens=34496 num_tokens/piece=7.15536\n",
      "unigram_model_trainer.cc(504) LOG(INFO) EM sub_iter=1 size=4821 obj=10.6511 num_tokens=34504 num_tokens/piece=7.15702\n",
      "unigram_model_trainer.cc(504) LOG(INFO) EM sub_iter=0 size=3615 obj=11.064 num_tokens=38156 num_tokens/piece=10.5549\n",
      "unigram_model_trainer.cc(504) LOG(INFO) EM sub_iter=1 size=3615 obj=10.9584 num_tokens=38154 num_tokens/piece=10.5544\n",
      "unigram_model_trainer.cc(504) LOG(INFO) EM sub_iter=0 size=2711 obj=11.4504 num_tokens=42048 num_tokens/piece=15.5101\n",
      "unigram_model_trainer.cc(504) LOG(INFO) EM sub_iter=1 size=2711 obj=11.3421 num_tokens=42046 num_tokens/piece=15.5094\n",
      "unigram_model_trainer.cc(504) LOG(INFO) EM sub_iter=0 size=2033 obj=11.8841 num_tokens=45925 num_tokens/piece=22.5898\n",
      "unigram_model_trainer.cc(504) LOG(INFO) EM sub_iter=1 size=2033 obj=11.775 num_tokens=45921 num_tokens/piece=22.5878\n",
      "unigram_model_trainer.cc(504) LOG(INFO) EM sub_iter=0 size=1524 obj=12.3539 num_tokens=49519 num_tokens/piece=32.4928\n",
      "unigram_model_trainer.cc(504) LOG(INFO) EM sub_iter=1 size=1524 obj=12.2393 num_tokens=49532 num_tokens/piece=32.5013\n",
      "unigram_model_trainer.cc(504) LOG(INFO) EM sub_iter=0 size=1143 obj=12.8701 num_tokens=52687 num_tokens/piece=46.0954\n",
      "unigram_model_trainer.cc(504) LOG(INFO) EM sub_iter=1 size=1143 obj=12.748 num_tokens=52684 num_tokens/piece=46.0927\n",
      "unigram_model_trainer.cc(504) LOG(INFO) EM sub_iter=0 size=1100 obj=12.8227 num_tokens=53202 num_tokens/piece=48.3655\n",
      "unigram_model_trainer.cc(504) LOG(INFO) EM sub_iter=1 size=1100 obj=12.8041 num_tokens=53201 num_tokens/piece=48.3645\n",
      "trainer_interface.cc(604) LOG(INFO) Saving model: cnn.model\n",
      "trainer_interface.cc(615) LOG(INFO) Saving vocabs: cnn.vocab\n"
     ]
    }
   ],
   "source": [
    "from cnn_data import generate_data, decode_batch\n",
    "\n",
    "train, valid, test = generate_data(train_length=1000, valid_length=250, vocab_size=SP_VOCAB_SIZE, batch_size=BATCH_SIZE, chunk_length=CHUNK_LENGTH, y_chunk_length=Y_CHUNK_LENGTH, device=DEVICE)"
   ],
   "metadata": {
    "collapsed": false
   }
  },
  {
   "cell_type": "code",
   "execution_count": 58,
   "outputs": [],
   "source": [
    "class GRUEncoderCell(nn.Module):\n",
    "    def __init__(self, input_units, hidden_units, output_units):\n",
    "        super(GRUEncoderCell, self).__init__()\n",
    "        self.input_units = input_units\n",
    "        self.hidden_units = hidden_units\n",
    "        self.output_units = output_units\n",
    "\n",
    "        k = 1e-2\n",
    "        self.input_weights = nn.Parameter(torch.rand(3, input_units, hidden_units) * 2 * k - k)\n",
    "\n",
    "        self.hidden_weights = nn.Parameter(torch.rand(3, hidden_units, hidden_units) * 2 * k - k)\n",
    "        self.hidden_biases = nn.Parameter(torch.rand(2, 1, hidden_units) * 2 * k - k)\n",
    "\n",
    "        self.output_weight = nn.Parameter(torch.rand(hidden_units, output_units) * 2 * k - k)\n",
    "        self.output_bias = nn.Parameter(torch.rand(1, output_units) * 2 * k - k)\n",
    "\n",
    "    def forward(self, x, prev_hidden):\n",
    "        # Compute the regular RNN forward pass\n",
    "        # Compute update and reset gates for GRU\n",
    "        update_gate = torch.sigmoid(x @ self.input_weights[0,] + prev_hidden @ self.hidden_weights[0,] + self.hidden_biases[0,])\n",
    "        reset_gate = torch.sigmoid(x @ self.input_weights[1,] + prev_hidden @ self.hidden_weights[1,] + self.hidden_biases[1,])\n",
    "\n",
    "        # This is a potential new state based on the reset gate\n",
    "        proposed_state = torch.tanh(x @ self.input_weights[2,] + (prev_hidden * reset_gate) @ self.hidden_weights[2,])\n",
    "        hidden_x = torch.tanh((1-update_gate) * prev_hidden + update_gate * proposed_state)\n",
    "        # Compute output vector\n",
    "        output_y = hidden_x @ self.output_weight + self.output_bias\n",
    "        return output_y, hidden_x"
   ],
   "metadata": {
    "collapsed": false
   }
  },
  {
   "cell_type": "code",
   "execution_count": 71,
   "outputs": [],
   "source": [
    "class GRUDecoderCell(nn.Module):\n",
    "    def __init__(self, input_units, context_units, hidden_units, output_units):\n",
    "        super(GRUDecoderCell, self).__init__()\n",
    "        self.input_units = input_units\n",
    "        self.hidden_units = hidden_units\n",
    "        self.output_units = output_units\n",
    "\n",
    "        k = 1e-2\n",
    "\n",
    "        self.input_weights = nn.Parameter(torch.rand(3, input_units, hidden_units) * 2 * k - k)\n",
    "        self.hidden_weights = nn.Parameter(torch.rand(3, hidden_units, hidden_units) * 2 * k - k)\n",
    "\n",
    "        self.context_weights = nn.Parameter(torch.rand(3, context_units, hidden_units) * 2 * k - k)\n",
    "\n",
    "        self.hidden_biases = nn.Parameter(torch.rand(2, 1, hidden_units) * 2 * k - k)\n",
    "\n",
    "        self.hidden_attention_weight = nn.Parameter(torch.rand(hidden_units, hidden_units) * 2 * k - k)\n",
    "        self.context_attention_weight = nn.Parameter(torch.rand(context_units, hidden_units) * 2 * k - k)\n",
    "        self.attention_weight = nn.Parameter(torch.rand(1, hidden_units) * 2 * k - k)\n",
    "\n",
    "        self.output_weight = nn.Parameter(torch.rand(hidden_units, output_units) * 2 * k - k)\n",
    "        self.output_bias = nn.Parameter(torch.rand(1, output_units) * 2 * k - k)\n",
    "\n",
    "        self.batched_diag = functorch.vmap(torch.diag)\n",
    "\n",
    "    def forward(self, prev_y, prev_hidden, context):\n",
    "        # Compute attention between the encoder hidden states and the previous decoder hidden state\n",
    "\n",
    "        # Swap batch and sequence\n",
    "        batch_size = context.shape[1]\n",
    "\n",
    "        # Swap axes so the first dimension of context_attn is batch\n",
    "        context_attn = torch.bmm(context.swapaxes(0,1), self.context_attention_weight.unsqueeze(0).expand(batch_size,-1,-1))\n",
    "        # Swap back since prev_hidden is by batch.  This makes the first dim of cross sequence\n",
    "        cross = torch.tanh(context_attn.swapaxes(0,1) + prev_hidden @ self.hidden_attention_weight)\n",
    "        # This will be of dimension batch, sequence_length, 1\n",
    "        attention = torch.bmm(cross.swapaxes(0,1), self.attention_weight.T.unsqueeze(0).expand(batch_size, -1, -1))\n",
    "        # Drop the last singleton dimension\n",
    "        attention = attention.squeeze(2)\n",
    "        # Softmax the predictions across each batch\n",
    "        probs = torch.softmax(attention, 1)\n",
    "        diagonalized_probs = self.batched_diag(probs)\n",
    "        positional_contexts = torch.sum(torch.bmm(diagonalized_probs, context.swapaxes(0,1)), dim=1).reshape(batch_size, self.input_units)\n",
    "\n",
    "        # Compute GRU update and reset gates + proposed state and final hidden state\n",
    "        update_gate = torch.sigmoid(prev_y @ self.input_weights[0,] + prev_hidden @ self.hidden_weights[0,] + self.hidden_biases[0,] + positional_contexts @ self.context_weights[0,])\n",
    "        reset_gate = torch.sigmoid(prev_y @ self.input_weights[1,] + prev_hidden @ self.hidden_weights[1,] + self.hidden_biases[1,] + positional_contexts @ self.context_weights[1,])\n",
    "\n",
    "        proposed_state = torch.tanh(prev_y @ self.input_weights[2,] + (prev_hidden * reset_gate) @ self.hidden_weights[2,] + positional_contexts @ self.context_weights[2,])\n",
    "\n",
    "        hidden_x = torch.tanh((1-update_gate) * prev_hidden + update_gate * proposed_state)\n",
    "        # Compute output based on hidden state\n",
    "        output_y = hidden_x @ self.output_weight + self.output_bias\n",
    "        return output_y, hidden_x"
   ],
   "metadata": {
    "collapsed": false
   }
  },
  {
   "cell_type": "code",
   "execution_count": 72,
   "outputs": [],
   "source": [
    "class EncoderDecoder(nn.Module):\n",
    "    def __init__(self, in_sequence_len, out_sequence_len, hidden_units=512, embedding_len=VOCAB_SIZE, layers=2):\n",
    "        super(EncoderDecoder, self).__init__()\n",
    "        self.in_sequence_len = in_sequence_len\n",
    "        self.out_sequence_len = out_sequence_len\n",
    "        self.hidden_units = hidden_units\n",
    "        self.embedding_len = embedding_len\n",
    "        self.layers = layers\n",
    "\n",
    "        self.embedding = nn.Embedding(embedding_len, hidden_units)\n",
    "        self.encoders = nn.ModuleList([GRUEncoderCell(input_units=hidden_units, hidden_units=hidden_units, output_units=hidden_units) for _ in range(layers)])\n",
    "        self.decoders = nn.ModuleList([GRUDecoderCell(input_units=hidden_units, context_units=hidden_units, hidden_units=hidden_units, output_units=hidden_units) for _ in range(layers)])\n",
    "\n",
    "        self.linear = nn.Linear(in_features=hidden_units, out_features=embedding_len)\n",
    "\n",
    "    def forward(self, x, y):\n",
    "        batch_size = x.shape[0]\n",
    "        # Move batch to the second dimension, so sequence comes first\n",
    "        y = y.swapaxes(0,1)\n",
    "        # Embed the input sequence to reduce dimensionality\n",
    "        embedded = self.embedding(x).swapaxes(0,1)\n",
    "\n",
    "        # Encode the input sequence\n",
    "        # Both tensors will have sequence then batch\n",
    "        enc_hiddens = torch.zeros((1, self.layers, batch_size, self.hidden_units), device=DEVICE)\n",
    "        enc_outputs = torch.zeros((1, self.layers, batch_size, self.hidden_units), device=DEVICE)\n",
    "        for j in range(self.in_sequence_len):\n",
    "            seq_enc_hiddens = torch.zeros((1, batch_size, self.hidden_units), device=DEVICE)\n",
    "            seq_enc_outputs = embedded[j,:,:].unsqueeze(0).to(DEVICE)\n",
    "            for i in range(self.layers):\n",
    "                output, hidden = self.encoders[i](seq_enc_outputs[i,], enc_hiddens[j,i])\n",
    "                # Add first sequence axis\n",
    "                hidden = hidden.unsqueeze(0)\n",
    "                output = output.unsqueeze(0)\n",
    "                seq_enc_outputs = torch.cat((seq_enc_outputs, output), dim=0)\n",
    "                seq_enc_hiddens = torch.cat((seq_enc_hiddens, hidden), dim=0)\n",
    "\n",
    "            enc_hiddens = torch.cat((enc_hiddens, seq_enc_hiddens[1:].unsqueeze(0)), dim=0)\n",
    "            enc_outputs = torch.cat((enc_outputs, seq_enc_outputs[1:].unsqueeze(0)), dim=0)\n",
    "\n",
    "        # Decode to the output sequence\n",
    "        # Pass in context\n",
    "        context = enc_hiddens[1:,-1,:,:]\n",
    "        # Both tensors will have the first dimension be the sequence\n",
    "        dec_hiddens = torch.zeros(1, self.layers, batch_size, self.hidden_units, device=DEVICE)\n",
    "        dec_outputs = torch.zeros((1, self.layers, batch_size, self.hidden_units), device=DEVICE)\n",
    "        for j in range(self.out_sequence_len):\n",
    "            # Use either the actual previous y (from the input), or the generated y if the input sequence is shorter than the generation steps.\n",
    "            prev_y = y[j,:,:] if y.shape[0] > j else torch.softmax(dec_outputs[j,-1,:,:], dim=1)\n",
    "            # Run embedding over previous y state\n",
    "            prev_y = prev_y.argmax(dim=1).int()\n",
    "            prev_y = self.embedding(prev_y)\n",
    "\n",
    "            seq_dec_hiddens = torch.zeros((1, batch_size, self.hidden_units), device=DEVICE)\n",
    "            seq_dec_outputs = prev_y.unsqueeze(0).to(DEVICE)\n",
    "            for i in range(self.layers):\n",
    "                output, hidden = self.decoders[i](seq_dec_outputs[i,], dec_hiddens[j,i,], context)\n",
    "                # Add first sequence axis\n",
    "                hidden = hidden.unsqueeze(0)\n",
    "                output = output.unsqueeze(0)\n",
    "                seq_dec_outputs = torch.cat((seq_dec_outputs, output), dim=0)\n",
    "                seq_dec_hiddens = torch.cat((seq_dec_hiddens, hidden), dim=0)\n",
    "\n",
    "            dec_hiddens = torch.cat((dec_hiddens, seq_dec_hiddens[1:].unsqueeze(0)), dim=0)\n",
    "            dec_outputs = torch.cat((dec_outputs, seq_dec_outputs[1:].unsqueeze(0)), dim=0)\n",
    "\n",
    "        # Move batch back to axis 0\n",
    "        out_hiddens = dec_hiddens[1:,-1,:,:].swapaxes(0,1)\n",
    "        out_output = self.linear(dec_outputs[1:,-1,:,:].swapaxes(0,1))\n",
    "        return out_output, out_hiddens\n",
    "\n",
    "def generate(sequence, target, vocab_size):\n",
    "    pred, _ = model(sequence, target[:,0,:].unsqueeze(1))\n",
    "    prompts = decode_batch(sequence.cpu(), vocab_size=vocab_size)\n",
    "    texts = decode_batch(torch.argmax(pred, dim=2).cpu(), vocab_size=vocab_size)\n",
    "    correct_texts = decode_batch(torch.argmax(target, dim=2).cpu(), vocab_size=vocab_size)\n",
    "\n",
    "    displays = []\n",
    "    for p, t, ct in zip(prompts, texts, correct_texts):\n",
    "        displays.append(f\"{p} | {ct} | {t}\")\n",
    "    return displays"
   ],
   "metadata": {
    "collapsed": false
   }
  },
  {
   "cell_type": "code",
   "execution_count": 75,
   "outputs": [],
   "source": [
    "from tqdm.auto import tqdm\n",
    "model = EncoderDecoder(CHUNK_LENGTH, Y_CHUNK_LENGTH, hidden_units=512, layers=1).to(DEVICE)\n",
    "loss_fn = nn.CrossEntropyLoss()\n",
    "optimizer = torch.optim.AdamW(model.parameters(), lr=1e-3)"
   ],
   "metadata": {
    "collapsed": false
   }
  },
  {
   "cell_type": "code",
   "execution_count": null,
   "outputs": [
    {
     "name": "stderr",
     "output_type": "stream",
     "text": [
      "32it [00:07,  4.03it/s]\n"
     ]
    },
    {
     "name": "stdout",
     "output_type": "stream",
     "text": [
      "NEW: Georgian president criticizes Gorbachev for \" | NEW: Georgian president criticizes Gorbachev for | TheEWEWEWEWEW, with with with with with with with with\n",
      "19 schoolgirls and two adults die in | 19 schoolgirls and two adults die | TheEWEW:EWEWEWEWEWEWEWEWEWEWEW\n",
      "U.S. intelligence points to Pakistan | U.S. intelligence points to | TheEWEW: New TwEWeeEWEWee Thes\n",
      "Mother of murdered schoolboy Damilola Tay | Mother of murdered schoolboy Damilola T | TheEWEW: New TwEWEWEWEWEWEWEWEWEW\n",
      "NEW: Pope Benedict  ⁇ VI | NEW: Pope Benedict  ⁇ V | TheEWEWEWEWEW, with with with with with with with with\n",
      "Eight Florida teens to be tried as adults | Eight Florida teens to be tried as adult | TheEWEW:t TwEWEWEWEWEWEW Thess\n",
      "Judge on Heather Mills: Level of | Judge on Heather Mills: Level | TheEWEW:: TwEWEWEWEWEWEWEWEWEW\n",
      "President Harding's illegitimate daughter | President Harding's illegitimate | TheEWEW:EWEWEWEWEWEWEWEWEWEWEW\n",
      "Epoch 0 train loss: 1.2102768123149872 valid loss: 0.3133130967617035\n"
     ]
    },
    {
     "name": "stderr",
     "output_type": "stream",
     "text": [
      "32it [00:07,  4.01it/s]\n",
      "32it [00:07,  4.12it/s]\n",
      "32it [00:07,  4.03it/s]\n",
      "32it [00:07,  4.05it/s]\n",
      "32it [00:07,  4.05it/s]\n",
      "32it [00:07,  4.02it/s]\n",
      "32it [00:07,  4.02it/s]\n",
      "32it [00:08,  3.99it/s]\n",
      "32it [00:08,  3.93it/s]\n",
      "32it [00:08,  3.90it/s]\n"
     ]
    },
    {
     "name": "stdout",
     "output_type": "stream",
     "text": [
      "NEW: Georgian president criticizes Gorbachev for \" | NEW: Georgian president criticizes Gorbachev for | FormEW Police British Department Department Department a a a a a a a a\n",
      "19 schoolgirls and two adults die in | 19 schoolgirls and two adults die | TheEWReportology members'''''' un un un un\n",
      "U.S. intelligence points to Pakistan | U.S. intelligence points to | TheEWN Department re re'''' un un un un un\n",
      "Mother of murdered schoolboy Damilola Tay | Mother of murdered schoolboy Damilola T | TheEW force British,000,000,000,000,000,000,000,000,000,000,000\n",
      "NEW: Pope Benedict  ⁇ VI | NEW: Pope Benedict  ⁇ V | FormEW Police British Department members members members members members a a a a a\n",
      "Eight Florida teens to be tried as adults | Eight Florida teens to be tried as adult | TheEW countriesology''''' attempt attempt attempt un attempt attempt\n",
      "Judge on Heather Mills: Level of | Judge on Heather Mills: Level | TheEW force British leader leader,000,000 woman woman''' Mor Mor\n",
      "President Harding's illegitimate daughter | President Harding's illegitimate | The Bush,000 con con con con United United no United Unitedeee\n",
      "Epoch 10 train loss: 0.6566816754639149 valid loss: 0.32730839401483536\n"
     ]
    },
    {
     "name": "stderr",
     "output_type": "stream",
     "text": [
      "32it [00:08,  3.92it/s]\n",
      "32it [00:08,  3.87it/s]\n",
      "32it [00:08,  3.86it/s]\n",
      "32it [00:08,  3.94it/s]\n",
      "32it [00:08,  3.96it/s]\n",
      "32it [00:08,  3.87it/s]\n",
      "32it [00:08,  4.00it/s]\n",
      "32it [00:08,  3.96it/s]\n",
      "32it [00:07,  4.06it/s]\n",
      "32it [00:07,  4.04it/s]\n"
     ]
    },
    {
     "name": "stdout",
     "output_type": "stream",
     "text": [
      "NEW: Georgian president criticizes Gorbachev for \" | NEW: Georgian president criticizes Gorbachev for | FormEW British British video video,000tontontontontontontonton\n",
      "19 schoolgirls and two adults die in | 19 schoolgirls and two adults die | FBIEWN receive NATOhip mark custody custody11111 alleged\n",
      "U.S. intelligence points to Pakistan | U.S. intelligence points to | FBI British children memberstonton bomb bomb bomb bomb bomb arm arm arm arm\n",
      "Mother of murdered schoolboy Damilola Tay | Mother of murdered schoolboy Damilola T | FBI Bush British British,000,000tontontontontontontontonton\n",
      "NEW: Pope Benedict  ⁇ VI | NEW: Pope Benedict  ⁇ V | FormEW British British video videotontontontontontontontonton\n",
      "Eight Florida teens to be tried as adults | Eight Florida teens to be tried as adult | FBIEW countries McCain NATO NATO NATO NATO6 re re re re re re\n",
      "Judge on Heather Mills: Level of | Judge on Heather Mills: Level | FBIH week British British British British British British British McCain McCain McCain McCain McCain\n",
      "President Harding's illegitimate daughter | President Harding's illegitimate | FBI British United British British 7 7 7 7 7 7 7 7 7w\n",
      "Epoch 20 train loss: 0.53004219988361 valid loss: 0.35230984911322594\n"
     ]
    },
    {
     "name": "stderr",
     "output_type": "stream",
     "text": [
      "32it [00:07,  4.03it/s]\n",
      "32it [00:08,  3.93it/s]\n",
      "32it [00:08,  3.95it/s]\n",
      "32it [00:08,  3.98it/s]\n",
      "32it [00:07,  4.01it/s]\n",
      "32it [00:07,  4.08it/s]\n",
      "32it [00:08,  3.97it/s]\n",
      "32it [00:08,  3.90it/s]\n",
      "10it [00:02,  3.98it/s]"
     ]
    }
   ],
   "source": [
    "EPOCHS = 2000\n",
    "DISPLAY_BATCHES = 8\n",
    "\n",
    "for epoch in range(EPOCHS):\n",
    "    # Run over the training examples\n",
    "    train_loss = 0\n",
    "    for batch, (sequence, target, prev_target) in tqdm(enumerate(train)):\n",
    "        optimizer.zero_grad()\n",
    "        forced_target = prev_target\n",
    "        # Alternate use of teacher forcing vs feeding back own inputs\n",
    "        if np.random.randint(2) == 0:\n",
    "            forced_target = prev_target[:,0,:].unsqueeze(1)\n",
    "        pred, hidden = model(sequence, forced_target)\n",
    "        loss = loss_fn(pred, target)\n",
    "        loss.backward()\n",
    "        optimizer.step()\n",
    "        train_loss += loss.item()\n",
    "\n",
    "    with torch.no_grad():\n",
    "        if epoch % 10 == 0:\n",
    "            # Show text generated from training prompt as an example\n",
    "            # Don't feed in all of the train y sequences, just the first token\n",
    "            # The other y tokens will be predicted by the model and fed back in\n",
    "            sents = generate(sequence[:DISPLAY_BATCHES], prev_target[:DISPLAY_BATCHES], SP_VOCAB_SIZE)\n",
    "            for sent in sents:\n",
    "                print(sent)\n",
    "\n",
    "            # Compute validation loss.  Unless you have a lot of training data, the validation loss won't decrease.\n",
    "            valid_loss = 0\n",
    "            for batch, (sequence, target, prev_target) in enumerate(valid):\n",
    "                # Only feed in the first token of the actual target\n",
    "                pred, hidden = model(sequence, prev_target[:,0,:].unsqueeze(1))\n",
    "                loss = loss_fn(pred, target)\n",
    "                valid_loss += loss.item()\n",
    "            print(f\"Epoch {epoch} train loss: {train_loss} valid loss: {valid_loss}\")"
   ],
   "metadata": {
    "collapsed": false,
    "pycharm": {
     "is_executing": true
    }
   }
  },
  {
   "cell_type": "code",
   "execution_count": null,
   "outputs": [],
   "source": [],
   "metadata": {
    "collapsed": false
   }
  }
 ],
 "metadata": {
  "kernelspec": {
   "display_name": "Python 3",
   "language": "python",
   "name": "python3"
  },
  "language_info": {
   "codemirror_mode": {
    "name": "ipython",
    "version": 2
   },
   "file_extension": ".py",
   "mimetype": "text/x-python",
   "name": "python",
   "nbconvert_exporter": "python",
   "pygments_lexer": "ipython2",
   "version": "2.7.6"
  }
 },
 "nbformat": 4,
 "nbformat_minor": 0
}
