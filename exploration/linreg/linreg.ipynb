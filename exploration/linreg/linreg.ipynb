{
 "cells": [
  {
   "cell_type": "code",
   "execution_count": 69,
   "metadata": {
    "collapsed": true
   },
   "outputs": [],
   "source": [
    "import pandas as pd\n",
    "import numpy as np\n",
    "import math\n",
    "\n",
    "data = pd.read_csv(\"../../data/clean_weather.csv\", index_col=0)\n",
    "data = data.ffill()"
   ]
  },
  {
   "cell_type": "code",
   "execution_count": 70,
   "outputs": [],
   "source": [
    "data = data.ffill()\n",
    "PREDICTORS = [\"tmax\", \"tmin\", \"rain\"]\n",
    "TARGET = \"tmax_tomorrow\"\n",
    "\n",
    "split_data = np.split(data, [int(.7 * len(data)), int(.85 * len(data))])\n",
    "(train_x, train_y), (valid_x, valid_y), (test_x, test_y) = [[d[PREDICTORS].to_numpy(), d[[TARGET]].to_numpy()] for d in\n",
    "                                                            split_data]"
   ],
   "metadata": {
    "collapsed": false
   }
  },
  {
   "cell_type": "code",
   "execution_count": 71,
   "outputs": [],
   "source": [
    "def mse(actual, predicted):\n",
    "    return np.mean((actual - predicted) ** 2)\n",
    "\n",
    "\n",
    "def mse_grad(actual, predicted):\n",
    "    return (predicted - actual)"
   ],
   "metadata": {
    "collapsed": false
   }
  },
  {
   "cell_type": "code",
   "execution_count": 215,
   "outputs": [],
   "source": [
    "def init_params(predictors, targets):\n",
    "    k = math.sqrt(1 / predictors)\n",
    "    weights = np.random.rand(predictors, targets) * 2 * k - k\n",
    "    biases = np.ones((1, targets)) * 2 * k - k\n",
    "    return  [weights, biases]\n",
    "\n",
    "def forward(params, x):\n",
    "    weights, biases = params\n",
    "    prediction = x @ weights + biases\n",
    "    return prediction\n",
    "\n",
    "def backward(params, x, lr, grad):\n",
    "    w_grad = (x.T @ grad) / x.shape[0] / np.mean(x)\n",
    "    b_grad = np.mean(grad, axis=0)\n",
    "\n",
    "    params[0] -= w_grad * lr\n",
    "    params[1] -= b_grad * lr\n",
    "\n",
    "    return params"
   ],
   "metadata": {
    "collapsed": false
   }
  },
  {
   "cell_type": "code",
   "execution_count": 225,
   "outputs": [
    {
     "name": "stdout",
     "output_type": "stream",
     "text": [
      "Epoch 0 validation loss: 6571.960202799781\n",
      "Epoch 2500 validation loss: 22.084500916088228\n",
      "Epoch 5000 validation loss: 21.805369772490685\n",
      "Epoch 7500 validation loss: 21.642412830406148\n",
      "Epoch 10000 validation loss: 21.543413729583673\n",
      "Epoch 12500 validation loss: 21.480417208763782\n",
      "Epoch 15000 validation loss: 21.43822793784847\n",
      "Epoch 17500 validation loss: 21.40842988865444\n",
      "Epoch 20000 validation loss: 21.3862560754172\n",
      "Epoch 22500 validation loss: 21.36893614958532\n",
      "Epoch 25000 validation loss: 21.354814333227946\n",
      "Epoch 27500 validation loss: 21.34287178668064\n",
      "Epoch 30000 validation loss: 21.332463334258954\n",
      "Epoch 32500 validation loss: 21.323169214322775\n",
      "Epoch 35000 validation loss: 21.314709523518015\n",
      "Epoch 37500 validation loss: 21.30689349452886\n"
     ]
    }
   ],
   "source": [
    "lr = 1e-2\n",
    "epochs = 40000\n",
    "params = init_params(train_x.shape[1], train_y.shape[1])\n",
    "\n",
    "for i in range(epochs):\n",
    "    predictions = forward(params, train_x)\n",
    "    grad = mse_grad(train_y, predictions)\n",
    "\n",
    "    params = backward(params, train_x, lr, grad)\n",
    "\n",
    "    if i % 2500 == 0:\n",
    "        predictions = forward(params, valid_x)\n",
    "        valid_loss = mse(valid_y, predictions)\n",
    "\n",
    "        print(f\"Epoch {i} validation loss: {valid_loss}\")"
   ],
   "metadata": {
    "collapsed": false
   }
  },
  {
   "cell_type": "code",
   "execution_count": 226,
   "outputs": [
    {
     "data": {
      "text/plain": "[array([[ 0.7263088 ],\n        [ 0.17744623],\n        [-0.26382715]]),\n array([[8.94199041]])]"
     },
     "execution_count": 226,
     "metadata": {},
     "output_type": "execute_result"
    }
   ],
   "source": [
    "params"
   ],
   "metadata": {
    "collapsed": false
   }
  },
  {
   "cell_type": "code",
   "execution_count": 227,
   "outputs": [
    {
     "data": {
      "text/plain": "22.557199730563976"
     },
     "execution_count": 227,
     "metadata": {},
     "output_type": "execute_result"
    }
   ],
   "source": [
    "predictions = forward(params, test_x)\n",
    "mse(test_y, predictions)"
   ],
   "metadata": {
    "collapsed": false
   }
  }
 ],
 "metadata": {
  "kernelspec": {
   "display_name": "Python 3",
   "language": "python",
   "name": "python3"
  },
  "language_info": {
   "codemirror_mode": {
    "name": "ipython",
    "version": 2
   },
   "file_extension": ".py",
   "mimetype": "text/x-python",
   "name": "python",
   "nbconvert_exporter": "python",
   "pygments_lexer": "ipython2",
   "version": "2.7.6"
  }
 },
 "nbformat": 4,
 "nbformat_minor": 0
}
