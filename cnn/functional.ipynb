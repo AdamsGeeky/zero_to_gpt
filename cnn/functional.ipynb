{
 "cells": [
  {
   "cell_type": "code",
   "execution_count": 14,
   "metadata": {
    "collapsed": true
   },
   "outputs": [],
   "source": [
    "import os\n",
    "from PIL import Image\n",
    "import numpy as np\n",
    "\n",
    "IMAGE_DIR = \"images\"\n",
    "FOLDERS = [f for f in os.listdir(IMAGE_DIR) if \"DS_Store\" not in f]"
   ]
  },
  {
   "cell_type": "code",
   "execution_count": 30,
   "outputs": [],
   "source": [
    "images = []\n",
    "\n",
    "for i, folder in enumerate(FOLDERS):\n",
    "    fname = os.path.join(IMAGE_DIR, folder)\n",
    "    for im in os.listdir(fname):\n",
    "        impath = os.path.join(fname, im)\n",
    "        img = Image.open(impath)\n",
    "        data = np.asarray(img, dtype=\"int32\")\n",
    "        # Scale values from -1 to 1\n",
    "        data = ((data / 255) - .5) / .5\n",
    "        data = np.moveaxis(data, -1, 0)\n",
    "        images.append((data, folder, i))"
   ],
   "metadata": {
    "collapsed": false
   }
  },
  {
   "cell_type": "code",
   "execution_count": 22,
   "outputs": [],
   "source": [
    "def log_loss(predicted, actual):\n",
    "    predicted = predicted / np.sum(predicted, axis=0)\n",
    "    actual = actual / np.sum(actual, axis=0)\n",
    "    return np.log(actual) - np.log(predicted)"
   ],
   "metadata": {
    "collapsed": false
   }
  },
  {
   "cell_type": "code",
   "execution_count": 66,
   "outputs": [],
   "source": [
    "def init_layers(layer_defs):\n",
    "    layers = []\n",
    "    for i in range(1, len(layer_defs)):\n",
    "        if \"input_units\" in layer_defs[i]:\n",
    "            last_units = layer_defs[i][\"input_units\"]\n",
    "        else:\n",
    "            last_units = layer_defs[i-1][\"units\"]\n",
    "\n",
    "        biases = np.ones((1,layer_defs[i][\"units\"]))\n",
    "        if layer_defs[i][\"type\"] == \"cnn\":\n",
    "            weights = np.random.rand(layer_defs[i-1][\"units\"], layer_defs[i][\"units\"], layer_defs[i][\"kernel_size\"], layer_defs[i][\"kernel_size\"])\n",
    "        else:\n",
    "            weights = np.random.rand(last_units, layer_defs[i][\"units\"]) / 5 - .1\n",
    "\n",
    "        layers.append([\n",
    "            weights,\n",
    "            biases,\n",
    "            layer_defs[i][\"type\"]\n",
    "        ])\n",
    "    return layers"
   ],
   "metadata": {
    "collapsed": false
   }
  },
  {
   "cell_type": "code",
   "execution_count": 58,
   "outputs": [],
   "source": [
    "def unroll_image(image, kernel_x, kernel_y):\n",
    "    x_size = (image.shape[0] - (kernel_x - 1))\n",
    "    y_size = (image.shape[1] - (kernel_y - 1))\n",
    "    rows =  x_size * y_size\n",
    "    unrolled = np.zeros((rows, kernel_x * kernel_y))\n",
    "    for x in range(0, x_size):\n",
    "        for y in range(0, y_size):\n",
    "            unrolled[y + (x * y_size),:] = image[x:(x+kernel_x),y:(y+kernel_y)].reshape((1,kernel_x * kernel_y))\n",
    "    return unrolled"
   ],
   "metadata": {
    "collapsed": false
   }
  },
  {
   "cell_type": "code",
   "execution_count": 70,
   "outputs": [],
   "source": [
    "def forward(batch, layers):\n",
    "    hidden = [batch.copy()]\n",
    "    for i in range(len(layers)):\n",
    "        if layers[i][2] == \"cnn\":\n",
    "            channels, next_channels, kernel_x, kernel_y = layers[i][0].shape\n",
    "\n",
    "            new_x = batch.shape[1] - (kernel_x - 1)\n",
    "            new_y = batch.shape[2] - (kernel_y - 1)\n",
    "            next_batch = np.zeros((next_channels, new_x , new_y))\n",
    "            for channel in range(channels):\n",
    "                unrolled = unroll_image(batch[channel,:], kernel_x, kernel_y)\n",
    "                for next_channel in range(next_channels):\n",
    "                    kernel = layers[i][0][channel, next_channel, :].reshape(kernel_x * kernel_y,1)\n",
    "                    mult = np.matmul(unrolled, kernel).reshape(new_x, new_y)\n",
    "                    next_batch[next_channel,:] += mult\n",
    "            next_batch /= batch.shape[0]\n",
    "            batch = next_batch\n",
    "        else:\n",
    "            if layers[i-1][2] == \"cnn\":\n",
    "                batch = batch.reshape(batch.shape[0], batch.shape[1] * batch.shape[2])\n",
    "            batch = np.matmul(batch, layers[i][0]) + layers[i][1]\n",
    "            hidden.append(batch.copy())\n",
    "            if i < len(layers) - 1:\n",
    "                batch = np.maximum(batch, 0)\n",
    "\n",
    "    return layers, batch, hidden"
   ],
   "metadata": {
    "collapsed": false
   }
  },
  {
   "cell_type": "code",
   "execution_count": 63,
   "outputs": [
    {
     "ename": "TypeError",
     "evalue": "unroll_image() missing 1 required positional argument: 'kernel_y'",
     "output_type": "error",
     "traceback": [
      "\u001B[0;31m---------------------------------------------------------------------------\u001B[0m",
      "\u001B[0;31mTypeError\u001B[0m                                 Traceback (most recent call last)",
      "Cell \u001B[0;32mIn[63], line 1\u001B[0m\n\u001B[0;32m----> 1\u001B[0m np\u001B[38;5;241m.\u001B[39mmatmul(\u001B[43munroll_image\u001B[49m\u001B[43m(\u001B[49m\u001B[43mimages\u001B[49m\u001B[43m[\u001B[49m\u001B[38;5;241;43m0\u001B[39;49m\u001B[43m]\u001B[49m\u001B[43m[\u001B[49m\u001B[38;5;241;43m0\u001B[39;49m\u001B[43m]\u001B[49m\u001B[43m[\u001B[49m\u001B[38;5;241;43m0\u001B[39;49m\u001B[43m,\u001B[49m\u001B[43m:\u001B[49m\u001B[43m]\u001B[49m\u001B[43m,\u001B[49m\u001B[43m \u001B[49m\u001B[38;5;241;43m2\u001B[39;49m\u001B[43m)\u001B[49m, np\u001B[38;5;241m.\u001B[39marray([[\u001B[38;5;241m.5\u001B[39m], [\u001B[38;5;241m.4\u001B[39m], [\u001B[38;5;241m.2\u001B[39m], [\u001B[38;5;241m-\u001B[39m\u001B[38;5;241m.1\u001B[39m]]))\u001B[38;5;241m.\u001B[39mreshape(\u001B[38;5;241m255\u001B[39m,\u001B[38;5;241m255\u001B[39m)\n",
      "\u001B[0;31mTypeError\u001B[0m: unroll_image() missing 1 required positional argument: 'kernel_y'"
     ]
    }
   ],
   "source": [
    "np.matmul(unroll_image(images[0][0][0,:], 2), np.array([[.5], [.4], [.2], [-.1]])).reshape(255,255)"
   ],
   "metadata": {
    "collapsed": false
   }
  },
  {
   "cell_type": "code",
   "execution_count": 36,
   "outputs": [
    {
     "data": {
      "text/plain": "array([[-0.04313725, -0.01176471, -0.02745098],\n       [-0.18431373, -0.1372549 , -0.05882353],\n       [-0.0745098 , -0.1372549 , -0.16078431]])"
     },
     "execution_count": 36,
     "metadata": {},
     "output_type": "execute_result"
    }
   ],
   "source": [
    "forward(images[0][0][0,:3,:3])"
   ],
   "metadata": {
    "collapsed": false
   }
  },
  {
   "cell_type": "code",
   "execution_count": 72,
   "outputs": [],
   "source": [
    "layer_defs = [\n",
    "    {\"type\": \"input\", \"units\": 3},\n",
    "    {\"type\": \"cnn\", \"kernel_size\": 3, \"units\": 1},\n",
    "    {\"type\": \"dense\", \"input_units\": 254 * 254, \"units\": 5}\n",
    "]\n",
    "\n",
    "layers = init_layers(layer_defs)"
   ],
   "metadata": {
    "collapsed": false
   }
  },
  {
   "cell_type": "code",
   "execution_count": 73,
   "outputs": [
    {
     "data": {
      "text/plain": "([[array([[[[0.09503772, 0.87544855, 0.92389415],\n            [0.45044165, 0.8539882 , 0.02307905],\n            [0.1923502 , 0.68447098, 0.01045441]]],\n   \n   \n          [[[0.15377495, 0.89318302, 0.28731533],\n            [0.51132584, 0.14311928, 0.25354344],\n            [0.48025753, 0.26038965, 0.6647432 ]]],\n   \n   \n          [[[0.89456913, 0.67264832, 0.29694808],\n            [0.42990348, 0.10850559, 0.83958514],\n            [0.60568952, 0.83011678, 0.77833648]]]]),\n   array([[1.]]),\n   'cnn'],\n  [array([[-0.0457085 ,  0.00060825, -0.03002156,  0.06810297,  0.06141844],\n          [ 0.06844561, -0.00603317, -0.00689269, -0.05096878,  0.05526585],\n          [ 0.01379876,  0.01190915,  0.03416909, -0.01606225, -0.06698483],\n          ...,\n          [-0.08963875, -0.09277641, -0.091673  ,  0.05078235,  0.07784433],\n          [ 0.03077603, -0.06850821, -0.07995848,  0.0124015 , -0.00410853],\n          [ 0.08598231, -0.08312066,  0.04995632,  0.03172993,  0.09182937]]),\n   array([[1., 1., 1., 1., 1.]]),\n   'dense']],\n array([[41.11374938,  1.50196215, 13.00711102, 28.88046741,  2.67763974]]),\n [array([[[-0.04313725, -0.01176471, -0.02745098, ..., -0.23137255,\n           -0.23137255, -0.23137255],\n          [-0.18431373, -0.1372549 , -0.05882353, ..., -0.22352941,\n           -0.22352941, -0.22352941],\n          [-0.0745098 , -0.1372549 , -0.16078431, ..., -0.23137255,\n           -0.23137255, -0.23137255],\n          ...,\n          [ 0.25490196,  0.16078431,  0.2627451 , ..., -0.48235294,\n           -0.49019608, -0.50588235],\n          [ 0.34901961,  0.43529412,  0.49019608, ..., -0.4745098 ,\n           -0.45098039, -0.46666667],\n          [ 0.30980392,  0.62352941,  0.4745098 , ..., -0.46666667,\n           -0.42745098, -0.43529412]],\n  \n         [[ 0.09803922,  0.12941176,  0.09803922, ..., -0.04313725,\n           -0.04313725, -0.04313725],\n          [-0.05882353, -0.01176471,  0.06666667, ..., -0.03529412,\n           -0.03529412, -0.03529412],\n          [ 0.03529412, -0.02745098, -0.05098039, ..., -0.04313725,\n           -0.04313725, -0.04313725],\n          ...,\n          [ 0.09019608, -0.00392157,  0.09803922, ..., -0.58431373,\n           -0.59215686, -0.60784314],\n          [ 0.16862745,  0.25490196,  0.30980392, ..., -0.57647059,\n           -0.55294118, -0.56862745],\n          [ 0.12941176,  0.44313725,  0.29411765, ..., -0.56862745,\n           -0.52941176, -0.5372549 ]],\n  \n         [[ 0.20784314,  0.23921569,  0.21568627, ...,  0.31764706,\n            0.31764706,  0.31764706],\n          [ 0.04313725,  0.09019608,  0.16862745, ...,  0.3254902 ,\n            0.3254902 ,  0.3254902 ],\n          [ 0.10588235,  0.04313725,  0.01960784, ...,  0.31764706,\n            0.31764706,  0.31764706],\n          ...,\n          [ 0.16078431,  0.06666667,  0.16862745, ..., -0.44313725,\n           -0.45098039, -0.46666667],\n          [ 0.24705882,  0.33333333,  0.38823529, ..., -0.43529412,\n           -0.41176471, -0.42745098],\n          [ 0.20784314,  0.52156863,  0.37254902, ..., -0.42745098,\n           -0.38823529, -0.39607843]]]),\n  array([[41.11374938,  1.50196215, 13.00711102, 28.88046741,  2.67763974]])])"
     },
     "execution_count": 73,
     "metadata": {},
     "output_type": "execute_result"
    }
   ],
   "source": [
    "forward(images[0][0], layers)"
   ],
   "metadata": {
    "collapsed": false
   }
  },
  {
   "cell_type": "code",
   "execution_count": null,
   "outputs": [],
   "source": [],
   "metadata": {
    "collapsed": false
   }
  }
 ],
 "metadata": {
  "kernelspec": {
   "display_name": "Python 3",
   "language": "python",
   "name": "python3"
  },
  "language_info": {
   "codemirror_mode": {
    "name": "ipython",
    "version": 2
   },
   "file_extension": ".py",
   "mimetype": "text/x-python",
   "name": "python",
   "nbconvert_exporter": "python",
   "pygments_lexer": "ipython2",
   "version": "2.7.6"
  }
 },
 "nbformat": 4,
 "nbformat_minor": 0
}
