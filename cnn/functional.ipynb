{
 "cells": [
  {
   "cell_type": "code",
   "execution_count": 324,
   "metadata": {
    "collapsed": true
   },
   "outputs": [],
   "source": [
    "import os\n",
    "from PIL import Image\n",
    "import numpy as np\n",
    "import random\n",
    "import math\n",
    "\n",
    "IMAGE_DIR = \"images\"\n",
    "FOLDERS = [f for f in os.listdir(IMAGE_DIR) if \"DS_Store\" not in f]"
   ]
  },
  {
   "cell_type": "code",
   "execution_count": 501,
   "outputs": [],
   "source": [
    "train, valid, test = [], [], []\n",
    "valid_cutoff = .8\n",
    "test_cutoff = .9\n",
    "\n",
    "for i, folder in enumerate(FOLDERS):\n",
    "    fname = os.path.join(IMAGE_DIR, folder)\n",
    "    for im in os.listdir(fname):\n",
    "        impath = os.path.join(fname, im)\n",
    "        img = Image.open(impath)\n",
    "        data = np.asarray(img, dtype=\"int32\")\n",
    "        # Scale values from -1 to 1\n",
    "        data = ((data / 255) - .5) / .5\n",
    "        data = np.moveaxis(data, -1, 0)\n",
    "        target = np.zeros((1, len(FOLDERS)))\n",
    "        target[0,i] = 1\n",
    "        row = (data, target, folder, )\n",
    "\n",
    "        split = random.random()\n",
    "        if split > test_cutoff:\n",
    "            test.append(row)\n",
    "        elif split > valid_cutoff:\n",
    "            valid.append(row)\n",
    "        else:\n",
    "            train.append(row)"
   ],
   "metadata": {
    "collapsed": false
   }
  },
  {
   "cell_type": "code",
   "execution_count": 436,
   "outputs": [],
   "source": [
    "def log_loss(predicted, actual):\n",
    "    tol = 1e-6\n",
    "    cross_entropy = actual * np.log(predicted + tol)\n",
    "    return -np.sum(cross_entropy)"
   ],
   "metadata": {
    "collapsed": false
   }
  },
  {
   "cell_type": "code",
   "execution_count": 477,
   "outputs": [],
   "source": [
    "def log_loss_grad(predicted, actual):\n",
    "    return predicted - actual"
   ],
   "metadata": {
    "collapsed": false
   }
  },
  {
   "cell_type": "code",
   "execution_count": 396,
   "outputs": [],
   "source": [
    "def softmax(preds):\n",
    "    tol = 1e-6\n",
    "    preds = np.exp(preds - np.max(preds))\n",
    "    return preds / (np.sum(preds) - tol)"
   ],
   "metadata": {
    "collapsed": false
   }
  },
  {
   "cell_type": "code",
   "execution_count": 330,
   "outputs": [],
   "source": [
    "def init_layers(layer_defs):\n",
    "    layers = []\n",
    "    for i in range(1, len(layer_defs)):\n",
    "        if \"input_units\" in layer_defs[i]:\n",
    "            last_units = layer_defs[i][\"input_units\"]\n",
    "        else:\n",
    "            last_units = layer_defs[i-1][\"units\"]\n",
    "\n",
    "        biases = np.ones((1,layer_defs[i][\"units\"]))\n",
    "        if layer_defs[i][\"type\"] == \"cnn\":\n",
    "            weights = np.random.rand(layer_defs[i-1][\"units\"], layer_defs[i][\"units\"], layer_defs[i][\"kernel_size\"], layer_defs[i][\"kernel_size\"])\n",
    "        else:\n",
    "            weights = np.random.rand(last_units, layer_defs[i][\"units\"])\n",
    "\n",
    "        weights = weights / 5 - .1\n",
    "\n",
    "        layers.append([\n",
    "            weights,\n",
    "            biases,\n",
    "            layer_defs[i][\"type\"]\n",
    "        ])\n",
    "    return layers"
   ],
   "metadata": {
    "collapsed": false
   }
  },
  {
   "cell_type": "code",
   "execution_count": 331,
   "outputs": [],
   "source": [
    "def unroll_image(image, kernel_x, kernel_y):\n",
    "    x_size = (image.shape[0] - (kernel_x - 1))\n",
    "    y_size = (image.shape[1] - (kernel_y - 1))\n",
    "    rows =  x_size * y_size\n",
    "    unrolled = np.zeros((rows, kernel_x * kernel_y))\n",
    "    for x in range(0, x_size):\n",
    "        for y in range(0, y_size):\n",
    "            unrolled[y + (x * y_size),:] = image[x:(x+kernel_x),y:(y+kernel_y)].reshape((1,kernel_x * kernel_y))\n",
    "    return unrolled\n",
    "\n",
    "def convolve(image, kernel):\n",
    "    return np.matmul(image, kernel.reshape(kernel.shape[0] * kernel.shape[1], 1))"
   ],
   "metadata": {
    "collapsed": false
   }
  },
  {
   "cell_type": "code",
   "execution_count": 523,
   "outputs": [],
   "source": [
    "def forward(batch, layers):\n",
    "    hidden = [batch.copy()]\n",
    "    for i in range(len(layers)):\n",
    "        if layers[i][2] == \"cnn\":\n",
    "            channels, next_channels, kernel_x, kernel_y = layers[i][0].shape\n",
    "\n",
    "            new_x = batch.shape[1] - (kernel_x - 1)\n",
    "            new_y = batch.shape[2] - (kernel_y - 1)\n",
    "            next_batch = np.zeros((next_channels, new_x , new_y))\n",
    "            for channel in range(channels):\n",
    "                unrolled = unroll_image(batch[channel,:], kernel_x, kernel_y)\n",
    "                for next_channel in range(next_channels):\n",
    "                    kernel = layers[i][0][channel, next_channel, :]\n",
    "                    mult = convolve(unrolled, kernel).reshape(new_x, new_y)\n",
    "                    next_batch[next_channel,:] += mult\n",
    "            next_batch /= batch.shape[0]\n",
    "\n",
    "            hidden.append(next_batch.copy())\n",
    "            next_batch = np.maximum(next_batch, 0)\n",
    "            batch = next_batch\n",
    "        else:\n",
    "            if layers[i-1][2] == \"cnn\":\n",
    "                batch = batch.reshape(batch.shape[0], batch.shape[1] * batch.shape[2])\n",
    "            batch = np.matmul(batch, layers[i][0]) + layers[i][1]\n",
    "            hidden.append(batch.copy())\n",
    "            if i < len(layers) - 1:\n",
    "                batch = np.maximum(batch, 0)\n",
    "\n",
    "    return batch, hidden"
   ],
   "metadata": {
    "collapsed": false
   }
  },
  {
   "cell_type": "code",
   "execution_count": 524,
   "outputs": [],
   "source": [
    "def backward(layers, hidden, grad, lr, verbose=False):\n",
    "    for i in range(len(layers)-1, -1, -1):\n",
    "        print(f\"Layer {i}\") if verbose else None\n",
    "\n",
    "        if layers[i][2] == \"cnn\":\n",
    "            grad = grad.reshape(hidden[i+1].shape)\n",
    "            if i != len(layers) - 1:\n",
    "                grad = np.multiply(grad, np.heaviside(hidden[i+1], 1))\n",
    "            _, kernel_x, kernel_y = grad.shape\n",
    "            print(f\"Grad shape {grad.shape}\") if verbose else None\n",
    "\n",
    "            new_grad = np.zeros(hidden[i].shape)\n",
    "            for channel in range(hidden[i].shape[0]):\n",
    "                # With multi-channel output, you need to loop across the output grads to link to input channel kernels\n",
    "                # Each kernel gets a unique update\n",
    "                for next_channel in range(hidden[i+1].shape[0]):\n",
    "                    # Kernel update\n",
    "                    flat_input = unroll_image(hidden[i][channel,:], kernel_x, kernel_y)\n",
    "                    channel_grad = grad[next_channel,:]\n",
    "                    flat_grad = channel_grad.reshape(math.prod(channel_grad.shape), 1)\n",
    "                    k_grad = np.matmul(flat_input, flat_grad).reshape(layers[i][0].shape[2], layers[i][0].shape[3])\n",
    "                    grad_norm = math.prod(channel_grad.shape)\n",
    "                    layers[i][0][channel,next_channel,:] -= (k_grad * lr) / grad_norm\n",
    "                    print(f\"k_grad: {k_grad.shape}\") if verbose else None\n",
    "\n",
    "                    # Grad to lower layer\n",
    "                    flipped_kernel = np.flip(layers[i][0][channel,next_channel,:], axis=[0,1])\n",
    "                    padded_x = (flipped_kernel.shape[0] - 1)\n",
    "                    padded_y = (flipped_kernel.shape[1] - 1)\n",
    "                    padded_grad = np.pad(channel_grad, ((padded_x, padded_x),  (padded_y, padded_y)))\n",
    "                    flat_padded = unroll_image(padded_grad, flipped_kernel.shape[0], flipped_kernel.shape[1])\n",
    "                    flat_kernel = flipped_kernel.reshape(math.prod(flipped_kernel.shape), 1)\n",
    "                    updated_grad = np.matmul(flat_padded, flat_kernel).reshape(hidden[i].shape[1], hidden[i].shape[2])\n",
    "                    new_grad[channel, :] = updated_grad\n",
    "            grad = new_grad\n",
    "        else:\n",
    "            if i != len(layers) - 1:\n",
    "                grad = np.multiply(grad, np.heaviside(hidden[i+1], 1))\n",
    "            grad = grad.T\n",
    "            print(f\"starting grad: {grad.shape}\") if verbose else None\n",
    "            w_grad = np.matmul(grad, hidden[i].reshape(1, math.prod(hidden[i].shape))).T\n",
    "            print(f\"w_grad: {w_grad.shape}\") if verbose else None\n",
    "            b_grad = grad.T\n",
    "\n",
    "            layers[i][0] -= w_grad * lr\n",
    "            layers[i][1] -= b_grad * lr\n",
    "\n",
    "            grad = np.matmul(layers[i][0], grad).T\n",
    "            print(f\"ending grad: {grad.shape}\") if verbose else None\n",
    "    return layers"
   ],
   "metadata": {
    "collapsed": false
   }
  },
  {
   "cell_type": "code",
   "execution_count": null,
   "outputs": [
    {
     "name": "stdout",
     "output_type": "stream",
     "text": [
      "Batch loss: [[-0.79666816  0.19627529  0.20398767  0.20401958  0.19238583]]\n"
     ]
    }
   ],
   "source": [
    "layer_defs = [\n",
    "    {\"type\": \"input\", \"units\": 3},\n",
    "    {\"type\": \"cnn\", \"kernel_size\": 2, \"units\": 2},\n",
    "    {\"type\": \"cnn\", \"kernel_size\": 3, \"units\": 1},\n",
    "    {\"type\": \"dense\", \"input_units\": 253 * 253, \"units\": 5}\n",
    "]\n",
    "lr = 5e-3\n",
    "epochs = 2\n",
    "\n",
    "layers = init_layers(layer_defs)\n",
    "for epoch in range(epochs+1):\n",
    "    epoch_loss = np.zeros(train[0][1].shape)\n",
    "    for i, img in enumerate(train):\n",
    "        image, target, label = img\n",
    "        batch, hidden = forward(image, layers)\n",
    "\n",
    "        grad = log_loss_grad(softmax(batch), target)\n",
    "        epoch_loss += grad\n",
    "        layers = backward(layers, hidden, grad, lr)\n",
    "        if i% 250 == 0:\n",
    "            print(f\"Batch loss: {grad}\")\n",
    "\n",
    "    valid_preds = []\n",
    "    match = np.zeros(len(valid))\n",
    "    for i, img in enumerate(valid):\n",
    "        image, target, label = img\n",
    "        valid_pred, _ = forward(image, layers)\n",
    "        valid_preds.append(softmax(valid_pred))\n",
    "        match[i] = np.argmax(valid_pred) == np.argmax(target)\n",
    "\n",
    "    print(f\"Epoch {epoch} loss: {match.sum() / match.shape[0]}\")"
   ],
   "metadata": {
    "collapsed": false,
    "pycharm": {
     "is_executing": true
    }
   }
  },
  {
   "cell_type": "code",
   "execution_count": 509,
   "outputs": [
    {
     "data": {
      "text/plain": "0.2988505747126437"
     },
     "execution_count": 509,
     "metadata": {},
     "output_type": "execute_result"
    }
   ],
   "source": [
    "test_preds = []\n",
    "match = np.zeros(len(test))\n",
    "for i, img in enumerate(test):\n",
    "    image, target, label = img\n",
    "    test_pred, _ = forward(image, layers)\n",
    "    test_preds.append(softmax(test_pred))\n",
    "    match[i] = np.argmax(test_pred) == np.argmax(target)\n",
    "\n",
    "match.sum() / match.shape[0]"
   ],
   "metadata": {
    "collapsed": false
   }
  },
  {
   "cell_type": "code",
   "execution_count": 520,
   "outputs": [
    {
     "data": {
      "text/plain": "array([[ 0.079473  , -0.05180835, -0.02376148],\n       [-0.05118403,  0.05303721, -0.06934482],\n       [ 0.06084819, -0.0972187 ,  0.06903352]])"
     },
     "execution_count": 520,
     "metadata": {},
     "output_type": "execute_result"
    }
   ],
   "source": [
    "np.flip(layers[0][0][1,0,:], axis=[0,1])"
   ],
   "metadata": {
    "collapsed": false
   }
  },
  {
   "cell_type": "code",
   "execution_count": 492,
   "outputs": [
    {
     "data": {
      "text/plain": "<IPython.lib.display.Audio object>",
      "text/html": "\n                <audio  controls=\"controls\" autoplay=\"autoplay\">\n                    <source src=\"data:audio/wav;base64,UklGRoBnAABXQVZFZm10IBAAAAABAAEAOhEAAHQiAAACABAAZGF0YVxnAAAAAMUerjsDVU5penfifl1/Q3lfbd5cN0kNNAofvQuA+1Pv1Oct5RXn2exs9YD/pgltEoMY1BqjGJwR3gX89e3iA87KuOykC5Smh/OAxoCBhwuVyaixwVTe//zYGwQ5w1KZZ2V2eH6dfx96vm6gXjVLHjYFIX4N6PxO8FjoOuW45ibsgfSA/rQIrRETGMsaDxmAEjIHrfff5BPQz7q8poGVnohSgX2AjYZzk6KmGL9x2//56BhRNndQ1WVAdf59zX/tehJwWmAvTS84AyNFD1n+VPHm6FLlY+Z665rzgP3AB+cQmhe3Gm8ZWBN8CFb5zeYh0te8lKgAl6OJwYFGgKqF65GHpIm8lNj/9vQVlzMgTgNkC3Rzfe1/rHtacQxiJU8/OgYlExHU/2Xygel15Rjm1uq48oL8yAYaEBgXmRrEGSUUvAn4+rXoLtThvnKqipi1ikCCH4DXhHGQeqIEurzVAPT9EtYwvksiYsdy13z9f118l3K1YxZRTzwLJ+gSVwGB8yfqo+XY5Tnq2vGE+88FSA+OFnAaDRrnFPEKkPyY6jnW7cBWrB6a1IvNggiAFIQHj3mgiLfq0gPxBBANLlBJNGBycSt8/H/+fMZzVWUCU10+EynDFOUCp/TZ6t3loeWk6QHxiPrTBHEO+xU8GkoanRUbDCH+dexC2PvCQK67m/+MaoMCgGKDrY2Gnhe1H9AJ7ggNPivZRjheDXBue+t/kX3qdOxm6FRqQB0rpBZ6BNn1lusi5nTlF+kt8I351gOVDWEV/xl8GkcWOw2o/0zuSNoLxS+wYZ03jhWEDIDBgmOMoZyxslvNEesKCmgoV0QvXJluoXrKfxV+AHZ5aMhWdUIqLYoYGQYV92Dsc+ZS5ZLoX++V+NgCtAy/FLgZoxrmFk8OJQEc8EzcG8cjshCfe4/QhCaAMIIoi8qaVrCeyhzoCgeMJctBGVoWbcN5mH+Jfgp3/GmiWH5EOC92Gr8HW/g07c/mO+UW6JfuoPfYAc8LFhRnGb8aeBdZD5oC5vFM3izJHLTHoMuQmIVQgLCB/okBmQau6ccr5QoEqyI1P/ZXg2vVeFV/7n4GeHVrdVqERkcxZxxuCaz5FO435y7loufU7a322ADmCmUTDBnPGgAYVxAFBKnzSOA8yxi2hqInkm+Gi4BBgeOIR5fCqzzFPeIJAcUflzzHVeJp1ncCf0R/9HjjbEFch0hXM1weJAsG+wDvqucs5TjnGO2+9dn/+AmuEqgY1Rp7GEsRZgVk9UDiTc0ZuE2kjZNUh9WA4oDZh5uViqmYwlTfCf7bHPA5i1MyaMd2nn6Jf9V5Rm4GXoZKaDVVIOIMa/z27ynoNeXX5mPs0vTY/ggJ8BE7GM8a6xgzEr4GGPc05F3PHbobpv+UR4gvgZSA4Ib+k1+n/L9v3Aj77BlAN0NRc2andSp+vn+nep5vwl+BTHk3UyKnDtn9+PC06Ejlf+a16+rz2P0UCCwRxRe/Gk8ZDxMLCMX4I+Zs0SO88ad7lkeJmYFXgPaFcJJApWq9kNkH+PkWiTTwTqVkeHSlfeR/bHvrcHdheU6JOVQkcxBR/wXySulo5THmDusG89n8HgdhEEYXpBqoGeATTwlp+g3oedMtvs2pAZhVihKCKoAehfKQLaPhurbWCPUEFMoxkUzKYjhzD335fyF8K3IjY2tQmTtYJkYS0QAd8+3pkuXt5W7qJvLb+yUGkQ++Fn8a9RmmFIcKBPzy6YXVOMCvq5GZb4ubgg6AVYSCjyihYrji0wvyCxEDLyhK4GDpcWh8/n/IfF9zx2RZUqg9XygfFFsCQPSa6sjls+XW6Uvx3voqBbwOLxZPGjYaXxW1C5j90euP10bClq0rm5aMMoMCgJ6DI44xn+61FdEQ7w8ONiy0R+leinCxe/N/YH2HdGFmQVS1P2kq/RXtA271VOsJ5oPlRul28OP5LgTiDZcVFRpsGg4W2Qwi/6rtltlVxISvzpzKjdmDBoD3gtOMR52Es0/OF+wSC2MpNUXlXBtv6nrXf+l9onXxZyNWwUF1LOIXiQWm9hnsVeZd5b/opu/r+DADAg34FNEZlxqwFvENogB975rbZcZ2sXqeCo+OhBuAYIKTi2ubJbGPyyHpEwiJJq1C01qdbRF6q39jfrB2eGn/V8tDgi7MGS0H6ffq7K7mQuVA6Nvu9PcwAh4MURSEGbcaRxf/DhoCSfGc3XXIbbMuoFaQUoVAgNqBY4qdmdGu18gu5hMFqiMbQLRYEGwpeW5/zX6wd/Rq1FnSRZEwuxvZCDb5xu0R5zHlyecX7gD3MAE2C6MTLBnLGtIXARCJAw7zmd+Gymi166GukSSGdYBlgUOJ3peJrCjGP+MSAsYgfz2JVnRqMHghfyh/pHhmbKNb1UehMq8djAqO+q3ugecr5VznWO0Q9jAASwruEssY1BpSGPgQ7gTM9JPhl8xot6+jEJMEh7qAAYEziC2WTaqAw1TgEv/dHds6UVTIaCZ3w35zf4l5zW1qXdZJsTSnH0gM7/ug7/znMOX35qHsI/Ux/1sJMhJhGNMaxhjkEUkGg/aI46fOarl7pX6U8ocOga2ANIeLlB2o4sBu3RH87xouOA5SDmcMdlR+rn9geilvKl/TS8I2oyEKDlr9nvCD6EDlnObw6zn0Mf5pCHAR7hfGGi4ZxBKaBzL4eeW20HC7Tqf3le2Ic4FqgEWG+JL5pUy+jdoQ+f4XejW+T0Zl4nTVfdl/Knt5cOFgzE3TOKMj1A/O/qfxFelc5UvmR+tU8zH9cweoEHMXrxqKGZkT4AjZ+WXnxNJ5vSipeZf2ieeBOIBmhXSR46PAu7HXEfYJFb0yZE1vY6hzRH30f+R7vnGRYsBP4zqmJaQRSwC88rPpguUD5qTqc/Iz/HsG2g/uFo0a3BljFB0Kd/tL6dHUhL8IqwaZDItqghaAmIT/j9mhPbnb1BPzERL5L/5Ki2FecqR8/n+QfPZyN2SvUfI8rCd7E9IB2/Nd6rTlxuUK6pbxNfuBBQYPYRZhGiEaIRVOCw79Levb1pHB7qydmi+M/IIEgNuDmo7dn8W2DNIX8BcPLi2NSJhfBXHye/l/Ln0idNRlmVMAP7UpWBViAwX1E+vx5ZLld+m/8Dr6hQQtDswVKhpbGtMVdQyb/gjt49ifw9muPZxfjZ6DA4Aug0WN7p1YtEPPHe0aDF0qEkaYXZtvMHvjf7x9QnVoZ31VDUHAKzoX+gQ69tTrOuZp5e3o7e9A+YcDUA0wFeoZihp5FpINHgDd7unar8XKsOWdm45OhBKAkoL/iw6c9bGBzCbqHAmGJ41Di1sjbl56vH87flR28mhcVxdDzS0iGZsGefeg7I7mSuVq6CDvSfiIAm0MixSgGa0aFBejDpoBq/Dr3L/Hv7KXn+KPDIUxgAeCyoo7mp2vxsky5xwGqCT+QHFZm2x7eYV/qn5Zd3JqM1kfRdsvEBtECML4eO3u5jXl8eda7lT3iQGHC+ATTBnFGqQXqQ8LA3Py6t7Qybm0UaE2kdqFYYCMgaSJdphRrRTHQeQbA8YhZj5KVwNrh3g9fwp/UXjoawRbJEfrMQId9QkW+lzuWecs5YDnme1i9okAnAotE+4Y0honGKQQdAQz9OXg4Mu3thOjlZK1hqCAIoGPiMCWEatqxFXhGgDeHsU7FlVdaYN35X5bfzx5U23OXCZJ+zP4Hq4LdPtL79DnLeUZ59/sdPWJ/64JdBKHGNQanxiUEdIF7fXc4vHNubjcpP+TnofwgMiAiocZld2oyMFt3hr98hsbOddSqGdvdnx+m38YerJukF4kSww28yBuDdv8RfBT6Dnlu+Ys7In0if69CLQRFxjMGgsZeBInB573zuQB0L26rKZ0lZWIToGAgJWGgZO1pi+/itsZ+gIZaTaMUOVlS3UCfsx/5noHcEtgHk0dOPIiNQ9N/kvx4ehR5WbmgOui84n9yAfuEJ4XuBpsGVETcQhI+bzmD9LFvISo85aZib2BR4CxhfiRmqSgvK3YGfcPFq8zNU4TZBZ0eH3sf6Z7T3H9YRRPLTr0JAMRx/9b8nvpc+Ub5tvqwPKK/NEGIhAdF5oawRkfFLEJ6fqk6BzUz75iqnyYq4o7giCA3oR+kIyiGrrV1Rv0GBPuMNNLM2LSct18/H9XfIxypmMFUT08+SbYEkoBd/Mh6qHl2uU+6uLxjfvXBVAPkxZxGgoa4BTmCoP8h+on1tvARawQmsmLyIIIgBqEFI+LoJ63A9Me8R4QJi5mSUZgfnExfPx/+Xy8c0dl8VJLPgEpsxTXAp300+rb5aPlqekJ8ZD63AR5DgEWPhpIGpcVEQwT/mXsMNjpwi+urJv1jGSDAoBog7mNl54ttTjQI+4iDVcr7kZKXhpwdXvsf4194HTeZtdUWEALK5MWbATO9ZDrH+Z25RvpNfCW+d8DnQ1nFQEaexpBFjENm/887jfa+cQesFKdLI4PhAuAxoJujLKcxrJ0zSvrJAqBKG1EQlymbqh6y38Rfvd1bGi3VmNCFy15GAoGCvdY7HDmU+WW6GbvnvjgArwMxRS6GaIa4BZGDhgBDPA63AnHErIBn3CPyYQlgDWCM4vammuwtso26CUHpiXhQSxaJG3LeZp/hn4Bd+9pkVhsRCUvZRqxB1D4Le3L5jvlGuie7qj34QHXCxwUahm+GnQXUA+NAtbxOt4ZyQq0uKC/kJGFT4C0gQiKEZkbrgHIROUkBMUiTD8JWJJr3XhYf+t+/Xdoa2VackY1MVUcXwmg+QzuM+cu5abn2+219uEA7gpsEw8Zzxr7F08Q+QOa8zbgKssHtneiG5JohomARIHtiFaX1qtUxVfiIwHfH6482lXxad93BX9Bf+x412wxXHVIRTNLHhUL+vr37qbnLOU85x/txvXi/wEKtBKsGNUadxhCEVoFVfUv4jvNB7g9pIGTTIfSgOWA4oeplZ6pr8Jt3yP+9RwHOp9TQWjQdqJ+h3/NeTpu9l10SlU1RCDTDF787u8l6DTl2uZp7Nr04f4QCfcRPxjQGucYKxKyBgr3I+RLzwu6C6bylD6ILIGXgOiGDJRypxPAidwi+wYaWDdYUYJmsXUufr1/oHqTb7NfcExmN0Eilw7M/e/wr+hI5YLmu+vx8+H9HQgzEckXwBpMGQgTAAi2+BLmWtERvOCnbpY+iZWBWYD+hX6SUqWBvanZIvgUF6E0BU+1ZIN0qn3jf2V733BoYWdOdzlCJGMQRP/88UXpZuU05hPrDfPi/CYHaRBKF6UapRnZE0QJWvr852fTG768qfSXS4oOgiuAJYX/kECj97rP1iP1HhTiMaZM2mJEcxR9+X8bfCByFWNaUIc7RiY1EsMAFPPn6ZDl7+Vz6i7y5PsuBpkPwxaAGvIZnxR9Cvb74elz1SbAnquDmWWLloIPgFyEj486oXi4+9Ml8iURHC89SvFg9XFufP5/w3xVc7hkSFKWPU0oDhRNAjb0lOrG5bTl2+lT8ef6MwXEDjQWURo0GlkVqwuK/cHrfdc0woatHZuMjC2DAoCkgy+OQp8Dti7RKu8qDk8syUf7XpZwuHv0f1t9fXRTZjBUoz9XKu0V3wNk9U3rBuaE5UvpffDs+TYE6Q2dFRcaaxoIFs8MFf+a7YTZQ8Rzr8Ccv43TgwaA/ILejFidmbNnzjHsLAt8KUtF91wob/F62H/lfZh15GcSVq9BYizRF3sFnPYS7FPmXuXD6K3v8/g4AwoN/hTUGZYaqxboDZUAbe+J21LGZbFrnv+Oh4QagGWCnot7mzqxp8s76S4IoybDQuVaq20Zeq1/X36ndmtp71e5Q3AuuxkeB9734uyq5kLlROji7v33OQImDFcUhxm2GkIX9Q4NAjnxit1jyFyzH6BKkEuFPoDfgW2KrZnmru/ISOYtBcQjMUDHWB5sMXlwf8p+qHfnasRZwEV/MKobyggr+b7tDucx5c3nHe4J9zkBPgupEy8ZyhrOF/gPfAP/8ojfdMpXtdyhopEchnOAaYFNie2Xnaw/xlnjLALfIJY9nFaCajh4JH8lf5t4WmyTW8RHjzKdHX0Kgvql7n3nK+Vf51/tGPY5AFMK9BLPGNQaThjwEOIEvfSB4YXMVregowST/Ia3gASBPIg7lmCqmMNu4Cz/9x3zOmVU12gvd8Z+cH+BecFtW13ESZ80lR84DOL7l+/35zDl++an7Cv1Ov9kCTkSZRjTGsIY3BE9BnT2d+OVzlm5a6VxlOmHC4GwgDyHmZQwqPnAiN0r/AkbRjgiUh5nFnZYfqx/WXodbxtfwUuwNpEh+w1N/ZXwfuhA5Z/m9utB9Dn+cQh3EfIXxxorGb0Sjgcj+GjlpNBeuz6n6ZXkiG+BbIBNhgWTDKZjvqbaK/kYGJI1009WZe102X3YfyN7bnDSYLpNwTiRI8QPwf6e8RDpWuVO5kzrXPM6/XwHrxB3F7AahxmSE9UIyvlU57LSZ70XqWyX7YnigTmAboWBkfWj1rvK1yv2IxXVMnlNgGOzc0p983/ee7NxgmKvT9E6lCWUET4AsvKu6YHlBuaq6nryO/yEBuEP8xaOGtkZXBQSCmn7O+m/1HK/96r4mAOLZYIXgJ+EDJDroVO59NQt8ywSEjATS5xhanKqfP5/i3zscilknlHgPJonahPEAdHzV+qy5cjlD+qe8T77igUOD2YWYxofGhoVRAsA/RzrydZ+wd2sj5oljPeCBIDhg6aO7p/btiTSMfAxD0cto0iqXxFx+Xv5fyl9GHTGZYhT7j6jKUcVVAP69Azr7+WU5XzpxvBC+o4ENQ7SFSwaWRrNFWsMjf737NHYjcPIri6cVI2YgwOANINQjf+dbbRbzzftNQx2KihGql2obzd75H+3fTh1WmdtVftArisqF+wEL/bN6zfmauXx6PTvSfmQA1cNNRXsGYgadBaIDREAze7X2pzFubDXnY+OR4QRgJeCCowenAqymcxA6jYJnyekQ51bMG5ler5/N35LduVoS1cFQ7otERmNBm73meyL5kvlb+gn71H4kQJ1DJEUohmsGg8Xmg6NAZvw2dytx66yiJ/XjwaFMIALgtSKS5qyr97JTOc2BsIkFUGEWahsg3mHf6d+UXdlaiNZDUXJL/8aNQi3+HHt6uY25fXnYO5d95IBjwvmE08ZxRqfF6AP/wJj8tjevcmotEGhKpHShV+AkIGuiYaYZa0sx1vkNgPfIX0+XVcSa5B4QH8Hf0l422v0WhJH2DHwHOYJCvpU7lXnLOWE56Dta/aRAKQKMxPxGNIaIxicEGcEJPTT4M7LpbYDo4mSrYaegCWBmIjPliWrgcRv4TUA+B7dOypVbGmNd+h+WH80eUZtv1wUSekz5x6fC2j7Q+/M5y3lHOfm7Hz1kv+2CXoSixjUGpsYjBHGBd71yuLfzae4zKTyk5aH7YDLgJOHKJXwqN/Bh940/QwcMznrUrhneXaAfpl/EHqmboFeEkv6NeIgXg3P/DzwTug55b7mMuyR9JL+xQi6ERsYzBoIGXESGweP973k7s+rupymZ5WMiEuBgoCeho+TyKZGv6TbNPocGYE2oFD1ZVV1B37Kf996+288YA1NCjjgIiUPQP5B8dzoUOVp5obrqvOS/dEH9RCjF7kaaRlKE2YIOfmr5v3Rs7xzqOaWkIm5gUmAuYUFkqyktrzG2DT3KRbIM0pOI2QhdH1963+fe0Rx7mEDTxs64iTzELr/UvJ26XLlHebh6sfyk/zaBikQIRebGr4ZGBSmCdv6lOgK1L2+UapvmKGKNoIhgOWEi5CeojC67tU19DITBzHoS0Ri3XLjfPx/UXyBcphj9FArPOcmyBI8AW3zG+qg5dzlQ+rp8ZX74AVXD5gWcxoIGtoU3Ap1/HfqFdbJwDWsAZq/i8OCCYAhhCCPnKC0txzTOPE4ED4ue0lXYIpxOHz9f/R8snM5ZeBSOT7vKKIUyQKT9Mzq2OWk5a7pEPGZ+uUEgA4GFkAaRhqRFQcMBf5U7B7Y18Ierp6b6oxfgwKAboPFjaieQrVQ0D3uPA1vKwRHXF4mcHx77X+IfdZ00GbGVEZA+SqDFl4Ew/WJ6x3md+Ug6Tzwn/noA6QNbBUEGnkaPBYnDY3/LO4l2ubEDbBDnSGOCYQKgMuCeYzCnNuyjM1F6z8KmiiDRFRcs26wes1/DH7udV5op1ZRQgUtaRj8Bf72Uext5lTlm+ht76b46QLEDMsUvRmhGtsWPQ4LAfzvKNz2xgCy8p5lj8KEJIA6gj2L6pp/sM/KUOg/B78l+EE+WjFt03mcf4J++HbiaYFYWkQTL1QaogdE+CXtyOY85R7opO6x9+oB3wsiFG0ZvRpvF0cPgALH8SjeB8n5s6igtJCKhU2AuIESiiCZL64ZyF7lPwTeImM/HFiga+Z4Wn/ofvV3W2tVWmBGIjFEHFAJlPkE7i/nLuWq5+LtvvbqAPYKchMTGc8a9xdGEOwDivMl4BjL9bVnog6SYIaGgEiB9ohll+qra8Vx4j4B+R/GPO5V/2nodwh/Pn/keMpsIVxjSDMzOR4GC+767+6i5yvlP+cl7c716v8JCrsSrxjVGnMYOhFOBUb1HeIpzfW3LqR0k0SH0IDogOuHuJWxqcbCh98+/g4dHzqzU1Bo2namfoV/xnkubuddY0pDNTIgwwxS/OXvIOg05d3mb+zi9Or+GQn9EUMY0BrkGCMSpwb79hLkOc/5uful5ZQ2iCmBmYDwhhqUhacqwKLcPfsgGnA3bFGSZrx1Mn67f5l6h2+kX19MVDcwIogOv/3m8KroR+WF5sHr+fPq/SUIORHNF8EaSRkAE/UHp/gB5kjRALzQp2CWNYmRgVuABoaLkmWll73C2Tz4Lhe5NBlPxWSNdK594n9fe9RwWWFWTmU5MCRTEDb/8vFA6WXlNuYZ6xXz6/wvB3AQTxenGqIZ0hM5CUz67OdV0wm+rKnml0KKCYItgCyFDJFSow676NY99TgU+zG7TOtiT3Maffh/FXwVcgZjSVB1OzQmJRK2AArz4emP5fHleeo18u37NgagD8gWghrwGZgUcgro+9HpYdUUwI2rdZlbi5GCD4BjhJuPTKGOuBTUQPI/ETUvU0oCYQFydHz+f718SnOqZDdShD07KP4TPwIs9I7qxOW25eDpWvHw+jwFyw45FlMaMhpTFaELfP2w62vXIsJ1rQ+bgowngwKAqoM7jlOfGbZG0UTvRA5oLN9HDF+jcL979H9WfXN0RWYfVJE/RSrcFdEDWfVH6wTmhuVQ6YTw9fk/BPENohUaGmkaAhbFDAf/iu1y2TDEYq+xnLWNzYMGgAKD6oxona6zf85L7EcLlSlhRQldNW/4etp/4H2PddZnAladQVAswBdsBZH2C+xQ5l/lyOi07/z4QQMSDQMV1hmVGqUW3g2IAF3vd9tAxlSxXJ70joGEGYBqgqiLi5tOsb/LVelICLwm2kL4WrhtIXquf1t+nnZdad5Xp0NeLqoZEAfT99vsp+ZD5Ujo6e4F+EICLgxdFIkZtRo9F+wOAQIq8XjdUchKsxCgP5BEhT2A44F3ir2Z+q4HyWLmSAXdI0hA2lgsbDl5c3/Gfp932mq0Wa5FbTCZG7sIH/m27QrnMuXR5yTuEfdCAUcLrxMzGcoayRfvD3AD7/J232LKRbXMoZaRFYZxgG2BVon8l7GsV8Zz40cC+SCuPbBWkGpBeCd/In+TeE1sg1uyR3wyjB1uCnb6ne555yvlY+dl7SD2QgBbCvsS0hjUGkkY5xDVBK70cOFyzES3kKP4kvSGtYAHgUWISpZ0qq/DiOBH/xAeCjt5VOZoOXfKfm5/enm1bUtds0mNNIQfKQzW+4/v8+cv5f7mrewz9UL/bAk/EmkY0xq+GNQRMQZl9mbjg85HuVulZZThhwiBs4BFh6eUQ6gPwaHdRvwjG144NlItZyB2XH6qf1J6EW8LX7BLnjaAIesNQP2M8HnoP+Wi5vzrSfRC/nkIfhH3F8caJxm1EoMHFPhX5ZLQTLsup9yV24hrgW6AVYYTkx+meb7A2kX5MhiqNehPZmX3dN591n8ce2Jww2CpTa44fyO0D7T+lfEL6VnlUOZS62PzQ/2EB7YQexexGoQZixPKCLz5Q+eg0lW9B6lel+SJ3oE7gHWFjpEHpOy749dG9j4V7jKOTZBjvnNPffJ/2HuocXNinU+/OoIlhBEwAKjyqOl/5Qjmr+qC8kT8jAboD/cWkBrWGVUUBwpb+yrprdRgv+aq65j5imCCGICmhBiQ/aFpuQ3VR/NGEiowKUusYXZyr3z+f4V84XIaZI1RzjyIJ1oTtwHH81HqsOXJ5RTqpfFH+5IFFQ9rFmQaHRoUFToL8vwM67fWbMHMrICaG4zyggWA6IOyjgCg8bY90kvwTA9gLblIu18dcf97+n8jfQ50uGV3U9w+kSk3FUYD8PQG6+zlleWB6c7wS/qWBD0O1xUvGlcaxxVhDID+5+zA2HvDt64gnEmNkoMDgDqDXI0QnoK0dM9R7U8Mjyo+RrxdtW8+e+V/s30udU1nXFXpQJwrGRfeBCT2xus05mvl9uj771H5mQNfDTsV7xmHGm4Wfg0EAL3uxdqKxaewyJ2EjkGEEYCcghWMLpwfsrHMWupRCbgnukOwWz1ubXq/fzN+QnbXaDtX80KoLQEZfgZi95LsiOZM5XPoLu9a+JoCfQyXFKUZqxoKF5AOgAGL8Mjcmsecsnmfy4//hC+AEILfilqaxq/2yWbnUQbbJCxBllm2bIt5iX+jfkh3WGoTWftEty/tGicIq/hp7efmN+X552fuZfeaAZcL7BNSGcQamheXD/ICVPLH3qvJlrQyoR6Ry4VdgJSBuImVmHmtQ8d15FAD+SGUPnBXIGuZeEN/BH9BeM5r5VoAR8Yx3xzXCf75TO5R5yzliOem7XP2mgCtCjoT9RjSGh4YkxBbBBX0wuC8y5S286J8kqWGm4ApgaKI3pY4q5jEieFPABIf9Ds+VXtplnfsflZ/LHk6ba9cAknXM9Yejwtb+zrvyOct5SDn7OyE9Zv/vwmBEo4Y1RqXGIQRugXO9bnizM2VuLyk5ZOOh+qAzoCchzaVA6n2waHeT/0mHEs5/1LHZ4N2hH6Xfwl6mm5yXgFL5zXQIE8Nwvw08EroOOXB5jjsmfSb/s0IwREfGM0aBBlpEg8Hgfes5NzPmrqMplqVhIhHgYSApoadk9qmXb+92076NhmZNrVQBGZgdQt+yX/YevBvLWD7TPg3ziIWDzP+OPHX6E/la+aM67Lzm/3ZB/sQpxe6GmYZQxNaCCv5mubr0aG8Y6jYloeJtYFLgMCFEpK/pMy839hO90MW4DNeTjRkLHSCfet/mXs5cd9h8U4JOtAk4xCt/0jycOlx5SDm5urP8pz84gYwECYXnBq7GREUmwnN+oPo+NOrvkCqYZiYijKCIoDshJiQr6JGugfWT/RMEx8x/UtVYuly6Hz8f0t8dnKJY+NQGDzVJrcSLwFj8xXqnuXe5Unq8fGe++kFXg+dFnQaBhrTFNEKZ/xm6gPWt8AkrPOZtYu+ggmAJ4Qsj66gyrc101PxUxBXLpFJaGCWcT58/X/ufKhzKmXPUic+3SiSFLsCiPTG6tblpuWz6RfxovrtBIgOCxZCGkQaixX9C/j9ROwM2MXCDa6Pm+CMWYMBgHSD0I25nli1adBY7lcNiCsaR25eM3CDe+5/g33MdMJmtlQ0QOcqchZQBLn1gusa5njlJelD8Kf58AOsDXEVBhp4GjYWHQ2A/xvuE9rUxPyvNZ0WjgOECoDRgoSM05zwsqTNX+tZCrMomURmXMBut3rOfwh+5HVQaJZWP0LzLFgY7gXz9krsauZV5Z/odO+v+PICzAzQFMAZoBrWFjMO/gDt7xfc5MbvseOeWY+8hCOAPoJIi/qalLDnymroWgfYJQ9CUVo/bdt5nn9+fu921WlxWEhEAS9DGpMHOfge7cXmPeUi6KvuuffzAecLKBRvGb0aahc+D3QCt/EX3vXI57OZoKiQg4VLgL2BHIowmUOuMch45VkE+CJ6Py9YrmvueF1/5X7sd09rRVpORhAxMxxBCYj5/O0r5y/lrufo7cb28wD+CngTFhnOGvIXPhDgA3vzFOAGy+S1V6ICkliGhIBMgQCJdJf+q4PFiuJYARIg3TwBVg5q8XcLfzt/3Hi+bBJcUkggMyge9wri+ufunecr5UPnLO3W9fP/EQrBErMY1RpvGDIRQgU39QziFs3ktx6kaJM8h82A64D0h8eVxanewqHfWP4oHTc6x1NfaON2qX6Df755Im7XXVFKMTUhILQMRfzc7xvoM+Xg5nbs6vTz/iEJBBJGGNEa4BgbEpsG7PYA5CbP57nrpdiULYglgZyA+YYolJinQcC83Ff7OhqIN4BRoWbGdTd+un+SentvlV9NTEI3HiJ4DrP93fCl6EbliObH6wH08/0uCEAR0RfBGkUZ+RLpB5n48OU10e67wKdTliyJjYFdgA6GmZJ3pa693NlX+EgX0TQuT9ZkmHSzfeF/WHvJcEphRU5SOR8kQxAp/+nxOulk5TnmH+sd8/T8OAd3EFMXqBqfGcsTLgk++tvnQ9P3vZup2Jc4igWCLoAzhRiRZKMkuwHXWPVSFBMy0Uz8YlpzH334fw98CnL3YjhQYjsjJhUSqAAA89vpjeXz5X7qPfL1+z8Gpw/NFoMa7RmSFGcK2vvA6U/VAsB8q2iZUYuMghCAaYSoj12hpLgt1FryWhFNL2hKFGEMcnp8/n+4fEBznGQmUnE9KSjtEzECIvSI6sLluOXm6WLx+fpEBdIOPhZVGjAaTRWXC279oOtZ1w/CZK0Am3eMIoMCgLCDRo5kny62X9Fe714OgSz1Rx5fr3DFe/V/UX1pdDdmDlR/PzMqzBXDA071QOsC5oflVemM8P35SAT4DacVHBpnGvwVuwz6/nntYNkexFCvopyqjceDBYAHg/WMeZ3Ds5jOZexhC64peEUbXUJv/3rbf9x9hXXIZ/FVi0E+LLAXXgWG9gTsTeZg5czou+8E+UoDGg0JFdkZkxqgFtUNewBN72XbLsZCsU2e6Y56hBiAb4Kzi5ybY7HYy2/pYgjVJvBCClvFbSl6sH9XfpR2UGnOV5VDTC6ZGQEHx/fT7KTmROVM6PDuDvhLAjYMYxSMGbQaOBfjDvQBGvFn3T/IObMBoDOQPYU7gOiBgorMmQ6vH8l85mIF9iNfQO1YOmxCeXV/w36Xd81qpFmcRVowhxusCBP5ru0H5zLl1ecr7hr3SwFPC7UTNhnJGsQX5w9jA+DyZd9PyjS1vaGKkQ2Gb4BxgWCJC5jFrG7GjONiAhMhxT3DVp9qSngpfx9/i3hAbHRboEdqMnsdXwpq+pXudecr5WfnbO0p9ksAYwoBE9YY1BpFGN8QyQSf9F/hYMwzt4Cj65LshrKAC4FPiFmWiKrGw6HgYf8qHiE7jVT1aEJ3zX5sf3J5qW08XaFJezRyHxkMyvuG7+/nL+UB57TsO/VL/3QJRhJtGNMauhjMESUGVvZU43DONblLpViU2IcFgbWAToe1lFaoJsG73WD8PRt2OEpSPWcqdmB+qH9LegVv/F6eS4s2biHbDTT9g/B06D7lpeYC7FH0S/6CCIQR+xfIGiQZrhJ3Bwb4RuWA0Du7HqfPldOIaIFwgF2GIZMyppC+2dpg+UwYwjX8T3ZlAnXifdV/FXtXcLRgmE2cOG0jpA+n/ovxBelY5VPmWOtr80z9jQe9EIAXshqBGYQTvwit+TLnjtJDvfaoUZfaidqBPIB9hZuRGqQDvP3XYPZYFQYzo02hY8pzVH3yf9J7nXFkYoxPrDpwJXQRIwCf8qLpfuUK5rXqivJN/JUG7w/8FpEa1BlOFPwJTfsZ6ZvUTb/Wqt2Y74pcghiArYQlkA+if7km1WLzYBJDMD5LvWGBcrV8/n9/fNZyDGR8Ubw8didKE6kBvfNL6q7ly+UZ6q3xUPubBRwPcBZmGhoaDhUvC+T8++ql1lrBu6xymhGM7IIFgO6Dvo4RoAa3VtJm8GYPeS3OSMxfKXEGfPp/Hn0EdKplZ1PKPn8pJhU4A+b0/+rq5ZflhunV8FT6nwREDtwVMRpWGsEVVwxy/tfsrthow6auEZw/jYyDAoA/g2iNIZ6XtIzPa+1pDKgqVUbOXcJvRXvmf659JXU/Z0tV10CJKwgXzwQZ9r/rMuZs5froAvBa+aIDZw1AFfEZhRppFnUN+P+s7rPaeMWWsLmdeY47hBCAoYIgjD+cNLLKzHTqawnRJ9BDwltKbnR6wX8ufjh2ymgqV+FCli3wGHAGV/eL7IXmTOV46DXvYvijAoUMnRSoGaoaBReHDnMBfPC23IjHi7Jqn8CP+IQtgBSC6YpqmtuvDsqA52sG9CRDQalZxGyTeYt/oH4/d0tqA1npRKUv3BoYCKD4Yu3j5jfl/edu7m33owGfC/ITVRnDGpUXjw/mAkTytd6ZyYW0I6ESkcSFW4CYgcKJpJiNrVvHj+RrAxIiqz6DVy5roXhFfwF/OHjCa9Va70a0Mc4cyAny+UTuTecs5Yznre179qMAtQpAE/gY0RoaGIsQTwQF9LHgqsuCtuSicJKdhpmALIGriO2WTKuwxKLhagArHws8UVWKaZ93735TfyR5Lm2fXPFIxDPEHoALT/sy78PnLeUj5/LsjPWk/8cJhxKSGNUakxh8Ea4Fv/Wo4rrNg7ispNmThYfngNGApIdElRapDcK63mn9QBxiORNT1meNdoh+lX8Ceo5uYl7vStU1vyA/Dbb8K/BF6DjlxOY+7KH0o/7WCMgRIxjNGgEZYRIEB3L3m+TKz4i6fKZNlXuIRIGGgK6Gq5PtpnO/19tp+lAZsTbJUBRmanUQfsh/0Xrkbx1g6kzmN70iBg8m/i/x0uhO5W7mkuu686T94gcCEasXuxpiGTsTTwgc+Ynm2dGPvFOoy5Z+ibGBTIDIhSCS0aTjvPjYafddFvgzc05EZDd0h33qf5J7LnHQYeBO9jm+JNMQoP8+8mvpb+Ui5uzq1/Kl/OsGNxAqF50auRkKFJAJv/py6ObTmb4wqlOYjootgiOA84SkkMGiXLog1mr0ZhM3MRJMZmL0cu58/H9FfGxye2PSUAY8wyanEiEBWfMQ6pzl4OVO6vjxp/vxBWYPoRZ2GgMazRTHCln8Vurx1aXAE6zlmauLuYIKgC6EOI+/oN+3TtNt8W0QcC6nSXlgonFEfP1/6XydcxxlvlIVPssogRStAn70wOrU5ajluOkf8ar69gSPDhAWRBpCGoQV8gvq/TPs+9ezwvytgZvVjFODAoB6g9yNyp5ttYLQcu5xDaErMEd/Xj9wiXvuf359wnS0ZqVUIkDVKmEWQgSu9XzrGOZ65SrpSvCw+fkDtA13FQgadhowFhQNcv8L7gHawsTqryadC479gwmA1oKPjOOcBbO8zXrrcwrMKLBEeFzObr56z38Eftt1Q2iGVi1C4SxHGN8F6PZD7GfmVuWk6Hvvt/j7AtMM1hTCGZ8a0BYqDvEA3e8F3NLG3rHUnk6PtYQhgEOCU4sKm6mw/8qE6HQH8iUlQmRaTG3jeaB/en7mdsdpYVg2RO8uMhqFBy34Fu3B5j3lJuiy7sH3+wHvCy4Uchm8GmUXNQ9nAqfxBd7jyNaziqCckHyFSoDBgSaKP5lXrkjIkuV0BBEjkT9CWLxr9nhff+F+5HdCazVaPUb+MCIcMgl9+fXtKOcv5bLn7+3O9vsABgt+ExkZzhruFzUQ0wNr8wLg88rStUii9pFRhoKAT4EJiYOXEqyaxaTicwEsIPQ8FVYcavp3D385f9R4sWwCXEBIDjMXHucK1vre7pnnK+VG5zLt3vX8/xkKyBK2GNUaaxgqETYFKPX74QTN0rcOpFuTNIfKgO6A/YfVldip9cK633P+Qh1OOtpTbmjtdq1+gH+3eRZuyF1ASh81DyCkDDn81O8X6DPl5OZ87PL0/P4pCQsSShjRGtwYExKPBt327+MUz9W526XLlCWIIoGegAGHNpSrp1jA1dxy+1QaoDeUUbFm0HU7frh/i3pvb4ZfPEwwNwwiaA6m/dTwoOhF5YvmzOsJ9Pz9NghHEdUXwhpCGfES3geK+N/lI9Hcu7CnRpYjiYqBXoAWhqaSiqXEvfXZcfhiF+k0Q0/mZKN0uH3gf1F7vXA7YTNOQDkNJDMQHP/g8TXpY+U75iTrJfP8/EAHfhBYF6kanBnEEyMJL/rK5zHT5b2LqcuXL4oBgi+AOoUlkXajOrsb13L1bBQrMuZMDGNlcyV9938JfP9x6WInUFA7ESYFEpsA9vLV6Yvl9uWE6kXy/vtIBq4P0haFGusZixRdCsz7r+k91fC/bKtamUeLh4IRgHCEtI9vobq4RtR08nQRZi9+SiVhGHKAfP5/snw1c41kFVJfPRco3RMkAhj0gurA5brl6+lp8QH7TQXaDkMWVhouGkYVjAth/Y/rR9f9wVOt8pptjByDA4C2g1KOdp9EtnjRee95DposC0gvX7twzHv1f0x9X3QpZv5TbT8hKrsVtQNE9Trr/+WJ5Vrpk/AG+lEEAA6tFR4aZhr2FbEM7P5p7U/ZDMQ/r5Scn43BgwWADYMAjYqd2LOwzn/sfAvHKY5FLV1PbwZ73H/XfXx1u2fhVXlBLCyfF1AFe/b960rmYeXR6MLvDflTAyENDhXbGZIamhbLDW4APe9T2xzGMbE+nt2OdIQXgHSCvousm3ix8MuJ6X0I7iYHQx1b020werJ/U36LdkNpvleDQzkuiBnyBrz3zOyh5kXlUej37hb4VAI+DGkUjxmzGjMX2g7nAQrxVd0syCez8p8okDaFOoDsgYyK3JkjrzfJluZ9BRAkdkAAWUhsSnl3f8B+jnfAapRZikVIMHYbnQgI+aftA+cz5dnnMe4i91QBVwu7EzkZyRrAF94PVwPQ8lPfPcoita2hfpEGhm2AdYFqiRuY2ayGxqbjfAIsIdw91latalN4LH8cf4N4NGxkW49HWDJpHVAKXvqN7nHnK+Vq53LtMfZTAGsKBxPZGNQaQRjXEL0Ej/RN4U7MIbdxo9+S5IavgA6BWIholpuq3cO74Hz/RB45O6BUBGlMd9F+aX9qeZxtLF2QSWg0YR8KDL37fu/q5y/lBee67EP1VP98CU0ScRjTGrYYxBEZBkf2Q+NeziO5O6VLlNCHAoG4gFaHxJRpqD7B1N17/FcbjTheUkxnNHZkfqd/RHr6bu1ejUt5NlwhzA0n/Xrwb+g95ajmCOxZ9FT+igiLEf8XyBogGaYSbAf39zXlbtApuw2nwpXKiGSBc4Blhi6TRKanvvLaevlmGNo1EVCGZQx1533Ufw97THClYIZNijhcI5QPmv6C8QDpV+VW5l3rc/NU/ZUHxBCEF7Mafhl9E7QIn/kh53zSMb3mqEOX0YnWgT6AhIWokSykGbwW2Hv2chUeM7hNsWPVc1l98X/Le5JxVmJ7T5o6XiVkERYAlfKd6XzlDea66pHyVvyeBvcPAReSGtEZSBTyCT/7CemJ1Du/xarPmOWKV4IZgLSEMpAgopW5P9V883oSWzBTS85hjXK7fP5/enzMcv1ja1GqPGQnORObAbPzReqs5c3lH+q08Vj7pAUkD3UWaBoYGgcVJQvW/Ovqk9ZIwaqsZJoGjOeCBoD0g8uOIqAct2/SgPCAD5Et5EjeXzVxDHz6fxl9+nOcZVZTuD5tKRUVKgPb9Pnq6OWY5Yvp3PBc+qgETA7hFTMaVBq7FU0MZf7H7JzYVsOVrgOcNI2GgwKARYNzjTKerbSlz4bthAzBKmtG4F3Ob0x753+pfRt1MWc7VcVAdyv3FsEEDva46y/mbuX/6AnwYvmqA28NRhXzGYQaYxZrDer/nO6i2mbFhbCqnW6ONYQPgKeCK4xPnEiy4syO6oUJ6ifnQ9RbWG58esJ/Kn4vdr1oGlfPQoQt3xhhBkz3g+yC5k3lfOg872v4rAKNDKMUqhmpGgAXfg5mAWzwpNx2x3qyW5+0j/GELIAZgvSKeprvrybKmueGBg4lWUG8WdJsm3mNf5x+Nnc+avNY10SSL8saCQiU+Frt4OY45QHode5296wBpwv4E1gZwxqRF4YP2QI08qTeh8lztBOhBpG8hVmAnIHMibSYoq1zx6nkhQMsIsI+l1c8a6p4SH/+fjB4tWvFWt1GojG9HLkJ5/k87krnLeWP57PthPasAL0KRhP7GNEaFhiCEEME9vOf4JjLcLbUomSSloaXgC+BtIj8lmCrx8S84YQARR8jPGVVmGmod/J+UX8ceSFtj1zfSLIzsx5xC0P7Ke+/5yzlJ+f57JX1rf/PCY4SlhjVGo8YcxGiBbD1l+KozXG4nKTMk32H5IDUgK2HU5UqqSTC1N6E/VocejknU+VnlnaLfpN/+nmCblNe3krDNa0gMA2p/CLwQOg35cfmReyp9Kz+3gjPEScYzRr9GFkS+AZj94rkuM92umymQJVyiECBiYC2hriTAKeKv/Dbg/pqGck23VAkZnR1FH7Gf8p62G8OYNlM1DerIvYOGf4m8c3oTeVx5pfrwvOs/eoHCRGvF7saXxk0E0QIDvl45sfRfbxCqL2WdYmtgU6A0IUtkuOk+bwS2YP3dxYQNIhOVGRCdIx96X+MeyNxwmHPTuQ5rSTDEJL/NfJm6W7lJeby6t/yrfzzBj4QLxefGrYZAxSFCbD6YejU04e+H6pFmISKKYIkgPqEsZDTonK6OdaE9IETUDEoTHZiAHPzfPt/P3xhcmxjwVD0O7EmlxIUAU/zCuqa5eLlU+oA8q/7+gVtD6YWdxoBGsYUvApL/EXq39WTwAKs15mhi7SCC4A0hEWP0aD1t2bTh/GHEIguvEmKYK5xSnz9f+R8k3MOZa1SAz65KHEUnwJ09Lrq0uWq5b3pJvGz+v8Elw4VFkYaQBp+FegL3P0j7OnXocLrrXOby4xOgwKAgIPojduegrWa0IzujA26K0ZHkV5McJB77395fbl0pmaUVBBAwypRFjQEo/V16xXme+Uu6VLwuPkCBLsNfBUKGnUaKxYKDWX/++3v2bDE2a8XnQGO94MJgNuCm4z0nBqz1c2U644K5SjGRIpc227GetF//33RdTVodVYbQs8sNhjRBd32POxk5lflqOiC78D4BAPbDNwUxRmdGssWIA7kAM3v89vAxs2xxZ5Dj6+EIIBIgl2LGpu9sBfLnuiPBwsmPEJ2Wlpt6nmif3Z+3Xa6aVBYJETdLiEadgci+A/tvuY+5Svoue7K9wQC9ws0FHUZuxpgFywPWgKY8fTd0MjEs3qgkZB1hUiAxYEwik+ZbK5gyKzljgQrI6g/VVjKa/94Yn/eftt3NWslWitG7DARHCMJcfnt7STnL+W25/Xt1/YEAQ4LhBMcGc0a6RcsEMcDXPPx3+HKwLU4ouqRSYaAgFOBE4mSlyasssW+4o0BRiALPShWK2oDeBJ/Nn/MeKVs8lsuSPwyBR7YCsr61u6V5yvlSuc47ef1BAAiCs4SuhjVGmcYIhEqBRn16eHyzMC3/qNPkyyHx4DxgAaI5JXrqQzD1N+N/lwdZjruU31o93axfn5/r3kKbrhdLkoNNf4flQwt/MvvEugy5efmguz69AX/MgkREk4Y0RrYGAsSgwbO9t7jAs/DuculvpQciB+BoYAKh0SUvqdvwO/cjPtuGrg3qVHBZtp1P362f4R6ZG92XypMHTf7IVkOmf3L8JvoROWO5tLrEfQF/j8IThHaF8MaPxnqEtMHe/jO5RHRyrufpzmWGomGgWCAHYa0kpyl270O2oz4fBcBNVdP9mStdL19339Le7JwLGEiTi45+yMjEA//1vEw6WHlPuYq6y3zBf1JB4UQXBeqGpkZvRMYCSH6uecf09O9eqm9lyWK/IExgEKFMpGIo1C7NNeN9YYURDL7TB1jcXMqffd/A3z1cdpiFlA+O/8l9RGOAOzy0OmK5fjliepM8gf8UAa2D9YWhhroGYQUUgq++5/pK9Xev1urTJk+i4KCEoB3hMGPgaHQuF/Uj/KOEX4vk0o2YSRyhnz+f618K3N/ZARSTT0FKM0TFgIO9HzqvuW85fDpcfEK+1YF4Q5IFlgaLBpAFYILU/1/6zXX68FCreSaY4wXgwOAvINejoefWbaQ0ZPvkw6yLCFIQV/IcNJ79n9HfVV0G2btU1s/DyqqFacDOfUz6/3liuVf6ZrwD/pZBAgOshUgGmQa8BWnDN/+We092frDLq+FnJSNu4MEgBKDDI2ane6zyc6a7JYL4CmkRT9dXG8Ne91/031yda1n0FVnQRosjhdBBXD29utH5mPl1ujJ7xX5WwMpDRQV3hmRGpUWwg1gAC3vQtsKxiCxMJ7Sjm6EFoB5gsmLvJuNsQjMo+mXCAgnHUMvW+BtOHq0f09+gnY1aa1XcUMnLncZ5Aax98XsnuZF5VXo/u4e+FwCRgxuFJIZshouF9EO2gH68EPdGsgWs+OfHJAvhTiA8IGWiuyZN69PybDmlwUpJI1AE1lVbFJ5en+8foV3s2qEWXhFNjBlG44I/Pif7f/mM+Xd5zjuKvddAV8LwhM8GcgauxfVD0oDwfJB3yvKEbWeoXKR/oVrgHiBc4kqmO2snsbA45cCRiHzPepWvGpceC9/GX97eCdsVFt9R0YyWB1BClL6hO5t5yvlbud57Tn2XAB0Cg4T3RjTGj0YzhCxBID0POE8zA+3YaPSktyGrYARgWGIdpavqvXD1eCW/14eUDu0VBNpVXfUfmd/Y3mQbRxdfklWNE8f+wux+3Xv5ucv5QjnwOxL9V3/hQlTEnQY1BqzGLwRDgY49jLjTM4RuSulPpTIh/+Au4Bfh9KUfahVwe7dlfxxG6U4c1JcZz52aH6lfzx67m7dXntLZzZLIbwNGv1x8GvoPeWr5g7sYfRd/pMIkhEDGMkaHRmeEmAH6Pck5VvQF7v9prWVwYhggXWAbYY8k1emvb4M25X5gBjyNSVQlmUXdex9038Ie0BwlmB1TXg4SiOED43+efH76FblWOZj63vzXf2eB8sQiBe0GnsZdROpCJD5EOdq0h+91qg2l8iJ0oE/gIyFtpE+pDC8L9iV9owVNjPMTcFj4HNfffB/xXuHcUdiak+IOk0lVBEIAIvyl+l75Q/mwOqZ8l78pgb+DwYXlBrOGUEU5wkx+/jod9Qpv7WqwZjbilKCGoC7hD6QMqKruVjVl/OVEnQwaUvfYZhywXz+f3R8wXLvY1pRmDxSJykTjgGp8z/qquXP5STqvPFh+6wFKw96FmkaFhoBFRoLyPza6oHWNsGZrFaa/IviggaA+oPXjjSgMreH0prwmg+qLfpI719CcRJ8+38Ufe9zjmVFU6Y+WykFFRwD0fTy6ublmuWQ6eTwZfqwBFMO5xU1GlIatRVDDFf+tuyK2ETDhK70myqNgYMCgEuDf41DnsK0vc+g7Z4M2iqBRvFd229Te+h/pH0RdSNnKlWzQGUr5xazBAT2suss5m/lBOkR8Gv5swN2DUsV9hmCGl4WYQ3d/4zukNpUxXSwnJ1jji6EDoCsgjaMX5xdsvrMqOqgCQMo/UPmW2Vug3rEfyZ+JnavaApXvUJyLc4YUwZB93zsf+ZO5YDoQ+9z+LQClQyoFK0ZqBr7FnUOWQFc8JPcZMdoskyfqY/rhCuAHoL+ioqaBLA+yrTnoAYnJXBBzlnfbKN5kH+Yfi13MWriWMVEgC+6GvoHifhS7dzmOOUF6Hzufve1Aa8L/hNbGcIajBd9D8wCJfKS3nXJYrQEofuQtYVYgKCB1onDmLatisfD5KADRSLaPqpXS2uyeEt/+34oeKhrtVrLRpAxrByqCdv5NO5G5y3lk+e67Yz2tQDFCkwT/xjRGhEYehA2BOfzjuCFy1+2xKJXko6GlIAzgb6IC5dzq9/E1uGfAF8fOjx4VadpsXf1fk5/FHkVbYBczUigM6EeYQs3+yHvu+cs5Srn/+yd9bX/1wmUEpkY1RqLGGsRlgWh9YXils1guIykwJN1h+GA14C2h2GVPak7wu3env10HJI5O1P1Z6B2j36Rf/N5dm5DXsxKsTWbICANnfwZ8DzoN+XK5kvssfS1/uYI1RErGM4a+RhSEu0GVPd55KbPZLpcpjOVaYg9gYuAvobGkxOnob8K3J76hBnhNvJQNGZ+dRh+xX/Des1v/1/HTME3mSLmDgz+HfHI6EzldOad68rztf3yBxARtBe8GlwZLRM5CP/4Z+a00Wu8MqiwlmyJqYFQgNeFO5L2pBC9K9me95EWKDSdTmRkTXSRfeh/hnsXcbNhvk7SOZsksxCF/yvyYOlt5Sfm9+rm8rb8/AZFEDQXoBqzGfwTegmi+lDowtN1vg+qOJh7iiSCJYABhb6Q5aKIulLWn/SbE2gxPUyHYgtz+Xz7fzl8VnJeY7BQ4jugJocSBgFF8wTqmeXk5VnqCPK4+wMGdA+rFnka/hnAFLIKPfw06s3VgcDyq8mZl4uvgguAO4RRj+KgC7h/06LxohChLtJJnGC6cVB8/n/efIlzAGWcUvE9pyhgFJICafSz6tDlq+XC6S7xvPoHBZ4OGhZIGj4aeBXeC8/9E+zX14/C2q1km8CMSIMCgIaD9I3snpi1s9Cm7qYN0ytcR6NeWHCXe/B/dH2vdJhmhFT+P7EqQBYmBJn1busT5n3lM+lZ8MH5CwTDDYIVDRpzGiUWAA1Y/+vt3dmexMivCZ32jfGDCIDhgqaMBJ0vs+3NruuoCv8o3EScXOhuzXrSf/t9yHUoaGVWCUK9LCUYwgXS9jXsYeZY5a3oie/I+AwD4wzhFMcZnBrGFhcO1wC97+Hbrsa7sbaeN4+ohB+ATYJoiyqb0rAvy7joqQckJlJCiVpnbfJ5o39zftR2rWlAWBJEyy4QGmcHF/gH7bvmP+Uv6MDu0vcNAv8LORR4GboaWxcjD00CiPHi3b7Is7NroIWQboVGgMmBOopfmYCueMjG5akERCO/P2hY2GsHeWR/237TdyhrFVoZRtowABwUCWX55e0g5y/luuf87d/2DQEWC4oTIBnNGuUXJBC7A0zz39/Pyq+1KaLekUKGfYBXgR2JoZc5rMnF2OKoAV8gIj07VjlqDHgVfzN/xHiYbOJbHEjqMvQdyQq++s7ukecr5U3nP+3v9Q0AKgrUEr0Y1RpjGBkRHgUJ9djh4Myut+6jQpMkh8WA9YAPiPKV/6kjw+7fqP52HX06AlSMaAB3tH58f6h5/m2pXRxK+jTsH4UMIPzC7w7oMuXq5ojsAvUN/zoJGBJSGNEa1RgEEngGv/bN4/DOsrm7pbGUFIgbgaOAEodSlNGnhsAI3af7iBrPN71R0GbkdUN+tX99elhvZ18ZTAs36SFJDoz9wvCW6EPlkebY6xn0Df5HCFUR3hfDGjsZ4hLHB234veX/0Li7j6crlhGJgoFigCWGwZKvpfG9KNqm+JYXGTVsTwZluHTCfd1/RHuncB1hEU4cOekjExAC/83xKulg5UDmMOs08w79UQeMEGEXqxqWGbYTDQkS+qjnDdPBvWqpsJcciviBMoBJhUCRmqNnu03Xp/WhFFwyEE0tY3xzL332f/176nHLYgRQLDvtJeURgADj8srpiOX65Y/qVPIQ/FkGvQ/bFoga5hl+FEcKsPuO6RnVzL9Kqz6ZNIt9ghKAfYTNj5Kh5rh41KnyqBGXL6hKR2Ewcox8/3+nfCBzcWTzUTs99Ce8EwgCA/R16rzlvuX16XjxE/teBekOTRZaGioaOhV4C0X9busj19nBMa3WmliMEoMDgMKDao6Yn2+2qdGt760Oyyw2SFJf1HDZe/d/Qn1LdA1m3FNJP/0pmhWZAy/1Lev65YzlY+mi8Bf6YgQPDrcVIhpiGusVnQzR/kntK9nowx2vd5yKjbWDBIAYgxeNq50DtOHOtOyxC/kpukVRXWhvFHvef859aHWfZ8BVVUEILH0XMwVl9u/rReZk5dro0O8e+WQDMQ0aFeAZjxqQFrgNUwAd7zDb98UPsSGex45nhBWAfoLUi8yborEgzL3psgghJzRDQVvubUB6tX9Lfnl2KGmdV19DFS5mGdUGpve97JrmRuVZ6AXvJ/hlAk4MdBSVGbEaKRfIDs0B6vAy3QjIBbPTnxCQKIU3gPWBoIr8mUuvZ8nK5rIFQySjQCZZY2xaeXx/uX58d6ZqdFlmRSQwVBt/CPH4l+385jPl4ec/7jP3ZQFnC8gTPxnIGrYXzA8+A7HyMN8Zyv+0jqFmkfeFaYB8gX2JOZgBrbXG2uOxAl8hCj79VspqZHgyfxZ/cngbbERba0c0MkcdMgpG+nzuaecr5XLnf+1B9mUAfAoUE+AY0xo4GMYQpQRx9CrhKcz+tlGjxpLUhqqAFIFqiIWWwqoMxO7gsf93Hmg7yFQiaV53135lf1t5hG0NXWxJRDQ+H+sLpftt7+LnLuUL58bsU/Vm/40JWhJ4GNQarxi0EQIGKfYh4zrOALkbpTKUv4f8gL2AZ4fglJCobMEH3rD8ixu9OIdSa2dIdmx+o381euJuzl5qS1U2OSGsDQ79afBm6DzlruYU7Gn0Zv6bCJkRBxjJGhkZlxJVB9n3E+VJ0AW77aaolbiIXYF3gHWGSpNqptS+Jduv+ZoYCjY6UKZlIXXwfdF/AXs1cIdgZE1mODgjdQ+A/nDx9uhV5VvmaeuD82b9pgfSEI0XtBp4GW4TngiC+f/mWNINvcWoKZe+ic2BQYCThcORUKRGvEjYr/amFU8z4U3SY+tzZH3vf797fHE4YllPdjo7JUMR/P+C8pLpeeUR5sXqofJn/K8GBRAKF5UazBk6FNwJIvvn6GTUF7+kqrOY0opNghuAwoRLkESiwrlx1bHzrxKMMH5L8GGkcsZ8/X9ufLdy4GNJUYU8QCcZE4ABn/M56qnl0eUp6sPxavu1BTIPfxZrGhQa+hQQC7r8yepv1iTBiaxImvKL3YIGgAGE445FoEe3oNK08LUPwy0PSQBgTnEYfPt/Dn3lc4BlNFOUPkkp9BQOA8b07Orj5Zzllenr8G76uQRbDuwVNxpQGq8VOQxJ/qbseNgyw3Ou5psfjXuDAoBRg4qNVJ7XtNbPuu25DPMql0YDXuhvWnvof6B9B3UVZxpVoEBTK9YWpQT59avrKuZw5QnpGPB0+bwDfg1RFfgZgRpYFlgN0P987n7aQcVjsI2dWI4ohA6AsYJCjHCccrISzcLqugkdKBRE+Vtybot6xX8ifhx2omj5VqtCYC29GEQGNvd17HzmT+WF6ErvfPi9Ap0MrhSwGaca9RZrDkwBTPCB3FLHV7I9n56P5IQqgCKCCYuamhiwVsrO57sGQCWHQeFZ7WyreZJ/lX4ldyRq0li0RG4vqRrsB334S+3Z5jnlCeiC7of3vgG3CwQUXhnBGocXdA/AAhXygN5iyVC09aDvkK6FVoCkgeCJ05jKraLH3eS6A18i8T69V1lru3hNf/h+H3iba6VauUZ9MZocmwnP+SzuQuct5Zfnwe2U9r4AzQpTEwIZ0RoNGHEQKgTX83zgc8tNtrWiS5KGhpKANoHHiBqXh6v2xPDhuQB4H1E8jFW2abt3+X5Lfwx5CG1wXLxIjjOQHlILK/sZ77fnLOUu5wXtpfW+/+AJmxKdGNUahxhjEYoFkvV04oTNTrh9pLOTbYfegNmAv4dwlVCpUsIH37n9jRypOU9TBGiqdpN+j3/reWpuNF67Sp41iiARDZD8EfA36DblzeZR7Ln0vv7vCNwRLxjOGvYYShLhBkX3Z+STz1K6TKYmlWGIOoGNgMeG1JMmp7i/I9y4+p4Z+TYGUUNmiXUdfsN/vHrBb/BftkyvN4gi1g7//RTxw+hL5Xfmo+vS8779+wcXEbgXvRpZGSUTLQjw+FbmotFZvCKoo5ZiiaWBUoDfhUiSCKUmvUTZuPerFkE0sk51ZFh0ln3nf397DHGkYaxOwDmJJKMQeP8i8lvpa+Uq5v3q7vK//AQHTBA4F6EasBn1E28JlPpA6LDTY77+qSqYcYoggiaACIXLkPein7pr1rn0tROBMVJMmGIWc/58+n8zfEtyT2OeUNA7jiZ2EvkAO/P+6Zfl5uVe6g/ywfsLBnwPsBZ6GvwZuRSnCi/8JOq71W/A4au7mY2LqoIMgEGEXY/0oCG4mNO88bwQui7nSa1gxXFWfP5/2Xx+c/Fki1LePZUoUBSEAl/0rerO5a3lx+k18cT6EAWmDiAWSho8GnIV1AvB/QLsxdd8wsmtVpu2jEODAoCMg/+N/p6ttcvQwe7ADewrcke0XmVwnXvxf299pXSLZnNU7D+fKi8WGASO9WjrEOZ+5TjpYPDK+RMEyw2HFQ8acRofFvYMSv/b7czZi8S3r/qc643rgwiA5oKxjBWdRbMFzsjrwwoYKfJErlz0btR603/3fb51GmhUVvdBqywUGLQFx/Yu7F7mWeWx6JDv0fgVA+sM5xTKGZsawBYODsoAre/Q25vGqrGnniyPoYQegFKCc4s7m+ewR8vS6MQHPiZpQptadW36eaV/b37LdqBpMFgARLgu/xlZBwv4AO235j/lM+jH7tv3FgIHDD8Uexm5GlYXGg9BAnjx0N2syKGzXKB5kGeFRYDOgUSKbpmUrpDI4OXDBF4j1j97WOZrEHlnf9d+yncbawVaB0bHMO4bBQlZ+d3tHOcw5b3nA+7n9hYBHguREyMZzBrgFxsQrgM9887fvcqdtRmi0pE6hnuAWoEmibCXTazhxfLiwgF5IDo9T1ZIahV4GH8wf7x4jGzSWwtI1zLjHboKsvrG7o3nK+VR50Xt9/UWADIK2xLBGNUaXhgRERIF+vTH4c3MnbffozaTHIfCgPiAGIgBlhKqOsMH4ML+jx2VOhZUm2gKd7h+en+gefJtmV0LSug02x92DBT8uu8J6DHl7eaO7Ar1Fv9CCR4SVhjSGtEY/BFsBrD2vOPezqC5q6WllAuIGIGmgBqHYJTkp53AIt3B+6Ia5zfRUeBm7nVIfrN/dnpMb1hfB0z5NtghOQ6A/bnwkehD5ZPm3ush9Bb+TwhcEeIXxBo4GdsSvAde+Kzl7dCmu3+nHpYIiX6BZIAths+SwqUIvkHawfiwFzE1gU8WZcN0xn3cfz57m3AOYQBOCjnYIwQQ9f7D8SXpX+VD5jXrPPMX/VoHkxBlF6wakxmvEwIJBPqX5/vSr71ZqaKXEor0gTOAUIVNkayjfbtm18H1uxR0MiVNPmOHczV99n/3e99xvWLzTxo72yXUEXMA2fLE6Yfl/OWU6lzyGPxhBsQP4BaJGuMZdxQ9CqL7fekH1bq/OqswmSqLeIITgISE2o+kofy4kdTE8sMRsC++SlhhO3KSfP5/oXwWc2Jk4lEpPeInrBP7Afnzb+q65cDl+umA8Rv7ZwXwDlIWXBooGjQVbQs3/V7rEdfHwSCtx5pOjAyDA4DIg3aOqZ+FtsLRyO/IDuQsTEhkX+Bw33v3fz19QXT/ZctTNz/rKYkViwMk9Sbr+OWN5WjpqfAg+msEFw69FSQaYBrlFZMMxP447RnZ1cMMr2icf42vgwSAHYMjjbydGLT5zs7sywsSKtBFYl11bxt733/KfV91kWevVUNB9itsFyUFWvbo60LmZeXf6NfvJvltAzkNHxXjGY4aihauDUYADe8e2+XF/bASnryOYYQVgIOC34vdm7axOMzX6cwIOidKQ1Rb+21Herd/R35wdhppjVdNQwMuVRnHBpr3tuyX5kflXegL7y/4bgJWDHoUlxmwGiQXvw7AAdvwIN32x/OyxJ8FkCGFNoD5gauKC5pgr3/J5ObMBVwkukA4WXFsYnl+f7V+dHeZamRZVUUSMEMbcQjl+I/t+OY05eXnRu47924BbwvOE0IZxxqyF8QPMQOi8h7fBsrutH+hWpHwhWeAgIGHiUiYFa3NxvTjzAJ5ISE+EFfYam14NX8Tf2p4Dmw0W1lHITI2HSIKOvp07mXnLOV154btSvZuAIQKGhPkGNMaNBi9EJgEYfQZ4RfM7LZBo7qSzIaogBiBc4iUltaqI8QI4cv/kR5/O9tUMWlod9t+Yn9TeXdt/VxbSTI0LR/cC5n7ZO/d5y7lD+fN7Fz1b/+VCWASfBjUGqsYrBH2BRr2EOMozu64DKUllLeH+YDAgHCH7pSjqIPBId7K/KUb1DibUnpnUnZwfqF/LnrWbr9eWEtDNighnQ0B/WDwYeg75bHmGuxx9G7+owigEQsYyhoWGY8SSQfL9wHlN9Dzut2mm5WviFmBeYB9hliTfKbrvj7byvm0GCI2TlC1ZSx19X3Qf/p6KXB4YFJNUzgnI2UPc/5m8fHoVOVe5m/ri/Nv/a8H2RCRF7UadRlnE5IIc/nv5kbS+7y1qBuXtYnJgUKAm4XQkWOkXLxh2Mr2wBVnM/ZN4mP2c2l973+5e3FxKWJHT2Q6KSUzEe//ePKM6XjlFObL6qnycPy3BgwQDxeWGskZMxTRCRT71uhS1AW/k6qmmMiKSYIcgMmEWJBWoti5itXL88kSpTCTSwFisHLMfP1/aHysctJjOFFzPC8nCRNzAZXzM+qn5dTlLurL8XL7vgU6D4QWbBoRGvQUBgus/LnqXdYSwXisOproi9eCB4AHhO+OVqBdt7nSz/DPD9wtJUkSYFpxH3z8fwl923NxZSNTgj43KeQUAAO89Obq4eWd5Zrp8vB2+sIEYg7xFTgaThqpFS8MPP6W7GbYIMNirtebFI11gwKAVoOWjWSe7bTuz9Tt0wwMK61GFV70b2F76X+bff10CGcJVY5AQSvFFpcE7vWk6yfmcuUN6R/wfPnFA4YNVhX6GX8aUhZODcL/bO5s2i/FUbB+nU2OIoQNgLaCTYyAnIeyK83d6tUJNigqRAtcf26Sesd/Hn4TdpRo6VaZQk4trBg2Biv3bux55lDliehR74T4xgKkDLQUshmmGvAWYg4/ATzwb9w/x0ayLp+Sj92EKIAnghOLqpotsG7K6OfVBlolnUH0Wftss3mUf5F+HHcXasJYokRcL5ga3Qdy+EPt1eY55Q7oie6P98cBvwsKFGEZwBqCF2sPswIF8m/eUMk/tOWg45CnhVSAqIHqieKY3q26x/fk1QN4Igc/0Fdna8R4UH/1fhd4j2uVWqdGazGJHIwJw/kk7j7nLeWb58ftnPbGANUKWRMFGdAaCRhpEB4EyPNr4GHLPLaloj+Sf4aQgDqB0Ygpl5urDcUJ4tQAkh9oPKBVxWnEd/x+SX8EefxsYFyqSHszfx5DCx77EO+y5yzlMecM7a31x//oCaESoRjVGoMYWxF+BYP1Y+JxzTy4baSmk2WH24DcgMiHfpVkqWrCId/U/accwTljUxNos3aXfo1/5HlebiReqUqMNXggAQ2E/AjwMug25dHmV+zC9Mf+9wjjETMYzxryGEIS1QY291bkgc9AujymGZVYiDaBkIDPhuKTOafPvzzc0/q4GRE3GlFTZpN1IX7Cf7V6tm/hX6RMnTd2IscO8/0L8b7oSuV55qnr2vPH/QMIHhG8F74aVhkeEyII4vhF5pDRR7wRqJWWWYmhgVOA54VVkhulPb1d2dL3xRZZNMZOhWRidJt95n95ewFxlWGbTq45dySTEGv/GPJV6WrlLOYC6/byyPwNB1MQPReiGq0Z7hNkCYX6L+ie01G+7qkcmGiKG4IogA+F2JAJo7W6hNbU9M8TmTFnTKhiInMEffp/LXxBckBjjVC9O3wmZhLrADHz+OmV5enlY+oX8sr7FAaDD7UWfBr6GbMUnAoh/BPqqdVdwNCrrZmDi6WCDIBIhGqPBaE3uLHT1vHWENIu/Um+YNFxXHz+f9N8dHPjZHpSzD2DKD8UdgJV9KfqzOWv5czpPPHN+hkFrQ4lFkwaOhpsFcoLs/3y67PXasK4rUibq4w9gwKAkoMLjg+fw7Xk0Nvu2w0FLIhHxl5xcKR78X9qfZt0fWZiVNo/jSofFgoEg/Vh6w7mgOU96Wfw0vkcBNINjRURGnAaGRbsDD3/y+262XnEpq/rnOCN5YMHgOyCvIwmnVqzHs7i690KMSkJRcBcAW/betV/8n21dQxoRFblQZksBBimBbz2J+xb5lvltuiX79r4HgPzDO0UzBmaGrsWBA68AJ3vvtuJxpmxmJ4hj5uEHYBWgn2LS5v7sF/L7OjeB1cmf0KuWoJtAnqnf2t+wnaSaSBY70OmLu4ZSgcA+PjstOZA5Tfoze7j9x8CDwxFFH4ZuBpRFxEPNAJp8b/dmsiQs02gbZBghUOA0oFPin6ZqK6oyPrl3gR3I+0/jlj0axh5aX/UfsJ3Dmv1WfVFtTDdG/YITvnV7RnnMOXB5wnu8PYfASYLlxMmGcwa2xcSEKIDLfO836vKjLUKosaRM4Z5gF6BMIm/l2Gs+cUL490BkyBRPWJWV2oeeBt/Ln+0eH9sw1v5R8Uy0R2rCqb6vu6J5yvlVOdM7f/1HgA6CuESxBjUGloYCREGBev0teG7zIu3z6MpkxSHv4D7gCGID5YmqlLDIeDd/qkdrDoqVKpoE3e8fnd/mHnlbYld+UnWNMofZgwH/LHvBegx5fHmlOwS9R//SwklEloY0hrNGPQRYAah9qvjy86OuZulmJQDiBWBqIAjh26U96e0wDvd3Pu8Gv835VHvZvh1TH6xf296QW9IX/ZL5zbGISoOc/2w8IzoQuWW5uTrKfQf/lgIYhHmF8UaNRnTErAHT/ib5dvQlLtvpxGW/4h6gWaANYbcktSlH75a2tv4yhdKNZVPJmXNdMt92383e5Bw/2DuTfc4xiP0D+j+uvEg6V7lRuY760TzIP1iB5oQahetGpAZqBP2CPb5h+fp0p29SamUlwmK74E1gFiFWpG+o5O7f9fc9dUUjDI6TU5jknM6ffV/8XvUca5i4k8HO8klxBFlAM/yv+mF5f/lmepj8iH8agbLD+UWihrhGXAUMgqU+23p9dSovymrIpkgi3OCFICLhOaPtqESuanU3vLdEcgv00ppYUdymHz+f5x8C3NUZNFRFz3QJ5sT7QHv82nquOXC5f/ph/Ek+3AF9w5XFl0aJRotFWMLKf1N6//WtcEPrbmaRIwHgwSAz4OCjrqfmrba0eLv4g79LGJIdV/scOZ7+H84fTd08GW7UyU/2Sl5FX0DGvUg6/blj+Vt6bDwKfpzBB4OwhUmGl8a3xWJDLb+KO0H2cPD+65anHSNqYMEgCODLo3NnS20Es/o7OULKyrmRXRdgm8ie+B/xX1VdYRnnlUxQeQrXBcXBU/24es/5mbl4+je7y/5dgNADSUV5RmNGoUWpQ05AP3uDNvTxeywA56xjlqEFICIguqL7ZvLsVHM8ennCFMnYENmWwhuT3q5f0N+Z3YNaXxXO0PxLUQZuAaP96/slOZI5WLoEu84+HcCXgyAFJoZrxofF7UOswHL8A7d48fisrWf+Y8ahTSA/oG1ihuadK+Xyf7m5wV2JNFAS1l/bGt5gH+yfmt3jGpUWUNF/y8yG2II2fiI7fXmNOXp50zuQ/d3AXcL1BNFGccarRe7DyUDkvIN3/TJ3LRwoU6R6IVlgISBkYlYmCmt5cYO5OYCkyE4PiNX52p2eDh/EH9ieAFsJFtHRw8yJB0TCi76bO5h5yzleeeM7VL2dwCMCiET5xjTGjAYtRCMBFL0COEFzNq2MqOtksSGpYAbgX2Io5bqqjvEIuHm/6seljvvVEBpcXfefmB/S3lrbe1cSUkgNBsfzQuM+1zv2ecu5RLn0+xk9Xf/nglnEoAY1BqnGKQR6gUL9v7iFc7cuPykGJSvh/aAw4B5h/2UtqiawTre5fy/G+w4r1KKZ1x2dH6ffyZ6ym6vXkdLMDYWIY0N9fxX8FzoO+W05iDsefR3/qwIphEPGMsaEhmIEj4HvPfw5CXQ4brNpo6Vp4hWgXuAhYZlk4+mAr9Y2+T5zhg6NmNQxWU2dfl9z3/0eh5waWBBTUE4FSNVD2b+XfHs6FPlYOZ165PzeP23B+AQlhe2GnIZYBOHCGX53uYz0um8pKgOl6yJxYFEgKKF3ZF1pHO8etjk9toVfzMLTvJjAXRufe5/sntlcRtiNk9ROhclIxHi/27yh+l25Rbm0Oqw8nn8wAYTEBMXlxrGGSwUxgkG+8boQNTzvoOqmJi+ikSCHYDQhGWQaKLuuaPV5vPjEr0wqEsSYrty0nz9f2J8oXLDYydRYTwdJ/gSZQGL8y3qpeXW5TTq0/F7+8YFQQ+JFm4aDxrtFPsKnvyo6kvWAMFnrCya3ovSggeADoT7jmigc7fS0unw6Q/0LTtJI2BmcSV8/H8EfdFzY2USU28+JSnTFPICsvTf6t/ln+Wf6frwf/rLBGoO9hU6GkwaoxUlDC7+hexU2A7DUa7JmwqNcIMCgFyDoo11ngK1B9Dv7e0MJSvDRideAXBoe+p/ln30dPpm+FR8QC8rtRaJBOP1nesk5nPlEukm8IX5zQONDVwV/Rl+Gk0WRA21/1zuWtodxUCwb51CjhyEDIC8gliMkZycskPN9+rvCU8oQEQdXIxumnrIfxl+CnaHaNhWh0I8LZsYJwYg92fsduZR5Y3oWO+N+M8CrAy5FLUZpBrrFlkOMgEs8F3cLcc0sh+fh4/WhCeAK4Iei7qaQrCGygLo8AZzJbRBB1oIbbt5ln+NfhN3CWqyWJBESi+HGs4HZvg87dLmOuUS6JDul/fPAccLEBRkGcAafRdiD6YC9vFd3j7JLbTWoNeQoIVSgKyB9InymPKt0scR5e8DkiIeP+NXdWvMeFN/8n4OeIJrhVqWRlkxeBx9Cbf5HO465y3ln+fO7aX2zwDdCl8TCRnQGgQYYBARBLjzWeBPyyq2lqIzkneGjYA9gdqIOJevqyXFI+LuAKwfgDyzVdNpzXf/fkZ//HjwbFFcmEhpM20eNAsS+wjvrucs5TXnEu219dD/8AmoEqQY1Rp/GFMRcgV09VHiX80ruF2kmpNch9iA34DQh4yVd6mBwjrf7v3BHNg5d1MiaL12m36Lf9x5Um4VXphKejVnIPIMd/z/7y7oNeXU5l3syvTQ/gAJ6RE3GM8a7xg6EsoGJ/dF5G/PLrospgyVUIgzgZKA14bwk0yn5b9W3O360hkpNy9RY2addSZ+wH+ueqpv0l+TTIs3ZCK3Dub9AfG56EnlfOav6+Lz0P0MCCURwBe+GlIZFhMXCNP4NOZ+0TW8AaiIllCJnYFVgO+FY5ItpVO9d9nt998WcTTbTpVkbXSgfeV/cnv2cIZhik6bOWYkgxBe/w/yUOlp5S/mCOv+8tD8FQdaEEEXoxqrGecTWgl3+h7oi9M/vt2pD5heiheCKYAWheWQG6PLup3W7vTpE7ExfEy5Yi1zCX36fyd8NnIyY3xQqztqJlYS3gAn8/LplOXr5WnqHvLS+x0Gig+6Fn0a9xmsFJIKE/wD6pfVS8C/q5+ZeYuggg2AT4R2jxehTLjK0/Hx8BDrLhJKz2DdcWJ8/n/OfGpz1WRqUro9cSgvFGgCS/Sh6srlseXR6UTx1voiBbUOKhZNGjgaZhXAC6X94euh11jCp605m6GMOIMCgJiDF44gn9i1/dD17vUNHiyeR9hefnCre/J/ZX2RdG9mUVTIP3sqDhb8A3n1WusL5oHlQulv8Nv5JQTaDZIVExpuGhMW4wwv/7rtqNlnxJWv3ZzVjd+DB4DxgsiMNp1vszbO/Ov4CkopH0XTXA5v4nrWf+59q3X/ZzNW00GHLPMXlwWx9iDsWOZc5bron+/i+CcD+gzyFM8ZmBq2FvsNrwCN76zbd8aHsYmeFY+UhByAW4KIi1ubELF3ywfp+QdwJpZCwFqQbQp6qX9nfrl2hWkPWN1DlC7dGTsH9ffx7LHmQeU76NTu7PcoAhYMSxSBGbgaTBcIDycCWfGt3YfIf7M+oGKQWYVCgNaBWYqNmb2uwMgU5vgEkSMEQKFYAmwgeWx/0X65dwFr5VnjRaMwzBvoCEL5ze0V5zHlxecQ7vj2KAEuC50TKRnLGtcXChCVAx7zq9+Yynq1+qG6kSuGd4BigTmJzpd1rBDGJeP3AawgaD12VmVqJ3gefyt/rHhzbLNb50ezMsAdnAqa+rXuhecr5VjnUu0I9icAQgroEsgY1BpWGAAR+gTc9KThqcx5t7+jHZMMh7yA/oAqiB6WOappwzvg9/7DHcQ6PlS5aB13v351f5F52W16XehJxDS4H1cM+/up7wDoMeX05pvsGvUo/1MJLBJeGNIayRjsEVQGkvaZ47nOfLmLpYuU+ocSgauAK4d9lAqoy8BV3fb71RoXOPpR/2YCdlB+sH9oejVvOV/kS9Q2tCEaDmb9p/CI6EHlmebq6zH0KP5gCGkR6hfFGjEZzBKlB0H4iuXI0IK7XqcElvaId4FogD2G6pLnpTW+dNr2+OQXYjWqTzZl2HTQfdp/MHuFcPBg3U3lOLQj5A/b/rHxGuld5UjmQetM8yj9awehEG4XrhqNGaAT6wjn+Xbn1tKLvTiph5cAiuuBNoBfhWeR0aOpu5jX9vXvFKUyT01fY51zP330f+t7yXGfYtFP9Tq4JbQRWADF8rnphOUB5p/qa/Iq/HMG0w/pFowa3hlqFCcKhvtc6ePUlr8YqxSZFotvghWAkoTzj8ihJ7nC1Pjy9xHhL+lKemFTcp58/n+WfAFzRWTAUQU9vieLE98B5fNj6rblxOUF6o/xLft4Bf8OXBZfGiMaJxVZCxv9Pevt1qPB/qyrmjqMAoMEgNWDjo7Mn7C289H87/0OFi14SIdf+XDse/h/M30sdOJlqlMTP8cpaBVwAw/1Gevz5ZDlcum48DH6fAQmDscVKBpdGtkVfwyp/hjt9dixw+quS5xpjaODA4ApgzmN3p1CtCrPA+0ADEQq/EWGXY9vKXvhf8B9S3V2Z45VH0HSK0sXCAVE9tvrPOZn5ejo5u84+X4DSA0qFegZixp/FpsNLADt7vrawcXbsPSdpo5UhBOAjYL1i/2b4LFpzAzqAQlsJ3dDeVsVblZ6un8/fl12AGlsVylD3y0zGaoGhPeo7JHmSeVm6BnvQPiAAmYMhhSdGa4aGhesDqcBu/D93NHH0bKmn+6PE4UzgAKCwIormomvr8kY5wEGjyToQF5ZjWxzeYN/rn5id39qRFkxRe0vIRtTCM74gO3x5jXl7edT7kz3gAF/C9oTSBnGGqgXsg8YA4Ly+97iycu0YKFCkeGFY4CIgZuJZ5g9rfzGKOQBA6whTz43V/Vqf3g6fw1/Wnj1axRbNkf9MRMdBAoi+mTuXecs5X3nk+1a9oAAlAonE+sY0xosGK0QgARD9Pbg88vJtiKjoZK9hqOAHoGGiLKW/apSxDvhAAA=\" type=\"audio/wav\" />\n                    Your browser does not support the audio element.\n                </audio>\n              "
     },
     "execution_count": 492,
     "metadata": {},
     "output_type": "execute_result"
    }
   ],
   "source": [
    "from IPython.lib.display import Audio\n",
    "import numpy as np\n",
    "\n",
    "framerate = 4410\n",
    "play_time_seconds = 3\n",
    "\n",
    "t = np.linspace(0, play_time_seconds, framerate*play_time_seconds)\n",
    "audio_data = np.sin(2*np.pi*300*t) + np.sin(2*np.pi*240*t)\n",
    "Audio(audio_data, rate=framerate, autoplay=True)"
   ],
   "metadata": {
    "collapsed": false
   }
  },
  {
   "cell_type": "code",
   "execution_count": 463,
   "outputs": [
    {
     "data": {
      "text/plain": "4.107825191113088e-15"
     },
     "execution_count": 463,
     "metadata": {},
     "output_type": "execute_result"
    }
   ],
   "source": [
    "from sklearn.metrics import log_loss as sk_loss\n",
    "\n",
    "sk_loss(target, test_pred)"
   ],
   "metadata": {
    "collapsed": false
   }
  },
  {
   "cell_type": "code",
   "execution_count": 475,
   "outputs": [
    {
     "data": {
      "text/plain": "-1.9999989999250343e-06"
     },
     "execution_count": 475,
     "metadata": {},
     "output_type": "execute_result"
    }
   ],
   "source": [
    "log_loss(softmax(batch), target)"
   ],
   "metadata": {
    "collapsed": false
   }
  },
  {
   "cell_type": "code",
   "execution_count": 439,
   "outputs": [
    {
     "data": {
      "text/plain": "array([[ 13.81552437,   0.        ,   0.        ,   0.        ,\n        -13.81553819]])"
     },
     "execution_count": 439,
     "metadata": {},
     "output_type": "execute_result"
    }
   ],
   "source": [
    "(target - test_pred) * log_loss(target, test_pred)"
   ],
   "metadata": {
    "collapsed": false
   }
  },
  {
   "cell_type": "code",
   "execution_count": 414,
   "outputs": [
    {
     "data": {
      "text/plain": "array([[0.      , 0.      , 0.      , 0.      , 1.000001]])"
     },
     "execution_count": 414,
     "metadata": {},
     "output_type": "execute_result"
    }
   ],
   "source": [
    "test_pred"
   ],
   "metadata": {
    "collapsed": false
   }
  },
  {
   "cell_type": "code",
   "execution_count": 415,
   "outputs": [
    {
     "data": {
      "text/plain": "array([[1., 0., 0., 0., 0.]])"
     },
     "execution_count": 415,
     "metadata": {},
     "output_type": "execute_result"
    }
   ],
   "source": [
    "target"
   ],
   "metadata": {
    "collapsed": false
   }
  },
  {
   "cell_type": "code",
   "execution_count": 251,
   "outputs": [],
   "source": [
    "layer_defs = [\n",
    "    {\"type\": \"input\", \"units\": 3},\n",
    "    {\"type\": \"cnn\", \"kernel_size\": 3, \"units\": 1},\n",
    "    {\"type\": \"dense\", \"input_units\": 254 * 254, \"units\": 5}\n",
    "]\n",
    "\n",
    "layers = init_layers(layer_defs)"
   ],
   "metadata": {
    "collapsed": false
   }
  },
  {
   "cell_type": "code",
   "execution_count": 252,
   "outputs": [],
   "source": [
    "layers, batch, hidden = forward(images[0][0], layers)\n",
    "lr = 5e-4\n",
    "grad = log_loss(softmax(batch), np.array([0,0,1,0,0]))\n",
    "\n",
    "i = 1\n",
    "grad = np.multiply(grad, np.heaviside(hidden[i+1], 1))"
   ],
   "metadata": {
    "collapsed": false
   }
  },
  {
   "cell_type": "code",
   "execution_count": 253,
   "outputs": [],
   "source": [
    "grad = grad.T\n",
    "w_grad = np.matmul(grad, hidden[i].reshape(1, math.prod(hidden[i].shape))).T\n",
    "b_grad = grad.T\n",
    "layers[i][0] -= (w_grad + layers[i][0] * .01) * lr\n",
    "layers[i][1] -= b_grad * lr\n",
    "grad = np.matmul(layers[i][0], grad).T"
   ],
   "metadata": {
    "collapsed": false
   }
  },
  {
   "cell_type": "code",
   "execution_count": 255,
   "outputs": [],
   "source": [
    "i = 0\n",
    "grad = grad.reshape(hidden[i+1].shape)\n",
    "grad = np.multiply(grad, np.heaviside(hidden[i+1], 1))"
   ],
   "metadata": {
    "collapsed": false
   }
  },
  {
   "cell_type": "code",
   "execution_count": 256,
   "outputs": [],
   "source": [
    "_, kernel_x, kernel_y = grad.shape\n",
    "flat_input = unroll_image(hidden[i][0,:], kernel_x, kernel_y)\n",
    "flat_grad = grad.reshape(math.prod(grad.shape), 1)\n",
    "k_grad = np.matmul(flat_input, flat_grad).reshape(1,1,layers[i][0].shape[2], layers[i][0].shape[3])\n",
    "layers[i][0] -= k_grad * lr"
   ],
   "metadata": {
    "collapsed": false
   }
  },
  {
   "cell_type": "code",
   "execution_count": null,
   "outputs": [],
   "source": [],
   "metadata": {
    "collapsed": false
   }
  }
 ],
 "metadata": {
  "kernelspec": {
   "display_name": "Python 3",
   "language": "python",
   "name": "python3"
  },
  "language_info": {
   "codemirror_mode": {
    "name": "ipython",
    "version": 2
   },
   "file_extension": ".py",
   "mimetype": "text/x-python",
   "name": "python",
   "nbconvert_exporter": "python",
   "pygments_lexer": "ipython2",
   "version": "2.7.6"
  }
 },
 "nbformat": 4,
 "nbformat_minor": 0
}
