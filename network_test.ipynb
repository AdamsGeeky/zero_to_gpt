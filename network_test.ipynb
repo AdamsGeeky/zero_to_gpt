{
 "cells": [
  {
   "cell_type": "code",
   "execution_count": 1,
   "metadata": {
    "collapsed": true
   },
   "outputs": [],
   "source": [
    "from network import Network\n",
    "from conv import Conv\n",
    "from dense import Dense\n",
    "from metrics import log_loss, log_loss_grad, softmax\n",
    "import math\n",
    "import numpy as np\n",
    "import random"
   ]
  },
  {
   "cell_type": "code",
   "execution_count": 2,
   "outputs": [],
   "source": [
    "FILE = \"fashion-mnist_train.csv\"\n",
    "with open(f\"cnn/images/{FILE}\") as f:\n",
    "    examples = f.read().strip().split(\"\\n\")[1:]\n",
    "\n",
    "train, valid, test = [], [], []\n",
    "valid_cutoff = .8\n",
    "test_cutoff = .9\n",
    "\n",
    "for example in examples:\n",
    "    label, pixels = example.split(\",\", 1)\n",
    "    label = int(label)\n",
    "    if label > 4:\n",
    "        continue\n",
    "    pixels = [int(p) for p in pixels.split(\",\")]\n",
    "    data = np.asarray(pixels, dtype=\"int32\")\n",
    "    data = data.reshape((1,28,28))\n",
    "    # Scale values from -1 to 1\n",
    "    data = ((data / 255) - .5) / .5\n",
    "    # Move channel axis to first axis\n",
    "    #data = np.moveaxis(data, -1, 0)\n",
    "    target = np.zeros((1, 5))\n",
    "    target[0,label] = 1\n",
    "    row = (data, target, )\n",
    "\n",
    "    split = random.random()\n",
    "    if split > test_cutoff:\n",
    "        test.append(row)\n",
    "    elif split > valid_cutoff:\n",
    "        valid.append(row)\n",
    "    else:\n",
    "        train.append(row)"
   ],
   "metadata": {
    "collapsed": false
   }
  },
  {
   "cell_type": "code",
   "execution_count": 7,
   "outputs": [],
   "source": [
    "class TestNet(Network):\n",
    "    def __init__(self):\n",
    "        self.conv1 = Conv(input_channels=1, output_channels=3, kernel_x=3, kernel_y=3)\n",
    "        self.conv2 = Conv(input_channels=3, output_channels=1, kernel_x=3, kernel_y=3)\n",
    "        self.dense = Dense(input_size=24 ** 2, output_size=5)\n",
    "\n",
    "        super().__init__()\n",
    "\n",
    "    def forward(self, x):\n",
    "        x = self.conv1.forward(x)\n",
    "        x = self.conv2.forward(x)\n",
    "        x = x.reshape(1, math.prod(x.shape))\n",
    "        x = self.dense.forward(x)\n",
    "        return x\n",
    "\n",
    "    def backward(self, grad, lr):\n",
    "        grad = self.dense.backward(grad, lr)\n",
    "        grad = self.conv2.backward(grad, lr)\n",
    "        grad = self.conv1.backward(grad, lr)"
   ],
   "metadata": {
    "collapsed": false
   }
  },
  {
   "cell_type": "code",
   "execution_count": null,
   "outputs": [
    {
     "name": "stdout",
     "output_type": "stream",
     "text": [
      "Epoch 0 loss: 0.9853731426586296\n",
      "Epoch 0 valid accuracy: 0.724338282763073\n",
      "Epoch 1 loss: 0.7075812171902673\n",
      "Epoch 1 valid accuracy: 0.7514525500322788\n",
      "Epoch 2 loss: 0.6669164795070889\n",
      "Epoch 2 valid accuracy: 0.7572627501613944\n",
      "Epoch 3 loss: 0.6469968257656438\n",
      "Epoch 3 valid accuracy: 0.7611362169141381\n",
      "Epoch 4 loss: 0.6332889521241081\n",
      "Epoch 4 valid accuracy: 0.7646868947708199\n",
      "Epoch 5 loss: 0.6223851935743258\n",
      "Epoch 5 valid accuracy: 0.7688831504196255\n",
      "Epoch 6 loss: 0.6134035109552706\n",
      "Epoch 6 valid accuracy: 0.7714654615881213\n",
      "Epoch 7 loss: 0.6063728697886427\n",
      "Epoch 7 valid accuracy: 0.7727566171723693\n"
     ]
    }
   ],
   "source": [
    "net = TestNet()\n",
    "lr = 5e-3\n",
    "epochs = 20\n",
    "\n",
    "for epoch in range(epochs+1):\n",
    "    epoch_loss = 0\n",
    "    for i, img in enumerate(train):\n",
    "        image, target = img\n",
    "        batch = net.forward(image)\n",
    "\n",
    "        grad = log_loss_grad(softmax(batch), target)\n",
    "        epoch_loss += log_loss(softmax(batch), target)\n",
    "        net.backward(grad, lr)\n",
    "\n",
    "    print(f\"Epoch {epoch} loss: {epoch_loss / len(train)}\")\n",
    "    match = np.zeros(len(valid))\n",
    "    for i, img in enumerate(valid):\n",
    "        image, target = img\n",
    "        valid_pred = net.forward(image)\n",
    "        match[i] = np.argmax(valid_pred) == np.argmax(target)\n",
    "\n",
    "    print(f\"Epoch {epoch} valid accuracy: {match.sum() / match.shape[0]}\")"
   ],
   "metadata": {
    "collapsed": false,
    "pycharm": {
     "is_executing": true
    }
   }
  },
  {
   "cell_type": "code",
   "execution_count": null,
   "outputs": [],
   "source": [],
   "metadata": {
    "collapsed": false
   }
  }
 ],
 "metadata": {
  "kernelspec": {
   "display_name": "Python 3",
   "language": "python",
   "name": "python3"
  },
  "language_info": {
   "codemirror_mode": {
    "name": "ipython",
    "version": 2
   },
   "file_extension": ".py",
   "mimetype": "text/x-python",
   "name": "python",
   "nbconvert_exporter": "python",
   "pygments_lexer": "ipython2",
   "version": "2.7.6"
  }
 },
 "nbformat": 4,
 "nbformat_minor": 0
}
