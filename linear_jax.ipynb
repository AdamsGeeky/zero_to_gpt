{
 "cells": [
  {
   "cell_type": "code",
   "execution_count": 1,
   "id": "81949891-c63f-40b4-ba15-0e558e58e618",
   "metadata": {},
   "outputs": [],
   "source": [
    "import jax.numpy as jnp\n",
    "from jax import grad, jit, vmap\n",
    "import pandas as pd\n",
    "import numpy as np\n",
    "\n",
    "from sklearn.preprocessing import StandardScaler"
   ]
  },
  {
   "cell_type": "code",
   "execution_count": 2,
   "id": "c964d436-96d4-44a5-9816-b5c93c5a7ae1",
   "metadata": {},
   "outputs": [],
   "source": [
    "PREDICTORS = [\"tmax\", \"tmin\", \"rain\"]\n",
    "TARGET = \"tmax_tomorrow\"\n",
    "\n",
    "data = pd.read_csv(\"clean_weather.csv\", index_col=0)\n",
    "data = data.ffill()\n",
    "\n",
    "scaler = StandardScaler()\n",
    "data[PREDICTORS] = scaler.fit_transform(data[PREDICTORS])\n",
    "\n",
    "split_data = np.split(data, [int(.7*len(data)), int(.85*len(data))])\n",
    "(train_x, train_y), (valid_x, valid_y), (test_x, test_y) = [[d[PREDICTORS].to_numpy(), d[[TARGET]].to_numpy()] for d in split_data]"
   ]
  },
  {
   "cell_type": "code",
   "execution_count": 3,
   "id": "0684855a-6429-4973-a245-1727bacbfa22",
   "metadata": {},
   "outputs": [],
   "source": [
    "def init_layers(inputs):\n",
    "    layers = []\n",
    "    for i in range(1, len(inputs)):\n",
    "        layers.append([\n",
    "            np.random.rand(inputs[i-1], inputs[i]) / 5 - .1,\n",
    "            np.ones((1,inputs[i]))\n",
    "        ])\n",
    "    return layers"
   ]
  },
  {
   "cell_type": "code",
   "execution_count": 4,
   "id": "b281248a-dbed-403b-b381-915a2a995aac",
   "metadata": {},
   "outputs": [],
   "source": [
    "def forward(layers, x):\n",
    "    for i in range(len(layers)):\n",
    "        x = jnp.matmul(x, layers[i][0]) + layers[i][1]\n",
    "        if i < len(layers) - 1:\n",
    "            x = jnp.maximum(x, 0)\n",
    "    return x"
   ]
  },
  {
   "cell_type": "code",
   "execution_count": 5,
   "id": "40a899d9-97ef-4a98-93e4-b64919ea1991",
   "metadata": {},
   "outputs": [],
   "source": [
    "def mse(y, preds):\n",
    "    return jnp.mean((y - preds)**2)\n",
    "\n",
    "def loss(layers, x, y):\n",
    "    preds = forward(layers, x) \n",
    "    return mse(y, preds)"
   ]
  },
  {
   "cell_type": "code",
   "execution_count": 6,
   "id": "5db618bf-b2ca-4e04-99d7-d106a248c4cd",
   "metadata": {},
   "outputs": [],
   "source": [
    "@jit\n",
    "def backward(layers, x, y):\n",
    "    grads = grad(loss)(layers, x, y)\n",
    "    for layer, g in zip(layers, grads):\n",
    "        layer[0] -= (g[0] + layer[0] * .01) * lr \n",
    "        layer[1] -= g[1] * lr\n",
    "    return layers"
   ]
  },
  {
   "cell_type": "code",
   "execution_count": 10,
   "id": "a29b1fc7-ea08-491e-912a-0b39f071af49",
   "metadata": {},
   "outputs": [
    {
     "name": "stdout",
     "output_type": "stream",
     "text": [
      "Epoch: 0 Valid MSE: 4447.9287109375\n",
      "Epoch: 1 Valid MSE: 4447.90625\n",
      "Epoch: 2 Valid MSE: 4447.88525390625\n",
      "Epoch: 3 Valid MSE: 4447.86376953125\n",
      "Epoch: 4 Valid MSE: 4447.84130859375\n",
      "Epoch: 5 Valid MSE: 4447.81982421875\n",
      "Epoch: 6 Valid MSE: 4447.7978515625\n",
      "Epoch: 7 Valid MSE: 4447.7763671875\n",
      "Epoch: 8 Valid MSE: 4447.75439453125\n",
      "Epoch: 9 Valid MSE: 4447.73291015625\n",
      "Epoch: 10 Valid MSE: 4447.7109375\n",
      "Epoch: 11 Valid MSE: 4447.68896484375\n",
      "Epoch: 12 Valid MSE: 4447.6669921875\n",
      "Epoch: 13 Valid MSE: 4447.64501953125\n",
      "Epoch: 14 Valid MSE: 4447.623046875\n",
      "Epoch: 15 Valid MSE: 4447.6015625\n"
     ]
    }
   ],
   "source": [
    "layer_conf = [3,10,10,1]\n",
    "lr = 1e-6\n",
    "batch_size = 64\n",
    "epochs=15\n",
    "\n",
    "layers = init_layers(layer_conf)\n",
    "\n",
    "for epoch in range(epochs+1):\n",
    "\n",
    "    for i in range(0, train_x.shape[0] - batch_size, batch_size):\n",
    "        batch_ind = range(i, min(train_x.shape[0]-1, i + batch_size))\n",
    "        layers = backward(layers, train_x[batch_ind,:].copy(), train_y[batch_ind,:])\n",
    "    \n",
    "    valid_preds = forward(layers, valid_x)\n",
    "    print(f\"Epoch: {epoch} Valid MSE: {mse(valid_y, valid_preds)}\")"
   ]
  },
  {
   "cell_type": "code",
   "execution_count": 8,
   "id": "21d53891-1198-4b4b-852d-7717df4b5df9",
   "metadata": {},
   "outputs": [
    {
     "data": {
      "text/plain": [
       "DeviceArray(4586.5703, dtype=float32)"
      ]
     },
     "execution_count": 8,
     "metadata": {},
     "output_type": "execute_result"
    }
   ],
   "source": [
    "test_preds = forward(layers, test_x)\n",
    "mse(test_y, test_preds)"
   ]
  }
 ],
 "metadata": {
  "kernelspec": {
   "display_name": "Python 3 (ipykernel)",
   "language": "python",
   "name": "python3"
  },
  "language_info": {
   "codemirror_mode": {
    "name": "ipython",
    "version": 3
   },
   "file_extension": ".py",
   "mimetype": "text/x-python",
   "name": "python",
   "nbconvert_exporter": "python",
   "pygments_lexer": "ipython3",
   "version": "3.11.0"
  }
 },
 "nbformat": 4,
 "nbformat_minor": 5
}
