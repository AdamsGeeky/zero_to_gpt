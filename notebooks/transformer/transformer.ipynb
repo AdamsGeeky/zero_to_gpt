{
 "cells": [
  {
   "cell_type": "code",
   "execution_count": 2,
   "outputs": [],
   "source": [
    "# Based on this paper - https://arxiv.org/pdf/1706.03762.pdf\n",
    "# Might want to move layer norm inside the residual block - https://arxiv.org/pdf/2002.04745.pdf\n",
    "# Layer normalization - https://arxiv.org/pdf/1607.06450.pdf\n",
    "#!pip install torch torchtext sentencepiece datasets"
   ],
   "metadata": {
    "collapsed": false
   }
  },
  {
   "cell_type": "code",
   "execution_count": 3,
   "outputs": [],
   "source": [
    "import numpy as np\n",
    "import torch\n",
    "from torch import nn\n",
    "import torch.nn.functional as F\n",
    "import sys\n",
    "import os\n",
    "import math\n",
    "sys.path.append(os.path.abspath(\"../../data\"))\n",
    "\n",
    "DEVICE = torch.device(\"cuda\" if torch.cuda.is_available() else \"cpu\")\n",
    "BATCH_SIZE = 32\n",
    "SP_VOCAB_SIZE = 5000\n",
    "TRAIN_SIZE = 5000"
   ],
   "metadata": {
    "collapsed": false
   }
  },
  {
   "cell_type": "code",
   "execution_count": 4,
   "outputs": [
    {
     "name": "stderr",
     "output_type": "stream",
     "text": [
      "Found cached dataset opus100 (/Users/vik/.cache/huggingface/datasets/opus100/en-es/0.0.0/256f3196b69901fb0c79810ef468e2c4ed84fbd563719920b1ff1fdc750f7704)\n",
      "100%|██████████| 3/3 [00:00<00:00, 21.94it/s]\n",
      "sentencepiece_trainer.cc(177) LOG(INFO) Running command: --input=tokens.txt --model_prefix=opus100 --vocab_size=5000 --model_type=unigram\n",
      "sentencepiece_trainer.cc(77) LOG(INFO) Starts training with : \n",
      "trainer_spec {\n",
      "  input: tokens.txt\n",
      "  input_format: \n",
      "  model_prefix: opus100\n",
      "  model_type: UNIGRAM\n",
      "  vocab_size: 5000\n",
      "  self_test_sample_size: 0\n",
      "  character_coverage: 0.9995\n",
      "  input_sentence_size: 0\n",
      "  shuffle_input_sentence: 1\n",
      "  seed_sentencepiece_size: 1000000\n",
      "  shrinking_factor: 0.75\n",
      "  max_sentence_length: 4192\n",
      "  num_threads: 16\n",
      "  num_sub_iterations: 2\n",
      "  max_sentencepiece_length: 16\n",
      "  split_by_unicode_script: 1\n",
      "  split_by_number: 1\n",
      "  split_by_whitespace: 1\n",
      "  split_digits: 0\n",
      "  treat_whitespace_as_suffix: 0\n",
      "  required_chars: \n",
      "  byte_fallback: 0\n",
      "  vocabulary_output_piece_score: 1\n",
      "  train_extremely_large_corpus: 0\n",
      "  hard_vocab_limit: 1\n",
      "  use_all_vocab: 0\n",
      "  unk_id: 0\n",
      "  bos_id: 1\n",
      "  eos_id: 2\n",
      "  pad_id: -1\n",
      "  unk_piece: <unk>\n",
      "  bos_piece: <s>\n",
      "  eos_piece: </s>\n",
      "  pad_piece: <pad>\n",
      "  unk_surface:  ⁇ \n",
      "}\n",
      "normalizer_spec {\n",
      "  name: nmt_nfkc\n",
      "  add_dummy_prefix: 1\n",
      "  remove_extra_whitespaces: 1\n",
      "  escape_whitespaces: 1\n",
      "  normalization_rule_tsv: \n",
      "}\n",
      "denormalizer_spec {}\n",
      "trainer_interface.cc(319) LOG(INFO) SentenceIterator is not specified. Using MultiFileSentenceIterator.\n",
      "trainer_interface.cc(174) LOG(INFO) Loading corpus: tokens.txt\n",
      "trainer_interface.cc(375) LOG(INFO) Loaded all 9999 sentences\n",
      "trainer_interface.cc(390) LOG(INFO) Adding meta_piece: <unk>\n",
      "trainer_interface.cc(390) LOG(INFO) Adding meta_piece: <s>\n",
      "trainer_interface.cc(390) LOG(INFO) Adding meta_piece: </s>\n",
      "trainer_interface.cc(395) LOG(INFO) Normalizing sentences...\n",
      "trainer_interface.cc(456) LOG(INFO) all chars count=531332\n",
      "trainer_interface.cc(467) LOG(INFO) Done: 99.9513% characters are covered.\n",
      "trainer_interface.cc(477) LOG(INFO) Alphabet size=100\n",
      "trainer_interface.cc(478) LOG(INFO) Final character coverage=0.999513\n",
      "trainer_interface.cc(510) LOG(INFO) Done! preprocessed 9999 sentences.\n",
      "unigram_model_trainer.cc(138) LOG(INFO) Making suffix array...\n",
      "unigram_model_trainer.cc(142) LOG(INFO) Extracting frequent sub strings...\n",
      "unigram_model_trainer.cc(193) LOG(INFO) Initialized 46136 seed sentencepieces\n",
      "trainer_interface.cc(516) LOG(INFO) Tokenizing input sentences with whitespace: 9999\n",
      "trainer_interface.cc(526) LOG(INFO) Done! 25155\n",
      "unigram_model_trainer.cc(488) LOG(INFO) Using 25155 sentences for EM training\n",
      "unigram_model_trainer.cc(504) LOG(INFO) EM sub_iter=0 size=16156 obj=12.9249 num_tokens=52196 num_tokens/piece=3.23075\n",
      "unigram_model_trainer.cc(504) LOG(INFO) EM sub_iter=1 size=14349 obj=10.894 num_tokens=52633 num_tokens/piece=3.66806\n",
      "unigram_model_trainer.cc(504) LOG(INFO) EM sub_iter=0 size=10759 obj=10.9789 num_tokens=56071 num_tokens/piece=5.21154\n",
      "unigram_model_trainer.cc(504) LOG(INFO) EM sub_iter=1 size=10752 obj=10.9021 num_tokens=56145 num_tokens/piece=5.22182\n",
      "unigram_model_trainer.cc(504) LOG(INFO) EM sub_iter=0 size=8063 obj=11.2522 num_tokens=61513 num_tokens/piece=7.62905\n",
      "unigram_model_trainer.cc(504) LOG(INFO) EM sub_iter=1 size=8063 obj=11.1555 num_tokens=61558 num_tokens/piece=7.63463\n",
      "unigram_model_trainer.cc(504) LOG(INFO) EM sub_iter=0 size=6047 obj=11.5819 num_tokens=67657 num_tokens/piece=11.1885\n",
      "unigram_model_trainer.cc(504) LOG(INFO) EM sub_iter=1 size=6047 obj=11.4839 num_tokens=67654 num_tokens/piece=11.188\n",
      "unigram_model_trainer.cc(504) LOG(INFO) EM sub_iter=0 size=5500 obj=11.618 num_tokens=69591 num_tokens/piece=12.6529\n",
      "unigram_model_trainer.cc(504) LOG(INFO) EM sub_iter=1 size=5500 obj=11.5897 num_tokens=69593 num_tokens/piece=12.6533\n",
      "trainer_interface.cc(604) LOG(INFO) Saving model: opus100.model\n",
      "trainer_interface.cc(615) LOG(INFO) Saving vocabs: opus100.vocab\n"
     ]
    }
   ],
   "source": [
    "from text_data import Opus100DatasetWrapper\n",
    "\n",
    "class Wrapper(Opus100DatasetWrapper):\n",
    "    split_lengths = [TRAIN_SIZE, math.floor(TRAIN_SIZE * .1), 100]\n",
    "    x_length = 40\n",
    "    target_length = 40\n",
    "\n",
    "wrapper = Wrapper(SP_VOCAB_SIZE)\n",
    "datasets = wrapper.generate_datasets(BATCH_SIZE)\n",
    "train = datasets[\"train\"]\n",
    "valid = datasets[\"validation\"]"
   ],
   "metadata": {
    "collapsed": false
   }
  },
  {
   "cell_type": "code",
   "execution_count": 19,
   "outputs": [],
   "source": [
    "class MultiHeadAttention(nn.Module):\n",
    "    def __init__(self, input_units, attention_heads, mask=False):\n",
    "        super(MultiHeadAttention, self).__init__()\n",
    "        self.input_units = input_units\n",
    "        self.attention_heads = attention_heads\n",
    "        self.head_units = int(input_units/attention_heads)\n",
    "        self.mask = mask\n",
    "        if self.head_units * self.attention_heads != self.input_units:\n",
    "            raise Exception(\"Invalid input units and heads combo\")\n",
    "\n",
    "        k = math.sqrt(1/self.head_units)\n",
    "        self.query_weights = nn.Parameter(torch.rand(self.attention_heads, input_units, self.head_units) * 2 * k - k)\n",
    "        self.key_weights = nn.Parameter(torch.rand(self.attention_heads, input_units, self.head_units) * 2 * k - k)\n",
    "        self.value_weights = nn.Parameter(torch.rand(self.attention_heads, input_units, self.head_units) * 2 * k - k)\n",
    "\n",
    "    def forward(self, queries, context):\n",
    "        # convert to 4d tensor with batch_size, attn_heads, seq_len, embedding_dim\n",
    "        exp_queries = queries.unsqueeze(1).expand(-1, self.attention_heads, -1,-1)\n",
    "        exp_context = context.unsqueeze(1).expand(-1, self.attention_heads, -1,-1)\n",
    "        proj_queries = torch.einsum(\"base, aeh->bash\", exp_queries, self.query_weights)\n",
    "        proj_keys = torch.einsum(\"base, aeh->bash\", exp_context, self.key_weights)\n",
    "        proj_values = torch.einsum(\"base, aeh->bash\", exp_context, self.value_weights)\n",
    "\n",
    "        attention = torch.einsum(\"bash, bahk->bask\", proj_queries, torch.transpose(proj_keys, -2, -1)) / np.sqrt(self.head_units)\n",
    "        if self.mask:\n",
    "            # Prevent decoder queries from looking at tokens that come after\n",
    "            # Do this by setting attention to negative infinity, so it is softmaxed to zero in the next step\n",
    "            mask = torch.zeros((attention.shape[-2], attention.shape[-1]), device=DEVICE)\n",
    "            mask_indices = np.triu_indices(attention.shape[-2], k=1, m=attention.shape[-1])\n",
    "            mask[mask_indices] = -torch.inf\n",
    "            attention += mask\n",
    "\n",
    "        # Softmax on last dimension\n",
    "        # Sequence-wise softmax, so attention between one sequence and other sequences sums to 1\n",
    "        attention = torch.softmax(attention, dim=-1)\n",
    "        weighted_values = torch.einsum(\"bash, bahe->base\", attention, proj_values)\n",
    "\n",
    "        # Swap attention head and sequence axis, then reshape to batch, seq, embedding\n",
    "        weighted_values = weighted_values.swapaxes(1,2).reshape(queries.shape[0], queries.shape[1], -1)\n",
    "        return weighted_values"
   ],
   "metadata": {
    "collapsed": false
   }
  },
  {
   "cell_type": "code",
   "execution_count": 20,
   "outputs": [],
   "source": [
    "class EncoderBlock(nn.Module):\n",
    "    def __init__(self, input_units, attention_heads, hidden_units=2048):\n",
    "        super(EncoderBlock, self).__init__()\n",
    "        self.input_units = input_units\n",
    "        self.attention_heads = attention_heads\n",
    "        self.hidden_units = hidden_units\n",
    "\n",
    "        self.mha = MultiHeadAttention(self.input_units, self.attention_heads)\n",
    "        self.dropouts = nn.ModuleList(nn.Dropout(.1) for _ in range(2))\n",
    "        self.linear1 = nn.Linear(self.input_units, hidden_units)\n",
    "        self.linear2 = nn.Linear(hidden_units, self.input_units)\n",
    "        self.relu = nn.ReLU()\n",
    "        self.lns = nn.ModuleList(nn.LayerNorm(self.input_units) for _ in range(2))\n",
    "\n",
    "    def forward(self, x):\n",
    "        weighted_values = self.dropouts[0](self.mha(x, x))\n",
    "        attn_output = self.lns[0](x + weighted_values)\n",
    "\n",
    "        reprojected = self.dropouts[1](self.linear2(self.relu(self.linear1(attn_output))))\n",
    "        block_output = self.lns[1](attn_output + reprojected)\n",
    "        return block_output"
   ],
   "metadata": {
    "collapsed": false
   }
  },
  {
   "cell_type": "code",
   "execution_count": 21,
   "outputs": [],
   "source": [
    "class DecoderBlock(nn.Module):\n",
    "    def __init__(self, input_units, attention_heads, hidden_units=2048):\n",
    "        super(DecoderBlock, self).__init__()\n",
    "        self.input_units = input_units\n",
    "        self.attention_heads = attention_heads\n",
    "        self.hidden_units = hidden_units\n",
    "\n",
    "        self.in_attn = MultiHeadAttention(self.input_units, self.attention_heads, mask=True)\n",
    "        self.context_attn = MultiHeadAttention(self.input_units, self.attention_heads)\n",
    "        self.dropouts = nn.ModuleList([nn.Dropout(.1) for _ in range(3)])\n",
    "        self.linear1 = nn.Linear(self.input_units, hidden_units)\n",
    "        self.linear2 = nn.Linear(hidden_units, self.input_units)\n",
    "        self.relu = nn.ReLU()\n",
    "        self.lns = nn.ModuleList(nn.LayerNorm(self.input_units) for _ in range(3))\n",
    "\n",
    "    def forward(self, queries, context):\n",
    "        weighted_values = self.dropouts[0](self.in_attn(queries, queries))\n",
    "        attn_output = self.lns[0](queries + weighted_values)\n",
    "\n",
    "        decoder_values = self.dropouts[1](self.context_attn(attn_output, context))\n",
    "        decoder_output = self.lns[1](attn_output + decoder_values)\n",
    "\n",
    "        reprojected = self.dropouts[2](self.linear2(self.relu(self.linear1(decoder_output))))\n",
    "        block_output = self.lns[2](decoder_output + reprojected)\n",
    "        return block_output"
   ],
   "metadata": {
    "collapsed": false
   }
  },
  {
   "cell_type": "code",
   "execution_count": 22,
   "outputs": [],
   "source": [
    "class Transformer(nn.Module):\n",
    "    def __init__(self, input_units, hidden_units, attention_heads, enc_sequence_len, blocks=1):\n",
    "        super(Transformer, self).__init__()\n",
    "        self.input_units = input_units\n",
    "        self.hidden_units = hidden_units\n",
    "        self.attention_heads = attention_heads\n",
    "        self.blocks = blocks\n",
    "\n",
    "        k = math.sqrt(1/self.hidden_units)\n",
    "        self.output_embedding = nn.Parameter(torch.rand(hidden_units, input_units) * 2 * k - k)\n",
    "        self.embedding = nn.Embedding(input_units, hidden_units)\n",
    "        self.dropouts = nn.ModuleList(nn.Dropout(.1) for _ in range(2))\n",
    "        self.encoders = nn.ModuleList(EncoderBlock(hidden_units, attention_heads) for _ in range(self.blocks))\n",
    "        self.decoders = nn.ModuleList(DecoderBlock(hidden_units, attention_heads) for _ in range(self.blocks))\n",
    "        self.pos_encoding = self.encoding(enc_sequence_len, self.hidden_units).to(DEVICE)\n",
    "\n",
    "\n",
    "    def embed(self, indices, reverse=False):\n",
    "        if reverse:\n",
    "            return torch.einsum(\"bse, eo->bso\", indices, self.embedding.T)\n",
    "        else:\n",
    "            one_hot = F.one_hot(indices.to(torch.long), num_classes=self.input_units).to(torch.float)\n",
    "            return torch.einsum(\"bso, oe->bse\", one_hot, self.embedding)\n",
    "\n",
    "    def forward(self, x, y, enc_outputs=None):\n",
    "        if enc_outputs is None:\n",
    "            # 3D with batch, seq, embeddings\n",
    "            # TODO: Tie input and output embedding weights\n",
    "            enc_outputs = self.dropouts[0](self.embedding(x) + self.pos_encoding[:x.shape[1]])\n",
    "\n",
    "            for i in range(self.blocks):\n",
    "                enc_outputs = self.encoders[i](enc_outputs)\n",
    "\n",
    "        dec_outputs = self.dropouts[1](self.embedding(y) + self.pos_encoding[:y.shape[1]])\n",
    "        for i in range(self.blocks):\n",
    "            dec_outputs = self.decoders[i](dec_outputs, enc_outputs)\n",
    "\n",
    "        token_vectors = torch.einsum(\"bse, eo->bso\", dec_outputs, self.output_embedding)\n",
    "        return token_vectors, enc_outputs\n",
    "\n",
    "    def encoding(self, seq_len, embed_len):\n",
    "        encodings = torch.zeros((seq_len, embed_len))\n",
    "        for i in range(seq_len):\n",
    "            all = torch.exp(torch.arange(0, embed_len, 2) * (-math.log(10000.0) / embed_len))\n",
    "            encodings[i, 0::2] = torch.sin(i * all)\n",
    "            encodings[i, 1::2] = torch.cos(i * all)\n",
    "        return encodings"
   ],
   "metadata": {
    "collapsed": false
   }
  },
  {
   "cell_type": "code",
   "execution_count": 23,
   "outputs": [],
   "source": [
    "def generate(sequence, pred, target, wrapper):\n",
    "    prompts = wrapper.decode_batch(sequence.cpu())\n",
    "    texts = wrapper.decode_batch(torch.argmax(pred, dim=2).cpu())\n",
    "    correct_texts = wrapper.decode_batch(target.cpu())\n",
    "\n",
    "    displays = []\n",
    "    for p, t, ct in zip(prompts, texts, correct_texts):\n",
    "        displays.append(f\"{p} | {ct} | {t}\")\n",
    "    return displays"
   ],
   "metadata": {
    "collapsed": false
   }
  },
  {
   "cell_type": "code",
   "execution_count": 24,
   "outputs": [],
   "source": [
    "from tqdm.auto import tqdm\n",
    "\n",
    "# TODO: Profile and improve perf - https://pytorch.org/tutorials/recipes/recipes/profiler_recipe.html\n",
    "model = Transformer(wrapper.vocab_size, 512, 8, wrapper.y_length, blocks=1).to(DEVICE)\n",
    "loss_fn = nn.CrossEntropyLoss(ignore_index=wrapper.pad_token)\n",
    "optimizer = torch.optim.AdamW(model.parameters(), lr=1e-3)"
   ],
   "metadata": {
    "collapsed": false
   }
  },
  {
   "cell_type": "code",
   "execution_count": null,
   "outputs": [
    {
     "name": "stderr",
     "output_type": "stream",
     "text": [
      "127it [00:24,  5.24it/s]\n"
     ]
    },
    {
     "name": "stdout",
     "output_type": "stream",
     "text": [
      "Epoch 0 train loss: 0.1742700781878524\n",
      "¿De dónde la conoces? | How do you know her? | You you you you you?\n",
      "siguiente: paisaje de un doble planeta enano | next: landscape of a double dwarf planet | The'\n"
     ]
    },
    {
     "name": "stderr",
     "output_type": "stream",
     "text": [
      "15it [00:12,  1.24it/s]\n"
     ]
    },
    {
     "name": "stdout",
     "output_type": "stream",
     "text": [
      "Valid loss: 0.21981802781422932\n",
      "También son de parte de Jesús. | They're from Jesus too. | You't you't you't you't you't you't you.\n",
      "Está tan grande. | He's so big. | You't't't.\n"
     ]
    },
    {
     "name": "stderr",
     "output_type": "stream",
     "text": [
      "127it [00:24,  5.08it/s]\n"
     ]
    },
    {
     "name": "stdout",
     "output_type": "stream",
     "text": [
      "Epoch 1 train loss: 0.1515757462640447\n",
      "Casino Ruta 59 en el estilo de Nueva Orleans y refleja su ambiente encantador. | Casino Route 59 is designed in the style of New Orleans and reflects its charming atmosphere. | Thesssssss thes of their of the ofs ofs and ands and and andss and of and ands\n",
      "- ¿Cómo estás, viejo? | -Body! How you doing, man? | - What,,,,\n"
     ]
    },
    {
     "name": "stderr",
     "output_type": "stream",
     "text": [
      "127it [00:25,  5.05it/s]\n"
     ]
    },
    {
     "name": "stdout",
     "output_type": "stream",
     "text": [
      "Epoch 2 train loss: 0.13725974627836482\n",
      "Puerto Barriosguatemala. kgm | Puerto Barrios | -........................................\n",
      "Ésa es la gracia, nunca sabes quién ganará. | That's the thing about elections. You never know who will win. | I's the a the thes\n"
     ]
    },
    {
     "name": "stderr",
     "output_type": "stream",
     "text": [
      "127it [00:24,  5.09it/s]\n"
     ]
    },
    {
     "name": "stdout",
     "output_type": "stream",
     "text": [
      "Epoch 3 train loss: 0.1220014655566591\n",
      "Sin embargo, he determinado su naturaleza. | However, I've determined its nature. | Youever, I'm been....\n",
      "¿Por qué me enganchaste con esa gorda pelada? - ¿Quién? ¿Rita? | Rita? | - withing\n"
     ]
    },
    {
     "name": "stderr",
     "output_type": "stream",
     "text": [
      "127it [00:25,  5.08it/s]\n"
     ]
    },
    {
     "name": "stdout",
     "output_type": "stream",
     "text": [
      "Epoch 4 train loss: 0.10627326193287617\n",
      "La compañía desarrolla sus actividades como una compañía de danza contemporánea internacional con base en Barcelona. | The company developed its activities as an international contemporary dance company, based in Barcelona. | It amount develops you considera of a internationalcegsma .... but. the.\n",
      "Nunca nos separaremos otra vez. | We shall never again be parted. | I' be not.ly..\n"
     ]
    },
    {
     "name": "stderr",
     "output_type": "stream",
     "text": [
      "118it [00:23,  5.02it/s]"
     ]
    }
   ],
   "source": [
    "EPOCHS = 100\n",
    "DISPLAY_BATCHES = 2\n",
    "OUT_SEQUENCE_LEN = wrapper.y_length\n",
    "PRINT_VALID = True\n",
    "\n",
    "for epoch in range(EPOCHS):\n",
    "    # Run over the training examples\n",
    "    train_loss = 0\n",
    "    match_pct = 0\n",
    "    for batch, (sequence, target, prev_target) in tqdm(enumerate(train)):\n",
    "        optimizer.zero_grad(set_to_none=True)\n",
    "        pred, _ = model(sequence.to(DEVICE), prev_target.to(DEVICE))\n",
    "\n",
    "        # If you use a batch, need to reshape pred to be batch * sequence, embedding_len to be compatible\n",
    "        # Similar reshape with target to be batch * sequence vector of class indices\n",
    "        loss = loss_fn(pred.reshape(-1, pred.shape[-1]), target.view(-1).to(DEVICE))\n",
    "        loss.backward()\n",
    "        optimizer.step()\n",
    "        train_loss += loss.item()\n",
    "\n",
    "    with torch.no_grad():\n",
    "        print(f\"Epoch {epoch} train loss: {train_loss / len(train) / BATCH_SIZE}\")\n",
    "        sents = generate(sequence, pred, target, wrapper)\n",
    "        for sent in sents[:DISPLAY_BATCHES]:\n",
    "            print(sent)\n",
    "\n",
    "        if PRINT_VALID and epoch % 10 ==0:\n",
    "            # Compute validation loss.  Unless you have a lot of training data, the validation loss won't decrease.\n",
    "            valid_loss = 0\n",
    "            # Deactivate dropout layers\n",
    "            model.eval()\n",
    "            for batch, (sequence, target, prev_target) in tqdm(enumerate(valid)):\n",
    "                # Inference token by tokens\n",
    "                sequence = sequence.to(DEVICE)\n",
    "                outputs = prev_target[:,0].unsqueeze(1).to(DEVICE)\n",
    "                enc_outputs = None\n",
    "                # TODO: Investigate memory leak with valid generation\n",
    "                for i in range(OUT_SEQUENCE_LEN):\n",
    "                    pred, enc_outputs = model(sequence, outputs, enc_outputs=enc_outputs)\n",
    "                    last_output = torch.argmax(pred, dim=2)\n",
    "                    outputs = torch.cat((outputs, last_output[:,-1:]), dim=1)\n",
    "                loss = loss_fn(pred.reshape(-1, pred.shape[-1]), target.view(-1).to(DEVICE))\n",
    "                valid_loss += loss.item()\n",
    "            print(f\"Valid loss: {valid_loss / len(valid) / BATCH_SIZE}\")\n",
    "            sents = generate(sequence, pred, target, wrapper)\n",
    "            for sent in sents[:DISPLAY_BATCHES]:\n",
    "                print(sent)\n",
    "            # Reactivate dropout\n",
    "            model.train()"
   ],
   "metadata": {
    "collapsed": false,
    "pycharm": {
     "is_executing": true
    }
   }
  },
  {
   "cell_type": "code",
   "execution_count": null,
   "outputs": [],
   "source": [
    "from torchinfo import summary\n",
    "\n",
    "print(summary(model))"
   ],
   "metadata": {
    "collapsed": false
   }
  },
  {
   "cell_type": "code",
   "execution_count": 18,
   "outputs": [
    {
     "name": "stderr",
     "output_type": "stream",
     "text": [
      "STAGE:2023-01-21 20:45:14 90620:35032007 ActivityProfilerController.cpp:294] Completed Stage: Warm Up\n",
      "STAGE:2023-01-21 20:45:14 90620:35032007 ActivityProfilerController.cpp:300] Completed Stage: Collection\n"
     ]
    },
    {
     "name": "stdout",
     "output_type": "stream",
     "text": [
      "---------------------------  ------------  ------------  ------------  ------------  ------------  ------------  \n",
      "                       Name    Self CPU %      Self CPU   CPU total %     CPU total  CPU time avg    # of Calls  \n",
      "---------------------------  ------------  ------------  ------------  ------------  ------------  ------------  \n",
      "               aten::einsum         0.52%     345.000us        41.20%      27.273ms       1.705ms            16  \n",
      "                  aten::bmm        36.82%      24.372ms        37.10%      24.561ms       1.535ms            16  \n",
      "              aten::dropout         0.16%     104.000us        32.51%      21.523ms       3.075ms             7  \n",
      "           aten::bernoulli_        28.30%      18.732ms        28.30%      18.732ms       2.676ms             7  \n",
      "               aten::linear         0.09%      58.000us        16.26%      10.761ms       2.690ms             4  \n",
      "                aten::addmm        14.37%       9.514ms        16.01%      10.600ms       2.650ms             4  \n",
      "                aten::copy_         5.03%       3.332ms         5.03%       3.332ms     128.154us            26  \n",
      "              aten::reshape         0.24%     158.000us         3.82%       2.530ms      64.872us            39  \n",
      "                aten::clone         0.10%      65.000us         3.47%       2.300ms     191.667us            12  \n",
      "                 aten::div_         1.88%       1.246ms         2.12%       1.403ms     200.429us             7  \n",
      "---------------------------  ------------  ------------  ------------  ------------  ------------  ------------  \n",
      "Self CPU time total: 66.198ms\n",
      "\n"
     ]
    }
   ],
   "source": [
    "from torch.profiler import profile, record_function, ProfilerActivity\n",
    "\n",
    "with profile(activities=[ProfilerActivity.CPU], record_shapes=True, ) as prof:\n",
    "    model(sequence.to(DEVICE), prev_target.to(DEVICE))\n",
    "\n",
    "print(prof.key_averages().table(sort_by=\"cpu_time_total\", row_limit=10))"
   ],
   "metadata": {
    "collapsed": false
   }
  },
  {
   "cell_type": "code",
   "execution_count": null,
   "outputs": [],
   "source": [],
   "metadata": {
    "collapsed": false
   }
  }
 ],
 "metadata": {
  "kernelspec": {
   "display_name": "Python 3",
   "language": "python",
   "name": "python3"
  },
  "language_info": {
   "codemirror_mode": {
    "name": "ipython",
    "version": 2
   },
   "file_extension": ".py",
   "mimetype": "text/x-python",
   "name": "python",
   "nbconvert_exporter": "python",
   "pygments_lexer": "ipython2",
   "version": "2.7.6"
  }
 },
 "nbformat": 4,
 "nbformat_minor": 0
}
