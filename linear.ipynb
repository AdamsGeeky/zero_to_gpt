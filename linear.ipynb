{
 "cells": [
  {
   "cell_type": "code",
   "execution_count": 1,
   "id": "507c0b28-d1a5-44df-be00-0a46e8641076",
   "metadata": {},
   "outputs": [],
   "source": [
    "import pandas as pd\n",
    "\n",
    "data = pd.read_csv(\"clean_weather.csv\", index_col=0)"
   ]
  },
  {
   "cell_type": "code",
   "execution_count": 2,
   "id": "f0a3a03c-e5da-4e18-82e3-ac49670761c5",
   "metadata": {},
   "outputs": [],
   "source": [
    "data = data.ffill()"
   ]
  },
  {
   "cell_type": "code",
   "execution_count": 3,
   "id": "1a22380a-7d93-445b-b5af-efa7c64abf9d",
   "metadata": {},
   "outputs": [],
   "source": [
    "train = data[[\"tmax\", \"tmin\", \"rain\"]].to_numpy()[:-1000,:]\n",
    "target = data[[\"tmax_tomorrow\"]].to_numpy()[:-1000,:]\n",
    "\n",
    "test = data[[\"tmax\", \"tmin\", \"rain\"]].to_numpy()[-1000:,:]\n",
    "test_target = data[[\"tmax_tomorrow\"]].to_numpy()[-1000:,:]"
   ]
  },
  {
   "cell_type": "code",
   "execution_count": 4,
   "id": "8adf5180-b1fb-4475-9115-364d337b7fd3",
   "metadata": {},
   "outputs": [],
   "source": [
    "import numpy as np"
   ]
  },
  {
   "cell_type": "code",
   "execution_count": 5,
   "id": "0a9d5f3f-3e5b-4121-96b9-27d2f6d587aa",
   "metadata": {},
   "outputs": [],
   "source": [
    "def mse_loss(predictions, actuals):\n",
    "    return ((actuals - predictions) ** 2)"
   ]
  },
  {
   "cell_type": "code",
   "execution_count": 6,
   "id": "5055b150-60a2-45e2-ad0f-0b9a217fc020",
   "metadata": {},
   "outputs": [],
   "source": [
    "def finite_diff(func, x):\n",
    "    eps = 1e-7\n",
    "    grad = []\n",
    "    for i in range(len(x)):\n",
    "        row = np.zeros((1,len(x)))\n",
    "        row[0,i] = 1\n",
    "        grad.append((func(x + eps * row) - func(x - eps * row)) / (2 * eps))\n",
    "    grad = np.array(grad).reshape(len(x), 1)\n",
    "    print(grad)\n",
    "    return grad"
   ]
  },
  {
   "cell_type": "code",
   "execution_count": 7,
   "id": "149dcc71-6355-47b6-b2d5-9212553797ca",
   "metadata": {},
   "outputs": [],
   "source": [
    "class Layer():\n",
    "    def __init__(self, in_shape, out_shape, relu=True):\n",
    "        self.weight = np.random.rand(in_shape, out_shape)\n",
    "        self.bias = np.ones((1, out_shape))\n",
    "        self.relu = relu\n",
    "        self.hidden = None\n",
    "        self.activated = None\n",
    "    \n",
    "    def forward(self, x, relu=True):\n",
    "        linear = np.matmul(x, self.weight) + self.bias\n",
    "        self.hidden = linear\n",
    "        if self.relu and relu:\n",
    "            relu = np.maximum(linear, np.zeros(linear.shape))\n",
    "            self.activated = relu\n",
    "            return relu\n",
    "        return linear\n",
    "    \n",
    "    def backward(self, gradient):\n",
    "        pass"
   ]
  },
  {
   "cell_type": "code",
   "execution_count": 8,
   "id": "e6a2b252-fc42-436d-8247-70a74c117bef",
   "metadata": {},
   "outputs": [],
   "source": [
    "class Network():\n",
    "    def __init__(self, layers):\n",
    "        self.layers = layers\n",
    "    \n",
    "    def forward(self, x):\n",
    "        output = np.zeros((x.shape[0],1))\n",
    "        for i in range(x.shape[0]):\n",
    "            vals = x[i:(i+1),:].copy()\n",
    "            for layer in self.layers:\n",
    "                vals = layer.forward(vals)\n",
    "            output[i,:] = vals\n",
    "        return output\n",
    "    \n",
    "    def backward(self):\n",
    "        pass"
   ]
  },
  {
   "cell_type": "code",
   "execution_count": 9,
   "id": "517b716b-cae1-4fb9-9951-eac7546a79e2",
   "metadata": {},
   "outputs": [],
   "source": [
    "layers = [\n",
    "    Layer(3, 10, True),\n",
    "    Layer(10, 1, False)\n",
    "]\n",
    "\n",
    "net = Network(layers)"
   ]
  },
  {
   "cell_type": "code",
   "execution_count": 10,
   "id": "01b9ac98-adcd-470e-8135-ecd8f0ee2a1f",
   "metadata": {},
   "outputs": [
    {
     "name": "stdout",
     "output_type": "stream",
     "text": [
      "Epoch: 0 MSE: 56619.31049568112\n",
      "Epoch: 1 MSE: 20639.287422557045\n",
      "Epoch: 2 MSE: 8032.496752936202\n",
      "Epoch: 3 MSE: 3496.975684837547\n",
      "Epoch: 4 MSE: 1575.4213051317417\n",
      "Epoch: 5 MSE: 745.2409618466771\n",
      "Epoch: 6 MSE: 367.1542284095236\n",
      "Epoch: 7 MSE: 197.0012187514792\n",
      "Epoch: 8 MSE: 96.53467831317077\n",
      "Epoch: 9 MSE: 57.77916667256173\n",
      "Epoch: 10 MSE: 40.13826563873698\n",
      "Epoch: 11 MSE: 31.653651138440065\n",
      "Epoch: 12 MSE: 26.159070303471143\n",
      "Epoch: 13 MSE: 26.336156169205434\n",
      "Epoch: 14 MSE: 23.801978651775755\n",
      "Epoch: 15 MSE: 23.42056794205556\n",
      "Epoch: 16 MSE: 23.324244666426033\n",
      "Epoch: 17 MSE: 23.34619769897153\n",
      "Epoch: 18 MSE: 23.38199706956884\n",
      "Epoch: 19 MSE: 23.273900375187274\n",
      "Epoch: 20 MSE: 23.3520621180795\n",
      "Epoch: 21 MSE: 23.24289047240123\n",
      "Epoch: 22 MSE: 23.25054381660914\n",
      "Epoch: 23 MSE: 23.30042992911694\n",
      "Epoch: 24 MSE: 23.396687317153006\n",
      "Epoch: 25 MSE: 23.354232362239983\n",
      "Epoch: 26 MSE: 23.242504547651254\n",
      "Epoch: 27 MSE: 23.25503247455426\n",
      "Epoch: 28 MSE: 23.23605750861873\n",
      "Epoch: 29 MSE: 23.272323194067372\n",
      "Epoch: 30 MSE: 23.242465709362754\n",
      "Epoch: 31 MSE: 23.24165715891923\n",
      "Epoch: 32 MSE: 23.25709618488551\n",
      "Epoch: 33 MSE: 23.26482777846436\n",
      "Epoch: 34 MSE: 23.28419828691765\n",
      "Epoch: 35 MSE: 23.28889205969227\n",
      "Epoch: 36 MSE: 23.281979807899862\n",
      "Epoch: 37 MSE: 23.237291643682923\n",
      "Epoch: 38 MSE: 23.23775453177022\n",
      "Epoch: 39 MSE: 23.291657224852287\n",
      "Epoch: 40 MSE: 23.32755882665673\n",
      "Epoch: 41 MSE: 23.447119217867826\n",
      "Epoch: 42 MSE: 23.662951751534333\n",
      "Epoch: 43 MSE: 23.491605368150605\n",
      "Epoch: 44 MSE: 23.400366801769724\n",
      "Epoch: 45 MSE: 23.31973184982926\n",
      "Epoch: 46 MSE: 23.375690401118387\n",
      "Epoch: 47 MSE: 23.286963091242068\n",
      "Epoch: 48 MSE: 23.440650497158398\n",
      "Epoch: 49 MSE: 23.29648355706028\n",
      "Epoch: 50 MSE: 23.268679822519967\n",
      "Epoch: 51 MSE: 23.235204694776666\n",
      "Epoch: 52 MSE: 23.420454938066435\n",
      "Epoch: 53 MSE: 23.2441053130459\n",
      "Epoch: 54 MSE: 23.44454778734935\n",
      "Epoch: 55 MSE: 23.35719365180987\n",
      "Epoch: 56 MSE: 23.35148750570904\n",
      "Epoch: 57 MSE: 23.3197348969337\n",
      "Epoch: 58 MSE: 23.23674210312613\n",
      "Epoch: 59 MSE: 23.238465129087103\n",
      "Epoch: 60 MSE: 23.244059686248825\n",
      "Epoch: 61 MSE: 23.253065437782855\n",
      "Epoch: 62 MSE: 23.45725089066154\n",
      "Epoch: 63 MSE: 23.41142567575684\n",
      "Epoch: 64 MSE: 23.256462980634282\n",
      "Epoch: 65 MSE: 23.257796492274352\n",
      "Epoch: 66 MSE: 23.284778354284757\n",
      "Epoch: 67 MSE: 23.25709465632824\n",
      "Epoch: 68 MSE: 23.315300618181084\n",
      "Epoch: 69 MSE: 23.36890770309698\n",
      "Epoch: 70 MSE: 23.307777284917545\n",
      "Epoch: 71 MSE: 23.235849659568785\n",
      "Epoch: 72 MSE: 23.235279775460803\n",
      "Epoch: 73 MSE: 23.285568986581545\n",
      "Epoch: 74 MSE: 23.265733279983664\n",
      "Epoch: 75 MSE: 23.26489270077416\n",
      "Epoch: 76 MSE: 23.247726973545884\n",
      "Epoch: 77 MSE: 23.235279718579736\n",
      "Epoch: 78 MSE: 23.27738739871535\n",
      "Epoch: 79 MSE: 23.395803407164948\n",
      "Epoch: 80 MSE: 23.245033798053896\n",
      "Epoch: 81 MSE: 23.396909533044425\n",
      "Epoch: 82 MSE: 23.341270662843854\n",
      "Epoch: 83 MSE: 23.256372577129518\n",
      "Epoch: 84 MSE: 23.237361214781433\n",
      "Epoch: 85 MSE: 23.263616769812142\n",
      "Epoch: 86 MSE: 23.27606229438967\n",
      "Epoch: 87 MSE: 23.44893371914662\n",
      "Epoch: 88 MSE: 23.54072427644998\n",
      "Epoch: 89 MSE: 23.54200624577963\n",
      "Epoch: 90 MSE: 23.262059453845673\n",
      "Epoch: 91 MSE: 23.284328405589463\n",
      "Epoch: 92 MSE: 23.368930630257893\n",
      "Epoch: 93 MSE: 23.23567568355654\n",
      "Epoch: 94 MSE: 23.255989389105892\n",
      "Epoch: 95 MSE: 23.24343031800645\n",
      "Epoch: 96 MSE: 23.252367080185962\n",
      "Epoch: 97 MSE: 23.235212093131643\n",
      "Epoch: 98 MSE: 23.331676566698277\n",
      "Epoch: 99 MSE: 23.253514538306813\n"
     ]
    }
   ],
   "source": [
    "epochs = 100\n",
    "lr = 1e-7\n",
    "\n",
    "for epoch in range(epochs):\n",
    "    predictions = net.forward(train)\n",
    "    \n",
    "    print(f\"Epoch: {epoch} MSE: {np.mean(mse_loss(predictions, target))}\")\n",
    "    outer_grad = predictions - target\n",
    "    \n",
    "    # Calc gradients\n",
    "\n",
    "    for i in np.random.randint(0, outer_grad.shape[0], 64):\n",
    "        elem = outer_grad[i,:].reshape((1,1))\n",
    "\n",
    "        l2_start_grad = np.multiply(elem, np.heaviside(net.layers[1].hidden,1))\n",
    "        l2_w_grad = np.matmul(l2_start_grad, net.layers[0].hidden).T\n",
    "        l2_b_grad = l2_start_grad\n",
    "        l2_grad = np.matmul(net.layers[1].weight, l2_start_grad).T\n",
    "        \n",
    "        l1_start_grad = np.multiply(l2_grad, np.heaviside(net.layers[0].hidden,1))\n",
    "        l1_w_grad = np.matmul(l1_start_grad.T, train[1:2,:]).T\n",
    "        l1_b_grad = l1_start_grad\n",
    "        \n",
    "        \n",
    "        net.layers[1].weight -= l2_w_grad * lr\n",
    "        net.layers[1].bias -= l2_b_grad * lr\n",
    "\n",
    "        net.layers[0].weight -= l1_w_grad * lr\n",
    "        net.layers[0].bias -= l1_b_grad * lr"
   ]
  },
  {
   "cell_type": "code",
   "execution_count": 11,
   "id": "57cd25d5-44e1-4b30-bd57-66de2fdfed56",
   "metadata": {},
   "outputs": [],
   "source": [
    "test_preds = net.forward(test)"
   ]
  },
  {
   "cell_type": "code",
   "execution_count": 12,
   "id": "28b52429-aadd-40d4-8bb5-ba9dc85df2fe",
   "metadata": {},
   "outputs": [
    {
     "data": {
      "text/plain": [
       "25.293393446085258"
      ]
     },
     "execution_count": 12,
     "metadata": {},
     "output_type": "execute_result"
    }
   ],
   "source": [
    "np.mean(mse_loss(test_preds, test_target))"
   ]
  },
  {
   "cell_type": "code",
   "execution_count": null,
   "id": "1f05ed3e-5a73-40a6-941e-300cfca0b8d0",
   "metadata": {},
   "outputs": [],
   "source": []
  }
 ],
 "metadata": {
  "kernelspec": {
   "display_name": "Python 3 (ipykernel)",
   "language": "python",
   "name": "python3"
  },
  "language_info": {
   "codemirror_mode": {
    "name": "ipython",
    "version": 3
   },
   "file_extension": ".py",
   "mimetype": "text/x-python",
   "name": "python",
   "nbconvert_exporter": "python",
   "pygments_lexer": "ipython3",
   "version": "3.9.15"
  }
 },
 "nbformat": 4,
 "nbformat_minor": 5
}
