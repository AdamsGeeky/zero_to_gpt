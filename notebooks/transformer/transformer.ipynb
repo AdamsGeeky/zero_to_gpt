{
 "cells": [
  {
   "cell_type": "code",
   "execution_count": null,
   "metadata": {
    "collapsed": true
   },
   "outputs": [],
   "source": [
    "# Encoder/decoder transformer, like in the paper\n",
    "\n",
    "# Single Encoder block\n",
    "\n",
    "# Embed input into a length 512 vector\n",
    "# Add positional encoding to the input\n",
    "# Alternating sin and cosine functions across the embedding dimension (512)\n",
    "# i = position in the embedding dimension\n",
    "#PE(pos,2i) = sin(pos/100002i/dmodel )\n",
    "#PE(pos,2i+1) = cos(pos/100002i/dmodel\n",
    "# Sum positional encoding and input\n",
    "# apply dropout with chance .1\n",
    "\n",
    "# Self-attention\n",
    "# Each token in the input sequence is a query\n",
    "# Every other token is a key\n",
    "# Project query and key into a new dimensional space with a linear transform (this is multi-head attention)\n",
    "# We do the following 16 times for multi-head attention\n",
    "# Dot the projects query with the projected key matrix\n",
    "# QK\n",
    "# Attention(Q, K, V ) = softmax( QKT / √dk)V\n",
    "# √dk is the square root of the value dimension\n",
    "# Keys and values are the same in this particular case\n",
    "# Basically, compute an attention score (scalar) between each query and each key, then scale the value by that number\n",
    "# So less relevant other tokens are minimized\n",
    "# Concat the results of the attention equation\n",
    "# Run through another linear layer to reproject\n",
    "# Each attention head outputs 1/16th of the input embedding len\n",
    "\n",
    "# After doing multi-head attention (16)\n",
    "# Apply dropout with chance .1\n",
    "# Add the input to the layer (original embedded sequences) and the output of attention\n",
    "# Run layer normalization (unclear which layer norm to use)\n",
    "\n",
    "# Run a feed forward network\n",
    "# Add input to the layer to the output of the ff network\n",
    "# Normalize again\n",
    "\n",
    "# Single decoder block\n",
    "\n",
    "# Shift outputs right, to start with start token\n",
    "# Do positional encoding\n",
    "# Do dropout with chance .1\n",
    "# Mask outputs, so queries can only see keys that came before the query\n",
    "# Run multi-head attention\n",
    "# Add and norm\n",
    "\n",
    "# Run multi-head attention again, but this time v,k is from encoder stack, and q is from decoder stack\n",
    "# Apply dropout with chance .1\n",
    "# When doing add and norm, add in the decoder stack input\n",
    "\n",
    "# Feed forward\n",
    "\n",
    "# At top of stack, do another linear layer and softmax\n",
    "\n",
    "# Might want to move layer norm inside the residual block - https://arxiv.org/pdf/2002.04745.pdf\n",
    "# Layer normalization - https://arxiv.org/pdf/1607.06450.pdf"
   ]
  },
  {
   "cell_type": "code",
   "execution_count": 53,
   "outputs": [],
   "source": [
    "import numpy as np\n",
    "import torch\n",
    "from torch import nn\n",
    "import functorch\n",
    "import sys\n",
    "import os\n",
    "import math\n",
    "sys.path.append(os.path.abspath(\"../../data\"))\n",
    "\n",
    "DEVICE = torch.device(\"cuda\" if torch.cuda.is_available() else \"cpu\")\n",
    "BATCH_SIZE = 1\n",
    "SP_VOCAB_SIZE = 1000\n",
    "TRAIN_SIZE = 500"
   ],
   "metadata": {
    "collapsed": false
   }
  },
  {
   "cell_type": "code",
   "execution_count": 54,
   "outputs": [
    {
     "name": "stderr",
     "output_type": "stream",
     "text": [
      "Found cached dataset cnn_dailymail (/Users/vik/.cache/huggingface/datasets/cnn_dailymail/3.0.0/3.0.0/1b3c71476f6d152c31c1730e83ccb08bcf23e348233f4fcc11e182248e6bf7de)\n",
      "100%|██████████| 3/3 [00:00<00:00, 42.60it/s]\n",
      "sentencepiece_trainer.cc(177) LOG(INFO) Running command: --input=tokens.txt --model_prefix=cnn_dailymail --vocab_size=1000 --model_type=unigram\n",
      "sentencepiece_trainer.cc(77) LOG(INFO) Starts training with : \n",
      "trainer_spec {\n",
      "  input: tokens.txt\n",
      "  input_format: \n",
      "  model_prefix: cnn_dailymail\n",
      "  model_type: UNIGRAM\n",
      "  vocab_size: 1000\n",
      "  self_test_sample_size: 0\n",
      "  character_coverage: 0.9995\n",
      "  input_sentence_size: 0\n",
      "  shuffle_input_sentence: 1\n",
      "  seed_sentencepiece_size: 1000000\n",
      "  shrinking_factor: 0.75\n",
      "  max_sentence_length: 4192\n",
      "  num_threads: 16\n",
      "  num_sub_iterations: 2\n",
      "  max_sentencepiece_length: 16\n",
      "  split_by_unicode_script: 1\n",
      "  split_by_number: 1\n",
      "  split_by_whitespace: 1\n",
      "  split_digits: 0\n",
      "  treat_whitespace_as_suffix: 0\n",
      "  required_chars: \n",
      "  byte_fallback: 0\n",
      "  vocabulary_output_piece_score: 1\n",
      "  train_extremely_large_corpus: 0\n",
      "  hard_vocab_limit: 1\n",
      "  use_all_vocab: 0\n",
      "  unk_id: 0\n",
      "  bos_id: 1\n",
      "  eos_id: 2\n",
      "  pad_id: -1\n",
      "  unk_piece: <unk>\n",
      "  bos_piece: <s>\n",
      "  eos_piece: </s>\n",
      "  pad_piece: <pad>\n",
      "  unk_surface:  ⁇ \n",
      "}\n",
      "normalizer_spec {\n",
      "  name: nmt_nfkc\n",
      "  add_dummy_prefix: 1\n",
      "  remove_extra_whitespaces: 1\n",
      "  escape_whitespaces: 1\n",
      "  normalization_rule_tsv: \n",
      "}\n",
      "denormalizer_spec {}\n",
      "trainer_interface.cc(319) LOG(INFO) SentenceIterator is not specified. Using MultiFileSentenceIterator.\n",
      "trainer_interface.cc(174) LOG(INFO) Loading corpus: tokens.txt\n",
      "trainer_interface.cc(375) LOG(INFO) Loaded all 2161 sentences\n",
      "trainer_interface.cc(390) LOG(INFO) Adding meta_piece: <unk>\n",
      "trainer_interface.cc(390) LOG(INFO) Adding meta_piece: <s>\n",
      "trainer_interface.cc(390) LOG(INFO) Adding meta_piece: </s>\n",
      "trainer_interface.cc(395) LOG(INFO) Normalizing sentences...\n",
      "trainer_interface.cc(456) LOG(INFO) all chars count=101295\n",
      "trainer_interface.cc(467) LOG(INFO) Done: 99.9526% characters are covered.\n",
      "trainer_interface.cc(477) LOG(INFO) Alphabet size=68\n",
      "trainer_interface.cc(478) LOG(INFO) Final character coverage=0.999526\n",
      "trainer_interface.cc(510) LOG(INFO) Done! preprocessed 2161 sentences.\n",
      "unigram_model_trainer.cc(138) LOG(INFO) Making suffix array...\n",
      "unigram_model_trainer.cc(142) LOG(INFO) Extracting frequent sub strings...\n",
      "unigram_model_trainer.cc(193) LOG(INFO) Initialized 11093 seed sentencepieces\n",
      "trainer_interface.cc(516) LOG(INFO) Tokenizing input sentences with whitespace: 2161\n",
      "trainer_interface.cc(526) LOG(INFO) Done! 6025\n",
      "unigram_model_trainer.cc(488) LOG(INFO) Using 6025 sentences for EM training\n",
      "unigram_model_trainer.cc(504) LOG(INFO) EM sub_iter=0 size=4758 obj=13.0431 num_tokens=13019 num_tokens/piece=2.73623\n",
      "unigram_model_trainer.cc(504) LOG(INFO) EM sub_iter=1 size=4170 obj=11.4914 num_tokens=13140 num_tokens/piece=3.15108\n",
      "unigram_model_trainer.cc(504) LOG(INFO) EM sub_iter=0 size=3123 obj=11.5758 num_tokens=14016 num_tokens/piece=4.48799\n",
      "unigram_model_trainer.cc(504) LOG(INFO) EM sub_iter=1 size=3120 obj=11.4633 num_tokens=14040 num_tokens/piece=4.5\n",
      "unigram_model_trainer.cc(504) LOG(INFO) EM sub_iter=0 size=2340 obj=11.859 num_tokens=15424 num_tokens/piece=6.59145\n",
      "unigram_model_trainer.cc(504) LOG(INFO) EM sub_iter=1 size=2340 obj=11.721 num_tokens=15431 num_tokens/piece=6.59444\n",
      "unigram_model_trainer.cc(504) LOG(INFO) EM sub_iter=0 size=1755 obj=12.3254 num_tokens=17151 num_tokens/piece=9.77265\n",
      "unigram_model_trainer.cc(504) LOG(INFO) EM sub_iter=1 size=1755 obj=12.1667 num_tokens=17155 num_tokens/piece=9.77493\n",
      "unigram_model_trainer.cc(504) LOG(INFO) EM sub_iter=0 size=1316 obj=12.8195 num_tokens=19020 num_tokens/piece=14.4529\n",
      "unigram_model_trainer.cc(504) LOG(INFO) EM sub_iter=1 size=1316 obj=12.6626 num_tokens=19020 num_tokens/piece=14.4529\n",
      "unigram_model_trainer.cc(504) LOG(INFO) EM sub_iter=0 size=1100 obj=13.101 num_tokens=20116 num_tokens/piece=18.2873\n",
      "unigram_model_trainer.cc(504) LOG(INFO) EM sub_iter=1 size=1100 obj=13.0108 num_tokens=20117 num_tokens/piece=18.2882\n",
      "trainer_interface.cc(604) LOG(INFO) Saving model: cnn_dailymail.model\n",
      "trainer_interface.cc(615) LOG(INFO) Saving vocabs: cnn_dailymail.vocab\n"
     ]
    }
   ],
   "source": [
    "from text_data import CNNDatasetWrapper\n",
    "\n",
    "class Wrapper(CNNDatasetWrapper):\n",
    "    split_lengths = [TRAIN_SIZE, math.floor(TRAIN_SIZE * .1), 100]\n",
    "    x_length = 15\n",
    "    target_length = 15\n",
    "\n",
    "wrapper = Wrapper(SP_VOCAB_SIZE, DEVICE)\n",
    "\n",
    "datasets = wrapper.generate_datasets(BATCH_SIZE)\n",
    "train = datasets[\"train\"]\n",
    "valid = datasets[\"validation\"]"
   ],
   "metadata": {
    "collapsed": false
   }
  },
  {
   "cell_type": "code",
   "execution_count": 55,
   "outputs": [],
   "source": [
    "x, y, prev_y = train.dataset[0]"
   ],
   "metadata": {
    "collapsed": false
   }
  },
  {
   "cell_type": "code",
   "execution_count": 56,
   "outputs": [],
   "source": [
    "embed = nn.Embedding(wrapper.vocab_size, 512)"
   ],
   "metadata": {
    "collapsed": false
   }
  },
  {
   "cell_type": "code",
   "execution_count": 82,
   "outputs": [],
   "source": [
    "def positional_encodings(seq_len, embed_len):\n",
    "    #PE(pos,2i) = sin(pos/10000 ^ 2i/dmodel )\n",
    "    #PE(pos,2i+1) = cos(pos/10000 ^ 2i/dmodel\n",
    "    # Pos 1 will embed to a vector, pos 2 will embed to a vector\n",
    "    # Adjacent vector positions will form a sin wave\n",
    "    # plt.plot(np.arange(0,100), np.sin(np.arange(0,100) / np.power(10000.0, (20.0/512))))\n",
    "    encodings = np.zeros((seq_len, embed_len), dtype=np.float32)\n",
    "    for i in range(seq_len):\n",
    "        evens = np.arange(0, embed_len, 2)\n",
    "        odds = np.arange(1, embed_len, 2)\n",
    "        all = np.power(np.full(embed_len, 10000), np.arange(0, embed_len) / embed_len)\n",
    "\n",
    "        sin_embed = np.sin(i/all)\n",
    "        cos_embed = np.cos(i/all)\n",
    "\n",
    "        sin_embed[odds] = 0\n",
    "        cos_embed[evens] = 0\n",
    "        encodings[i,:] = np.sum((sin_embed, cos_embed), axis=0)\n",
    "    return encodings"
   ],
   "metadata": {
    "collapsed": false
   }
  },
  {
   "cell_type": "code",
   "execution_count": 83,
   "outputs": [],
   "source": [
    "x_embed = embed(x)\n",
    "pos_encoding = torch.from_numpy(positional_encodings(x_embed.shape[0], 512))\n",
    "network_in = x_embed + pos_encoding"
   ],
   "metadata": {
    "collapsed": false
   }
  },
  {
   "cell_type": "code",
   "execution_count": 219,
   "outputs": [],
   "source": [
    "class MultiHeadAttention(nn.Module):\n",
    "    def __init__(self, input_units, attention_heads, mask=False):\n",
    "        super(MultiHeadAttention, self).__init__()\n",
    "        self.input_units = input_units\n",
    "        self.attention_heads = attention_heads\n",
    "        self.head_units = int(input_units/attention_heads)\n",
    "        self.mask = mask\n",
    "        if self.head_units * self.attention_heads != self.input_units:\n",
    "            raise Exception(\"Invalid input units and heads combo\")\n",
    "\n",
    "        k = math.sqrt(1/self.head_units)\n",
    "        self.query_weights = nn.Parameter(torch.rand(self.attention_heads, input_units, self.head_units) * 2 * k - k)\n",
    "        self.key_weights = nn.Parameter(torch.rand(self.attention_heads, input_units, self.head_units) * 2 * k - k)\n",
    "        self.value_weights = nn.Parameter(torch.rand(self.attention_heads, input_units, self.head_units) * 2 * k - k)\n",
    "\n",
    "    def forward(self, queries, context):\n",
    "        exp_queries = queries.repeat(self.attention_heads, 1, 1)\n",
    "        exp_context = context.repeat(self.attention_heads, 1, 1)\n",
    "        queries = torch.bmm(exp_queries, self.query_weights)\n",
    "        keys = torch.bmm(exp_context, self.key_weights)\n",
    "        values = torch.bmm(exp_context, self.value_weights)\n",
    "\n",
    "        # Sequence-wise softmax, so attention between one sequence and other sequences sums to 1\n",
    "        attention = torch.bmm(queries, keys.swapaxes(1,2)) / np.sqrt(self.head_units)\n",
    "        if self.mask:\n",
    "            # TODO: Mask attention in here\n",
    "            # You can do it by setting attentions to 0 where the query doesn't know about the key (ie, key comes after query)\n",
    "            # this should zero out the values at those points\n",
    "            pass\n",
    "        attention = torch.softmax(attention, dim=2)\n",
    "        weighted_values = torch.bmm(attention, values)\n",
    "        weighted_values = weighted_values.swapaxes(0,1).reshape(x.shape[0], -1)\n",
    "        return weighted_values"
   ],
   "metadata": {
    "collapsed": false
   }
  },
  {
   "cell_type": "code",
   "execution_count": 220,
   "outputs": [],
   "source": [
    "class EncoderBlock(nn.Module):\n",
    "    def __init__(self, input_units, attention_heads, hidden_units=2048):\n",
    "        super(EncoderBlock, self).__init__()\n",
    "        self.input_units = input_units\n",
    "        self.attention_heads = attention_heads\n",
    "        self.hidden_units = hidden_units\n",
    "\n",
    "        self.mha = MultiHeadAttention(self.input_units, self.attention_heads)\n",
    "        self.dropout = nn.Dropout(.1)\n",
    "        self.linear1 = nn.Linear(self.input_units, hidden_units)\n",
    "        self.linear2 = nn.Linear(hidden_units, self.input_units)\n",
    "        self.relu = nn.ReLU()\n",
    "\n",
    "    def forward(self, x):\n",
    "        weighted_values = self.dropout(self.mha(x, x))\n",
    "        attn_output = x + weighted_values\n",
    "        # TODO: Add layer normalization on top of attn_output\n",
    "        reprojected = self.dropout(self.linear2(self.relu(self.linear1(attn_output))))\n",
    "        block_output = attn_output + reprojected\n",
    "        # TODO: Add layer normalization on top of block_output\n",
    "        return block_output"
   ],
   "metadata": {
    "collapsed": false
   }
  },
  {
   "cell_type": "code",
   "execution_count": 221,
   "outputs": [],
   "source": [
    "class DecoderBlock(nn.Module):\n",
    "    def __init__(self, input_units, attention_heads, hidden_units=2048):\n",
    "        super(DecoderBlock, self).__init__()\n",
    "        self.input_units = input_units\n",
    "        self.attention_heads = attention_heads\n",
    "        self.hidden_units = hidden_units\n",
    "\n",
    "        self.in_attn = MultiHeadAttention(self.input_units, self.attention_heads, mask=True)\n",
    "        self.context_attn = MultiHeadAttention(self.input_units, self.attention_heads)\n",
    "        self.dropout = nn.Dropout(.1)\n",
    "        self.linear1 = nn.Linear(self.input_units, hidden_units)\n",
    "        self.linear2 = nn.Linear(hidden_units, self.input_units)\n",
    "        self.relu = nn.ReLU()\n",
    "\n",
    "    def forward(self, queries, context):\n",
    "        weighted_values = self.dropout(self.in_attn(queries, queries))\n",
    "        attn_output = x + weighted_values\n",
    "        # TODO: Add layer normalization on top of attn_output\n",
    "        decoder_values = self.dropout(self.context_attn(queries, context))\n",
    "        decoder_output = attn_output + decoder_values\n",
    "        # TODO: Add layer normalization\n",
    "        reprojected = self.dropout(self.linear2(self.relu(self.linear1(decoder_output))))\n",
    "        block_output = attn_output + reprojected\n",
    "        # TODO: Add layer normalization on top of block_output\n",
    "        return block_output"
   ],
   "metadata": {
    "collapsed": false
   }
  },
  {
   "cell_type": "code",
   "execution_count": 222,
   "outputs": [],
   "source": [
    "class Transformer(nn.Module):\n",
    "    def __init__(self, input_units, hidden_units, attention_heads, blocks=2):\n",
    "        super(Transformer, self).__init__()\n",
    "        self.input_units = input_units\n",
    "        self.hidden_units = hidden_units\n",
    "        self.attention_heads = attention_heads\n",
    "        self.blocks = blocks\n",
    "\n",
    "        self.input_embedding = nn.Embedding(input_units, hidden_units)\n",
    "        self.dropout = nn.Dropout(.1)\n",
    "        self.encoders = nn.ModuleList(EncoderBlock(hidden_units, attention_heads) for _ in range(self.blocks))\n",
    "\n",
    "    def forward(self, x):\n",
    "        embedded = self.input_embedding(x)\n",
    "        pos_encoding = torch.from_numpy(self.encoding(x_embed.shape[0], self.hidden_units))\n",
    "        network_in = self.dropout(embedded + pos_encoding)\n",
    "        block_outputs = network_in.unsqueeze(0)\n",
    "\n",
    "        for i in range(self.blocks):\n",
    "            block_output = self.encoders[i](block_outputs[i])\n",
    "            block_outputs = torch.cat((block_outputs, block_output.unsqueeze(0)), dim=0)\n",
    "\n",
    "        return block_outputs[-1,]\n",
    "\n",
    "    def encoding(self, seq_len, embed_len):\n",
    "        #PE(pos,2i) = sin(pos/10000 ^ 2i/dmodel )\n",
    "        #PE(pos,2i+1) = cos(pos/10000 ^ 2i/dmodel\n",
    "        # Pos 1 will embed to a vector, pos 2 will embed to a vector\n",
    "        # Adjacent vector positions will form a sin wave\n",
    "        # plt.plot(np.arange(0,100), np.sin(np.arange(0,100) / np.power(10000.0, (20.0/512))))\n",
    "        encodings = np.zeros((seq_len, embed_len), dtype=np.float32)\n",
    "        for i in range(seq_len):\n",
    "            evens = np.arange(0, embed_len, 2)\n",
    "            odds = np.arange(1, embed_len, 2)\n",
    "            all = np.power(np.full(embed_len, 10000), np.arange(0, embed_len) / embed_len)\n",
    "\n",
    "            sin_embed = np.sin(i/all)\n",
    "            cos_embed = np.cos(i/all)\n",
    "\n",
    "            sin_embed[odds] = 0\n",
    "            cos_embed[evens] = 0\n",
    "            encodings[i,:] = np.sum((sin_embed, cos_embed), axis=0)\n",
    "        return encodings"
   ],
   "metadata": {
    "collapsed": false
   }
  },
  {
   "cell_type": "code",
   "execution_count": 223,
   "outputs": [
    {
     "data": {
      "text/plain": "tensor([[ 5.2130, -2.7786, -4.7501,  ...,  0.9715,  8.7992,  1.6567],\n        [ 5.4114, -0.0718, -1.0579,  ...,  5.5354, -0.7851,  5.4303],\n        [12.2055,  2.7835, -4.2664,  ..., -0.0511,  4.1057,  0.2862],\n        ...,\n        [ 4.1110, -0.3995, -1.9013,  ...,  0.3918, -2.6225,  4.9806],\n        [15.6233, -3.2491, -7.8968,  ..., -0.4187,  7.9496,  3.3613],\n        [17.4059,  1.3717, -8.8419,  ...,  0.1119,  8.1356,  2.6065]],\n       grad_fn=<SelectBackward0>)"
     },
     "execution_count": 223,
     "metadata": {},
     "output_type": "execute_result"
    }
   ],
   "source": [
    "tf = Transformer(wrapper.vocab_size, 512, 8)\n",
    "tf(x)"
   ],
   "metadata": {
    "collapsed": false
   }
  },
  {
   "cell_type": "code",
   "execution_count": 110,
   "outputs": [],
   "source": [
    "# single attention head\n",
    "# Project into a smaller space\n",
    "query_embed = nn.Linear(512, 32)\n",
    "key_embed = nn.Linear(512, 32)\n",
    "values_embed = nn.Linear(512, 32)\n",
    "\n",
    "queries = query_embed(network_in)\n",
    "keys = key_embed(network_in)\n",
    "values = values_embed(network_in)\n",
    "\n",
    "attention = torch.softmax((queries @ keys.T) / np.sqrt(keys.shape[1]), dim=1)\n",
    "summed_attention = torch.sum(attention, dim=0).view(1,-1)\n",
    "weighted_values = summed_attention @ values"
   ],
   "metadata": {
    "collapsed": false
   }
  },
  {
   "cell_type": "code",
   "execution_count": 159,
   "outputs": [],
   "source": [
    "query_weights = nn.Parameter(torch.rand(8, 512, 64))\n",
    "\n",
    "expanded_x = network_in.repeat(8, 1, 1)\n",
    "queries = torch.bmm(expanded_x, query_weights)\n",
    "keys = torch.bmm(expanded_x, query_weights)\n",
    "values = torch.bmm(expanded_x, query_weights)\n",
    "\n",
    "# Sequence-wise softmax, so attention between one sequence and other sequences sums to 1\n",
    "attention = torch.softmax(torch.bmm(queries, keys.swapaxes(1,2)) / np.sqrt(64), dim=2)"
   ],
   "metadata": {
    "collapsed": false
   }
  },
  {
   "cell_type": "code",
   "execution_count": null,
   "outputs": [],
   "source": [],
   "metadata": {
    "collapsed": false
   }
  }
 ],
 "metadata": {
  "kernelspec": {
   "display_name": "Python 3",
   "language": "python",
   "name": "python3"
  },
  "language_info": {
   "codemirror_mode": {
    "name": "ipython",
    "version": 2
   },
   "file_extension": ".py",
   "mimetype": "text/x-python",
   "name": "python",
   "nbconvert_exporter": "python",
   "pygments_lexer": "ipython2",
   "version": "2.7.6"
  }
 },
 "nbformat": 4,
 "nbformat_minor": 0
}
